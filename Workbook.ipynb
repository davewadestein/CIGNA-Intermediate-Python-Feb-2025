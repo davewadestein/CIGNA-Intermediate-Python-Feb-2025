{
 "cells": [
  {
   "cell_type": "markdown",
   "id": "84a96ca5-b731-4361-8d8d-d160610961bb",
   "metadata": {},
   "source": [
    "# Important Python concepts\n",
    "* dynamically typed / loosely typed\n",
    "  * don't need to declare type of our variables\n",
    "  * we can overwrite our variables with other data types at will\n",
    "* Python is \"duck typed\"\n",
    "  * if it walks like a duck, and quacks like a duck, I'll call it a duck\n",
    "  * it's possible and common for functions to accept arguments of many different data types\n",
    "    * what those functions expect is a behavior/attribute of the arguments as opposed to a specific type\n",
    "* scalars vs. containers\n",
    "  * scalar: an object which contains _a single value_ (e.g., int, float, bool)\n",
    "  * container: an object whch contains 0+ other objects (e.g., list, tuple, dict, set, frozenset)\n",
    "* mutable vs. immutable objects\n",
    "  * mutable: changeable (e.g., dict, list, set)\n",
    "  * immutable: not changeable (e.g., str, tuple)\n",
    "* the built-in functions (e.g., len(), int(), sorted(), ...) DO NOT change the obects that are passed to them\n",
    "  * if you want to change an object in Python, you must use call/apply/invoke a method to/on that object\n",
    "    * not all methods change the objects they are called/applied/invoked on/to\n",
    "  * a method is a type-specific function (e.g., string methods, list methods) and it's also called with a different notation... OBJECT.method(arguments), e.g., __`'hello'.upper()`__\n",
    "* Python practices \"truthiness\":\n",
    "  * 0 and 0.0 are considered False in a Boolean context; non-zero values act like True in a Boolean context\n",
    "  * empty containers are considered False \" \" \" \"; non-empty containers are considered True\n",
    "  * None is considered False in a Boolean context\n",
    "* exception handler primer:\n",
    "  * limit the size of the try/except to the code that can fail\n",
    "  * only catch/except the thing you expect; a \"catch-all\" exception can be used for testing/understanding, but if you leave it in there, you run the risk of hiding a bug"
   ]
  },
  {
   "cell_type": "markdown",
   "id": "f4eea275-3309-4c5b-975e-e12852fb0124",
   "metadata": {},
   "source": [
    "# Pythonic\n",
    "* best practices\n",
    "* idioms that Python programmers expect to see\n",
    "* e.g.,\n",
    "   * __`for _ in range(n):`__ means \"do something n times\""
   ]
  },
  {
   "cell_type": "markdown",
   "id": "523f7f94-63be-4a12-9d0d-d6890f86ecc2",
   "metadata": {
    "jupyter": {
     "source_hidden": true
    }
   },
   "source": [
    "# Important programming thoughts\n",
    "* you read code 10x more often than your write code\n",
    "* DWS's two \"patented\" ways to get better at coding:\n",
    "  1. when you have a working solution, try to write it another way\n",
    "  1. when you have a working solution, add more features"
   ]
  },
  {
   "cell_type": "code",
   "execution_count": 2,
   "id": "a704014b-cafb-4ffc-9ed7-60ead3a166bd",
   "metadata": {},
   "outputs": [],
   "source": [
    "# type hinting\n",
    "number: int = 1 # adding a \"type hint\" to indicate that I want this var to be int"
   ]
  },
  {
   "cell_type": "code",
   "execution_count": 3,
   "id": "655052e2-899c-42f6-8ad9-261f89ea747d",
   "metadata": {},
   "outputs": [],
   "source": [
    "number = 1.5"
   ]
  },
  {
   "cell_type": "code",
   "execution_count": 4,
   "id": "e6e514ad-379d-418d-9eeb-654ac3f606fb",
   "metadata": {},
   "outputs": [],
   "source": [
    "number = 'hi'"
   ]
  },
  {
   "cell_type": "code",
   "execution_count": 5,
   "id": "cb723fbe-1275-4706-9607-0a5e168e1c7c",
   "metadata": {},
   "outputs": [],
   "source": [
    "import math"
   ]
  },
  {
   "cell_type": "code",
   "execution_count": 6,
   "id": "f5c02883-4eed-441d-ae41-047beae945a7",
   "metadata": {},
   "outputs": [
    {
     "data": {
      "text/plain": [
       "['__doc__',\n",
       " '__file__',\n",
       " '__loader__',\n",
       " '__name__',\n",
       " '__package__',\n",
       " '__spec__',\n",
       " 'acos',\n",
       " 'acosh',\n",
       " 'asin',\n",
       " 'asinh',\n",
       " 'atan',\n",
       " 'atan2',\n",
       " 'atanh',\n",
       " 'cbrt',\n",
       " 'ceil',\n",
       " 'comb',\n",
       " 'copysign',\n",
       " 'cos',\n",
       " 'cosh',\n",
       " 'degrees',\n",
       " 'dist',\n",
       " 'e',\n",
       " 'erf',\n",
       " 'erfc',\n",
       " 'exp',\n",
       " 'exp2',\n",
       " 'expm1',\n",
       " 'fabs',\n",
       " 'factorial',\n",
       " 'floor',\n",
       " 'fmod',\n",
       " 'frexp',\n",
       " 'fsum',\n",
       " 'gamma',\n",
       " 'gcd',\n",
       " 'hypot',\n",
       " 'inf',\n",
       " 'isclose',\n",
       " 'isfinite',\n",
       " 'isinf',\n",
       " 'isnan',\n",
       " 'isqrt',\n",
       " 'lcm',\n",
       " 'ldexp',\n",
       " 'lgamma',\n",
       " 'log',\n",
       " 'log10',\n",
       " 'log1p',\n",
       " 'log2',\n",
       " 'modf',\n",
       " 'nan',\n",
       " 'nextafter',\n",
       " 'perm',\n",
       " 'pi',\n",
       " 'pow',\n",
       " 'prod',\n",
       " 'radians',\n",
       " 'remainder',\n",
       " 'sin',\n",
       " 'sinh',\n",
       " 'sqrt',\n",
       " 'tan',\n",
       " 'tanh',\n",
       " 'tau',\n",
       " 'trunc',\n",
       " 'ulp']"
      ]
     },
     "execution_count": 6,
     "metadata": {},
     "output_type": "execute_result"
    }
   ],
   "source": [
    "dir(math)"
   ]
  },
  {
   "cell_type": "code",
   "execution_count": 7,
   "id": "ed9cd0b8-c202-4efe-a29c-80869c220ab4",
   "metadata": {},
   "outputs": [
    {
     "name": "stdout",
     "output_type": "stream",
     "text": [
      "Help on module math:\n",
      "\n",
      "NAME\n",
      "    math\n",
      "\n",
      "MODULE REFERENCE\n",
      "    https://docs.python.org/3.11/library/math.html\n",
      "    \n",
      "    The following documentation is automatically generated from the Python\n",
      "    source files.  It may be incomplete, incorrect or include features that\n",
      "    are considered implementation detail and may vary between Python\n",
      "    implementations.  When in doubt, consult the module reference at the\n",
      "    location listed above.\n",
      "\n",
      "DESCRIPTION\n",
      "    This module provides access to the mathematical functions\n",
      "    defined by the C standard.\n",
      "\n",
      "FUNCTIONS\n",
      "    acos(x, /)\n",
      "        Return the arc cosine (measured in radians) of x.\n",
      "        \n",
      "        The result is between 0 and pi.\n",
      "    \n",
      "    acosh(x, /)\n",
      "        Return the inverse hyperbolic cosine of x.\n",
      "    \n",
      "    asin(x, /)\n",
      "        Return the arc sine (measured in radians) of x.\n",
      "        \n",
      "        The result is between -pi/2 and pi/2.\n",
      "    \n",
      "    asinh(x, /)\n",
      "        Return the inverse hyperbolic sine of x.\n",
      "    \n",
      "    atan(x, /)\n",
      "        Return the arc tangent (measured in radians) of x.\n",
      "        \n",
      "        The result is between -pi/2 and pi/2.\n",
      "    \n",
      "    atan2(y, x, /)\n",
      "        Return the arc tangent (measured in radians) of y/x.\n",
      "        \n",
      "        Unlike atan(y/x), the signs of both x and y are considered.\n",
      "    \n",
      "    atanh(x, /)\n",
      "        Return the inverse hyperbolic tangent of x.\n",
      "    \n",
      "    cbrt(x, /)\n",
      "        Return the cube root of x.\n",
      "    \n",
      "    ceil(x, /)\n",
      "        Return the ceiling of x as an Integral.\n",
      "        \n",
      "        This is the smallest integer >= x.\n",
      "    \n",
      "    comb(n, k, /)\n",
      "        Number of ways to choose k items from n items without repetition and without order.\n",
      "        \n",
      "        Evaluates to n! / (k! * (n - k)!) when k <= n and evaluates\n",
      "        to zero when k > n.\n",
      "        \n",
      "        Also called the binomial coefficient because it is equivalent\n",
      "        to the coefficient of k-th term in polynomial expansion of the\n",
      "        expression (1 + x)**n.\n",
      "        \n",
      "        Raises TypeError if either of the arguments are not integers.\n",
      "        Raises ValueError if either of the arguments are negative.\n",
      "    \n",
      "    copysign(x, y, /)\n",
      "        Return a float with the magnitude (absolute value) of x but the sign of y.\n",
      "        \n",
      "        On platforms that support signed zeros, copysign(1.0, -0.0)\n",
      "        returns -1.0.\n",
      "    \n",
      "    cos(x, /)\n",
      "        Return the cosine of x (measured in radians).\n",
      "    \n",
      "    cosh(x, /)\n",
      "        Return the hyperbolic cosine of x.\n",
      "    \n",
      "    degrees(x, /)\n",
      "        Convert angle x from radians to degrees.\n",
      "    \n",
      "    dist(p, q, /)\n",
      "        Return the Euclidean distance between two points p and q.\n",
      "        \n",
      "        The points should be specified as sequences (or iterables) of\n",
      "        coordinates.  Both inputs must have the same dimension.\n",
      "        \n",
      "        Roughly equivalent to:\n",
      "            sqrt(sum((px - qx) ** 2.0 for px, qx in zip(p, q)))\n",
      "    \n",
      "    erf(x, /)\n",
      "        Error function at x.\n",
      "    \n",
      "    erfc(x, /)\n",
      "        Complementary error function at x.\n",
      "    \n",
      "    exp(x, /)\n",
      "        Return e raised to the power of x.\n",
      "    \n",
      "    exp2(x, /)\n",
      "        Return 2 raised to the power of x.\n",
      "    \n",
      "    expm1(x, /)\n",
      "        Return exp(x)-1.\n",
      "        \n",
      "        This function avoids the loss of precision involved in the direct evaluation of exp(x)-1 for small x.\n",
      "    \n",
      "    fabs(x, /)\n",
      "        Return the absolute value of the float x.\n",
      "    \n",
      "    factorial(n, /)\n",
      "        Find n!.\n",
      "        \n",
      "        Raise a ValueError if x is negative or non-integral.\n",
      "    \n",
      "    floor(x, /)\n",
      "        Return the floor of x as an Integral.\n",
      "        \n",
      "        This is the largest integer <= x.\n",
      "    \n",
      "    fmod(x, y, /)\n",
      "        Return fmod(x, y), according to platform C.\n",
      "        \n",
      "        x % y may differ.\n",
      "    \n",
      "    frexp(x, /)\n",
      "        Return the mantissa and exponent of x, as pair (m, e).\n",
      "        \n",
      "        m is a float and e is an int, such that x = m * 2.**e.\n",
      "        If x is 0, m and e are both 0.  Else 0.5 <= abs(m) < 1.0.\n",
      "    \n",
      "    fsum(seq, /)\n",
      "        Return an accurate floating point sum of values in the iterable seq.\n",
      "        \n",
      "        Assumes IEEE-754 floating point arithmetic.\n",
      "    \n",
      "    gamma(x, /)\n",
      "        Gamma function at x.\n",
      "    \n",
      "    gcd(*integers)\n",
      "        Greatest Common Divisor.\n",
      "    \n",
      "    hypot(...)\n",
      "        hypot(*coordinates) -> value\n",
      "        \n",
      "        Multidimensional Euclidean distance from the origin to a point.\n",
      "        \n",
      "        Roughly equivalent to:\n",
      "            sqrt(sum(x**2 for x in coordinates))\n",
      "        \n",
      "        For a two dimensional point (x, y), gives the hypotenuse\n",
      "        using the Pythagorean theorem:  sqrt(x*x + y*y).\n",
      "        \n",
      "        For example, the hypotenuse of a 3/4/5 right triangle is:\n",
      "        \n",
      "            >>> hypot(3.0, 4.0)\n",
      "            5.0\n",
      "    \n",
      "    isclose(a, b, *, rel_tol=1e-09, abs_tol=0.0)\n",
      "        Determine whether two floating point numbers are close in value.\n",
      "        \n",
      "          rel_tol\n",
      "            maximum difference for being considered \"close\", relative to the\n",
      "            magnitude of the input values\n",
      "          abs_tol\n",
      "            maximum difference for being considered \"close\", regardless of the\n",
      "            magnitude of the input values\n",
      "        \n",
      "        Return True if a is close in value to b, and False otherwise.\n",
      "        \n",
      "        For the values to be considered close, the difference between them\n",
      "        must be smaller than at least one of the tolerances.\n",
      "        \n",
      "        -inf, inf and NaN behave similarly to the IEEE 754 Standard.  That\n",
      "        is, NaN is not close to anything, even itself.  inf and -inf are\n",
      "        only close to themselves.\n",
      "    \n",
      "    isfinite(x, /)\n",
      "        Return True if x is neither an infinity nor a NaN, and False otherwise.\n",
      "    \n",
      "    isinf(x, /)\n",
      "        Return True if x is a positive or negative infinity, and False otherwise.\n",
      "    \n",
      "    isnan(x, /)\n",
      "        Return True if x is a NaN (not a number), and False otherwise.\n",
      "    \n",
      "    isqrt(n, /)\n",
      "        Return the integer part of the square root of the input.\n",
      "    \n",
      "    lcm(*integers)\n",
      "        Least Common Multiple.\n",
      "    \n",
      "    ldexp(x, i, /)\n",
      "        Return x * (2**i).\n",
      "        \n",
      "        This is essentially the inverse of frexp().\n",
      "    \n",
      "    lgamma(x, /)\n",
      "        Natural logarithm of absolute value of Gamma function at x.\n",
      "    \n",
      "    log(...)\n",
      "        log(x, [base=math.e])\n",
      "        Return the logarithm of x to the given base.\n",
      "        \n",
      "        If the base not specified, returns the natural logarithm (base e) of x.\n",
      "    \n",
      "    log10(x, /)\n",
      "        Return the base 10 logarithm of x.\n",
      "    \n",
      "    log1p(x, /)\n",
      "        Return the natural logarithm of 1+x (base e).\n",
      "        \n",
      "        The result is computed in a way which is accurate for x near zero.\n",
      "    \n",
      "    log2(x, /)\n",
      "        Return the base 2 logarithm of x.\n",
      "    \n",
      "    modf(x, /)\n",
      "        Return the fractional and integer parts of x.\n",
      "        \n",
      "        Both results carry the sign of x and are floats.\n",
      "    \n",
      "    nextafter(x, y, /)\n",
      "        Return the next floating-point value after x towards y.\n",
      "    \n",
      "    perm(n, k=None, /)\n",
      "        Number of ways to choose k items from n items without repetition and with order.\n",
      "        \n",
      "        Evaluates to n! / (n - k)! when k <= n and evaluates\n",
      "        to zero when k > n.\n",
      "        \n",
      "        If k is not specified or is None, then k defaults to n\n",
      "        and the function returns n!.\n",
      "        \n",
      "        Raises TypeError if either of the arguments are not integers.\n",
      "        Raises ValueError if either of the arguments are negative.\n",
      "    \n",
      "    pow(x, y, /)\n",
      "        Return x**y (x to the power of y).\n",
      "    \n",
      "    prod(iterable, /, *, start=1)\n",
      "        Calculate the product of all the elements in the input iterable.\n",
      "        \n",
      "        The default start value for the product is 1.\n",
      "        \n",
      "        When the iterable is empty, return the start value.  This function is\n",
      "        intended specifically for use with numeric values and may reject\n",
      "        non-numeric types.\n",
      "    \n",
      "    radians(x, /)\n",
      "        Convert angle x from degrees to radians.\n",
      "    \n",
      "    remainder(x, y, /)\n",
      "        Difference between x and the closest integer multiple of y.\n",
      "        \n",
      "        Return x - n*y where n*y is the closest integer multiple of y.\n",
      "        In the case where x is exactly halfway between two multiples of\n",
      "        y, the nearest even value of n is used. The result is always exact.\n",
      "    \n",
      "    sin(x, /)\n",
      "        Return the sine of x (measured in radians).\n",
      "    \n",
      "    sinh(x, /)\n",
      "        Return the hyperbolic sine of x.\n",
      "    \n",
      "    sqrt(x, /)\n",
      "        Return the square root of x.\n",
      "    \n",
      "    tan(x, /)\n",
      "        Return the tangent of x (measured in radians).\n",
      "    \n",
      "    tanh(x, /)\n",
      "        Return the hyperbolic tangent of x.\n",
      "    \n",
      "    trunc(x, /)\n",
      "        Truncates the Real x to the nearest Integral toward 0.\n",
      "        \n",
      "        Uses the __trunc__ magic method.\n",
      "    \n",
      "    ulp(x, /)\n",
      "        Return the value of the least significant bit of the float x.\n",
      "\n",
      "DATA\n",
      "    e = 2.718281828459045\n",
      "    inf = inf\n",
      "    nan = nan\n",
      "    pi = 3.141592653589793\n",
      "    tau = 6.283185307179586\n",
      "\n",
      "FILE\n",
      "    /home/dssadmin/miniconda3/lib/python3.11/lib-dynload/math.cpython-311-x86_64-linux-gnu.so\n",
      "\n",
      "\n"
     ]
    }
   ],
   "source": [
    "help(math)"
   ]
  },
  {
   "cell_type": "code",
   "execution_count": 8,
   "id": "f80bfce5-f46a-4a9f-871c-45433181a30f",
   "metadata": {},
   "outputs": [
    {
     "data": {
      "text/plain": [
       "1.0"
      ]
     },
     "execution_count": 8,
     "metadata": {},
     "output_type": "execute_result"
    }
   ],
   "source": [
    "math.sin(math.pi / 2.0)"
   ]
  },
  {
   "cell_type": "code",
   "execution_count": 9,
   "id": "17448985-ab2c-41a3-a7e6-dd4bfa10b559",
   "metadata": {},
   "outputs": [
    {
     "name": "stdout",
     "output_type": "stream",
     "text": [
      "1\n",
      "2\n",
      "3\n",
      "4\n",
      "5\n",
      "6\n",
      "7\n",
      "8\n",
      "9\n"
     ]
    }
   ],
   "source": [
    "# range() takes 1, 2, or 3 parameters\n",
    "for num in range(1, 10): # 1..10 (not inclusive) meaning 1..9\n",
    "    print(num)"
   ]
  },
  {
   "cell_type": "code",
   "execution_count": 13,
   "id": "2ec4cb73-b5c5-4273-b6e5-0f5f3c6f181f",
   "metadata": {},
   "outputs": [
    {
     "name": "stdout",
     "output_type": "stream",
     "text": [
      "0\n",
      "1\n",
      "2\n",
      "3\n",
      "4\n",
      "5\n",
      "6\n",
      "7\n",
      "8\n",
      "9\n"
     ]
    }
   ],
   "source": [
    "for num in range(10): # 0..9\n",
    "    print(num)"
   ]
  },
  {
   "cell_type": "code",
   "execution_count": 12,
   "id": "960a1480-2841-41ab-a836-e3f4332b2e17",
   "metadata": {},
   "outputs": [
    {
     "name": "stdout",
     "output_type": "stream",
     "text": [
      "1\n",
      "3\n",
      "5\n",
      "7\n",
      "9\n"
     ]
    }
   ],
   "source": [
    "for num in range(1, 10, 2): # 3rd paramater is \"step\"\n",
    "    print(num)"
   ]
  },
  {
   "cell_type": "code",
   "execution_count": 15,
   "id": "31b351b3-9830-43de-ad7e-b55f5148ab03",
   "metadata": {},
   "outputs": [
    {
     "ename": "SyntaxError",
     "evalue": "invalid syntax (2877265301.py, line 1)",
     "output_type": "error",
     "traceback": [
      "\u001b[0;36m  Cell \u001b[0;32mIn[15], line 1\u001b[0;36m\u001b[0m\n\u001b[0;31m    for in range(10): # do this 10 times\u001b[0m\n\u001b[0m        ^\u001b[0m\n\u001b[0;31mSyntaxError\u001b[0m\u001b[0;31m:\u001b[0m invalid syntax\n"
     ]
    }
   ],
   "source": [
    "for _ in range(10): # do this 10 times\n",
    "    print('hi')"
   ]
  },
  {
   "cell_type": "code",
   "execution_count": 16,
   "id": "4ec83686-4a05-40b0-b462-36a970dcfc53",
   "metadata": {},
   "outputs": [
    {
     "data": {
      "text/plain": [
       "(8, 3)"
      ]
     },
     "execution_count": 16,
     "metadata": {},
     "output_type": "execute_result"
    }
   ],
   "source": [
    "divmod(35, 4)"
   ]
  },
  {
   "cell_type": "code",
   "execution_count": 24,
   "id": "aa626584-20fc-4721-ab6f-81db1c5b56c1",
   "metadata": {},
   "outputs": [],
   "source": [
    "quot, rem = divmod(35, 4)"
   ]
  },
  {
   "cell_type": "code",
   "execution_count": 18,
   "id": "72e5e8ed-2a03-4a33-ae90-1e002d7322a0",
   "metadata": {},
   "outputs": [
    {
     "data": {
      "text/plain": [
       "8"
      ]
     },
     "execution_count": 18,
     "metadata": {},
     "output_type": "execute_result"
    }
   ],
   "source": [
    "quot"
   ]
  },
  {
   "cell_type": "code",
   "execution_count": 19,
   "id": "7d97bcae-d19a-4c10-80bd-24d85f39a644",
   "metadata": {},
   "outputs": [],
   "source": [
    "quot, _ = divmod(35, 4) # put first return value in quot, \"discard\" second return value"
   ]
  },
  {
   "cell_type": "code",
   "execution_count": 20,
   "id": "ceb074ba-74e9-4185-b4c7-d05398d191e0",
   "metadata": {},
   "outputs": [],
   "source": [
    "quot = divmod(35, 4)"
   ]
  },
  {
   "cell_type": "code",
   "execution_count": 21,
   "id": "ca908c05-5bcf-4cad-820c-36b78f9a7111",
   "metadata": {},
   "outputs": [
    {
     "data": {
      "text/plain": [
       "(8, 3)"
      ]
     },
     "execution_count": 21,
     "metadata": {},
     "output_type": "execute_result"
    }
   ],
   "source": [
    "quot"
   ]
  },
  {
   "cell_type": "code",
   "execution_count": 25,
   "id": "43a0cea1-55f1-42b4-8fda-d7081be7e41d",
   "metadata": {},
   "outputs": [
    {
     "data": {
      "text/plain": [
       "3"
      ]
     },
     "execution_count": 25,
     "metadata": {},
     "output_type": "execute_result"
    }
   ],
   "source": [
    "len([1, 2, 3])"
   ]
  },
  {
   "cell_type": "code",
   "execution_count": 26,
   "id": "25a0f05e-9bbc-49e2-b9e9-c8c21c130409",
   "metadata": {},
   "outputs": [
    {
     "data": {
      "text/plain": [
       "6"
      ]
     },
     "execution_count": 26,
     "metadata": {},
     "output_type": "execute_result"
    }
   ],
   "source": [
    "len('string')"
   ]
  },
  {
   "cell_type": "code",
   "execution_count": 27,
   "id": "7207cde3-cd3f-4aa6-87d4-cca205ef8169",
   "metadata": {},
   "outputs": [
    {
     "data": {
      "text/plain": [
       "3"
      ]
     },
     "execution_count": 27,
     "metadata": {},
     "output_type": "execute_result"
    }
   ],
   "source": [
    "len((1, 2, 3))"
   ]
  },
  {
   "cell_type": "code",
   "execution_count": 28,
   "id": "9d705e10-0d11-45fd-98ed-937a9406f62d",
   "metadata": {},
   "outputs": [],
   "source": [
    "name = 'dave'"
   ]
  },
  {
   "cell_type": "code",
   "execution_count": 30,
   "id": "97dc179e-db8f-4358-b2cf-7e6deea3bc29",
   "metadata": {},
   "outputs": [
    {
     "ename": "TypeError",
     "evalue": "'str' object does not support item assignment",
     "output_type": "error",
     "traceback": [
      "\u001b[0;31m---------------------------------------------------------------------------\u001b[0m",
      "\u001b[0;31mTypeError\u001b[0m                                 Traceback (most recent call last)",
      "Cell \u001b[0;32mIn[30], line 1\u001b[0m\n\u001b[0;32m----> 1\u001b[0m \u001b[43mname\u001b[49m\u001b[43m[\u001b[49m\u001b[38;5;241;43m0\u001b[39;49m\u001b[43m]\u001b[49m \u001b[38;5;241m=\u001b[39m \u001b[38;5;124m'\u001b[39m\u001b[38;5;124mD\u001b[39m\u001b[38;5;124m'\u001b[39m\n",
      "\u001b[0;31mTypeError\u001b[0m: 'str' object does not support item assignment"
     ]
    }
   ],
   "source": [
    "name[0] = 'D'"
   ]
  },
  {
   "cell_type": "code",
   "execution_count": 31,
   "id": "53c20099-b850-403f-8fa8-624e2978dfc0",
   "metadata": {},
   "outputs": [],
   "source": [
    "name = 'Dave'"
   ]
  },
  {
   "cell_type": "code",
   "execution_count": 32,
   "id": "2069c12a-98eb-4c38-98fa-b423b95c8926",
   "metadata": {},
   "outputs": [],
   "source": [
    "name = '4'"
   ]
  },
  {
   "cell_type": "code",
   "execution_count": 33,
   "id": "34c3e9a3-918a-4b10-b1cb-2013f95c5324",
   "metadata": {},
   "outputs": [
    {
     "data": {
      "text/plain": [
       "4"
      ]
     },
     "execution_count": 33,
     "metadata": {},
     "output_type": "execute_result"
    }
   ],
   "source": [
    "int(name) # int-ifying \"type casting\", not so much used in Python"
   ]
  },
  {
   "cell_type": "code",
   "execution_count": 36,
   "id": "6dd70a6c-5d1d-4886-8bfb-7ddb66351eeb",
   "metadata": {},
   "outputs": [
    {
     "data": {
      "text/plain": [
       "'HELLO'"
      ]
     },
     "execution_count": 36,
     "metadata": {},
     "output_type": "execute_result"
    }
   ],
   "source": [
    "'hello'.upper() # str object DOT str function/method"
   ]
  },
  {
   "cell_type": "code",
   "execution_count": 37,
   "id": "35d594fb-0021-4326-97f4-3fc7a08ac058",
   "metadata": {},
   "outputs": [],
   "source": [
    "# duck typing\n",
    "# len() operates on any container/iterable (they are slightly different)"
   ]
  },
  {
   "cell_type": "code",
   "execution_count": 38,
   "id": "9521be29-b33b-4315-9801-2d33c6b291ec",
   "metadata": {},
   "outputs": [
    {
     "data": {
      "text/plain": [
       "(6, 1, 2, 0)"
      ]
     },
     "execution_count": 38,
     "metadata": {},
     "output_type": "execute_result"
    }
   ],
   "source": [
    "len('string'), len([1]), len((1, 2)), len({})"
   ]
  },
  {
   "cell_type": "code",
   "execution_count": 39,
   "id": "7c5f515b-2ac1-44b5-91ea-237ddf1d03b0",
   "metadata": {},
   "outputs": [
    {
     "ename": "TypeError",
     "evalue": "object of type 'float' has no len()",
     "output_type": "error",
     "traceback": [
      "\u001b[0;31m---------------------------------------------------------------------------\u001b[0m",
      "\u001b[0;31mTypeError\u001b[0m                                 Traceback (most recent call last)",
      "Cell \u001b[0;32mIn[39], line 1\u001b[0m\n\u001b[0;32m----> 1\u001b[0m \u001b[38;5;28;43mlen\u001b[39;49m\u001b[43m(\u001b[49m\u001b[38;5;241;43m4.5\u001b[39;49m\u001b[43m)\u001b[49m\n",
      "\u001b[0;31mTypeError\u001b[0m: object of type 'float' has no len()"
     ]
    }
   ],
   "source": [
    "len(4.5)"
   ]
  },
  {
   "cell_type": "code",
   "execution_count": 62,
   "id": "22585a34-a587-42ba-8de3-c87bac1d7bb3",
   "metadata": {},
   "outputs": [],
   "source": [
    "# let's write our own duck typed function\n",
    "\n",
    "def iterate(container):\n",
    "    \"\"\"Iterate through container passed to it.\"\"\"\n",
    "    try:\n",
    "        for thing in container: # for each thing in container\n",
    "            print(thing)\n",
    "    except TypeError:\n",
    "        print('Not ierable')"
   ]
  },
  {
   "cell_type": "code",
   "execution_count": 41,
   "id": "b55537e0-f621-4b43-bb61-cca16a133b49",
   "metadata": {},
   "outputs": [
    {
     "name": "stdout",
     "output_type": "stream",
     "text": [
      "Help on function iterate in module __main__:\n",
      "\n",
      "iterate(thing)\n",
      "    Iterate through thing object.\n",
      "\n"
     ]
    }
   ],
   "source": [
    "help(iterate)"
   ]
  },
  {
   "cell_type": "code",
   "execution_count": 42,
   "id": "cde189cf-eb97-4391-8b06-ddc3df146a31",
   "metadata": {},
   "outputs": [
    {
     "name": "stdout",
     "output_type": "stream",
     "text": [
      "Help on built-in function sin in module math:\n",
      "\n",
      "sin(x, /)\n",
      "    Return the sine of x (measured in radians).\n",
      "\n"
     ]
    }
   ],
   "source": [
    "import math\n",
    "help(math.sin)"
   ]
  },
  {
   "cell_type": "code",
   "execution_count": 61,
   "id": "f7728891-add3-4b08-afbf-d174e775ea73",
   "metadata": {},
   "outputs": [
    {
     "name": "stdout",
     "output_type": "stream",
     "text": [
      "s\n",
      "t\n",
      "r\n",
      "i\n",
      "n\n",
      "g\n"
     ]
    },
    {
     "ename": "ZeroDivisionError",
     "evalue": "division by zero",
     "output_type": "error",
     "traceback": [
      "\u001b[0;31m---------------------------------------------------------------------------\u001b[0m",
      "\u001b[0;31mZeroDivisionError\u001b[0m                         Traceback (most recent call last)",
      "Cell \u001b[0;32mIn[61], line 1\u001b[0m\n\u001b[0;32m----> 1\u001b[0m \u001b[43miterate\u001b[49m\u001b[43m(\u001b[49m\u001b[38;5;124;43m'\u001b[39;49m\u001b[38;5;124;43mstring\u001b[39;49m\u001b[38;5;124;43m'\u001b[39;49m\u001b[43m)\u001b[49m\n",
      "Cell \u001b[0;32mIn[60], line 8\u001b[0m, in \u001b[0;36miterate\u001b[0;34m(container)\u001b[0m\n\u001b[1;32m      6\u001b[0m     \u001b[38;5;28;01mfor\u001b[39;00m thing \u001b[38;5;129;01min\u001b[39;00m container: \u001b[38;5;66;03m# for each thing in container\u001b[39;00m\n\u001b[1;32m      7\u001b[0m         \u001b[38;5;28mprint\u001b[39m(thing)\n\u001b[0;32m----> 8\u001b[0m     \u001b[38;5;241;43m1\u001b[39;49m\u001b[43m \u001b[49m\u001b[38;5;241;43m/\u001b[39;49m\u001b[43m \u001b[49m\u001b[38;5;241;43m0\u001b[39;49m\n\u001b[1;32m      9\u001b[0m \u001b[38;5;28;01mexcept\u001b[39;00m \u001b[38;5;167;01mTypeError\u001b[39;00m:\n\u001b[1;32m     10\u001b[0m     \u001b[38;5;28mprint\u001b[39m(\u001b[38;5;124m'\u001b[39m\u001b[38;5;124mNot ierable\u001b[39m\u001b[38;5;124m'\u001b[39m)\n",
      "\u001b[0;31mZeroDivisionError\u001b[0m: division by zero"
     ]
    }
   ],
   "source": [
    "iterate('string')"
   ]
  },
  {
   "cell_type": "code",
   "execution_count": 52,
   "id": "6b7a0c77-736b-4fc3-8897-327ac8565676",
   "metadata": {},
   "outputs": [
    {
     "name": "stdout",
     "output_type": "stream",
     "text": [
      "1\n",
      "2\n",
      "3\n",
      "5\n"
     ]
    }
   ],
   "source": [
    "iterate([1, 2,3, 5])"
   ]
  },
  {
   "cell_type": "code",
   "execution_count": 64,
   "id": "9f06acbb-3e42-484f-9d68-dccd320c6ef9",
   "metadata": {},
   "outputs": [
    {
     "name": "stdout",
     "output_type": "stream",
     "text": [
      "nope\n"
     ]
    }
   ],
   "source": [
    "iterate([])"
   ]
  },
  {
   "cell_type": "code",
   "execution_count": 54,
   "id": "ec3d20c7-0b7b-404b-a4b6-8ba09eb68513",
   "metadata": {},
   "outputs": [
    {
     "name": "stdout",
     "output_type": "stream",
     "text": [
      "1\n",
      "2\n",
      "3\n"
     ]
    }
   ],
   "source": [
    "iterate((1, 2, 3))"
   ]
  },
  {
   "cell_type": "code",
   "execution_count": 55,
   "id": "ba20e16f-72d3-47b0-95f2-3d14d99940b8",
   "metadata": {},
   "outputs": [
    {
     "name": "stdout",
     "output_type": "stream",
     "text": [
      "one\n",
      "two\n"
     ]
    }
   ],
   "source": [
    "iterate({'one': 1, 'two': 2 })"
   ]
  },
  {
   "cell_type": "code",
   "execution_count": 63,
   "id": "b75ab162-0ffd-4b51-aacd-7aa203ccca42",
   "metadata": {},
   "outputs": [
    {
     "name": "stdout",
     "output_type": "stream",
     "text": [
      "Not ierable\n"
     ]
    }
   ],
   "source": [
    "iterate(1)"
   ]
  },
  {
   "cell_type": "code",
   "execution_count": 65,
   "id": "b3ed1af3-9054-44ae-8bbc-6b156275f27e",
   "metadata": {},
   "outputs": [
    {
     "ename": "ZeroDivisionError",
     "evalue": "division by zero",
     "output_type": "error",
     "traceback": [
      "\u001b[0;31m---------------------------------------------------------------------------\u001b[0m",
      "\u001b[0;31mZeroDivisionError\u001b[0m                         Traceback (most recent call last)",
      "Cell \u001b[0;32mIn[65], line 1\u001b[0m\n\u001b[0;32m----> 1\u001b[0m \u001b[38;5;241;43m1\u001b[39;49m\u001b[43m \u001b[49m\u001b[38;5;241;43m/\u001b[39;49m\u001b[43m \u001b[49m\u001b[38;5;241;43m0\u001b[39;49m\n",
      "\u001b[0;31mZeroDivisionError\u001b[0m: division by zero"
     ]
    }
   ],
   "source": [
    "1 / 0"
   ]
  },
  {
   "cell_type": "code",
   "execution_count": 66,
   "id": "f14b73ea-867f-4984-a3ed-cfb8db9e3921",
   "metadata": {},
   "outputs": [
    {
     "ename": "IndexError",
     "evalue": "string index out of range",
     "output_type": "error",
     "traceback": [
      "\u001b[0;31m---------------------------------------------------------------------------\u001b[0m",
      "\u001b[0;31mIndexError\u001b[0m                                Traceback (most recent call last)",
      "Cell \u001b[0;32mIn[66], line 1\u001b[0m\n\u001b[0;32m----> 1\u001b[0m \u001b[38;5;124;43m'\u001b[39;49m\u001b[38;5;124;43mstring\u001b[39;49m\u001b[38;5;124;43m'\u001b[39;49m\u001b[43m[\u001b[49m\u001b[38;5;241;43m10\u001b[39;49m\u001b[43m]\u001b[49m\n",
      "\u001b[0;31mIndexError\u001b[0m: string index out of range"
     ]
    }
   ],
   "source": [
    "'string'[10]"
   ]
  },
  {
   "cell_type": "code",
   "execution_count": 67,
   "id": "757bed53-fd05-43be-aa7b-11ff2c1bba86",
   "metadata": {},
   "outputs": [],
   "source": [
    "def myfunc(index):\n",
    "    mylist = [1, 2, 10]\n",
    "    try:\n",
    "        print(mylist[index])\n",
    "    except IndexError:\n",
    "        return None"
   ]
  },
  {
   "cell_type": "code",
   "execution_count": 68,
   "id": "8df2ff74-0bef-428a-8124-088af53fc511",
   "metadata": {},
   "outputs": [
    {
     "name": "stdout",
     "output_type": "stream",
     "text": [
      "1\n"
     ]
    }
   ],
   "source": [
    "myfunc(0)"
   ]
  },
  {
   "cell_type": "code",
   "execution_count": 69,
   "id": "64e24987-8ce0-4310-8275-b17061fe53b9",
   "metadata": {},
   "outputs": [
    {
     "name": "stdout",
     "output_type": "stream",
     "text": [
      "bad index\n"
     ]
    }
   ],
   "source": [
    "myfunc(55)"
   ]
  },
  {
   "cell_type": "code",
   "execution_count": 71,
   "id": "63e12a12-899d-4d3f-9a9c-951c5aa2ee81",
   "metadata": {},
   "outputs": [
    {
     "ename": "TypeError",
     "evalue": "object of type 'int' has no len()",
     "output_type": "error",
     "traceback": [
      "\u001b[0;31m---------------------------------------------------------------------------\u001b[0m",
      "\u001b[0;31mTypeError\u001b[0m                                 Traceback (most recent call last)",
      "Cell \u001b[0;32mIn[71], line 1\u001b[0m\n\u001b[0;32m----> 1\u001b[0m \u001b[38;5;28;43mlen\u001b[39;49m\u001b[43m(\u001b[49m\u001b[38;5;241;43m1\u001b[39;49m\u001b[43m)\u001b[49m\n",
      "\u001b[0;31mTypeError\u001b[0m: object of type 'int' has no len()"
     ]
    }
   ],
   "source": [
    "len(1)"
   ]
  },
  {
   "cell_type": "code",
   "execution_count": 72,
   "id": "dbfdab33-a12c-45bd-ac2b-aaf04fd343b2",
   "metadata": {},
   "outputs": [],
   "source": [
    "Cost = 19.95"
   ]
  },
  {
   "cell_type": "code",
   "execution_count": 73,
   "id": "b96f7050-cb31-489f-9fff-611c1028d50f",
   "metadata": {},
   "outputs": [
    {
     "ename": "NameError",
     "evalue": "name 'cost' is not defined",
     "output_type": "error",
     "traceback": [
      "\u001b[0;31m---------------------------------------------------------------------------\u001b[0m",
      "\u001b[0;31mNameError\u001b[0m                                 Traceback (most recent call last)",
      "Cell \u001b[0;32mIn[73], line 1\u001b[0m\n\u001b[0;32m----> 1\u001b[0m \u001b[43mcost\u001b[49m\n",
      "\u001b[0;31mNameError\u001b[0m: name 'cost' is not defined"
     ]
    }
   ],
   "source": [
    "cost"
   ]
  },
  {
   "cell_type": "code",
   "execution_count": 75,
   "id": "12349de8-2a86-477c-87b9-c82c5ae21572",
   "metadata": {},
   "outputs": [],
   "source": [
    "cost_per_ounce = 1.25 # \"snake case\""
   ]
  },
  {
   "cell_type": "code",
   "execution_count": 76,
   "id": "3e3e686e-8d7d-4272-8cd3-42db62d659f7",
   "metadata": {},
   "outputs": [],
   "source": [
    "CONSTANT = 124 # all caps for constants"
   ]
  },
  {
   "cell_type": "code",
   "execution_count": 78,
   "id": "87b0ebf8-7e73-487d-a551-28dda919c8bb",
   "metadata": {},
   "outputs": [],
   "source": [
    "employee = 'Cordani', 'David', 'CEO', 1, '312-555-1212' # tuple"
   ]
  },
  {
   "cell_type": "code",
   "execution_count": 79,
   "id": "b56b5249-4ff7-48cb-92cf-8c42fcaea0b2",
   "metadata": {},
   "outputs": [
    {
     "data": {
      "text/plain": [
       "tuple"
      ]
     },
     "execution_count": 79,
     "metadata": {},
     "output_type": "execute_result"
    }
   ],
   "source": [
    "type(employee)"
   ]
  },
  {
   "cell_type": "code",
   "execution_count": 80,
   "id": "2ecc97a8-4fec-4acd-8dab-9ab9c04da51b",
   "metadata": {},
   "outputs": [
    {
     "data": {
      "text/plain": [
       "('Cordani', 'David', 'CEO', 1, '312-555-1212')"
      ]
     },
     "execution_count": 80,
     "metadata": {},
     "output_type": "execute_result"
    }
   ],
   "source": [
    "employee"
   ]
  },
  {
   "cell_type": "code",
   "execution_count": 81,
   "id": "aa16852b-ac5f-4b5b-9584-2c06badbfae3",
   "metadata": {},
   "outputs": [
    {
     "data": {
      "text/plain": [
       "'312-555-1212'"
      ]
     },
     "execution_count": 81,
     "metadata": {},
     "output_type": "execute_result"
    }
   ],
   "source": [
    "employee[-1]"
   ]
  },
  {
   "cell_type": "code",
   "execution_count": 82,
   "id": "2c37aa72-25a6-4656-b2d6-bf3608adc940",
   "metadata": {},
   "outputs": [
    {
     "ename": "TypeError",
     "evalue": "'tuple' object does not support item assignment",
     "output_type": "error",
     "traceback": [
      "\u001b[0;31m---------------------------------------------------------------------------\u001b[0m",
      "\u001b[0;31mTypeError\u001b[0m                                 Traceback (most recent call last)",
      "Cell \u001b[0;32mIn[82], line 1\u001b[0m\n\u001b[0;32m----> 1\u001b[0m \u001b[43memployee\u001b[49m\u001b[43m[\u001b[49m\u001b[38;5;241;43m0\u001b[39;49m\u001b[43m]\u001b[49m \u001b[38;5;241m=\u001b[39m \u001b[38;5;124m'\u001b[39m\u001b[38;5;124mSmith\u001b[39m\u001b[38;5;124m'\u001b[39m\n",
      "\u001b[0;31mTypeError\u001b[0m: 'tuple' object does not support item assignment"
     ]
    }
   ],
   "source": [
    "employee[0] = 'Smith'"
   ]
  },
  {
   "cell_type": "code",
   "execution_count": 84,
   "id": "d0ca38a6-04e6-4da6-b131-af848cd9a8c6",
   "metadata": {},
   "outputs": [],
   "source": [
    "employees_ids = '1234 5678 11134 0902 76 888'.split()"
   ]
  },
  {
   "cell_type": "code",
   "execution_count": 85,
   "id": "d1f22d29-1e26-42bc-8955-e26ea8df9c04",
   "metadata": {},
   "outputs": [
    {
     "data": {
      "text/plain": [
       "['1234', '5678', '11134', '0902', '76', '888']"
      ]
     },
     "execution_count": 85,
     "metadata": {},
     "output_type": "execute_result"
    }
   ],
   "source": [
    "employees_ids"
   ]
  },
  {
   "cell_type": "code",
   "execution_count": 86,
   "id": "10d371d9-a035-4393-a3da-202f25031c70",
   "metadata": {},
   "outputs": [],
   "source": [
    "first_names = 'Dave Vijay Janki Chandra Ram'.split()"
   ]
  },
  {
   "cell_type": "code",
   "execution_count": 87,
   "id": "85c4b72d-ed25-4ee3-94b8-c8e504d10faa",
   "metadata": {},
   "outputs": [
    {
     "data": {
      "text/plain": [
       "['Dave', 'Vijay', 'Janki', 'Chandra', 'Ram']"
      ]
     },
     "execution_count": 87,
     "metadata": {},
     "output_type": "execute_result"
    }
   ],
   "source": [
    "first_names"
   ]
  },
  {
   "cell_type": "code",
   "execution_count": 88,
   "id": "880a3ae8-6a79-43d8-bfb9-84d61b4b3c57",
   "metadata": {},
   "outputs": [],
   "source": [
    "first_names[0] = 'David'"
   ]
  },
  {
   "cell_type": "code",
   "execution_count": 89,
   "id": "5914831a-f153-4f88-968b-405d0ea525df",
   "metadata": {},
   "outputs": [
    {
     "data": {
      "text/plain": [
       "['David', 'Vijay', 'Janki', 'Chandra', 'Ram']"
      ]
     },
     "execution_count": 89,
     "metadata": {},
     "output_type": "execute_result"
    }
   ],
   "source": [
    "first_names"
   ]
  },
  {
   "cell_type": "code",
   "execution_count": 90,
   "id": "ca6e59ff-7eeb-4d5e-86e6-2c338b6ab787",
   "metadata": {},
   "outputs": [],
   "source": [
    "weird_list = [1, 2.5, '3', [4]]"
   ]
  },
  {
   "cell_type": "code",
   "execution_count": 91,
   "id": "2d10862e-22f5-4810-bd23-141471610502",
   "metadata": {},
   "outputs": [
    {
     "data": {
      "text/plain": [
       "[1, 2.5, '3', [4]]"
      ]
     },
     "execution_count": 91,
     "metadata": {},
     "output_type": "execute_result"
    }
   ],
   "source": [
    "weird_list"
   ]
  },
  {
   "cell_type": "code",
   "execution_count": 93,
   "id": "0444146b-0840-491f-b6a0-0e1735369f24",
   "metadata": {},
   "outputs": [],
   "source": [
    "import random\n",
    "nums = []"
   ]
  },
  {
   "cell_type": "code",
   "execution_count": 94,
   "id": "c8226730-2b48-4f9d-98ae-d7ba59172439",
   "metadata": {},
   "outputs": [],
   "source": [
    "for _ in range(100):\n",
    "    nums.append(random.randint(1, 100))"
   ]
  },
  {
   "cell_type": "code",
   "execution_count": 95,
   "id": "7e8e24e8-976d-4cd1-8c74-b6b528f5dab3",
   "metadata": {},
   "outputs": [
    {
     "name": "stdout",
     "output_type": "stream",
     "text": [
      "[71, 11, 7, 97, 36, 55, 68, 72, 11, 18, 67, 16, 2, 93, 80, 32, 27, 31, 79, 29, 30, 66, 3, 29, 88, 19, 73, 8, 72, 90, 46, 4, 53, 76, 10, 79, 69, 44, 24, 92, 100, 69, 78, 82, 98, 96, 97, 8, 67, 68, 76, 61, 27, 53, 97, 34, 6, 48, 39, 49, 43, 89, 70, 58, 93, 13, 93, 43, 18, 96, 78, 50, 94, 25, 52, 32, 63, 40, 8, 6, 53, 36, 1, 67, 17, 33, 1, 51, 11, 100, 53, 63, 8, 66, 99, 60, 100, 50, 51, 20]\n"
     ]
    }
   ],
   "source": [
    "print(nums)"
   ]
  },
  {
   "cell_type": "code",
   "execution_count": 96,
   "id": "aae46b89-2e60-487e-91b5-e86dee443ea7",
   "metadata": {},
   "outputs": [
    {
     "name": "stdout",
     "output_type": "stream",
     "text": [
      "{1, 2, 3, 4, 6, 7, 8, 10, 11, 13, 16, 17, 18, 19, 20, 24, 25, 27, 29, 30, 31, 32, 33, 34, 36, 39, 40, 43, 44, 46, 48, 49, 50, 51, 52, 53, 55, 58, 60, 61, 63, 66, 67, 68, 69, 70, 71, 72, 73, 76, 78, 79, 80, 82, 88, 89, 90, 92, 93, 94, 96, 97, 98, 99, 100}\n"
     ]
    }
   ],
   "source": [
    "print(set(nums))"
   ]
  },
  {
   "cell_type": "code",
   "execution_count": 97,
   "id": "637a99cc-eff1-42c8-b578-e72668f58fa6",
   "metadata": {},
   "outputs": [
    {
     "name": "stdout",
     "output_type": "stream",
     "text": [
      "[1, 2, 3, 4, 6, 7, 8, 10, 11, 13, 16, 17, 18, 19, 20, 24, 25, 27, 29, 30, 31, 32, 33, 34, 36, 39, 40, 43, 44, 46, 48, 49, 50, 51, 52, 53, 55, 58, 60, 61, 63, 66, 67, 68, 69, 70, 71, 72, 73, 76, 78, 79, 80, 82, 88, 89, 90, 92, 93, 94, 96, 97, 98, 99, 100]\n"
     ]
    }
   ],
   "source": [
    "nums_no_dupes = list(set(nums))\n",
    "print(nums_no_dupes)"
   ]
  },
  {
   "cell_type": "code",
   "execution_count": 100,
   "id": "4c66e209-8788-4c2c-9aad-12d246858eba",
   "metadata": {},
   "outputs": [],
   "source": [
    "nums = set()\n",
    "for _ in range(100):\n",
    "    nums.add(random.randint(1, 100))"
   ]
  },
  {
   "cell_type": "code",
   "execution_count": 101,
   "id": "b615e5fe-45d7-4ea2-b746-ac6536d168a1",
   "metadata": {},
   "outputs": [
    {
     "name": "stdout",
     "output_type": "stream",
     "text": [
      "{1, 3, 5, 6, 7, 10, 13, 15, 18, 19, 20, 21, 22, 24, 25, 26, 28, 29, 31, 34, 37, 38, 39, 41, 42, 45, 47, 48, 49, 50, 51, 55, 56, 57, 59, 60, 61, 62, 65, 66, 67, 68, 69, 71, 72, 73, 74, 75, 77, 79, 80, 81, 82, 83, 85, 87, 88, 89, 90, 91, 92, 93, 94, 97, 98}\n"
     ]
    }
   ],
   "source": [
    "print(nums)"
   ]
  },
  {
   "cell_type": "code",
   "execution_count": 102,
   "id": "32546325-96db-4c40-83b3-932f492762b5",
   "metadata": {},
   "outputs": [
    {
     "name": "stdout",
     "output_type": "stream",
     "text": [
      "Help on set object:\n",
      "\n",
      "class set(object)\n",
      " |  set() -> new empty set object\n",
      " |  set(iterable) -> new set object\n",
      " |  \n",
      " |  Build an unordered collection of unique elements.\n",
      " |  \n",
      " |  Methods defined here:\n",
      " |  \n",
      " |  __and__(self, value, /)\n",
      " |      Return self&value.\n",
      " |  \n",
      " |  __contains__(...)\n",
      " |      x.__contains__(y) <==> y in x.\n",
      " |  \n",
      " |  __eq__(self, value, /)\n",
      " |      Return self==value.\n",
      " |  \n",
      " |  __ge__(self, value, /)\n",
      " |      Return self>=value.\n",
      " |  \n",
      " |  __getattribute__(self, name, /)\n",
      " |      Return getattr(self, name).\n",
      " |  \n",
      " |  __gt__(self, value, /)\n",
      " |      Return self>value.\n",
      " |  \n",
      " |  __iand__(self, value, /)\n",
      " |      Return self&=value.\n",
      " |  \n",
      " |  __init__(self, /, *args, **kwargs)\n",
      " |      Initialize self.  See help(type(self)) for accurate signature.\n",
      " |  \n",
      " |  __ior__(self, value, /)\n",
      " |      Return self|=value.\n",
      " |  \n",
      " |  __isub__(self, value, /)\n",
      " |      Return self-=value.\n",
      " |  \n",
      " |  __iter__(self, /)\n",
      " |      Implement iter(self).\n",
      " |  \n",
      " |  __ixor__(self, value, /)\n",
      " |      Return self^=value.\n",
      " |  \n",
      " |  __le__(self, value, /)\n",
      " |      Return self<=value.\n",
      " |  \n",
      " |  __len__(self, /)\n",
      " |      Return len(self).\n",
      " |  \n",
      " |  __lt__(self, value, /)\n",
      " |      Return self<value.\n",
      " |  \n",
      " |  __ne__(self, value, /)\n",
      " |      Return self!=value.\n",
      " |  \n",
      " |  __or__(self, value, /)\n",
      " |      Return self|value.\n",
      " |  \n",
      " |  __rand__(self, value, /)\n",
      " |      Return value&self.\n",
      " |  \n",
      " |  __reduce__(...)\n",
      " |      Return state information for pickling.\n",
      " |  \n",
      " |  __repr__(self, /)\n",
      " |      Return repr(self).\n",
      " |  \n",
      " |  __ror__(self, value, /)\n",
      " |      Return value|self.\n",
      " |  \n",
      " |  __rsub__(self, value, /)\n",
      " |      Return value-self.\n",
      " |  \n",
      " |  __rxor__(self, value, /)\n",
      " |      Return value^self.\n",
      " |  \n",
      " |  __sizeof__(...)\n",
      " |      S.__sizeof__() -> size of S in memory, in bytes\n",
      " |  \n",
      " |  __sub__(self, value, /)\n",
      " |      Return self-value.\n",
      " |  \n",
      " |  __xor__(self, value, /)\n",
      " |      Return self^value.\n",
      " |  \n",
      " |  add(...)\n",
      " |      Add an element to a set.\n",
      " |      \n",
      " |      This has no effect if the element is already present.\n",
      " |  \n",
      " |  clear(...)\n",
      " |      Remove all elements from this set.\n",
      " |  \n",
      " |  copy(...)\n",
      " |      Return a shallow copy of a set.\n",
      " |  \n",
      " |  difference(...)\n",
      " |      Return the difference of two or more sets as a new set.\n",
      " |      \n",
      " |      (i.e. all elements that are in this set but not the others.)\n",
      " |  \n",
      " |  difference_update(...)\n",
      " |      Remove all elements of another set from this set.\n",
      " |  \n",
      " |  discard(...)\n",
      " |      Remove an element from a set if it is a member.\n",
      " |      \n",
      " |      Unlike set.remove(), the discard() method does not raise\n",
      " |      an exception when an element is missing from the set.\n",
      " |  \n",
      " |  intersection(...)\n",
      " |      Return the intersection of two sets as a new set.\n",
      " |      \n",
      " |      (i.e. all elements that are in both sets.)\n",
      " |  \n",
      " |  intersection_update(...)\n",
      " |      Update a set with the intersection of itself and another.\n",
      " |  \n",
      " |  isdisjoint(...)\n",
      " |      Return True if two sets have a null intersection.\n",
      " |  \n",
      " |  issubset(...)\n",
      " |      Report whether another set contains this set.\n",
      " |  \n",
      " |  issuperset(...)\n",
      " |      Report whether this set contains another set.\n",
      " |  \n",
      " |  pop(...)\n",
      " |      Remove and return an arbitrary set element.\n",
      " |      Raises KeyError if the set is empty.\n",
      " |  \n",
      " |  remove(...)\n",
      " |      Remove an element from a set; it must be a member.\n",
      " |      \n",
      " |      If the element is not a member, raise a KeyError.\n",
      " |  \n",
      " |  symmetric_difference(...)\n",
      " |      Return the symmetric difference of two sets as a new set.\n",
      " |      \n",
      " |      (i.e. all elements that are in exactly one of the sets.)\n",
      " |  \n",
      " |  symmetric_difference_update(...)\n",
      " |      Update a set with the symmetric difference of itself and another.\n",
      " |  \n",
      " |  union(...)\n",
      " |      Return the union of sets as a new set.\n",
      " |      \n",
      " |      (i.e. all elements that are in either set.)\n",
      " |  \n",
      " |  update(...)\n",
      " |      Update a set with the union of itself and others.\n",
      " |  \n",
      " |  ----------------------------------------------------------------------\n",
      " |  Class methods defined here:\n",
      " |  \n",
      " |  __class_getitem__(...) from builtins.type\n",
      " |      See PEP 585\n",
      " |  \n",
      " |  ----------------------------------------------------------------------\n",
      " |  Static methods defined here:\n",
      " |  \n",
      " |  __new__(*args, **kwargs) from builtins.type\n",
      " |      Create and return a new object.  See help(type) for accurate signature.\n",
      " |  \n",
      " |  ----------------------------------------------------------------------\n",
      " |  Data and other attributes defined here:\n",
      " |  \n",
      " |  __hash__ = None\n",
      "\n"
     ]
    }
   ],
   "source": [
    "help(nums)"
   ]
  },
  {
   "cell_type": "code",
   "execution_count": 103,
   "id": "127a9949-5224-4306-b5ef-760b6aa46a4a",
   "metadata": {},
   "outputs": [],
   "source": [
    "new_nums = [random.randint(1, 1000) for _ in range(100)]"
   ]
  },
  {
   "cell_type": "code",
   "execution_count": 106,
   "id": "26173509-7b6e-402e-a516-24469d2666a8",
   "metadata": {},
   "outputs": [
    {
     "name": "stdout",
     "output_type": "stream",
     "text": [
      "[1, 4, 9, 16, 25, 36, 49, 64, 81, 100]\n"
     ]
    }
   ],
   "source": [
    "squares = [num * num for num in range(1, 11)]\n",
    "print(squares)"
   ]
  },
  {
   "cell_type": "code",
   "execution_count": 109,
   "id": "c2bf34e9-1b0b-4975-9777-2770905449c6",
   "metadata": {},
   "outputs": [
    {
     "data": {
      "text/plain": [
       "['Dave', 'Evgeni', 'Jordan', 'Jana']"
      ]
     },
     "execution_count": 109,
     "metadata": {},
     "output_type": "execute_result"
    }
   ],
   "source": [
    "names = 'Dave Evgeni Jordan Jana'.split()\n",
    "names"
   ]
  },
  {
   "cell_type": "code",
   "execution_count": 110,
   "id": "6e2c734c-4ee6-4a14-9b2b-32033eed0783",
   "metadata": {},
   "outputs": [
    {
     "data": {
      "text/plain": [
       "['DAVE', 'EVGENI', 'JORDAN', 'JANA']"
      ]
     },
     "execution_count": 110,
     "metadata": {},
     "output_type": "execute_result"
    }
   ],
   "source": [
    "upper_names = [name.upper() for name in names]\n",
    "upper_names"
   ]
  },
  {
   "cell_type": "code",
   "execution_count": 111,
   "id": "a3f59ea2-a9f0-4eef-9b4d-d02a19c9ffbd",
   "metadata": {},
   "outputs": [],
   "source": [
    "vowel_end_names = [name for name in names\n",
    "                           if name[-1] in 'aeiou']"
   ]
  },
  {
   "cell_type": "code",
   "execution_count": 112,
   "id": "6040f5f5-a2d7-4124-8e82-917c2055fd62",
   "metadata": {},
   "outputs": [
    {
     "data": {
      "text/plain": [
       "['Dave', 'Evgeni', 'Jana']"
      ]
     },
     "execution_count": 112,
     "metadata": {},
     "output_type": "execute_result"
    }
   ],
   "source": [
    "vowel_end_names"
   ]
  },
  {
   "cell_type": "code",
   "execution_count": 105,
   "id": "457256ae-60d5-49f4-be83-7ecd2a8b1fbc",
   "metadata": {},
   "outputs": [
    {
     "name": "stdout",
     "output_type": "stream",
     "text": [
      "[326, 486, 351, 405, 663, 471, 625, 986, 795, 418, 325, 127, 568, 927, 845, 773, 142, 834, 1000, 632, 231, 108, 621, 953, 132, 211, 299, 253, 924, 677, 285, 1, 993, 343, 754, 896, 245, 685, 595, 462, 559, 848, 639, 546, 369, 717, 528, 914, 960, 461, 73, 639, 508, 334, 720, 157, 506, 802, 736, 943, 28, 545, 256, 63, 331, 646, 269, 86, 966, 740, 460, 398, 50, 753, 906, 914, 831, 473, 820, 78, 642, 644, 718, 672, 470, 178, 996, 787, 543, 97, 847, 50, 115, 864, 280, 998, 663, 510, 313, 325]\n"
     ]
    }
   ],
   "source": [
    "print(new_nums)"
   ]
  },
  {
   "cell_type": "code",
   "execution_count": 113,
   "id": "16ea3fd9-1ca0-4b35-9d66-a7142ace3b97",
   "metadata": {},
   "outputs": [],
   "source": [
    "s = { 1, 2, 3, 4 }"
   ]
  },
  {
   "cell_type": "code",
   "execution_count": 114,
   "id": "ca307a75-83cf-4275-8f0d-40c816860435",
   "metadata": {},
   "outputs": [
    {
     "data": {
      "text/plain": [
       "{1, 2, 3, 4}"
      ]
     },
     "execution_count": 114,
     "metadata": {},
     "output_type": "execute_result"
    }
   ],
   "source": [
    "s"
   ]
  },
  {
   "cell_type": "code",
   "execution_count": 115,
   "id": "5b23b420-8989-4999-82d3-1e06641f87f0",
   "metadata": {},
   "outputs": [],
   "source": [
    "s.add('five')"
   ]
  },
  {
   "cell_type": "code",
   "execution_count": 116,
   "id": "0b41b12c-3a48-418d-878a-afaa0625096d",
   "metadata": {},
   "outputs": [
    {
     "data": {
      "text/plain": [
       "{1, 2, 3, 4, 'five'}"
      ]
     },
     "execution_count": 116,
     "metadata": {},
     "output_type": "execute_result"
    }
   ],
   "source": [
    "s"
   ]
  },
  {
   "cell_type": "code",
   "execution_count": 118,
   "id": "5f535bf6-3250-41ad-ae9c-70057d3ec7b8",
   "metadata": {},
   "outputs": [
    {
     "ename": "KeyError",
     "evalue": "'five'",
     "output_type": "error",
     "traceback": [
      "\u001b[0;31m---------------------------------------------------------------------------\u001b[0m",
      "\u001b[0;31mKeyError\u001b[0m                                  Traceback (most recent call last)",
      "Cell \u001b[0;32mIn[118], line 1\u001b[0m\n\u001b[0;32m----> 1\u001b[0m \u001b[43ms\u001b[49m\u001b[38;5;241;43m.\u001b[39;49m\u001b[43mremove\u001b[49m\u001b[43m(\u001b[49m\u001b[38;5;124;43m'\u001b[39;49m\u001b[38;5;124;43mfive\u001b[39;49m\u001b[38;5;124;43m'\u001b[39;49m\u001b[43m)\u001b[49m\n",
      "\u001b[0;31mKeyError\u001b[0m: 'five'"
     ]
    }
   ],
   "source": [
    "s.remove('five')"
   ]
  },
  {
   "cell_type": "code",
   "execution_count": 119,
   "id": "7d1b8f8f-541c-4867-b6ec-97cea5eb3cf7",
   "metadata": {},
   "outputs": [],
   "source": [
    "s.discard('five')"
   ]
  },
  {
   "cell_type": "code",
   "execution_count": 120,
   "id": "07dc16ec-9229-43f8-9a3c-1c09b116879e",
   "metadata": {},
   "outputs": [],
   "source": [
    "set().discard(1)"
   ]
  },
  {
   "cell_type": "code",
   "execution_count": 6,
   "id": "8b3468a2-d23e-44a9-b3e0-8afdb8c025af",
   "metadata": {},
   "outputs": [],
   "source": [
    "def f(x, y, z, *args):\n",
    "    \"\"\"x, y, z are required arguments.\n",
    "       *args allow us to have 0+ additional arguments that we pass as well\n",
    "       \"variable positional arguments\"\n",
    "    \"\"\"\n",
    "    print(x, y, z)\n",
    "    for arg in args:\n",
    "        print(arg)"
   ]
  },
  {
   "cell_type": "code",
   "execution_count": 7,
   "id": "308dd636-7254-4690-840f-c1af7a73db27",
   "metadata": {},
   "outputs": [
    {
     "name": "stdout",
     "output_type": "stream",
     "text": [
      "1 2 3\n"
     ]
    }
   ],
   "source": [
    "f(1, 2, 3)"
   ]
  },
  {
   "cell_type": "code",
   "execution_count": 8,
   "id": "9a322043-aab2-4d0e-931d-8117c2044972",
   "metadata": {},
   "outputs": [
    {
     "name": "stdout",
     "output_type": "stream",
     "text": [
      "1 2 3\n",
      "this\n",
      "that\n",
      "other\n"
     ]
    }
   ],
   "source": [
    "f(1, 2, 3, 'this', 'that', 'other')"
   ]
  },
  {
   "cell_type": "code",
   "execution_count": 12,
   "id": "b4d569d3-d0d6-4736-a07d-c4e30673e0cf",
   "metadata": {},
   "outputs": [
    {
     "name": "stdout",
     "output_type": "stream",
     "text": [
      "1\n",
      "1.2\n",
      "1.3\n",
      "[]\n",
      "{}\n",
      "set()\n",
      "()\n",
      "<built-in function print>\n",
      "<module 'math' from '/Library/Frameworks/Python.framework/Versions/3.13/lib/python3.13/lib-dynload/math.cpython-313-darwin.so'>\n"
     ]
    }
   ],
   "source": [
    "import math\n",
    "# print can accept ANY NUMBER OF ANY TYPE of arguments\n",
    "print(1, 1.2, '1.3', [], {}, set(), (), print, math, sep='\\n')"
   ]
  },
  {
   "cell_type": "code",
   "execution_count": 14,
   "id": "117233d9-de89-4c5c-92f2-6cbe39cf6efb",
   "metadata": {},
   "outputs": [
    {
     "data": {
      "text/plain": [
       "['In',\n",
       " 'Out',\n",
       " '_',\n",
       " '__',\n",
       " '___',\n",
       " '__builtin__',\n",
       " '__builtins__',\n",
       " '__doc__',\n",
       " '__loader__',\n",
       " '__name__',\n",
       " '__package__',\n",
       " '__session__',\n",
       " '__spec__',\n",
       " '_dh',\n",
       " '_i',\n",
       " '_i1',\n",
       " '_i10',\n",
       " '_i11',\n",
       " '_i12',\n",
       " '_i13',\n",
       " '_i14',\n",
       " '_i2',\n",
       " '_i3',\n",
       " '_i4',\n",
       " '_i5',\n",
       " '_i6',\n",
       " '_i7',\n",
       " '_i8',\n",
       " '_i9',\n",
       " '_ih',\n",
       " '_ii',\n",
       " '_iii',\n",
       " '_oh',\n",
       " 'exit',\n",
       " 'f',\n",
       " 'get_ipython',\n",
       " 'math',\n",
       " 'open',\n",
       " 'quit']"
      ]
     },
     "execution_count": 14,
     "metadata": {},
     "output_type": "execute_result"
    }
   ],
   "source": [
    "dir()"
   ]
  },
  {
   "cell_type": "code",
   "execution_count": 29,
   "id": "a81b03ff-e029-4b95-989f-f7ca7dbc6841",
   "metadata": {},
   "outputs": [],
   "source": [
    "def weird_func(x, y, *args, **kwargs):\n",
    "    \"\"\"x and y are required.\n",
    "       *args means we can pass 0+ positional arguments\n",
    "       **kwargs means we can pass 0+ keyword arguments\n",
    "    \"\"\"\n",
    "    print('required positional args:', x, y)\n",
    "    print('optional positional args:', args)\n",
    "    print('optional keyword args: ', kwargs)\n",
    "\n",
    "    if 'color' in kwargs:\n",
    "        print('color is', kwargs['color'])"
   ]
  },
  {
   "cell_type": "code",
   "execution_count": 19,
   "id": "ec82615f-1a96-484d-9bb1-c73f1a638f21",
   "metadata": {},
   "outputs": [
    {
     "ename": "TypeError",
     "evalue": "weird_func() missing 2 required positional arguments: 'x' and 'y'",
     "output_type": "error",
     "traceback": [
      "\u001b[0;31m---------------------------------------------------------------------------\u001b[0m",
      "\u001b[0;31mTypeError\u001b[0m                                 Traceback (most recent call last)",
      "Cell \u001b[0;32mIn[19], line 1\u001b[0m\n\u001b[0;32m----> 1\u001b[0m \u001b[43mweird_func\u001b[49m\u001b[43m(\u001b[49m\u001b[43m)\u001b[49m\n",
      "\u001b[0;31mTypeError\u001b[0m: weird_func() missing 2 required positional arguments: 'x' and 'y'"
     ]
    }
   ],
   "source": [
    "weird_func()"
   ]
  },
  {
   "cell_type": "code",
   "execution_count": 100,
   "id": "6edcc6ce-8d69-4b20-937a-49120ccfa16f",
   "metadata": {},
   "outputs": [
    {
     "ename": "SyntaxError",
     "evalue": "positional argument follows keyword argument (2974532532.py, line 1)",
     "output_type": "error",
     "traceback": [
      "\u001b[0;36m  Cell \u001b[0;32mIn[100], line 1\u001b[0;36m\u001b[0m\n\u001b[0;31m    weird_func(1, 2, 'big', 5, [1, 2], debug=True, color='red', country='USA', 5)\u001b[0m\n\u001b[0m                                                                                ^\u001b[0m\n\u001b[0;31mSyntaxError\u001b[0m\u001b[0;31m:\u001b[0m positional argument follows keyword argument\n"
     ]
    }
   ],
   "source": [
    "weird_func(1, 2, 'big', 5, [1, 2], debug=True, color='red', country='USA')"
   ]
  },
  {
   "cell_type": "code",
   "execution_count": 104,
   "id": "2590c7a6-2351-43f2-aac4-ccf699626797",
   "metadata": {
    "scrolled": true
   },
   "outputs": [
    {
     "ename": "SyntaxError",
     "evalue": "positional argument follows keyword argument (1307129922.py, line 1)",
     "output_type": "error",
     "traceback": [
      "\u001b[0;36m  Cell \u001b[0;32mIn[104], line 1\u001b[0;36m\u001b[0m\n\u001b[0;31m    weird_func(1, 2, 'big', 5, [1, 2], color='red', country='USA', debug=True, 4)\u001b[0m\n\u001b[0m                                                                                ^\u001b[0m\n\u001b[0;31mSyntaxError\u001b[0m\u001b[0;31m:\u001b[0m positional argument follows keyword argument\n"
     ]
    }
   ],
   "source": [
    "weird_func(1, 2, 'big', 5, [1, 2], color='red', country='USA', debug=True)"
   ]
  },
  {
   "cell_type": "code",
   "execution_count": 32,
   "id": "fa8e0487-682d-4ec1-a513-f4efbc0f85f4",
   "metadata": {},
   "outputs": [
    {
     "name": "stdout",
     "output_type": "stream",
     "text": [
      "required positional args: 1 2\n",
      "optional positional args: ('big', 5, [1, 2])\n",
      "optional keyword args:  {'first_name': 'Aarthy', 'country': 'USA', 'debug': True}\n"
     ]
    }
   ],
   "source": [
    "weird_func(1, 2, 'big', 5, [1, 2], first_name='Aarthy', country='USA', debug=True)"
   ]
  },
  {
   "cell_type": "code",
   "execution_count": 95,
   "id": "e2278103-746e-439b-8b61-e3bf8564848b",
   "metadata": {},
   "outputs": [],
   "source": [
    "def name_func(first, last, middle=None):\n",
    "    if middle: # what feature of Python is being demonstrated\n",
    "        print(1, first, middle, last)\n",
    "    else:\n",
    "        print(2, first, last)"
   ]
  },
  {
   "cell_type": "code",
   "execution_count": 35,
   "id": "43076158-6199-4ec8-a046-bbf2bc03aa27",
   "metadata": {},
   "outputs": [
    {
     "name": "stdout",
     "output_type": "stream",
     "text": [
      "Bruce Lee\n"
     ]
    }
   ],
   "source": [
    "name_func('Bruce', 'Lee')"
   ]
  },
  {
   "cell_type": "code",
   "execution_count": 99,
   "id": "f78cf85c-56d8-4cb4-9de6-fdbbbe0708a3",
   "metadata": {},
   "outputs": [
    {
     "name": "stdout",
     "output_type": "stream",
     "text": [
      "1 Venkata Hari Prasad\n"
     ]
    }
   ],
   "source": [
    "name_func('Venkata', 'Prasad', 'Hari')"
   ]
  },
  {
   "cell_type": "code",
   "execution_count": 107,
   "id": "c3ce4b3a-40b0-4db8-8b5e-98dc2999312e",
   "metadata": {},
   "outputs": [
    {
     "name": "stdout",
     "output_type": "stream",
     "text": [
      "1 Albert Sanford Einstein\n"
     ]
    }
   ],
   "source": [
    "# meaning 2 of \"keyword arguments\"\n",
    "# we can (in most cases) pass arguments in any order we wish, as long as we name them\n",
    "name_func('Albert', last='Einstein', middle='Sanford')"
   ]
  },
  {
   "cell_type": "code",
   "execution_count": 109,
   "id": "e6de6101-baad-4ed4-9791-b0f8f09dd4bc",
   "metadata": {},
   "outputs": [],
   "source": [
    "def f(*args, **kwargs):\n",
    "    print(args)\n",
    "    print(kwargs)"
   ]
  },
  {
   "cell_type": "code",
   "execution_count": 114,
   "id": "ebcd6722-2f1e-4a2d-8b14-b2ca3c0c0742",
   "metadata": {},
   "outputs": [
    {
     "name": "stdout",
     "output_type": "stream",
     "text": [
      "()\n",
      "{'debug': True, 'color': 'pink'}\n"
     ]
    }
   ],
   "source": [
    "f(debug=True, color='pink')"
   ]
  },
  {
   "cell_type": "code",
   "execution_count": 52,
   "id": "d7946e93-de82-4a41-b8c5-5d30aeb25641",
   "metadata": {},
   "outputs": [],
   "source": [
    "number = -1.2"
   ]
  },
  {
   "cell_type": "code",
   "execution_count": 53,
   "id": "889ffa29-6a50-49a9-8041-4cc1df78c4d3",
   "metadata": {},
   "outputs": [
    {
     "name": "stdout",
     "output_type": "stream",
     "text": [
      "yep\n"
     ]
    }
   ],
   "source": [
    "if number: # is this thing \"considered\" True\n",
    "    print('yep')"
   ]
  },
  {
   "cell_type": "code",
   "execution_count": 51,
   "id": "ba8e8e77-bbc2-4ede-8d2b-62a4366bd852",
   "metadata": {},
   "outputs": [
    {
     "data": {
      "text/plain": [
       "False"
      ]
     },
     "execution_count": 51,
     "metadata": {},
     "output_type": "execute_result"
    }
   ],
   "source": [
    "number == True"
   ]
  },
  {
   "cell_type": "code",
   "execution_count": 57,
   "id": "c948443c-d4b8-4549-84a5-85722128b228",
   "metadata": {},
   "outputs": [],
   "source": [
    "name = 'Taylor Swift'"
   ]
  },
  {
   "cell_type": "code",
   "execution_count": 59,
   "id": "e432344b-2561-4fa3-ba93-ac9102ed2301",
   "metadata": {},
   "outputs": [
    {
     "name": "stdout",
     "output_type": "stream",
     "text": [
      "Hi Taylor Swift\n"
     ]
    }
   ],
   "source": [
    "if name: # if name is a non-empty container\n",
    "    print('Hi', name)"
   ]
  },
  {
   "cell_type": "code",
   "execution_count": 62,
   "id": "1b57e1b6-88db-4708-8f07-da0662b018b6",
   "metadata": {},
   "outputs": [],
   "source": [
    "names = 'Dave Evgeni Ram Yadi'.split()"
   ]
  },
  {
   "cell_type": "code",
   "execution_count": 68,
   "id": "4d15cd6f-f4c0-42bc-aef1-572922735138",
   "metadata": {},
   "outputs": [
    {
     "name": "stdout",
     "output_type": "stream",
     "text": [
      "Here are the names: Dave, Evgeni, Ram, Yadi\n"
     ]
    }
   ],
   "source": [
    "if names:\n",
    "    print('Here are the names:', end=' ')\n",
    "    print(*names, sep=', ') # * = \"unpack\" operator"
   ]
  },
  {
   "cell_type": "code",
   "execution_count": 70,
   "id": "31108665-9b2a-427f-bd80-5c9c91035eab",
   "metadata": {},
   "outputs": [
    {
     "name": "stdout",
     "output_type": "stream",
     "text": [
      "Dave, Evgeni, Ram, Yadi\n"
     ]
    }
   ],
   "source": [
    "print(names[0], names[1], names[2], names[3], sep=', ')"
   ]
  },
  {
   "cell_type": "code",
   "execution_count": 71,
   "id": "bf40ada7-df71-4540-8e2e-1caa7bf48ddd",
   "metadata": {},
   "outputs": [
    {
     "data": {
      "text/plain": [
       "[0, 1, 2, 3, 4, 5, 6, 7, 8, 9]"
      ]
     },
     "execution_count": 71,
     "metadata": {},
     "output_type": "execute_result"
    }
   ],
   "source": [
    "nums = list(range(10))\n",
    "nums"
   ]
  },
  {
   "cell_type": "code",
   "execution_count": 76,
   "id": "54334fc5-35dd-4630-b6a8-357da3b4c53e",
   "metadata": {},
   "outputs": [],
   "source": [
    "first, second, *rest, penultimate, ultimate = nums"
   ]
  },
  {
   "cell_type": "code",
   "execution_count": 77,
   "id": "8ed3cd7c-6a7a-486e-935a-ca2af8a87334",
   "metadata": {},
   "outputs": [
    {
     "data": {
      "text/plain": [
       "0"
      ]
     },
     "execution_count": 77,
     "metadata": {},
     "output_type": "execute_result"
    }
   ],
   "source": [
    "first"
   ]
  },
  {
   "cell_type": "code",
   "execution_count": 78,
   "id": "85436640-0054-4a4d-b769-4f240e94092e",
   "metadata": {},
   "outputs": [
    {
     "data": {
      "text/plain": [
       "1"
      ]
     },
     "execution_count": 78,
     "metadata": {},
     "output_type": "execute_result"
    }
   ],
   "source": [
    "second"
   ]
  },
  {
   "cell_type": "code",
   "execution_count": 79,
   "id": "dafb50c7-ebb4-46c2-a2a6-552ed99765fa",
   "metadata": {},
   "outputs": [
    {
     "data": {
      "text/plain": [
       "8"
      ]
     },
     "execution_count": 79,
     "metadata": {},
     "output_type": "execute_result"
    }
   ],
   "source": [
    "penultimate"
   ]
  },
  {
   "cell_type": "code",
   "execution_count": 80,
   "id": "9e68acbe-98c1-47dd-9da3-ee67b0a0dc07",
   "metadata": {},
   "outputs": [
    {
     "data": {
      "text/plain": [
       "9"
      ]
     },
     "execution_count": 80,
     "metadata": {},
     "output_type": "execute_result"
    }
   ],
   "source": [
    "ultimate"
   ]
  },
  {
   "cell_type": "code",
   "execution_count": 81,
   "id": "23668d04-f909-4035-a318-a0e65fda4937",
   "metadata": {},
   "outputs": [
    {
     "data": {
      "text/plain": [
       "[2, 3, 4, 5, 6, 7]"
      ]
     },
     "execution_count": 81,
     "metadata": {},
     "output_type": "execute_result"
    }
   ],
   "source": [
    "rest"
   ]
  },
  {
   "cell_type": "code",
   "execution_count": 84,
   "id": "f9ccde54-a124-44c6-bfb1-9322dff03780",
   "metadata": {},
   "outputs": [
    {
     "data": {
      "text/plain": [
       "['a', 'b', 'c']"
      ]
     },
     "execution_count": 84,
     "metadata": {},
     "output_type": "execute_result"
    }
   ],
   "source": [
    "letters = 'a b c'.split() # makes a list of 'a', 'b', 'c'\n",
    "letters"
   ]
  },
  {
   "cell_type": "code",
   "execution_count": 85,
   "id": "76621e38-b6f8-4cde-ba65-268b0a466ad2",
   "metadata": {},
   "outputs": [
    {
     "name": "stdout",
     "output_type": "stream",
     "text": [
      "['a', 'b', 'c']\n"
     ]
    }
   ],
   "source": [
    "print(letters)"
   ]
  },
  {
   "cell_type": "code",
   "execution_count": 87,
   "id": "293e518b-6df1-42b5-9ce3-a4b65bbf8fe7",
   "metadata": {},
   "outputs": [
    {
     "name": "stdout",
     "output_type": "stream",
     "text": [
      "a, b, c\n"
     ]
    }
   ],
   "source": [
    "print(letters[0], letters[1], letters[2], sep=', ')"
   ]
  },
  {
   "cell_type": "code",
   "execution_count": 89,
   "id": "7714882f-703a-4bd2-8c44-1cd2ab93c53d",
   "metadata": {},
   "outputs": [
    {
     "name": "stdout",
     "output_type": "stream",
     "text": [
      "a, b, c\n"
     ]
    }
   ],
   "source": [
    "print(*letters, sep=', ') # we are printing how many strings? 3"
   ]
  },
  {
   "cell_type": "code",
   "execution_count": 90,
   "id": "a981a773-f58b-41da-9cb1-7b7ba8c8a400",
   "metadata": {},
   "outputs": [
    {
     "data": {
      "text/plain": [
       "'a, b, c'"
      ]
     },
     "execution_count": 90,
     "metadata": {},
     "output_type": "execute_result"
    }
   ],
   "source": [
    "', '.join(letters) # concatenate all of the strings in letters with a ', ' between each pair"
   ]
  },
  {
   "cell_type": "code",
   "execution_count": 92,
   "id": "c3f4a695-6120-40ce-8599-a3e291494c02",
   "metadata": {},
   "outputs": [
    {
     "name": "stdout",
     "output_type": "stream",
     "text": [
      "a b c\n"
     ]
    }
   ],
   "source": [
    "print(' '.join(letters)) # we are printing ONE string"
   ]
  },
  {
   "cell_type": "code",
   "execution_count": 119,
   "id": "ff342873-fa66-40ab-a5ab-f9164ce54f41",
   "metadata": {},
   "outputs": [],
   "source": [
    "words = 'apple pear banana fig'.split()"
   ]
  },
  {
   "cell_type": "code",
   "execution_count": 120,
   "id": "2abd0644-81ff-40c2-bd16-2d92a0b2ed04",
   "metadata": {},
   "outputs": [
    {
     "data": {
      "text/plain": [
       "['pear', 'fig', 'banana', 'apple']"
      ]
     },
     "execution_count": 120,
     "metadata": {},
     "output_type": "execute_result"
    }
   ],
   "source": [
    "sorted(words, reverse=True)"
   ]
  },
  {
   "cell_type": "code",
   "execution_count": 122,
   "id": "f2022e5d-794d-4229-974c-561a8d27b405",
   "metadata": {},
   "outputs": [
    {
     "data": {
      "text/plain": [
       "['banana', 'apple', 'pear', 'fig']"
      ]
     },
     "execution_count": 122,
     "metadata": {},
     "output_type": "execute_result"
    }
   ],
   "source": [
    "sorted(words, key=len, reverse=True)"
   ]
  },
  {
   "cell_type": "code",
   "execution_count": 123,
   "id": "00eb6422-2769-4606-9a68-4c4668052d1a",
   "metadata": {},
   "outputs": [
    {
     "ename": "SyntaxError",
     "evalue": "invalid syntax (2984684956.py, line 1)",
     "output_type": "error",
     "traceback": [
      "\u001b[0;36m  Cell \u001b[0;32mIn[123], line 1\u001b[0;36m\u001b[0m\n\u001b[0;31m    x := 1\u001b[0m\n\u001b[0m      ^\u001b[0m\n\u001b[0;31mSyntaxError\u001b[0m\u001b[0;31m:\u001b[0m invalid syntax\n"
     ]
    }
   ],
   "source": [
    "x := 1"
   ]
  },
  {
   "cell_type": "code",
   "execution_count": 125,
   "id": "315229e2-cf2f-480f-8808-634e2903f0d7",
   "metadata": {},
   "outputs": [],
   "source": [
    "x = 1"
   ]
  },
  {
   "cell_type": "code",
   "execution_count": 128,
   "id": "9f45d480-5fd8-47ce-bb9e-0fe9607e4d63",
   "metadata": {},
   "outputs": [
    {
     "data": {
      "text/plain": [
       "['apple']"
      ]
     },
     "execution_count": 128,
     "metadata": {},
     "output_type": "execute_result"
    }
   ],
   "source": [
    "'apple'.split()"
   ]
  },
  {
   "cell_type": "code",
   "execution_count": 129,
   "id": "e09e810c-85b0-4bbb-851a-5fea35eb155e",
   "metadata": {},
   "outputs": [],
   "source": [
    "fruit = 'fig'"
   ]
  },
  {
   "cell_type": "code",
   "execution_count": 130,
   "id": "2e26796c-ccd6-4c83-acb2-ac0e057eb4f4",
   "metadata": {},
   "outputs": [
    {
     "data": {
      "text/plain": [
       "'FIG'"
      ]
     },
     "execution_count": 130,
     "metadata": {},
     "output_type": "execute_result"
    }
   ],
   "source": [
    "fruit.upper()"
   ]
  },
  {
   "cell_type": "code",
   "execution_count": 132,
   "id": "6558021b-cc55-45ab-8472-cd02851ab497",
   "metadata": {},
   "outputs": [],
   "source": [
    "fruit = fruit.upper()"
   ]
  },
  {
   "cell_type": "code",
   "execution_count": 133,
   "id": "d71310f3-ba36-42df-ae7e-7cae08671258",
   "metadata": {},
   "outputs": [
    {
     "data": {
      "text/plain": [
       "'FIG'"
      ]
     },
     "execution_count": 133,
     "metadata": {},
     "output_type": "execute_result"
    }
   ],
   "source": [
    "fruit"
   ]
  },
  {
   "cell_type": "code",
   "execution_count": 134,
   "id": "30e16d9b-4b9e-4be6-8ec8-09eca695a8be",
   "metadata": {},
   "outputs": [],
   "source": [
    "fruits = 'apple fig'.split()"
   ]
  },
  {
   "cell_type": "code",
   "execution_count": 135,
   "id": "6e677782-b986-4e6e-93d4-6fee684b3144",
   "metadata": {},
   "outputs": [
    {
     "data": {
      "text/plain": [
       "['apple', 'fig']"
      ]
     },
     "execution_count": 135,
     "metadata": {},
     "output_type": "execute_result"
    }
   ],
   "source": [
    "fruits"
   ]
  },
  {
   "cell_type": "code",
   "execution_count": 136,
   "id": "6abcd318-3839-4024-a0c1-31299178a980",
   "metadata": {},
   "outputs": [
    {
     "ename": "AttributeError",
     "evalue": "'list' object has no attribute 'upper'",
     "output_type": "error",
     "traceback": [
      "\u001b[0;31m---------------------------------------------------------------------------\u001b[0m",
      "\u001b[0;31mAttributeError\u001b[0m                            Traceback (most recent call last)",
      "Cell \u001b[0;32mIn[136], line 1\u001b[0m\n\u001b[0;32m----> 1\u001b[0m \u001b[43mfruits\u001b[49m\u001b[38;5;241;43m.\u001b[39;49m\u001b[43mupper\u001b[49m()\n",
      "\u001b[0;31mAttributeError\u001b[0m: 'list' object has no attribute 'upper'"
     ]
    }
   ],
   "source": [
    "fruits.upper()"
   ]
  },
  {
   "cell_type": "code",
   "execution_count": 138,
   "id": "dbbb07d1-8179-45db-a9af-57ef6c9934cf",
   "metadata": {},
   "outputs": [],
   "source": [
    "fruits.insert(1, 'pear') # mutator method"
   ]
  },
  {
   "cell_type": "code",
   "execution_count": 139,
   "id": "e4198347-468c-47f2-a5ae-02325925f7dc",
   "metadata": {
    "scrolled": true
   },
   "outputs": [
    {
     "data": {
      "text/plain": [
       "['apple', 'pear', 'fig']"
      ]
     },
     "execution_count": 139,
     "metadata": {},
     "output_type": "execute_result"
    }
   ],
   "source": [
    "fruits"
   ]
  },
  {
   "cell_type": "code",
   "execution_count": 140,
   "id": "bb70d8fe-03e1-4cfa-90ca-40fecbe944a9",
   "metadata": {
    "collapsed": true,
    "jupyter": {
     "outputs_hidden": true
    }
   },
   "outputs": [
    {
     "name": "stdout",
     "output_type": "stream",
     "text": [
      "Help on built-in function count:\n",
      "\n",
      "count(value, /) method of builtins.list instance\n",
      "    Return number of occurrences of value.\n",
      "\n"
     ]
    }
   ],
   "source": [
    "help(fruits.count)"
   ]
  },
  {
   "cell_type": "code",
   "execution_count": 141,
   "id": "e67cfa29-4482-4dd2-9e26-c85629cf1038",
   "metadata": {},
   "outputs": [
    {
     "data": {
      "text/plain": [
       "1"
      ]
     },
     "execution_count": 141,
     "metadata": {},
     "output_type": "execute_result"
    }
   ],
   "source": [
    "fruits.count('fig') # inspector method"
   ]
  },
  {
   "cell_type": "code",
   "execution_count": 142,
   "id": "2e7e3992-83f4-4cbc-8a3e-64b3af8f721e",
   "metadata": {},
   "outputs": [
    {
     "name": "stdout",
     "output_type": "stream",
     "text": [
      "Help on class list in module builtins:\n",
      "\n",
      "class list(object)\n",
      " |  list(iterable=(), /)\n",
      " |\n",
      " |  Built-in mutable sequence.\n",
      " |\n",
      " |  If no argument is given, the constructor creates a new empty list.\n",
      " |  The argument must be an iterable if specified.\n",
      " |\n",
      " |  Methods defined here:\n",
      " |\n",
      " |  __add__(self, value, /)\n",
      " |      Return self+value.\n",
      " |\n",
      " |  __contains__(self, key, /)\n",
      " |      Return bool(key in self).\n",
      " |\n",
      " |  __delitem__(self, key, /)\n",
      " |      Delete self[key].\n",
      " |\n",
      " |  __eq__(self, value, /)\n",
      " |      Return self==value.\n",
      " |\n",
      " |  __ge__(self, value, /)\n",
      " |      Return self>=value.\n",
      " |\n",
      " |  __getattribute__(self, name, /)\n",
      " |      Return getattr(self, name).\n",
      " |\n",
      " |  __getitem__(self, index, /)\n",
      " |      Return self[index].\n",
      " |\n",
      " |  __gt__(self, value, /)\n",
      " |      Return self>value.\n",
      " |\n",
      " |  __iadd__(self, value, /)\n",
      " |      Implement self+=value.\n",
      " |\n",
      " |  __imul__(self, value, /)\n",
      " |      Implement self*=value.\n",
      " |\n",
      " |  __init__(self, /, *args, **kwargs)\n",
      " |      Initialize self.  See help(type(self)) for accurate signature.\n",
      " |\n",
      " |  __iter__(self, /)\n",
      " |      Implement iter(self).\n",
      " |\n",
      " |  __le__(self, value, /)\n",
      " |      Return self<=value.\n",
      " |\n",
      " |  __len__(self, /)\n",
      " |      Return len(self).\n",
      " |\n",
      " |  __lt__(self, value, /)\n",
      " |      Return self<value.\n",
      " |\n",
      " |  __mul__(self, value, /)\n",
      " |      Return self*value.\n",
      " |\n",
      " |  __ne__(self, value, /)\n",
      " |      Return self!=value.\n",
      " |\n",
      " |  __repr__(self, /)\n",
      " |      Return repr(self).\n",
      " |\n",
      " |  __reversed__(self, /)\n",
      " |      Return a reverse iterator over the list.\n",
      " |\n",
      " |  __rmul__(self, value, /)\n",
      " |      Return value*self.\n",
      " |\n",
      " |  __setitem__(self, key, value, /)\n",
      " |      Set self[key] to value.\n",
      " |\n",
      " |  __sizeof__(self, /)\n",
      " |      Return the size of the list in memory, in bytes.\n",
      " |\n",
      " |  append(self, object, /)\n",
      " |      Append object to the end of the list.\n",
      " |\n",
      " |  clear(self, /)\n",
      " |      Remove all items from list.\n",
      " |\n",
      " |  copy(self, /)\n",
      " |      Return a shallow copy of the list.\n",
      " |\n",
      " |  count(self, value, /)\n",
      " |      Return number of occurrences of value.\n",
      " |\n",
      " |  extend(self, iterable, /)\n",
      " |      Extend list by appending elements from the iterable.\n",
      " |\n",
      " |  index(self, value, start=0, stop=9223372036854775807, /)\n",
      " |      Return first index of value.\n",
      " |\n",
      " |      Raises ValueError if the value is not present.\n",
      " |\n",
      " |  insert(self, index, object, /)\n",
      " |      Insert object before index.\n",
      " |\n",
      " |  pop(self, index=-1, /)\n",
      " |      Remove and return item at index (default last).\n",
      " |\n",
      " |      Raises IndexError if list is empty or index is out of range.\n",
      " |\n",
      " |  remove(self, value, /)\n",
      " |      Remove first occurrence of value.\n",
      " |\n",
      " |      Raises ValueError if the value is not present.\n",
      " |\n",
      " |  reverse(self, /)\n",
      " |      Reverse *IN PLACE*.\n",
      " |\n",
      " |  sort(self, /, *, key=None, reverse=False)\n",
      " |      Sort the list in ascending order and return None.\n",
      " |\n",
      " |      The sort is in-place (i.e. the list itself is modified) and stable (i.e. the\n",
      " |      order of two equal elements is maintained).\n",
      " |\n",
      " |      If a key function is given, apply it once to each list item and sort them,\n",
      " |      ascending or descending, according to their function values.\n",
      " |\n",
      " |      The reverse flag can be set to sort in descending order.\n",
      " |\n",
      " |  ----------------------------------------------------------------------\n",
      " |  Class methods defined here:\n",
      " |\n",
      " |  __class_getitem__(object, /)\n",
      " |      See PEP 585\n",
      " |\n",
      " |  ----------------------------------------------------------------------\n",
      " |  Static methods defined here:\n",
      " |\n",
      " |  __new__(*args, **kwargs)\n",
      " |      Create and return a new object.  See help(type) for accurate signature.\n",
      " |\n",
      " |  ----------------------------------------------------------------------\n",
      " |  Data and other attributes defined here:\n",
      " |\n",
      " |  __hash__ = None\n",
      "\n"
     ]
    }
   ],
   "source": [
    "help(list)"
   ]
  },
  {
   "cell_type": "code",
   "execution_count": 143,
   "id": "e4e9613f-f294-47c0-bbe5-889a62350774",
   "metadata": {},
   "outputs": [],
   "source": [
    "from bank import BankAccount"
   ]
  },
  {
   "cell_type": "code",
   "execution_count": 144,
   "id": "070692e7-b718-4140-a340-18be8bb45b96",
   "metadata": {},
   "outputs": [
    {
     "ename": "TypeError",
     "evalue": "BankAccount.__init__() takes 3 positional arguments but 4 were given",
     "output_type": "error",
     "traceback": [
      "\u001b[0;31m---------------------------------------------------------------------------\u001b[0m",
      "\u001b[0;31mTypeError\u001b[0m                                 Traceback (most recent call last)",
      "Cell \u001b[0;32mIn[144], line 1\u001b[0m\n\u001b[0;32m----> 1\u001b[0m ba \u001b[38;5;241m=\u001b[39m \u001b[43mBankAccount\u001b[49m\u001b[43m(\u001b[49m\u001b[38;5;124;43m'\u001b[39;49m\u001b[38;5;124;43mself\u001b[39;49m\u001b[38;5;124;43m'\u001b[39;49m\u001b[43m,\u001b[49m\u001b[43m \u001b[49m\u001b[38;5;124;43m'\u001b[39;49m\u001b[38;5;124;43mBruce Lee\u001b[39;49m\u001b[38;5;124;43m'\u001b[39;49m\u001b[43m,\u001b[49m\u001b[43m \u001b[49m\u001b[38;5;241;43m150\u001b[39;49m\u001b[43m)\u001b[49m\n",
      "\u001b[0;31mTypeError\u001b[0m: BankAccount.__init__() takes 3 positional arguments but 4 were given"
     ]
    }
   ],
   "source": [
    "ba = BankAccount('self', 'Bruce Lee', 150)"
   ]
  },
  {
   "cell_type": "code",
   "execution_count": 145,
   "id": "898a05f2-a55a-4e29-abdb-7158565fc7d0",
   "metadata": {},
   "outputs": [
    {
     "ename": "TypeError",
     "evalue": "BankAccount.__init__() missing 1 required positional argument: 'initial_balance'",
     "output_type": "error",
     "traceback": [
      "\u001b[0;31m---------------------------------------------------------------------------\u001b[0m",
      "\u001b[0;31mTypeError\u001b[0m                                 Traceback (most recent call last)",
      "Cell \u001b[0;32mIn[145], line 1\u001b[0m\n\u001b[0;32m----> 1\u001b[0m ba \u001b[38;5;241m=\u001b[39m \u001b[43mBankAccount\u001b[49m\u001b[43m(\u001b[49m\u001b[38;5;241;43m150\u001b[39;49m\u001b[43m)\u001b[49m\n",
      "\u001b[0;31mTypeError\u001b[0m: BankAccount.__init__() missing 1 required positional argument: 'initial_balance'"
     ]
    }
   ],
   "source": [
    "ba = BankAccount(150)"
   ]
  },
  {
   "cell_type": "code",
   "execution_count": null,
   "id": "05986058-4c05-4910-a6a2-f6e73e75669e",
   "metadata": {},
   "outputs": [],
   "source": []
  }
 ],
 "metadata": {
  "kernelspec": {
   "display_name": "Python 3 (ipykernel)",
   "language": "python",
   "name": "python3"
  },
  "language_info": {
   "codemirror_mode": {
    "name": "ipython",
    "version": 3
   },
   "file_extension": ".py",
   "mimetype": "text/x-python",
   "name": "python",
   "nbconvert_exporter": "python",
   "pygments_lexer": "ipython3",
   "version": "3.13.1"
  }
 },
 "nbformat": 4,
 "nbformat_minor": 5
}
