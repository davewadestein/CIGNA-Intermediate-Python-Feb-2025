{
 "cells": [
  {
   "cell_type": "markdown",
   "id": "84a96ca5-b731-4361-8d8d-d160610961bb",
   "metadata": {},
   "source": [
    "# Important Python concepts\n",
    "* dynamically typed / loosely typed\n",
    "  * don't need to declare type of our variables\n",
    "  * we can overwrite our variables with other data types at will\n",
    "* Python is \"duck typed\"\n",
    "  * if it walks like a duck, and quacks like a duck, I'll call it a duck\n",
    "  * it's possible and common for functions to accept arguments of many different data types\n",
    "    * what those functions expect is a behavior/attribute of the arguments as opposed to a specific type\n",
    "* scalars vs. containers\n",
    "  * scalar: an object which contains _a single value_ (e.g., int, float, bool)\n",
    "  * container: an object whch contains 0+ other objects (e.g., list, tuple, dict, set, frozenset)\n",
    "* mutable vs. immutable objects\n",
    "  * mutable: changeable (e.g., dict, list, set)\n",
    "  * immutable: not changeable (e.g., str, tuple)\n",
    "* the built-in functions (e.g., len(), int(), sorted(), ...) DO NOT change the obects that are passed to them\n",
    "  * if you want to change an object in Python, you must use call/apply/invoke a method to/on that object\n",
    "    * not all methods change the objects they are called/applied/invoked on/to\n",
    "  * a method is a type-specific function (e.g., string methods, list methods) and it's also called with a different notation... OBJECT.method(arguments), e.g., __`'hello'.upper()`__\n",
    "* Python practices \"truthiness\":\n",
    "  * 0 and 0.0 are considered False in a Boolean context; non-zero values act like True in a Boolean context\n",
    "  * empty containers are considered False \" \" \" \"; non-empty containers are considered True\n",
    "  * None is considered False in a Boolean context\n",
    "* exception handler primer:\n",
    "  * limit the size of the try/except to the code that can fail\n",
    "  * only catch/except the thing you expect; a \"catch-all\" exception can be used for testing/understanding, but if you leave it in there, you run the risk of hiding a bug\n",
    "* Python classes\n",
    "   * \\_\\_init\\_\\_ called automatically when you create an instance of the class (\"instantiation\")\n",
    "   * self is a reference to the object that we are working with, BUT WE DON'T PASS IT, Python does it for us\n",
    "     * in order to access the object (and its fields/attributes) we have to preface those fields with self.\n",
    "* every \"thing\" in Python is an object that lives in memory\n",
    "  * ...and we can inspect it and see what's inside it (e.g., with the __`dir()`__ function)"
   ]
  },
  {
   "cell_type": "markdown",
   "id": "4e67f2c3-8d87-44fe-9fbb-968c59e2b51f",
   "metadata": {},
   "source": [
    "## Named Tuples\n",
    "* problem w/built-in tuples is there are no field names\n",
    "  * therefore, the only way to get at the fields is to iterate thru them or use indexing\n",
    "* namedtuples add field names so that we can access fields independent of indexing\n",
    "* from the collections module\n",
    "* __`namedtuple()`__ is a _class factory_, i.e., meaning we created a brand new every time we call it\n",
    "  "
   ]
  },
  {
   "cell_type": "markdown",
   "id": "f4eea275-3309-4c5b-975e-e12852fb0124",
   "metadata": {},
   "source": [
    "# Pythonic\n",
    "* best practices\n",
    "* idioms that Python programmers expect to see\n",
    "* e.g.,\n",
    "   * __`for _ in range(n):`__ means \"do something n times\"\n",
    "   * if an object is difficult to work with, consider changing its type\n",
    "     * e.g., __`for digit in str(someint): print(digit)`__\n",
    "* when importing modules, prefer __`import module`__ outside a function and __`from module import thing`__ inside a function"
   ]
  },
  {
   "cell_type": "markdown",
   "id": "523f7f94-63be-4a12-9d0d-d6890f86ecc2",
   "metadata": {},
   "source": [
    "# Important programming thoughts\n",
    "* you read code 10x more often than your write code\n",
    "* DWS's two \"patented\" ways to get better at coding:\n",
    "  1. when you have a working solution, try to write it another way\n",
    "  1. when you have a working solution, add more features\n",
    "* DRY = Don't Repeat Yourself\n",
    "* DWS: \"Efficiency doesn't matter until it matters, and it rarely matters.\""
   ]
  },
  {
   "cell_type": "code",
   "execution_count": 2,
   "id": "a704014b-cafb-4ffc-9ed7-60ead3a166bd",
   "metadata": {},
   "outputs": [],
   "source": [
    "# type hinting\n",
    "number: int = 1 # adding a \"type hint\" to indicate that I want this var to be int"
   ]
  },
  {
   "cell_type": "code",
   "execution_count": 3,
   "id": "655052e2-899c-42f6-8ad9-261f89ea747d",
   "metadata": {},
   "outputs": [],
   "source": [
    "number = 1.5"
   ]
  },
  {
   "cell_type": "code",
   "execution_count": 4,
   "id": "e6e514ad-379d-418d-9eeb-654ac3f606fb",
   "metadata": {},
   "outputs": [],
   "source": [
    "number = 'hi'"
   ]
  },
  {
   "cell_type": "code",
   "execution_count": 5,
   "id": "cb723fbe-1275-4706-9607-0a5e168e1c7c",
   "metadata": {},
   "outputs": [],
   "source": [
    "import math"
   ]
  },
  {
   "cell_type": "code",
   "execution_count": 6,
   "id": "f5c02883-4eed-441d-ae41-047beae945a7",
   "metadata": {
    "scrolled": true
   },
   "outputs": [
    {
     "data": {
      "text/plain": [
       "['__doc__',\n",
       " '__file__',\n",
       " '__loader__',\n",
       " '__name__',\n",
       " '__package__',\n",
       " '__spec__',\n",
       " 'acos',\n",
       " 'acosh',\n",
       " 'asin',\n",
       " 'asinh',\n",
       " 'atan',\n",
       " 'atan2',\n",
       " 'atanh',\n",
       " 'cbrt',\n",
       " 'ceil',\n",
       " 'comb',\n",
       " 'copysign',\n",
       " 'cos',\n",
       " 'cosh',\n",
       " 'degrees',\n",
       " 'dist',\n",
       " 'e',\n",
       " 'erf',\n",
       " 'erfc',\n",
       " 'exp',\n",
       " 'exp2',\n",
       " 'expm1',\n",
       " 'fabs',\n",
       " 'factorial',\n",
       " 'floor',\n",
       " 'fmod',\n",
       " 'frexp',\n",
       " 'fsum',\n",
       " 'gamma',\n",
       " 'gcd',\n",
       " 'hypot',\n",
       " 'inf',\n",
       " 'isclose',\n",
       " 'isfinite',\n",
       " 'isinf',\n",
       " 'isnan',\n",
       " 'isqrt',\n",
       " 'lcm',\n",
       " 'ldexp',\n",
       " 'lgamma',\n",
       " 'log',\n",
       " 'log10',\n",
       " 'log1p',\n",
       " 'log2',\n",
       " 'modf',\n",
       " 'nan',\n",
       " 'nextafter',\n",
       " 'perm',\n",
       " 'pi',\n",
       " 'pow',\n",
       " 'prod',\n",
       " 'radians',\n",
       " 'remainder',\n",
       " 'sin',\n",
       " 'sinh',\n",
       " 'sqrt',\n",
       " 'tan',\n",
       " 'tanh',\n",
       " 'tau',\n",
       " 'trunc',\n",
       " 'ulp']"
      ]
     },
     "execution_count": 6,
     "metadata": {},
     "output_type": "execute_result"
    }
   ],
   "source": [
    "dir(math)"
   ]
  },
  {
   "cell_type": "code",
   "execution_count": 7,
   "id": "ed9cd0b8-c202-4efe-a29c-80869c220ab4",
   "metadata": {},
   "outputs": [
    {
     "name": "stdout",
     "output_type": "stream",
     "text": [
      "Help on module math:\n",
      "\n",
      "NAME\n",
      "    math\n",
      "\n",
      "MODULE REFERENCE\n",
      "    https://docs.python.org/3.11/library/math.html\n",
      "    \n",
      "    The following documentation is automatically generated from the Python\n",
      "    source files.  It may be incomplete, incorrect or include features that\n",
      "    are considered implementation detail and may vary between Python\n",
      "    implementations.  When in doubt, consult the module reference at the\n",
      "    location listed above.\n",
      "\n",
      "DESCRIPTION\n",
      "    This module provides access to the mathematical functions\n",
      "    defined by the C standard.\n",
      "\n",
      "FUNCTIONS\n",
      "    acos(x, /)\n",
      "        Return the arc cosine (measured in radians) of x.\n",
      "        \n",
      "        The result is between 0 and pi.\n",
      "    \n",
      "    acosh(x, /)\n",
      "        Return the inverse hyperbolic cosine of x.\n",
      "    \n",
      "    asin(x, /)\n",
      "        Return the arc sine (measured in radians) of x.\n",
      "        \n",
      "        The result is between -pi/2 and pi/2.\n",
      "    \n",
      "    asinh(x, /)\n",
      "        Return the inverse hyperbolic sine of x.\n",
      "    \n",
      "    atan(x, /)\n",
      "        Return the arc tangent (measured in radians) of x.\n",
      "        \n",
      "        The result is between -pi/2 and pi/2.\n",
      "    \n",
      "    atan2(y, x, /)\n",
      "        Return the arc tangent (measured in radians) of y/x.\n",
      "        \n",
      "        Unlike atan(y/x), the signs of both x and y are considered.\n",
      "    \n",
      "    atanh(x, /)\n",
      "        Return the inverse hyperbolic tangent of x.\n",
      "    \n",
      "    cbrt(x, /)\n",
      "        Return the cube root of x.\n",
      "    \n",
      "    ceil(x, /)\n",
      "        Return the ceiling of x as an Integral.\n",
      "        \n",
      "        This is the smallest integer >= x.\n",
      "    \n",
      "    comb(n, k, /)\n",
      "        Number of ways to choose k items from n items without repetition and without order.\n",
      "        \n",
      "        Evaluates to n! / (k! * (n - k)!) when k <= n and evaluates\n",
      "        to zero when k > n.\n",
      "        \n",
      "        Also called the binomial coefficient because it is equivalent\n",
      "        to the coefficient of k-th term in polynomial expansion of the\n",
      "        expression (1 + x)**n.\n",
      "        \n",
      "        Raises TypeError if either of the arguments are not integers.\n",
      "        Raises ValueError if either of the arguments are negative.\n",
      "    \n",
      "    copysign(x, y, /)\n",
      "        Return a float with the magnitude (absolute value) of x but the sign of y.\n",
      "        \n",
      "        On platforms that support signed zeros, copysign(1.0, -0.0)\n",
      "        returns -1.0.\n",
      "    \n",
      "    cos(x, /)\n",
      "        Return the cosine of x (measured in radians).\n",
      "    \n",
      "    cosh(x, /)\n",
      "        Return the hyperbolic cosine of x.\n",
      "    \n",
      "    degrees(x, /)\n",
      "        Convert angle x from radians to degrees.\n",
      "    \n",
      "    dist(p, q, /)\n",
      "        Return the Euclidean distance between two points p and q.\n",
      "        \n",
      "        The points should be specified as sequences (or iterables) of\n",
      "        coordinates.  Both inputs must have the same dimension.\n",
      "        \n",
      "        Roughly equivalent to:\n",
      "            sqrt(sum((px - qx) ** 2.0 for px, qx in zip(p, q)))\n",
      "    \n",
      "    erf(x, /)\n",
      "        Error function at x.\n",
      "    \n",
      "    erfc(x, /)\n",
      "        Complementary error function at x.\n",
      "    \n",
      "    exp(x, /)\n",
      "        Return e raised to the power of x.\n",
      "    \n",
      "    exp2(x, /)\n",
      "        Return 2 raised to the power of x.\n",
      "    \n",
      "    expm1(x, /)\n",
      "        Return exp(x)-1.\n",
      "        \n",
      "        This function avoids the loss of precision involved in the direct evaluation of exp(x)-1 for small x.\n",
      "    \n",
      "    fabs(x, /)\n",
      "        Return the absolute value of the float x.\n",
      "    \n",
      "    factorial(n, /)\n",
      "        Find n!.\n",
      "        \n",
      "        Raise a ValueError if x is negative or non-integral.\n",
      "    \n",
      "    floor(x, /)\n",
      "        Return the floor of x as an Integral.\n",
      "        \n",
      "        This is the largest integer <= x.\n",
      "    \n",
      "    fmod(x, y, /)\n",
      "        Return fmod(x, y), according to platform C.\n",
      "        \n",
      "        x % y may differ.\n",
      "    \n",
      "    frexp(x, /)\n",
      "        Return the mantissa and exponent of x, as pair (m, e).\n",
      "        \n",
      "        m is a float and e is an int, such that x = m * 2.**e.\n",
      "        If x is 0, m and e are both 0.  Else 0.5 <= abs(m) < 1.0.\n",
      "    \n",
      "    fsum(seq, /)\n",
      "        Return an accurate floating point sum of values in the iterable seq.\n",
      "        \n",
      "        Assumes IEEE-754 floating point arithmetic.\n",
      "    \n",
      "    gamma(x, /)\n",
      "        Gamma function at x.\n",
      "    \n",
      "    gcd(*integers)\n",
      "        Greatest Common Divisor.\n",
      "    \n",
      "    hypot(...)\n",
      "        hypot(*coordinates) -> value\n",
      "        \n",
      "        Multidimensional Euclidean distance from the origin to a point.\n",
      "        \n",
      "        Roughly equivalent to:\n",
      "            sqrt(sum(x**2 for x in coordinates))\n",
      "        \n",
      "        For a two dimensional point (x, y), gives the hypotenuse\n",
      "        using the Pythagorean theorem:  sqrt(x*x + y*y).\n",
      "        \n",
      "        For example, the hypotenuse of a 3/4/5 right triangle is:\n",
      "        \n",
      "            >>> hypot(3.0, 4.0)\n",
      "            5.0\n",
      "    \n",
      "    isclose(a, b, *, rel_tol=1e-09, abs_tol=0.0)\n",
      "        Determine whether two floating point numbers are close in value.\n",
      "        \n",
      "          rel_tol\n",
      "            maximum difference for being considered \"close\", relative to the\n",
      "            magnitude of the input values\n",
      "          abs_tol\n",
      "            maximum difference for being considered \"close\", regardless of the\n",
      "            magnitude of the input values\n",
      "        \n",
      "        Return True if a is close in value to b, and False otherwise.\n",
      "        \n",
      "        For the values to be considered close, the difference between them\n",
      "        must be smaller than at least one of the tolerances.\n",
      "        \n",
      "        -inf, inf and NaN behave similarly to the IEEE 754 Standard.  That\n",
      "        is, NaN is not close to anything, even itself.  inf and -inf are\n",
      "        only close to themselves.\n",
      "    \n",
      "    isfinite(x, /)\n",
      "        Return True if x is neither an infinity nor a NaN, and False otherwise.\n",
      "    \n",
      "    isinf(x, /)\n",
      "        Return True if x is a positive or negative infinity, and False otherwise.\n",
      "    \n",
      "    isnan(x, /)\n",
      "        Return True if x is a NaN (not a number), and False otherwise.\n",
      "    \n",
      "    isqrt(n, /)\n",
      "        Return the integer part of the square root of the input.\n",
      "    \n",
      "    lcm(*integers)\n",
      "        Least Common Multiple.\n",
      "    \n",
      "    ldexp(x, i, /)\n",
      "        Return x * (2**i).\n",
      "        \n",
      "        This is essentially the inverse of frexp().\n",
      "    \n",
      "    lgamma(x, /)\n",
      "        Natural logarithm of absolute value of Gamma function at x.\n",
      "    \n",
      "    log(...)\n",
      "        log(x, [base=math.e])\n",
      "        Return the logarithm of x to the given base.\n",
      "        \n",
      "        If the base not specified, returns the natural logarithm (base e) of x.\n",
      "    \n",
      "    log10(x, /)\n",
      "        Return the base 10 logarithm of x.\n",
      "    \n",
      "    log1p(x, /)\n",
      "        Return the natural logarithm of 1+x (base e).\n",
      "        \n",
      "        The result is computed in a way which is accurate for x near zero.\n",
      "    \n",
      "    log2(x, /)\n",
      "        Return the base 2 logarithm of x.\n",
      "    \n",
      "    modf(x, /)\n",
      "        Return the fractional and integer parts of x.\n",
      "        \n",
      "        Both results carry the sign of x and are floats.\n",
      "    \n",
      "    nextafter(x, y, /)\n",
      "        Return the next floating-point value after x towards y.\n",
      "    \n",
      "    perm(n, k=None, /)\n",
      "        Number of ways to choose k items from n items without repetition and with order.\n",
      "        \n",
      "        Evaluates to n! / (n - k)! when k <= n and evaluates\n",
      "        to zero when k > n.\n",
      "        \n",
      "        If k is not specified or is None, then k defaults to n\n",
      "        and the function returns n!.\n",
      "        \n",
      "        Raises TypeError if either of the arguments are not integers.\n",
      "        Raises ValueError if either of the arguments are negative.\n",
      "    \n",
      "    pow(x, y, /)\n",
      "        Return x**y (x to the power of y).\n",
      "    \n",
      "    prod(iterable, /, *, start=1)\n",
      "        Calculate the product of all the elements in the input iterable.\n",
      "        \n",
      "        The default start value for the product is 1.\n",
      "        \n",
      "        When the iterable is empty, return the start value.  This function is\n",
      "        intended specifically for use with numeric values and may reject\n",
      "        non-numeric types.\n",
      "    \n",
      "    radians(x, /)\n",
      "        Convert angle x from degrees to radians.\n",
      "    \n",
      "    remainder(x, y, /)\n",
      "        Difference between x and the closest integer multiple of y.\n",
      "        \n",
      "        Return x - n*y where n*y is the closest integer multiple of y.\n",
      "        In the case where x is exactly halfway between two multiples of\n",
      "        y, the nearest even value of n is used. The result is always exact.\n",
      "    \n",
      "    sin(x, /)\n",
      "        Return the sine of x (measured in radians).\n",
      "    \n",
      "    sinh(x, /)\n",
      "        Return the hyperbolic sine of x.\n",
      "    \n",
      "    sqrt(x, /)\n",
      "        Return the square root of x.\n",
      "    \n",
      "    tan(x, /)\n",
      "        Return the tangent of x (measured in radians).\n",
      "    \n",
      "    tanh(x, /)\n",
      "        Return the hyperbolic tangent of x.\n",
      "    \n",
      "    trunc(x, /)\n",
      "        Truncates the Real x to the nearest Integral toward 0.\n",
      "        \n",
      "        Uses the __trunc__ magic method.\n",
      "    \n",
      "    ulp(x, /)\n",
      "        Return the value of the least significant bit of the float x.\n",
      "\n",
      "DATA\n",
      "    e = 2.718281828459045\n",
      "    inf = inf\n",
      "    nan = nan\n",
      "    pi = 3.141592653589793\n",
      "    tau = 6.283185307179586\n",
      "\n",
      "FILE\n",
      "    /home/dssadmin/miniconda3/lib/python3.11/lib-dynload/math.cpython-311-x86_64-linux-gnu.so\n",
      "\n",
      "\n"
     ]
    }
   ],
   "source": [
    "help(math)"
   ]
  },
  {
   "cell_type": "code",
   "execution_count": 8,
   "id": "f80bfce5-f46a-4a9f-871c-45433181a30f",
   "metadata": {},
   "outputs": [
    {
     "data": {
      "text/plain": [
       "1.0"
      ]
     },
     "execution_count": 8,
     "metadata": {},
     "output_type": "execute_result"
    }
   ],
   "source": [
    "math.sin(math.pi / 2.0)"
   ]
  },
  {
   "cell_type": "code",
   "execution_count": 9,
   "id": "17448985-ab2c-41a3-a7e6-dd4bfa10b559",
   "metadata": {},
   "outputs": [
    {
     "name": "stdout",
     "output_type": "stream",
     "text": [
      "1\n",
      "2\n",
      "3\n",
      "4\n",
      "5\n",
      "6\n",
      "7\n",
      "8\n",
      "9\n"
     ]
    }
   ],
   "source": [
    "# range() takes 1, 2, or 3 parameters\n",
    "for num in range(1, 10): # 1..10 (not inclusive) meaning 1..9\n",
    "    print(num)"
   ]
  },
  {
   "cell_type": "code",
   "execution_count": 13,
   "id": "2ec4cb73-b5c5-4273-b6e5-0f5f3c6f181f",
   "metadata": {},
   "outputs": [
    {
     "name": "stdout",
     "output_type": "stream",
     "text": [
      "0\n",
      "1\n",
      "2\n",
      "3\n",
      "4\n",
      "5\n",
      "6\n",
      "7\n",
      "8\n",
      "9\n"
     ]
    }
   ],
   "source": [
    "for num in range(10): # 0..9\n",
    "    print(num)"
   ]
  },
  {
   "cell_type": "code",
   "execution_count": 12,
   "id": "960a1480-2841-41ab-a836-e3f4332b2e17",
   "metadata": {},
   "outputs": [
    {
     "name": "stdout",
     "output_type": "stream",
     "text": [
      "1\n",
      "3\n",
      "5\n",
      "7\n",
      "9\n"
     ]
    }
   ],
   "source": [
    "for num in range(1, 10, 2): # 3rd paramater is \"step\"\n",
    "    print(num)"
   ]
  },
  {
   "cell_type": "code",
   "execution_count": 15,
   "id": "31b351b3-9830-43de-ad7e-b55f5148ab03",
   "metadata": {},
   "outputs": [
    {
     "ename": "SyntaxError",
     "evalue": "invalid syntax (2877265301.py, line 1)",
     "output_type": "error",
     "traceback": [
      "\u001b[0;36m  Cell \u001b[0;32mIn[15], line 1\u001b[0;36m\u001b[0m\n\u001b[0;31m    for in range(10): # do this 10 times\u001b[0m\n\u001b[0m        ^\u001b[0m\n\u001b[0;31mSyntaxError\u001b[0m\u001b[0;31m:\u001b[0m invalid syntax\n"
     ]
    }
   ],
   "source": [
    "for _ in range(10): # do this 10 times\n",
    "    print('hi')"
   ]
  },
  {
   "cell_type": "code",
   "execution_count": 16,
   "id": "4ec83686-4a05-40b0-b462-36a970dcfc53",
   "metadata": {},
   "outputs": [
    {
     "data": {
      "text/plain": [
       "(8, 3)"
      ]
     },
     "execution_count": 16,
     "metadata": {},
     "output_type": "execute_result"
    }
   ],
   "source": [
    "divmod(35, 4)"
   ]
  },
  {
   "cell_type": "code",
   "execution_count": 24,
   "id": "aa626584-20fc-4721-ab6f-81db1c5b56c1",
   "metadata": {},
   "outputs": [],
   "source": [
    "quot, rem = divmod(35, 4)"
   ]
  },
  {
   "cell_type": "code",
   "execution_count": 18,
   "id": "72e5e8ed-2a03-4a33-ae90-1e002d7322a0",
   "metadata": {},
   "outputs": [
    {
     "data": {
      "text/plain": [
       "8"
      ]
     },
     "execution_count": 18,
     "metadata": {},
     "output_type": "execute_result"
    }
   ],
   "source": [
    "quot"
   ]
  },
  {
   "cell_type": "code",
   "execution_count": 19,
   "id": "7d97bcae-d19a-4c10-80bd-24d85f39a644",
   "metadata": {},
   "outputs": [],
   "source": [
    "quot, _ = divmod(35, 4) # put first return value in quot, \"discard\" second return value"
   ]
  },
  {
   "cell_type": "code",
   "execution_count": 20,
   "id": "ceb074ba-74e9-4185-b4c7-d05398d191e0",
   "metadata": {},
   "outputs": [],
   "source": [
    "quot = divmod(35, 4)"
   ]
  },
  {
   "cell_type": "code",
   "execution_count": 21,
   "id": "ca908c05-5bcf-4cad-820c-36b78f9a7111",
   "metadata": {},
   "outputs": [
    {
     "data": {
      "text/plain": [
       "(8, 3)"
      ]
     },
     "execution_count": 21,
     "metadata": {},
     "output_type": "execute_result"
    }
   ],
   "source": [
    "quot"
   ]
  },
  {
   "cell_type": "code",
   "execution_count": 25,
   "id": "43a0cea1-55f1-42b4-8fda-d7081be7e41d",
   "metadata": {},
   "outputs": [
    {
     "data": {
      "text/plain": [
       "3"
      ]
     },
     "execution_count": 25,
     "metadata": {},
     "output_type": "execute_result"
    }
   ],
   "source": [
    "len([1, 2, 3])"
   ]
  },
  {
   "cell_type": "code",
   "execution_count": 26,
   "id": "25a0f05e-9bbc-49e2-b9e9-c8c21c130409",
   "metadata": {},
   "outputs": [
    {
     "data": {
      "text/plain": [
       "6"
      ]
     },
     "execution_count": 26,
     "metadata": {},
     "output_type": "execute_result"
    }
   ],
   "source": [
    "len('string')"
   ]
  },
  {
   "cell_type": "code",
   "execution_count": 27,
   "id": "7207cde3-cd3f-4aa6-87d4-cca205ef8169",
   "metadata": {},
   "outputs": [
    {
     "data": {
      "text/plain": [
       "3"
      ]
     },
     "execution_count": 27,
     "metadata": {},
     "output_type": "execute_result"
    }
   ],
   "source": [
    "len((1, 2, 3))"
   ]
  },
  {
   "cell_type": "code",
   "execution_count": 28,
   "id": "9d705e10-0d11-45fd-98ed-937a9406f62d",
   "metadata": {},
   "outputs": [],
   "source": [
    "name = 'dave'"
   ]
  },
  {
   "cell_type": "code",
   "execution_count": 30,
   "id": "97dc179e-db8f-4358-b2cf-7e6deea3bc29",
   "metadata": {},
   "outputs": [
    {
     "ename": "TypeError",
     "evalue": "'str' object does not support item assignment",
     "output_type": "error",
     "traceback": [
      "\u001b[0;31m---------------------------------------------------------------------------\u001b[0m",
      "\u001b[0;31mTypeError\u001b[0m                                 Traceback (most recent call last)",
      "Cell \u001b[0;32mIn[30], line 1\u001b[0m\n\u001b[0;32m----> 1\u001b[0m \u001b[43mname\u001b[49m\u001b[43m[\u001b[49m\u001b[38;5;241;43m0\u001b[39;49m\u001b[43m]\u001b[49m \u001b[38;5;241m=\u001b[39m \u001b[38;5;124m'\u001b[39m\u001b[38;5;124mD\u001b[39m\u001b[38;5;124m'\u001b[39m\n",
      "\u001b[0;31mTypeError\u001b[0m: 'str' object does not support item assignment"
     ]
    }
   ],
   "source": [
    "name[0] = 'D'"
   ]
  },
  {
   "cell_type": "code",
   "execution_count": 31,
   "id": "53c20099-b850-403f-8fa8-624e2978dfc0",
   "metadata": {},
   "outputs": [],
   "source": [
    "name = 'Dave'"
   ]
  },
  {
   "cell_type": "code",
   "execution_count": 32,
   "id": "2069c12a-98eb-4c38-98fa-b423b95c8926",
   "metadata": {},
   "outputs": [],
   "source": [
    "name = '4'"
   ]
  },
  {
   "cell_type": "code",
   "execution_count": 33,
   "id": "34c3e9a3-918a-4b10-b1cb-2013f95c5324",
   "metadata": {},
   "outputs": [
    {
     "data": {
      "text/plain": [
       "4"
      ]
     },
     "execution_count": 33,
     "metadata": {},
     "output_type": "execute_result"
    }
   ],
   "source": [
    "int(name) # int-ifying \"type casting\", not so much used in Python"
   ]
  },
  {
   "cell_type": "code",
   "execution_count": 36,
   "id": "6dd70a6c-5d1d-4886-8bfb-7ddb66351eeb",
   "metadata": {},
   "outputs": [
    {
     "data": {
      "text/plain": [
       "'HELLO'"
      ]
     },
     "execution_count": 36,
     "metadata": {},
     "output_type": "execute_result"
    }
   ],
   "source": [
    "'hello'.upper() # str object DOT str function/method"
   ]
  },
  {
   "cell_type": "code",
   "execution_count": 37,
   "id": "35d594fb-0021-4326-97f4-3fc7a08ac058",
   "metadata": {},
   "outputs": [],
   "source": [
    "# duck typing\n",
    "# len() operates on any container/iterable (they are slightly different)"
   ]
  },
  {
   "cell_type": "code",
   "execution_count": 38,
   "id": "9521be29-b33b-4315-9801-2d33c6b291ec",
   "metadata": {},
   "outputs": [
    {
     "data": {
      "text/plain": [
       "(6, 1, 2, 0)"
      ]
     },
     "execution_count": 38,
     "metadata": {},
     "output_type": "execute_result"
    }
   ],
   "source": [
    "len('string'), len([1]), len((1, 2)), len({})"
   ]
  },
  {
   "cell_type": "code",
   "execution_count": 39,
   "id": "7c5f515b-2ac1-44b5-91ea-237ddf1d03b0",
   "metadata": {},
   "outputs": [
    {
     "ename": "TypeError",
     "evalue": "object of type 'float' has no len()",
     "output_type": "error",
     "traceback": [
      "\u001b[0;31m---------------------------------------------------------------------------\u001b[0m",
      "\u001b[0;31mTypeError\u001b[0m                                 Traceback (most recent call last)",
      "Cell \u001b[0;32mIn[39], line 1\u001b[0m\n\u001b[0;32m----> 1\u001b[0m \u001b[38;5;28;43mlen\u001b[39;49m\u001b[43m(\u001b[49m\u001b[38;5;241;43m4.5\u001b[39;49m\u001b[43m)\u001b[49m\n",
      "\u001b[0;31mTypeError\u001b[0m: object of type 'float' has no len()"
     ]
    }
   ],
   "source": [
    "len(4.5)"
   ]
  },
  {
   "cell_type": "code",
   "execution_count": 62,
   "id": "22585a34-a587-42ba-8de3-c87bac1d7bb3",
   "metadata": {},
   "outputs": [],
   "source": [
    "# let's write our own duck typed function\n",
    "\n",
    "def iterate(container):\n",
    "    \"\"\"Iterate through container passed to it.\"\"\"\n",
    "    try:\n",
    "        for thing in container: # for each thing in container\n",
    "            print(thing)\n",
    "    except TypeError:\n",
    "        print('Not ierable')"
   ]
  },
  {
   "cell_type": "code",
   "execution_count": 41,
   "id": "b55537e0-f621-4b43-bb61-cca16a133b49",
   "metadata": {},
   "outputs": [
    {
     "name": "stdout",
     "output_type": "stream",
     "text": [
      "Help on function iterate in module __main__:\n",
      "\n",
      "iterate(thing)\n",
      "    Iterate through thing object.\n",
      "\n"
     ]
    }
   ],
   "source": [
    "help(iterate)"
   ]
  },
  {
   "cell_type": "code",
   "execution_count": 42,
   "id": "cde189cf-eb97-4391-8b06-ddc3df146a31",
   "metadata": {},
   "outputs": [
    {
     "name": "stdout",
     "output_type": "stream",
     "text": [
      "Help on built-in function sin in module math:\n",
      "\n",
      "sin(x, /)\n",
      "    Return the sine of x (measured in radians).\n",
      "\n"
     ]
    }
   ],
   "source": [
    "import math\n",
    "help(math.sin)"
   ]
  },
  {
   "cell_type": "code",
   "execution_count": 61,
   "id": "f7728891-add3-4b08-afbf-d174e775ea73",
   "metadata": {},
   "outputs": [
    {
     "name": "stdout",
     "output_type": "stream",
     "text": [
      "s\n",
      "t\n",
      "r\n",
      "i\n",
      "n\n",
      "g\n"
     ]
    },
    {
     "ename": "ZeroDivisionError",
     "evalue": "division by zero",
     "output_type": "error",
     "traceback": [
      "\u001b[0;31m---------------------------------------------------------------------------\u001b[0m",
      "\u001b[0;31mZeroDivisionError\u001b[0m                         Traceback (most recent call last)",
      "Cell \u001b[0;32mIn[61], line 1\u001b[0m\n\u001b[0;32m----> 1\u001b[0m \u001b[43miterate\u001b[49m\u001b[43m(\u001b[49m\u001b[38;5;124;43m'\u001b[39;49m\u001b[38;5;124;43mstring\u001b[39;49m\u001b[38;5;124;43m'\u001b[39;49m\u001b[43m)\u001b[49m\n",
      "Cell \u001b[0;32mIn[60], line 8\u001b[0m, in \u001b[0;36miterate\u001b[0;34m(container)\u001b[0m\n\u001b[1;32m      6\u001b[0m     \u001b[38;5;28;01mfor\u001b[39;00m thing \u001b[38;5;129;01min\u001b[39;00m container: \u001b[38;5;66;03m# for each thing in container\u001b[39;00m\n\u001b[1;32m      7\u001b[0m         \u001b[38;5;28mprint\u001b[39m(thing)\n\u001b[0;32m----> 8\u001b[0m     \u001b[38;5;241;43m1\u001b[39;49m\u001b[43m \u001b[49m\u001b[38;5;241;43m/\u001b[39;49m\u001b[43m \u001b[49m\u001b[38;5;241;43m0\u001b[39;49m\n\u001b[1;32m      9\u001b[0m \u001b[38;5;28;01mexcept\u001b[39;00m \u001b[38;5;167;01mTypeError\u001b[39;00m:\n\u001b[1;32m     10\u001b[0m     \u001b[38;5;28mprint\u001b[39m(\u001b[38;5;124m'\u001b[39m\u001b[38;5;124mNot ierable\u001b[39m\u001b[38;5;124m'\u001b[39m)\n",
      "\u001b[0;31mZeroDivisionError\u001b[0m: division by zero"
     ]
    }
   ],
   "source": [
    "iterate('string')"
   ]
  },
  {
   "cell_type": "code",
   "execution_count": 52,
   "id": "6b7a0c77-736b-4fc3-8897-327ac8565676",
   "metadata": {},
   "outputs": [
    {
     "name": "stdout",
     "output_type": "stream",
     "text": [
      "1\n",
      "2\n",
      "3\n",
      "5\n"
     ]
    }
   ],
   "source": [
    "iterate([1, 2,3, 5])"
   ]
  },
  {
   "cell_type": "code",
   "execution_count": 64,
   "id": "9f06acbb-3e42-484f-9d68-dccd320c6ef9",
   "metadata": {},
   "outputs": [
    {
     "name": "stdout",
     "output_type": "stream",
     "text": [
      "nope\n"
     ]
    }
   ],
   "source": [
    "iterate([])"
   ]
  },
  {
   "cell_type": "code",
   "execution_count": 54,
   "id": "ec3d20c7-0b7b-404b-a4b6-8ba09eb68513",
   "metadata": {},
   "outputs": [
    {
     "name": "stdout",
     "output_type": "stream",
     "text": [
      "1\n",
      "2\n",
      "3\n"
     ]
    }
   ],
   "source": [
    "iterate((1, 2, 3))"
   ]
  },
  {
   "cell_type": "code",
   "execution_count": 55,
   "id": "ba20e16f-72d3-47b0-95f2-3d14d99940b8",
   "metadata": {},
   "outputs": [
    {
     "name": "stdout",
     "output_type": "stream",
     "text": [
      "one\n",
      "two\n"
     ]
    }
   ],
   "source": [
    "iterate({'one': 1, 'two': 2 })"
   ]
  },
  {
   "cell_type": "code",
   "execution_count": 63,
   "id": "b75ab162-0ffd-4b51-aacd-7aa203ccca42",
   "metadata": {},
   "outputs": [
    {
     "name": "stdout",
     "output_type": "stream",
     "text": [
      "Not ierable\n"
     ]
    }
   ],
   "source": [
    "iterate(1)"
   ]
  },
  {
   "cell_type": "code",
   "execution_count": 65,
   "id": "b3ed1af3-9054-44ae-8bbc-6b156275f27e",
   "metadata": {},
   "outputs": [
    {
     "ename": "ZeroDivisionError",
     "evalue": "division by zero",
     "output_type": "error",
     "traceback": [
      "\u001b[0;31m---------------------------------------------------------------------------\u001b[0m",
      "\u001b[0;31mZeroDivisionError\u001b[0m                         Traceback (most recent call last)",
      "Cell \u001b[0;32mIn[65], line 1\u001b[0m\n\u001b[0;32m----> 1\u001b[0m \u001b[38;5;241;43m1\u001b[39;49m\u001b[43m \u001b[49m\u001b[38;5;241;43m/\u001b[39;49m\u001b[43m \u001b[49m\u001b[38;5;241;43m0\u001b[39;49m\n",
      "\u001b[0;31mZeroDivisionError\u001b[0m: division by zero"
     ]
    }
   ],
   "source": [
    "1 / 0"
   ]
  },
  {
   "cell_type": "code",
   "execution_count": 66,
   "id": "f14b73ea-867f-4984-a3ed-cfb8db9e3921",
   "metadata": {},
   "outputs": [
    {
     "ename": "IndexError",
     "evalue": "string index out of range",
     "output_type": "error",
     "traceback": [
      "\u001b[0;31m---------------------------------------------------------------------------\u001b[0m",
      "\u001b[0;31mIndexError\u001b[0m                                Traceback (most recent call last)",
      "Cell \u001b[0;32mIn[66], line 1\u001b[0m\n\u001b[0;32m----> 1\u001b[0m \u001b[38;5;124;43m'\u001b[39;49m\u001b[38;5;124;43mstring\u001b[39;49m\u001b[38;5;124;43m'\u001b[39;49m\u001b[43m[\u001b[49m\u001b[38;5;241;43m10\u001b[39;49m\u001b[43m]\u001b[49m\n",
      "\u001b[0;31mIndexError\u001b[0m: string index out of range"
     ]
    }
   ],
   "source": [
    "'string'[10]"
   ]
  },
  {
   "cell_type": "code",
   "execution_count": 67,
   "id": "757bed53-fd05-43be-aa7b-11ff2c1bba86",
   "metadata": {},
   "outputs": [],
   "source": [
    "def myfunc(index):\n",
    "    mylist = [1, 2, 10]\n",
    "    try:\n",
    "        print(mylist[index])\n",
    "    except IndexError:\n",
    "        return None"
   ]
  },
  {
   "cell_type": "code",
   "execution_count": 68,
   "id": "8df2ff74-0bef-428a-8124-088af53fc511",
   "metadata": {},
   "outputs": [
    {
     "name": "stdout",
     "output_type": "stream",
     "text": [
      "1\n"
     ]
    }
   ],
   "source": [
    "myfunc(0)"
   ]
  },
  {
   "cell_type": "code",
   "execution_count": 69,
   "id": "64e24987-8ce0-4310-8275-b17061fe53b9",
   "metadata": {},
   "outputs": [
    {
     "name": "stdout",
     "output_type": "stream",
     "text": [
      "bad index\n"
     ]
    }
   ],
   "source": [
    "myfunc(55)"
   ]
  },
  {
   "cell_type": "code",
   "execution_count": 71,
   "id": "63e12a12-899d-4d3f-9a9c-951c5aa2ee81",
   "metadata": {},
   "outputs": [
    {
     "ename": "TypeError",
     "evalue": "object of type 'int' has no len()",
     "output_type": "error",
     "traceback": [
      "\u001b[0;31m---------------------------------------------------------------------------\u001b[0m",
      "\u001b[0;31mTypeError\u001b[0m                                 Traceback (most recent call last)",
      "Cell \u001b[0;32mIn[71], line 1\u001b[0m\n\u001b[0;32m----> 1\u001b[0m \u001b[38;5;28;43mlen\u001b[39;49m\u001b[43m(\u001b[49m\u001b[38;5;241;43m1\u001b[39;49m\u001b[43m)\u001b[49m\n",
      "\u001b[0;31mTypeError\u001b[0m: object of type 'int' has no len()"
     ]
    }
   ],
   "source": [
    "len(1)"
   ]
  },
  {
   "cell_type": "code",
   "execution_count": 72,
   "id": "dbfdab33-a12c-45bd-ac2b-aaf04fd343b2",
   "metadata": {},
   "outputs": [],
   "source": [
    "Cost = 19.95"
   ]
  },
  {
   "cell_type": "code",
   "execution_count": 73,
   "id": "b96f7050-cb31-489f-9fff-611c1028d50f",
   "metadata": {},
   "outputs": [
    {
     "ename": "NameError",
     "evalue": "name 'cost' is not defined",
     "output_type": "error",
     "traceback": [
      "\u001b[0;31m---------------------------------------------------------------------------\u001b[0m",
      "\u001b[0;31mNameError\u001b[0m                                 Traceback (most recent call last)",
      "Cell \u001b[0;32mIn[73], line 1\u001b[0m\n\u001b[0;32m----> 1\u001b[0m \u001b[43mcost\u001b[49m\n",
      "\u001b[0;31mNameError\u001b[0m: name 'cost' is not defined"
     ]
    }
   ],
   "source": [
    "cost"
   ]
  },
  {
   "cell_type": "code",
   "execution_count": 75,
   "id": "12349de8-2a86-477c-87b9-c82c5ae21572",
   "metadata": {},
   "outputs": [],
   "source": [
    "cost_per_ounce = 1.25 # \"snake case\""
   ]
  },
  {
   "cell_type": "code",
   "execution_count": 76,
   "id": "3e3e686e-8d7d-4272-8cd3-42db62d659f7",
   "metadata": {},
   "outputs": [],
   "source": [
    "CONSTANT = 124 # all caps for constants"
   ]
  },
  {
   "cell_type": "code",
   "execution_count": 78,
   "id": "87b0ebf8-7e73-487d-a551-28dda919c8bb",
   "metadata": {},
   "outputs": [],
   "source": [
    "employee = 'Cordani', 'David', 'CEO', 1, '312-555-1212' # tuple"
   ]
  },
  {
   "cell_type": "code",
   "execution_count": 79,
   "id": "b56b5249-4ff7-48cb-92cf-8c42fcaea0b2",
   "metadata": {},
   "outputs": [
    {
     "data": {
      "text/plain": [
       "tuple"
      ]
     },
     "execution_count": 79,
     "metadata": {},
     "output_type": "execute_result"
    }
   ],
   "source": [
    "type(employee)"
   ]
  },
  {
   "cell_type": "code",
   "execution_count": 80,
   "id": "2ecc97a8-4fec-4acd-8dab-9ab9c04da51b",
   "metadata": {},
   "outputs": [
    {
     "data": {
      "text/plain": [
       "('Cordani', 'David', 'CEO', 1, '312-555-1212')"
      ]
     },
     "execution_count": 80,
     "metadata": {},
     "output_type": "execute_result"
    }
   ],
   "source": [
    "employee"
   ]
  },
  {
   "cell_type": "code",
   "execution_count": 81,
   "id": "aa16852b-ac5f-4b5b-9584-2c06badbfae3",
   "metadata": {},
   "outputs": [
    {
     "data": {
      "text/plain": [
       "'312-555-1212'"
      ]
     },
     "execution_count": 81,
     "metadata": {},
     "output_type": "execute_result"
    }
   ],
   "source": [
    "employee[-1]"
   ]
  },
  {
   "cell_type": "code",
   "execution_count": 82,
   "id": "2c37aa72-25a6-4656-b2d6-bf3608adc940",
   "metadata": {},
   "outputs": [
    {
     "ename": "TypeError",
     "evalue": "'tuple' object does not support item assignment",
     "output_type": "error",
     "traceback": [
      "\u001b[0;31m---------------------------------------------------------------------------\u001b[0m",
      "\u001b[0;31mTypeError\u001b[0m                                 Traceback (most recent call last)",
      "Cell \u001b[0;32mIn[82], line 1\u001b[0m\n\u001b[0;32m----> 1\u001b[0m \u001b[43memployee\u001b[49m\u001b[43m[\u001b[49m\u001b[38;5;241;43m0\u001b[39;49m\u001b[43m]\u001b[49m \u001b[38;5;241m=\u001b[39m \u001b[38;5;124m'\u001b[39m\u001b[38;5;124mSmith\u001b[39m\u001b[38;5;124m'\u001b[39m\n",
      "\u001b[0;31mTypeError\u001b[0m: 'tuple' object does not support item assignment"
     ]
    }
   ],
   "source": [
    "employee[0] = 'Smith'"
   ]
  },
  {
   "cell_type": "code",
   "execution_count": 84,
   "id": "d0ca38a6-04e6-4da6-b131-af848cd9a8c6",
   "metadata": {},
   "outputs": [],
   "source": [
    "employees_ids = '1234 5678 11134 0902 76 888'.split()"
   ]
  },
  {
   "cell_type": "code",
   "execution_count": 85,
   "id": "d1f22d29-1e26-42bc-8955-e26ea8df9c04",
   "metadata": {},
   "outputs": [
    {
     "data": {
      "text/plain": [
       "['1234', '5678', '11134', '0902', '76', '888']"
      ]
     },
     "execution_count": 85,
     "metadata": {},
     "output_type": "execute_result"
    }
   ],
   "source": [
    "employees_ids"
   ]
  },
  {
   "cell_type": "code",
   "execution_count": 86,
   "id": "10d371d9-a035-4393-a3da-202f25031c70",
   "metadata": {},
   "outputs": [],
   "source": [
    "first_names = 'Dave Vijay Janki Chandra Ram'.split()"
   ]
  },
  {
   "cell_type": "code",
   "execution_count": 87,
   "id": "85c4b72d-ed25-4ee3-94b8-c8e504d10faa",
   "metadata": {},
   "outputs": [
    {
     "data": {
      "text/plain": [
       "['Dave', 'Vijay', 'Janki', 'Chandra', 'Ram']"
      ]
     },
     "execution_count": 87,
     "metadata": {},
     "output_type": "execute_result"
    }
   ],
   "source": [
    "first_names"
   ]
  },
  {
   "cell_type": "code",
   "execution_count": 88,
   "id": "880a3ae8-6a79-43d8-bfb9-84d61b4b3c57",
   "metadata": {},
   "outputs": [],
   "source": [
    "first_names[0] = 'David'"
   ]
  },
  {
   "cell_type": "code",
   "execution_count": 89,
   "id": "5914831a-f153-4f88-968b-405d0ea525df",
   "metadata": {},
   "outputs": [
    {
     "data": {
      "text/plain": [
       "['David', 'Vijay', 'Janki', 'Chandra', 'Ram']"
      ]
     },
     "execution_count": 89,
     "metadata": {},
     "output_type": "execute_result"
    }
   ],
   "source": [
    "first_names"
   ]
  },
  {
   "cell_type": "code",
   "execution_count": 90,
   "id": "ca6e59ff-7eeb-4d5e-86e6-2c338b6ab787",
   "metadata": {},
   "outputs": [],
   "source": [
    "weird_list = [1, 2.5, '3', [4]]"
   ]
  },
  {
   "cell_type": "code",
   "execution_count": 91,
   "id": "2d10862e-22f5-4810-bd23-141471610502",
   "metadata": {},
   "outputs": [
    {
     "data": {
      "text/plain": [
       "[1, 2.5, '3', [4]]"
      ]
     },
     "execution_count": 91,
     "metadata": {},
     "output_type": "execute_result"
    }
   ],
   "source": [
    "weird_list"
   ]
  },
  {
   "cell_type": "code",
   "execution_count": 93,
   "id": "0444146b-0840-491f-b6a0-0e1735369f24",
   "metadata": {},
   "outputs": [],
   "source": [
    "import random\n",
    "nums = []"
   ]
  },
  {
   "cell_type": "code",
   "execution_count": 94,
   "id": "c8226730-2b48-4f9d-98ae-d7ba59172439",
   "metadata": {},
   "outputs": [],
   "source": [
    "for _ in range(100):\n",
    "    nums.append(random.randint(1, 100))"
   ]
  },
  {
   "cell_type": "code",
   "execution_count": 95,
   "id": "7e8e24e8-976d-4cd1-8c74-b6b528f5dab3",
   "metadata": {},
   "outputs": [
    {
     "name": "stdout",
     "output_type": "stream",
     "text": [
      "[71, 11, 7, 97, 36, 55, 68, 72, 11, 18, 67, 16, 2, 93, 80, 32, 27, 31, 79, 29, 30, 66, 3, 29, 88, 19, 73, 8, 72, 90, 46, 4, 53, 76, 10, 79, 69, 44, 24, 92, 100, 69, 78, 82, 98, 96, 97, 8, 67, 68, 76, 61, 27, 53, 97, 34, 6, 48, 39, 49, 43, 89, 70, 58, 93, 13, 93, 43, 18, 96, 78, 50, 94, 25, 52, 32, 63, 40, 8, 6, 53, 36, 1, 67, 17, 33, 1, 51, 11, 100, 53, 63, 8, 66, 99, 60, 100, 50, 51, 20]\n"
     ]
    }
   ],
   "source": [
    "print(nums)"
   ]
  },
  {
   "cell_type": "code",
   "execution_count": 96,
   "id": "aae46b89-2e60-487e-91b5-e86dee443ea7",
   "metadata": {},
   "outputs": [
    {
     "name": "stdout",
     "output_type": "stream",
     "text": [
      "{1, 2, 3, 4, 6, 7, 8, 10, 11, 13, 16, 17, 18, 19, 20, 24, 25, 27, 29, 30, 31, 32, 33, 34, 36, 39, 40, 43, 44, 46, 48, 49, 50, 51, 52, 53, 55, 58, 60, 61, 63, 66, 67, 68, 69, 70, 71, 72, 73, 76, 78, 79, 80, 82, 88, 89, 90, 92, 93, 94, 96, 97, 98, 99, 100}\n"
     ]
    }
   ],
   "source": [
    "print(set(nums))"
   ]
  },
  {
   "cell_type": "code",
   "execution_count": 97,
   "id": "637a99cc-eff1-42c8-b578-e72668f58fa6",
   "metadata": {},
   "outputs": [
    {
     "name": "stdout",
     "output_type": "stream",
     "text": [
      "[1, 2, 3, 4, 6, 7, 8, 10, 11, 13, 16, 17, 18, 19, 20, 24, 25, 27, 29, 30, 31, 32, 33, 34, 36, 39, 40, 43, 44, 46, 48, 49, 50, 51, 52, 53, 55, 58, 60, 61, 63, 66, 67, 68, 69, 70, 71, 72, 73, 76, 78, 79, 80, 82, 88, 89, 90, 92, 93, 94, 96, 97, 98, 99, 100]\n"
     ]
    }
   ],
   "source": [
    "nums_no_dupes = list(set(nums))\n",
    "print(nums_no_dupes)"
   ]
  },
  {
   "cell_type": "code",
   "execution_count": 100,
   "id": "4c66e209-8788-4c2c-9aad-12d246858eba",
   "metadata": {},
   "outputs": [],
   "source": [
    "nums = set()\n",
    "for _ in range(100):\n",
    "    nums.add(random.randint(1, 100))"
   ]
  },
  {
   "cell_type": "code",
   "execution_count": 101,
   "id": "b615e5fe-45d7-4ea2-b746-ac6536d168a1",
   "metadata": {},
   "outputs": [
    {
     "name": "stdout",
     "output_type": "stream",
     "text": [
      "{1, 3, 5, 6, 7, 10, 13, 15, 18, 19, 20, 21, 22, 24, 25, 26, 28, 29, 31, 34, 37, 38, 39, 41, 42, 45, 47, 48, 49, 50, 51, 55, 56, 57, 59, 60, 61, 62, 65, 66, 67, 68, 69, 71, 72, 73, 74, 75, 77, 79, 80, 81, 82, 83, 85, 87, 88, 89, 90, 91, 92, 93, 94, 97, 98}\n"
     ]
    }
   ],
   "source": [
    "print(nums)"
   ]
  },
  {
   "cell_type": "code",
   "execution_count": 102,
   "id": "32546325-96db-4c40-83b3-932f492762b5",
   "metadata": {},
   "outputs": [
    {
     "name": "stdout",
     "output_type": "stream",
     "text": [
      "Help on set object:\n",
      "\n",
      "class set(object)\n",
      " |  set() -> new empty set object\n",
      " |  set(iterable) -> new set object\n",
      " |  \n",
      " |  Build an unordered collection of unique elements.\n",
      " |  \n",
      " |  Methods defined here:\n",
      " |  \n",
      " |  __and__(self, value, /)\n",
      " |      Return self&value.\n",
      " |  \n",
      " |  __contains__(...)\n",
      " |      x.__contains__(y) <==> y in x.\n",
      " |  \n",
      " |  __eq__(self, value, /)\n",
      " |      Return self==value.\n",
      " |  \n",
      " |  __ge__(self, value, /)\n",
      " |      Return self>=value.\n",
      " |  \n",
      " |  __getattribute__(self, name, /)\n",
      " |      Return getattr(self, name).\n",
      " |  \n",
      " |  __gt__(self, value, /)\n",
      " |      Return self>value.\n",
      " |  \n",
      " |  __iand__(self, value, /)\n",
      " |      Return self&=value.\n",
      " |  \n",
      " |  __init__(self, /, *args, **kwargs)\n",
      " |      Initialize self.  See help(type(self)) for accurate signature.\n",
      " |  \n",
      " |  __ior__(self, value, /)\n",
      " |      Return self|=value.\n",
      " |  \n",
      " |  __isub__(self, value, /)\n",
      " |      Return self-=value.\n",
      " |  \n",
      " |  __iter__(self, /)\n",
      " |      Implement iter(self).\n",
      " |  \n",
      " |  __ixor__(self, value, /)\n",
      " |      Return self^=value.\n",
      " |  \n",
      " |  __le__(self, value, /)\n",
      " |      Return self<=value.\n",
      " |  \n",
      " |  __len__(self, /)\n",
      " |      Return len(self).\n",
      " |  \n",
      " |  __lt__(self, value, /)\n",
      " |      Return self<value.\n",
      " |  \n",
      " |  __ne__(self, value, /)\n",
      " |      Return self!=value.\n",
      " |  \n",
      " |  __or__(self, value, /)\n",
      " |      Return self|value.\n",
      " |  \n",
      " |  __rand__(self, value, /)\n",
      " |      Return value&self.\n",
      " |  \n",
      " |  __reduce__(...)\n",
      " |      Return state information for pickling.\n",
      " |  \n",
      " |  __repr__(self, /)\n",
      " |      Return repr(self).\n",
      " |  \n",
      " |  __ror__(self, value, /)\n",
      " |      Return value|self.\n",
      " |  \n",
      " |  __rsub__(self, value, /)\n",
      " |      Return value-self.\n",
      " |  \n",
      " |  __rxor__(self, value, /)\n",
      " |      Return value^self.\n",
      " |  \n",
      " |  __sizeof__(...)\n",
      " |      S.__sizeof__() -> size of S in memory, in bytes\n",
      " |  \n",
      " |  __sub__(self, value, /)\n",
      " |      Return self-value.\n",
      " |  \n",
      " |  __xor__(self, value, /)\n",
      " |      Return self^value.\n",
      " |  \n",
      " |  add(...)\n",
      " |      Add an element to a set.\n",
      " |      \n",
      " |      This has no effect if the element is already present.\n",
      " |  \n",
      " |  clear(...)\n",
      " |      Remove all elements from this set.\n",
      " |  \n",
      " |  copy(...)\n",
      " |      Return a shallow copy of a set.\n",
      " |  \n",
      " |  difference(...)\n",
      " |      Return the difference of two or more sets as a new set.\n",
      " |      \n",
      " |      (i.e. all elements that are in this set but not the others.)\n",
      " |  \n",
      " |  difference_update(...)\n",
      " |      Remove all elements of another set from this set.\n",
      " |  \n",
      " |  discard(...)\n",
      " |      Remove an element from a set if it is a member.\n",
      " |      \n",
      " |      Unlike set.remove(), the discard() method does not raise\n",
      " |      an exception when an element is missing from the set.\n",
      " |  \n",
      " |  intersection(...)\n",
      " |      Return the intersection of two sets as a new set.\n",
      " |      \n",
      " |      (i.e. all elements that are in both sets.)\n",
      " |  \n",
      " |  intersection_update(...)\n",
      " |      Update a set with the intersection of itself and another.\n",
      " |  \n",
      " |  isdisjoint(...)\n",
      " |      Return True if two sets have a null intersection.\n",
      " |  \n",
      " |  issubset(...)\n",
      " |      Report whether another set contains this set.\n",
      " |  \n",
      " |  issuperset(...)\n",
      " |      Report whether this set contains another set.\n",
      " |  \n",
      " |  pop(...)\n",
      " |      Remove and return an arbitrary set element.\n",
      " |      Raises KeyError if the set is empty.\n",
      " |  \n",
      " |  remove(...)\n",
      " |      Remove an element from a set; it must be a member.\n",
      " |      \n",
      " |      If the element is not a member, raise a KeyError.\n",
      " |  \n",
      " |  symmetric_difference(...)\n",
      " |      Return the symmetric difference of two sets as a new set.\n",
      " |      \n",
      " |      (i.e. all elements that are in exactly one of the sets.)\n",
      " |  \n",
      " |  symmetric_difference_update(...)\n",
      " |      Update a set with the symmetric difference of itself and another.\n",
      " |  \n",
      " |  union(...)\n",
      " |      Return the union of sets as a new set.\n",
      " |      \n",
      " |      (i.e. all elements that are in either set.)\n",
      " |  \n",
      " |  update(...)\n",
      " |      Update a set with the union of itself and others.\n",
      " |  \n",
      " |  ----------------------------------------------------------------------\n",
      " |  Class methods defined here:\n",
      " |  \n",
      " |  __class_getitem__(...) from builtins.type\n",
      " |      See PEP 585\n",
      " |  \n",
      " |  ----------------------------------------------------------------------\n",
      " |  Static methods defined here:\n",
      " |  \n",
      " |  __new__(*args, **kwargs) from builtins.type\n",
      " |      Create and return a new object.  See help(type) for accurate signature.\n",
      " |  \n",
      " |  ----------------------------------------------------------------------\n",
      " |  Data and other attributes defined here:\n",
      " |  \n",
      " |  __hash__ = None\n",
      "\n"
     ]
    }
   ],
   "source": [
    "help(nums)"
   ]
  },
  {
   "cell_type": "code",
   "execution_count": 103,
   "id": "127a9949-5224-4306-b5ef-760b6aa46a4a",
   "metadata": {},
   "outputs": [],
   "source": [
    "new_nums = [random.randint(1, 1000) for _ in range(100)]"
   ]
  },
  {
   "cell_type": "code",
   "execution_count": 106,
   "id": "26173509-7b6e-402e-a516-24469d2666a8",
   "metadata": {},
   "outputs": [
    {
     "name": "stdout",
     "output_type": "stream",
     "text": [
      "[1, 4, 9, 16, 25, 36, 49, 64, 81, 100]\n"
     ]
    }
   ],
   "source": [
    "squares = [num * num for num in range(1, 11)]\n",
    "print(squares)"
   ]
  },
  {
   "cell_type": "code",
   "execution_count": 109,
   "id": "c2bf34e9-1b0b-4975-9777-2770905449c6",
   "metadata": {},
   "outputs": [
    {
     "data": {
      "text/plain": [
       "['Dave', 'Evgeni', 'Jordan', 'Jana']"
      ]
     },
     "execution_count": 109,
     "metadata": {},
     "output_type": "execute_result"
    }
   ],
   "source": [
    "names = 'Dave Evgeni Jordan Jana'.split()\n",
    "names"
   ]
  },
  {
   "cell_type": "code",
   "execution_count": 110,
   "id": "6e2c734c-4ee6-4a14-9b2b-32033eed0783",
   "metadata": {},
   "outputs": [
    {
     "data": {
      "text/plain": [
       "['DAVE', 'EVGENI', 'JORDAN', 'JANA']"
      ]
     },
     "execution_count": 110,
     "metadata": {},
     "output_type": "execute_result"
    }
   ],
   "source": [
    "upper_names = [name.upper() for name in names]\n",
    "upper_names"
   ]
  },
  {
   "cell_type": "code",
   "execution_count": 111,
   "id": "a3f59ea2-a9f0-4eef-9b4d-d02a19c9ffbd",
   "metadata": {},
   "outputs": [],
   "source": [
    "vowel_end_names = [name for name in names\n",
    "                           if name[-1] in 'aeiou']"
   ]
  },
  {
   "cell_type": "code",
   "execution_count": 112,
   "id": "6040f5f5-a2d7-4124-8e82-917c2055fd62",
   "metadata": {},
   "outputs": [
    {
     "data": {
      "text/plain": [
       "['Dave', 'Evgeni', 'Jana']"
      ]
     },
     "execution_count": 112,
     "metadata": {},
     "output_type": "execute_result"
    }
   ],
   "source": [
    "vowel_end_names"
   ]
  },
  {
   "cell_type": "code",
   "execution_count": 105,
   "id": "457256ae-60d5-49f4-be83-7ecd2a8b1fbc",
   "metadata": {},
   "outputs": [
    {
     "name": "stdout",
     "output_type": "stream",
     "text": [
      "[326, 486, 351, 405, 663, 471, 625, 986, 795, 418, 325, 127, 568, 927, 845, 773, 142, 834, 1000, 632, 231, 108, 621, 953, 132, 211, 299, 253, 924, 677, 285, 1, 993, 343, 754, 896, 245, 685, 595, 462, 559, 848, 639, 546, 369, 717, 528, 914, 960, 461, 73, 639, 508, 334, 720, 157, 506, 802, 736, 943, 28, 545, 256, 63, 331, 646, 269, 86, 966, 740, 460, 398, 50, 753, 906, 914, 831, 473, 820, 78, 642, 644, 718, 672, 470, 178, 996, 787, 543, 97, 847, 50, 115, 864, 280, 998, 663, 510, 313, 325]\n"
     ]
    }
   ],
   "source": [
    "print(new_nums)"
   ]
  },
  {
   "cell_type": "code",
   "execution_count": 113,
   "id": "16ea3fd9-1ca0-4b35-9d66-a7142ace3b97",
   "metadata": {},
   "outputs": [],
   "source": [
    "s = { 1, 2, 3, 4 }"
   ]
  },
  {
   "cell_type": "code",
   "execution_count": 114,
   "id": "ca307a75-83cf-4275-8f0d-40c816860435",
   "metadata": {},
   "outputs": [
    {
     "data": {
      "text/plain": [
       "{1, 2, 3, 4}"
      ]
     },
     "execution_count": 114,
     "metadata": {},
     "output_type": "execute_result"
    }
   ],
   "source": [
    "s"
   ]
  },
  {
   "cell_type": "code",
   "execution_count": 115,
   "id": "5b23b420-8989-4999-82d3-1e06641f87f0",
   "metadata": {},
   "outputs": [],
   "source": [
    "s.add('five')"
   ]
  },
  {
   "cell_type": "code",
   "execution_count": 116,
   "id": "0b41b12c-3a48-418d-878a-afaa0625096d",
   "metadata": {},
   "outputs": [
    {
     "data": {
      "text/plain": [
       "{1, 2, 3, 4, 'five'}"
      ]
     },
     "execution_count": 116,
     "metadata": {},
     "output_type": "execute_result"
    }
   ],
   "source": [
    "s"
   ]
  },
  {
   "cell_type": "code",
   "execution_count": 118,
   "id": "5f535bf6-3250-41ad-ae9c-70057d3ec7b8",
   "metadata": {},
   "outputs": [
    {
     "ename": "KeyError",
     "evalue": "'five'",
     "output_type": "error",
     "traceback": [
      "\u001b[0;31m---------------------------------------------------------------------------\u001b[0m",
      "\u001b[0;31mKeyError\u001b[0m                                  Traceback (most recent call last)",
      "Cell \u001b[0;32mIn[118], line 1\u001b[0m\n\u001b[0;32m----> 1\u001b[0m \u001b[43ms\u001b[49m\u001b[38;5;241;43m.\u001b[39;49m\u001b[43mremove\u001b[49m\u001b[43m(\u001b[49m\u001b[38;5;124;43m'\u001b[39;49m\u001b[38;5;124;43mfive\u001b[39;49m\u001b[38;5;124;43m'\u001b[39;49m\u001b[43m)\u001b[49m\n",
      "\u001b[0;31mKeyError\u001b[0m: 'five'"
     ]
    }
   ],
   "source": [
    "s.remove('five')"
   ]
  },
  {
   "cell_type": "code",
   "execution_count": 119,
   "id": "7d1b8f8f-541c-4867-b6ec-97cea5eb3cf7",
   "metadata": {},
   "outputs": [],
   "source": [
    "s.discard('five')"
   ]
  },
  {
   "cell_type": "code",
   "execution_count": 120,
   "id": "07dc16ec-9229-43f8-9a3c-1c09b116879e",
   "metadata": {},
   "outputs": [],
   "source": [
    "set().discard(1)"
   ]
  },
  {
   "cell_type": "code",
   "execution_count": 6,
   "id": "8b3468a2-d23e-44a9-b3e0-8afdb8c025af",
   "metadata": {},
   "outputs": [],
   "source": [
    "def f(x, y, z, *args):\n",
    "    \"\"\"x, y, z are required arguments.\n",
    "       *args allow us to have 0+ additional arguments that we pass as well\n",
    "       \"variable positional arguments\"\n",
    "    \"\"\"\n",
    "    print(x, y, z)\n",
    "    for arg in args:\n",
    "        print(arg)"
   ]
  },
  {
   "cell_type": "code",
   "execution_count": 7,
   "id": "308dd636-7254-4690-840f-c1af7a73db27",
   "metadata": {},
   "outputs": [
    {
     "name": "stdout",
     "output_type": "stream",
     "text": [
      "1 2 3\n"
     ]
    }
   ],
   "source": [
    "f(1, 2, 3)"
   ]
  },
  {
   "cell_type": "code",
   "execution_count": 8,
   "id": "9a322043-aab2-4d0e-931d-8117c2044972",
   "metadata": {},
   "outputs": [
    {
     "name": "stdout",
     "output_type": "stream",
     "text": [
      "1 2 3\n",
      "this\n",
      "that\n",
      "other\n"
     ]
    }
   ],
   "source": [
    "f(1, 2, 3, 'this', 'that', 'other')"
   ]
  },
  {
   "cell_type": "code",
   "execution_count": 12,
   "id": "b4d569d3-d0d6-4736-a07d-c4e30673e0cf",
   "metadata": {},
   "outputs": [
    {
     "name": "stdout",
     "output_type": "stream",
     "text": [
      "1\n",
      "1.2\n",
      "1.3\n",
      "[]\n",
      "{}\n",
      "set()\n",
      "()\n",
      "<built-in function print>\n",
      "<module 'math' from '/Library/Frameworks/Python.framework/Versions/3.13/lib/python3.13/lib-dynload/math.cpython-313-darwin.so'>\n"
     ]
    }
   ],
   "source": [
    "import math\n",
    "# print can accept ANY NUMBER OF ANY TYPE of arguments\n",
    "print(1, 1.2, '1.3', [], {}, set(), (), print, math, sep='\\n')"
   ]
  },
  {
   "cell_type": "code",
   "execution_count": 14,
   "id": "117233d9-de89-4c5c-92f2-6cbe39cf6efb",
   "metadata": {},
   "outputs": [
    {
     "data": {
      "text/plain": [
       "['In',\n",
       " 'Out',\n",
       " '_',\n",
       " '__',\n",
       " '___',\n",
       " '__builtin__',\n",
       " '__builtins__',\n",
       " '__doc__',\n",
       " '__loader__',\n",
       " '__name__',\n",
       " '__package__',\n",
       " '__session__',\n",
       " '__spec__',\n",
       " '_dh',\n",
       " '_i',\n",
       " '_i1',\n",
       " '_i10',\n",
       " '_i11',\n",
       " '_i12',\n",
       " '_i13',\n",
       " '_i14',\n",
       " '_i2',\n",
       " '_i3',\n",
       " '_i4',\n",
       " '_i5',\n",
       " '_i6',\n",
       " '_i7',\n",
       " '_i8',\n",
       " '_i9',\n",
       " '_ih',\n",
       " '_ii',\n",
       " '_iii',\n",
       " '_oh',\n",
       " 'exit',\n",
       " 'f',\n",
       " 'get_ipython',\n",
       " 'math',\n",
       " 'open',\n",
       " 'quit']"
      ]
     },
     "execution_count": 14,
     "metadata": {},
     "output_type": "execute_result"
    }
   ],
   "source": [
    "dir()"
   ]
  },
  {
   "cell_type": "code",
   "execution_count": 29,
   "id": "a81b03ff-e029-4b95-989f-f7ca7dbc6841",
   "metadata": {},
   "outputs": [],
   "source": [
    "def weird_func(x, y, *args, **kwargs):\n",
    "    \"\"\"x and y are required.\n",
    "       *args means we can pass 0+ positional arguments\n",
    "       **kwargs means we can pass 0+ keyword arguments\n",
    "    \"\"\"\n",
    "    print('required positional args:', x, y)\n",
    "    print('optional positional args:', args)\n",
    "    print('optional keyword args: ', kwargs)\n",
    "\n",
    "    if 'color' in kwargs:\n",
    "        print('color is', kwargs['color'])"
   ]
  },
  {
   "cell_type": "code",
   "execution_count": 19,
   "id": "ec82615f-1a96-484d-9bb1-c73f1a638f21",
   "metadata": {},
   "outputs": [
    {
     "ename": "TypeError",
     "evalue": "weird_func() missing 2 required positional arguments: 'x' and 'y'",
     "output_type": "error",
     "traceback": [
      "\u001b[0;31m---------------------------------------------------------------------------\u001b[0m",
      "\u001b[0;31mTypeError\u001b[0m                                 Traceback (most recent call last)",
      "Cell \u001b[0;32mIn[19], line 1\u001b[0m\n\u001b[0;32m----> 1\u001b[0m \u001b[43mweird_func\u001b[49m\u001b[43m(\u001b[49m\u001b[43m)\u001b[49m\n",
      "\u001b[0;31mTypeError\u001b[0m: weird_func() missing 2 required positional arguments: 'x' and 'y'"
     ]
    }
   ],
   "source": [
    "weird_func()"
   ]
  },
  {
   "cell_type": "code",
   "execution_count": 100,
   "id": "6edcc6ce-8d69-4b20-937a-49120ccfa16f",
   "metadata": {},
   "outputs": [
    {
     "ename": "SyntaxError",
     "evalue": "positional argument follows keyword argument (2974532532.py, line 1)",
     "output_type": "error",
     "traceback": [
      "\u001b[0;36m  Cell \u001b[0;32mIn[100], line 1\u001b[0;36m\u001b[0m\n\u001b[0;31m    weird_func(1, 2, 'big', 5, [1, 2], debug=True, color='red', country='USA', 5)\u001b[0m\n\u001b[0m                                                                                ^\u001b[0m\n\u001b[0;31mSyntaxError\u001b[0m\u001b[0;31m:\u001b[0m positional argument follows keyword argument\n"
     ]
    }
   ],
   "source": [
    "weird_func(1, 2, 'big', 5, [1, 2], debug=True, color='red', country='USA')"
   ]
  },
  {
   "cell_type": "code",
   "execution_count": 104,
   "id": "2590c7a6-2351-43f2-aac4-ccf699626797",
   "metadata": {
    "scrolled": true
   },
   "outputs": [
    {
     "ename": "SyntaxError",
     "evalue": "positional argument follows keyword argument (1307129922.py, line 1)",
     "output_type": "error",
     "traceback": [
      "\u001b[0;36m  Cell \u001b[0;32mIn[104], line 1\u001b[0;36m\u001b[0m\n\u001b[0;31m    weird_func(1, 2, 'big', 5, [1, 2], color='red', country='USA', debug=True, 4)\u001b[0m\n\u001b[0m                                                                                ^\u001b[0m\n\u001b[0;31mSyntaxError\u001b[0m\u001b[0;31m:\u001b[0m positional argument follows keyword argument\n"
     ]
    }
   ],
   "source": [
    "weird_func(1, 2, 'big', 5, [1, 2], color='red', country='USA', debug=True)"
   ]
  },
  {
   "cell_type": "code",
   "execution_count": 32,
   "id": "fa8e0487-682d-4ec1-a513-f4efbc0f85f4",
   "metadata": {},
   "outputs": [
    {
     "name": "stdout",
     "output_type": "stream",
     "text": [
      "required positional args: 1 2\n",
      "optional positional args: ('big', 5, [1, 2])\n",
      "optional keyword args:  {'first_name': 'Aarthy', 'country': 'USA', 'debug': True}\n"
     ]
    }
   ],
   "source": [
    "weird_func(1, 2, 'big', 5, [1, 2], first_name='Aarthy', country='USA', debug=True)"
   ]
  },
  {
   "cell_type": "code",
   "execution_count": 95,
   "id": "e2278103-746e-439b-8b61-e3bf8564848b",
   "metadata": {},
   "outputs": [],
   "source": [
    "def name_func(first, last, middle=None):\n",
    "    if middle: # what feature of Python is being demonstrated\n",
    "        print(1, first, middle, last)\n",
    "    else:\n",
    "        print(2, first, last)"
   ]
  },
  {
   "cell_type": "code",
   "execution_count": 35,
   "id": "43076158-6199-4ec8-a046-bbf2bc03aa27",
   "metadata": {},
   "outputs": [
    {
     "name": "stdout",
     "output_type": "stream",
     "text": [
      "Bruce Lee\n"
     ]
    }
   ],
   "source": [
    "name_func('Bruce', 'Lee')"
   ]
  },
  {
   "cell_type": "code",
   "execution_count": 99,
   "id": "f78cf85c-56d8-4cb4-9de6-fdbbbe0708a3",
   "metadata": {},
   "outputs": [
    {
     "name": "stdout",
     "output_type": "stream",
     "text": [
      "1 Venkata Hari Prasad\n"
     ]
    }
   ],
   "source": [
    "name_func('Venkata', 'Prasad', 'Hari')"
   ]
  },
  {
   "cell_type": "code",
   "execution_count": 107,
   "id": "c3ce4b3a-40b0-4db8-8b5e-98dc2999312e",
   "metadata": {},
   "outputs": [
    {
     "name": "stdout",
     "output_type": "stream",
     "text": [
      "1 Albert Sanford Einstein\n"
     ]
    }
   ],
   "source": [
    "# meaning 2 of \"keyword arguments\"\n",
    "# we can (in most cases) pass arguments in any order we wish, as long as we name them\n",
    "name_func('Albert', last='Einstein', middle='Sanford')"
   ]
  },
  {
   "cell_type": "code",
   "execution_count": 109,
   "id": "e6de6101-baad-4ed4-9791-b0f8f09dd4bc",
   "metadata": {},
   "outputs": [],
   "source": [
    "def f(*args, **kwargs):\n",
    "    print(args)\n",
    "    print(kwargs)"
   ]
  },
  {
   "cell_type": "code",
   "execution_count": 114,
   "id": "ebcd6722-2f1e-4a2d-8b14-b2ca3c0c0742",
   "metadata": {},
   "outputs": [
    {
     "name": "stdout",
     "output_type": "stream",
     "text": [
      "()\n",
      "{'debug': True, 'color': 'pink'}\n"
     ]
    }
   ],
   "source": [
    "f(debug=True, color='pink')"
   ]
  },
  {
   "cell_type": "code",
   "execution_count": 146,
   "id": "dac82fe6-962d-4be7-a951-fafc4df69f00",
   "metadata": {},
   "outputs": [],
   "source": [
    "def product(*terms):\n",
    "    \"\"\"Compute the product of all args.\"\"\"\n",
    "    result = 1\n",
    "    for term in terms:\n",
    "        result = result * term # result *= arg\n",
    "\n",
    "    return result"
   ]
  },
  {
   "cell_type": "code",
   "execution_count": 147,
   "id": "f95552cc-9acb-4874-9196-1a922aa32177",
   "metadata": {},
   "outputs": [
    {
     "data": {
      "text/plain": [
       "24"
      ]
     },
     "execution_count": 147,
     "metadata": {},
     "output_type": "execute_result"
    }
   ],
   "source": [
    "product(2, 3, 4) # 2 x 3 x 4 = 24"
   ]
  },
  {
   "cell_type": "code",
   "execution_count": 149,
   "id": "5c8b6fd7-569b-49d5-b052-d54435d6c785",
   "metadata": {},
   "outputs": [
    {
     "data": {
      "text/plain": [
       "-9.6"
      ]
     },
     "execution_count": 149,
     "metadata": {},
     "output_type": "execute_result"
    }
   ],
   "source": [
    "product(-2, 4, 1.2)"
   ]
  },
  {
   "cell_type": "code",
   "execution_count": 52,
   "id": "d7946e93-de82-4a41-b8c5-5d30aeb25641",
   "metadata": {},
   "outputs": [],
   "source": [
    "number = -1.2"
   ]
  },
  {
   "cell_type": "code",
   "execution_count": 53,
   "id": "889ffa29-6a50-49a9-8041-4cc1df78c4d3",
   "metadata": {},
   "outputs": [
    {
     "name": "stdout",
     "output_type": "stream",
     "text": [
      "yep\n"
     ]
    }
   ],
   "source": [
    "if number: # is this thing \"considered\" True\n",
    "    print('yep')"
   ]
  },
  {
   "cell_type": "code",
   "execution_count": 51,
   "id": "ba8e8e77-bbc2-4ede-8d2b-62a4366bd852",
   "metadata": {},
   "outputs": [
    {
     "data": {
      "text/plain": [
       "False"
      ]
     },
     "execution_count": 51,
     "metadata": {},
     "output_type": "execute_result"
    }
   ],
   "source": [
    "number == True"
   ]
  },
  {
   "cell_type": "code",
   "execution_count": 57,
   "id": "c948443c-d4b8-4549-84a5-85722128b228",
   "metadata": {},
   "outputs": [],
   "source": [
    "name = 'Taylor Swift'"
   ]
  },
  {
   "cell_type": "code",
   "execution_count": 59,
   "id": "e432344b-2561-4fa3-ba93-ac9102ed2301",
   "metadata": {},
   "outputs": [
    {
     "name": "stdout",
     "output_type": "stream",
     "text": [
      "Hi Taylor Swift\n"
     ]
    }
   ],
   "source": [
    "if name: # if name is a non-empty container\n",
    "    print('Hi', name)"
   ]
  },
  {
   "cell_type": "code",
   "execution_count": 62,
   "id": "1b57e1b6-88db-4708-8f07-da0662b018b6",
   "metadata": {},
   "outputs": [],
   "source": [
    "names = 'Dave Evgeni Ram Yadi'.split()"
   ]
  },
  {
   "cell_type": "code",
   "execution_count": 68,
   "id": "4d15cd6f-f4c0-42bc-aef1-572922735138",
   "metadata": {},
   "outputs": [
    {
     "name": "stdout",
     "output_type": "stream",
     "text": [
      "Here are the names: Dave, Evgeni, Ram, Yadi\n"
     ]
    }
   ],
   "source": [
    "if names:\n",
    "    print('Here are the names:', end=' ')\n",
    "    print(*names, sep=', ') # * = \"unpack\" operator"
   ]
  },
  {
   "cell_type": "code",
   "execution_count": 70,
   "id": "31108665-9b2a-427f-bd80-5c9c91035eab",
   "metadata": {},
   "outputs": [
    {
     "name": "stdout",
     "output_type": "stream",
     "text": [
      "Dave, Evgeni, Ram, Yadi\n"
     ]
    }
   ],
   "source": [
    "print(names[0], names[1], names[2], names[3], sep=', ')"
   ]
  },
  {
   "cell_type": "code",
   "execution_count": 71,
   "id": "bf40ada7-df71-4540-8e2e-1caa7bf48ddd",
   "metadata": {},
   "outputs": [
    {
     "data": {
      "text/plain": [
       "[0, 1, 2, 3, 4, 5, 6, 7, 8, 9]"
      ]
     },
     "execution_count": 71,
     "metadata": {},
     "output_type": "execute_result"
    }
   ],
   "source": [
    "nums = list(range(10))\n",
    "nums"
   ]
  },
  {
   "cell_type": "code",
   "execution_count": 76,
   "id": "54334fc5-35dd-4630-b6a8-357da3b4c53e",
   "metadata": {},
   "outputs": [],
   "source": [
    "first, second, *rest, penultimate, ultimate = nums"
   ]
  },
  {
   "cell_type": "code",
   "execution_count": 77,
   "id": "8ed3cd7c-6a7a-486e-935a-ca2af8a87334",
   "metadata": {},
   "outputs": [
    {
     "data": {
      "text/plain": [
       "0"
      ]
     },
     "execution_count": 77,
     "metadata": {},
     "output_type": "execute_result"
    }
   ],
   "source": [
    "first"
   ]
  },
  {
   "cell_type": "code",
   "execution_count": 78,
   "id": "85436640-0054-4a4d-b769-4f240e94092e",
   "metadata": {},
   "outputs": [
    {
     "data": {
      "text/plain": [
       "1"
      ]
     },
     "execution_count": 78,
     "metadata": {},
     "output_type": "execute_result"
    }
   ],
   "source": [
    "second"
   ]
  },
  {
   "cell_type": "code",
   "execution_count": 79,
   "id": "dafb50c7-ebb4-46c2-a2a6-552ed99765fa",
   "metadata": {},
   "outputs": [
    {
     "data": {
      "text/plain": [
       "8"
      ]
     },
     "execution_count": 79,
     "metadata": {},
     "output_type": "execute_result"
    }
   ],
   "source": [
    "penultimate"
   ]
  },
  {
   "cell_type": "code",
   "execution_count": 80,
   "id": "9e68acbe-98c1-47dd-9da3-ee67b0a0dc07",
   "metadata": {},
   "outputs": [
    {
     "data": {
      "text/plain": [
       "9"
      ]
     },
     "execution_count": 80,
     "metadata": {},
     "output_type": "execute_result"
    }
   ],
   "source": [
    "ultimate"
   ]
  },
  {
   "cell_type": "code",
   "execution_count": 81,
   "id": "23668d04-f909-4035-a318-a0e65fda4937",
   "metadata": {},
   "outputs": [
    {
     "data": {
      "text/plain": [
       "[2, 3, 4, 5, 6, 7]"
      ]
     },
     "execution_count": 81,
     "metadata": {},
     "output_type": "execute_result"
    }
   ],
   "source": [
    "rest"
   ]
  },
  {
   "cell_type": "code",
   "execution_count": 84,
   "id": "f9ccde54-a124-44c6-bfb1-9322dff03780",
   "metadata": {},
   "outputs": [
    {
     "data": {
      "text/plain": [
       "['a', 'b', 'c']"
      ]
     },
     "execution_count": 84,
     "metadata": {},
     "output_type": "execute_result"
    }
   ],
   "source": [
    "letters = 'a b c'.split() # makes a list of 'a', 'b', 'c'\n",
    "letters"
   ]
  },
  {
   "cell_type": "code",
   "execution_count": 85,
   "id": "76621e38-b6f8-4cde-ba65-268b0a466ad2",
   "metadata": {},
   "outputs": [
    {
     "name": "stdout",
     "output_type": "stream",
     "text": [
      "['a', 'b', 'c']\n"
     ]
    }
   ],
   "source": [
    "print(letters)"
   ]
  },
  {
   "cell_type": "code",
   "execution_count": 87,
   "id": "293e518b-6df1-42b5-9ce3-a4b65bbf8fe7",
   "metadata": {},
   "outputs": [
    {
     "name": "stdout",
     "output_type": "stream",
     "text": [
      "a, b, c\n"
     ]
    }
   ],
   "source": [
    "print(letters[0], letters[1], letters[2], sep=', ')"
   ]
  },
  {
   "cell_type": "code",
   "execution_count": 89,
   "id": "7714882f-703a-4bd2-8c44-1cd2ab93c53d",
   "metadata": {},
   "outputs": [
    {
     "name": "stdout",
     "output_type": "stream",
     "text": [
      "a, b, c\n"
     ]
    }
   ],
   "source": [
    "print(*letters, sep=', ') # we are printing how many strings? 3"
   ]
  },
  {
   "cell_type": "code",
   "execution_count": 90,
   "id": "a981a773-f58b-41da-9cb1-7b7ba8c8a400",
   "metadata": {},
   "outputs": [
    {
     "data": {
      "text/plain": [
       "'a, b, c'"
      ]
     },
     "execution_count": 90,
     "metadata": {},
     "output_type": "execute_result"
    }
   ],
   "source": [
    "', '.join(letters) # concatenate all of the strings in letters with a ', ' between each pair"
   ]
  },
  {
   "cell_type": "code",
   "execution_count": 92,
   "id": "c3f4a695-6120-40ce-8599-a3e291494c02",
   "metadata": {},
   "outputs": [
    {
     "name": "stdout",
     "output_type": "stream",
     "text": [
      "a b c\n"
     ]
    }
   ],
   "source": [
    "print(' '.join(letters)) # we are printing ONE string"
   ]
  },
  {
   "cell_type": "code",
   "execution_count": 119,
   "id": "ff342873-fa66-40ab-a5ab-f9164ce54f41",
   "metadata": {},
   "outputs": [],
   "source": [
    "words = 'apple pear banana fig'.split()"
   ]
  },
  {
   "cell_type": "code",
   "execution_count": 120,
   "id": "2abd0644-81ff-40c2-bd16-2d92a0b2ed04",
   "metadata": {},
   "outputs": [
    {
     "data": {
      "text/plain": [
       "['pear', 'fig', 'banana', 'apple']"
      ]
     },
     "execution_count": 120,
     "metadata": {},
     "output_type": "execute_result"
    }
   ],
   "source": [
    "sorted(words, reverse=True)"
   ]
  },
  {
   "cell_type": "code",
   "execution_count": 122,
   "id": "f2022e5d-794d-4229-974c-561a8d27b405",
   "metadata": {},
   "outputs": [
    {
     "data": {
      "text/plain": [
       "['banana', 'apple', 'pear', 'fig']"
      ]
     },
     "execution_count": 122,
     "metadata": {},
     "output_type": "execute_result"
    }
   ],
   "source": [
    "sorted(words, key=len, reverse=True)"
   ]
  },
  {
   "cell_type": "code",
   "execution_count": 123,
   "id": "00eb6422-2769-4606-9a68-4c4668052d1a",
   "metadata": {},
   "outputs": [
    {
     "ename": "SyntaxError",
     "evalue": "invalid syntax (2984684956.py, line 1)",
     "output_type": "error",
     "traceback": [
      "\u001b[0;36m  Cell \u001b[0;32mIn[123], line 1\u001b[0;36m\u001b[0m\n\u001b[0;31m    x := 1\u001b[0m\n\u001b[0m      ^\u001b[0m\n\u001b[0;31mSyntaxError\u001b[0m\u001b[0;31m:\u001b[0m invalid syntax\n"
     ]
    }
   ],
   "source": [
    "x := 1"
   ]
  },
  {
   "cell_type": "code",
   "execution_count": 125,
   "id": "315229e2-cf2f-480f-8808-634e2903f0d7",
   "metadata": {},
   "outputs": [],
   "source": [
    "x = 1"
   ]
  },
  {
   "cell_type": "code",
   "execution_count": 128,
   "id": "9f45d480-5fd8-47ce-bb9e-0fe9607e4d63",
   "metadata": {},
   "outputs": [
    {
     "data": {
      "text/plain": [
       "['apple']"
      ]
     },
     "execution_count": 128,
     "metadata": {},
     "output_type": "execute_result"
    }
   ],
   "source": [
    "'apple'.split()"
   ]
  },
  {
   "cell_type": "code",
   "execution_count": 129,
   "id": "e09e810c-85b0-4bbb-851a-5fea35eb155e",
   "metadata": {},
   "outputs": [],
   "source": [
    "fruit = 'fig'"
   ]
  },
  {
   "cell_type": "code",
   "execution_count": 130,
   "id": "2e26796c-ccd6-4c83-acb2-ac0e057eb4f4",
   "metadata": {},
   "outputs": [
    {
     "data": {
      "text/plain": [
       "'FIG'"
      ]
     },
     "execution_count": 130,
     "metadata": {},
     "output_type": "execute_result"
    }
   ],
   "source": [
    "fruit.upper()"
   ]
  },
  {
   "cell_type": "code",
   "execution_count": 132,
   "id": "6558021b-cc55-45ab-8472-cd02851ab497",
   "metadata": {},
   "outputs": [],
   "source": [
    "fruit = fruit.upper()"
   ]
  },
  {
   "cell_type": "code",
   "execution_count": 133,
   "id": "d71310f3-ba36-42df-ae7e-7cae08671258",
   "metadata": {},
   "outputs": [
    {
     "data": {
      "text/plain": [
       "'FIG'"
      ]
     },
     "execution_count": 133,
     "metadata": {},
     "output_type": "execute_result"
    }
   ],
   "source": [
    "fruit"
   ]
  },
  {
   "cell_type": "code",
   "execution_count": 134,
   "id": "30e16d9b-4b9e-4be6-8ec8-09eca695a8be",
   "metadata": {},
   "outputs": [],
   "source": [
    "fruits = 'apple fig'.split()"
   ]
  },
  {
   "cell_type": "code",
   "execution_count": 135,
   "id": "6e677782-b986-4e6e-93d4-6fee684b3144",
   "metadata": {},
   "outputs": [
    {
     "data": {
      "text/plain": [
       "['apple', 'fig']"
      ]
     },
     "execution_count": 135,
     "metadata": {},
     "output_type": "execute_result"
    }
   ],
   "source": [
    "fruits"
   ]
  },
  {
   "cell_type": "code",
   "execution_count": 136,
   "id": "6abcd318-3839-4024-a0c1-31299178a980",
   "metadata": {},
   "outputs": [
    {
     "ename": "AttributeError",
     "evalue": "'list' object has no attribute 'upper'",
     "output_type": "error",
     "traceback": [
      "\u001b[0;31m---------------------------------------------------------------------------\u001b[0m",
      "\u001b[0;31mAttributeError\u001b[0m                            Traceback (most recent call last)",
      "Cell \u001b[0;32mIn[136], line 1\u001b[0m\n\u001b[0;32m----> 1\u001b[0m \u001b[43mfruits\u001b[49m\u001b[38;5;241;43m.\u001b[39;49m\u001b[43mupper\u001b[49m()\n",
      "\u001b[0;31mAttributeError\u001b[0m: 'list' object has no attribute 'upper'"
     ]
    }
   ],
   "source": [
    "fruits.upper()"
   ]
  },
  {
   "cell_type": "code",
   "execution_count": 138,
   "id": "dbbb07d1-8179-45db-a9af-57ef6c9934cf",
   "metadata": {},
   "outputs": [],
   "source": [
    "fruits.insert(1, 'pear') # mutator method"
   ]
  },
  {
   "cell_type": "code",
   "execution_count": 139,
   "id": "e4198347-468c-47f2-a5ae-02325925f7dc",
   "metadata": {
    "scrolled": true
   },
   "outputs": [
    {
     "data": {
      "text/plain": [
       "['apple', 'pear', 'fig']"
      ]
     },
     "execution_count": 139,
     "metadata": {},
     "output_type": "execute_result"
    }
   ],
   "source": [
    "fruits"
   ]
  },
  {
   "cell_type": "code",
   "execution_count": 140,
   "id": "bb70d8fe-03e1-4cfa-90ca-40fecbe944a9",
   "metadata": {
    "collapsed": true,
    "jupyter": {
     "outputs_hidden": true
    }
   },
   "outputs": [
    {
     "name": "stdout",
     "output_type": "stream",
     "text": [
      "Help on built-in function count:\n",
      "\n",
      "count(value, /) method of builtins.list instance\n",
      "    Return number of occurrences of value.\n",
      "\n"
     ]
    }
   ],
   "source": [
    "help(fruits.count)"
   ]
  },
  {
   "cell_type": "code",
   "execution_count": 141,
   "id": "e67cfa29-4482-4dd2-9e26-c85629cf1038",
   "metadata": {},
   "outputs": [
    {
     "data": {
      "text/plain": [
       "1"
      ]
     },
     "execution_count": 141,
     "metadata": {},
     "output_type": "execute_result"
    }
   ],
   "source": [
    "fruits.count('fig') # inspector method"
   ]
  },
  {
   "cell_type": "code",
   "execution_count": 142,
   "id": "2e7e3992-83f4-4cbc-8a3e-64b3af8f721e",
   "metadata": {},
   "outputs": [
    {
     "name": "stdout",
     "output_type": "stream",
     "text": [
      "Help on class list in module builtins:\n",
      "\n",
      "class list(object)\n",
      " |  list(iterable=(), /)\n",
      " |\n",
      " |  Built-in mutable sequence.\n",
      " |\n",
      " |  If no argument is given, the constructor creates a new empty list.\n",
      " |  The argument must be an iterable if specified.\n",
      " |\n",
      " |  Methods defined here:\n",
      " |\n",
      " |  __add__(self, value, /)\n",
      " |      Return self+value.\n",
      " |\n",
      " |  __contains__(self, key, /)\n",
      " |      Return bool(key in self).\n",
      " |\n",
      " |  __delitem__(self, key, /)\n",
      " |      Delete self[key].\n",
      " |\n",
      " |  __eq__(self, value, /)\n",
      " |      Return self==value.\n",
      " |\n",
      " |  __ge__(self, value, /)\n",
      " |      Return self>=value.\n",
      " |\n",
      " |  __getattribute__(self, name, /)\n",
      " |      Return getattr(self, name).\n",
      " |\n",
      " |  __getitem__(self, index, /)\n",
      " |      Return self[index].\n",
      " |\n",
      " |  __gt__(self, value, /)\n",
      " |      Return self>value.\n",
      " |\n",
      " |  __iadd__(self, value, /)\n",
      " |      Implement self+=value.\n",
      " |\n",
      " |  __imul__(self, value, /)\n",
      " |      Implement self*=value.\n",
      " |\n",
      " |  __init__(self, /, *args, **kwargs)\n",
      " |      Initialize self.  See help(type(self)) for accurate signature.\n",
      " |\n",
      " |  __iter__(self, /)\n",
      " |      Implement iter(self).\n",
      " |\n",
      " |  __le__(self, value, /)\n",
      " |      Return self<=value.\n",
      " |\n",
      " |  __len__(self, /)\n",
      " |      Return len(self).\n",
      " |\n",
      " |  __lt__(self, value, /)\n",
      " |      Return self<value.\n",
      " |\n",
      " |  __mul__(self, value, /)\n",
      " |      Return self*value.\n",
      " |\n",
      " |  __ne__(self, value, /)\n",
      " |      Return self!=value.\n",
      " |\n",
      " |  __repr__(self, /)\n",
      " |      Return repr(self).\n",
      " |\n",
      " |  __reversed__(self, /)\n",
      " |      Return a reverse iterator over the list.\n",
      " |\n",
      " |  __rmul__(self, value, /)\n",
      " |      Return value*self.\n",
      " |\n",
      " |  __setitem__(self, key, value, /)\n",
      " |      Set self[key] to value.\n",
      " |\n",
      " |  __sizeof__(self, /)\n",
      " |      Return the size of the list in memory, in bytes.\n",
      " |\n",
      " |  append(self, object, /)\n",
      " |      Append object to the end of the list.\n",
      " |\n",
      " |  clear(self, /)\n",
      " |      Remove all items from list.\n",
      " |\n",
      " |  copy(self, /)\n",
      " |      Return a shallow copy of the list.\n",
      " |\n",
      " |  count(self, value, /)\n",
      " |      Return number of occurrences of value.\n",
      " |\n",
      " |  extend(self, iterable, /)\n",
      " |      Extend list by appending elements from the iterable.\n",
      " |\n",
      " |  index(self, value, start=0, stop=9223372036854775807, /)\n",
      " |      Return first index of value.\n",
      " |\n",
      " |      Raises ValueError if the value is not present.\n",
      " |\n",
      " |  insert(self, index, object, /)\n",
      " |      Insert object before index.\n",
      " |\n",
      " |  pop(self, index=-1, /)\n",
      " |      Remove and return item at index (default last).\n",
      " |\n",
      " |      Raises IndexError if list is empty or index is out of range.\n",
      " |\n",
      " |  remove(self, value, /)\n",
      " |      Remove first occurrence of value.\n",
      " |\n",
      " |      Raises ValueError if the value is not present.\n",
      " |\n",
      " |  reverse(self, /)\n",
      " |      Reverse *IN PLACE*.\n",
      " |\n",
      " |  sort(self, /, *, key=None, reverse=False)\n",
      " |      Sort the list in ascending order and return None.\n",
      " |\n",
      " |      The sort is in-place (i.e. the list itself is modified) and stable (i.e. the\n",
      " |      order of two equal elements is maintained).\n",
      " |\n",
      " |      If a key function is given, apply it once to each list item and sort them,\n",
      " |      ascending or descending, according to their function values.\n",
      " |\n",
      " |      The reverse flag can be set to sort in descending order.\n",
      " |\n",
      " |  ----------------------------------------------------------------------\n",
      " |  Class methods defined here:\n",
      " |\n",
      " |  __class_getitem__(object, /)\n",
      " |      See PEP 585\n",
      " |\n",
      " |  ----------------------------------------------------------------------\n",
      " |  Static methods defined here:\n",
      " |\n",
      " |  __new__(*args, **kwargs)\n",
      " |      Create and return a new object.  See help(type) for accurate signature.\n",
      " |\n",
      " |  ----------------------------------------------------------------------\n",
      " |  Data and other attributes defined here:\n",
      " |\n",
      " |  __hash__ = None\n",
      "\n"
     ]
    }
   ],
   "source": [
    "help(list)"
   ]
  },
  {
   "cell_type": "code",
   "execution_count": 143,
   "id": "e4e9613f-f294-47c0-bbe5-889a62350774",
   "metadata": {},
   "outputs": [],
   "source": [
    "from bank import BankAccount"
   ]
  },
  {
   "cell_type": "code",
   "execution_count": 144,
   "id": "070692e7-b718-4140-a340-18be8bb45b96",
   "metadata": {},
   "outputs": [
    {
     "ename": "TypeError",
     "evalue": "BankAccount.__init__() takes 3 positional arguments but 4 were given",
     "output_type": "error",
     "traceback": [
      "\u001b[0;31m---------------------------------------------------------------------------\u001b[0m",
      "\u001b[0;31mTypeError\u001b[0m                                 Traceback (most recent call last)",
      "Cell \u001b[0;32mIn[144], line 1\u001b[0m\n\u001b[0;32m----> 1\u001b[0m ba \u001b[38;5;241m=\u001b[39m \u001b[43mBankAccount\u001b[49m\u001b[43m(\u001b[49m\u001b[38;5;124;43m'\u001b[39;49m\u001b[38;5;124;43mself\u001b[39;49m\u001b[38;5;124;43m'\u001b[39;49m\u001b[43m,\u001b[49m\u001b[43m \u001b[49m\u001b[38;5;124;43m'\u001b[39;49m\u001b[38;5;124;43mBruce Lee\u001b[39;49m\u001b[38;5;124;43m'\u001b[39;49m\u001b[43m,\u001b[49m\u001b[43m \u001b[49m\u001b[38;5;241;43m150\u001b[39;49m\u001b[43m)\u001b[49m\n",
      "\u001b[0;31mTypeError\u001b[0m: BankAccount.__init__() takes 3 positional arguments but 4 were given"
     ]
    }
   ],
   "source": [
    "ba = BankAccount('self', 'Bruce Lee', 150)"
   ]
  },
  {
   "cell_type": "code",
   "execution_count": 145,
   "id": "898a05f2-a55a-4e29-abdb-7158565fc7d0",
   "metadata": {},
   "outputs": [
    {
     "ename": "TypeError",
     "evalue": "BankAccount.__init__() missing 1 required positional argument: 'initial_balance'",
     "output_type": "error",
     "traceback": [
      "\u001b[0;31m---------------------------------------------------------------------------\u001b[0m",
      "\u001b[0;31mTypeError\u001b[0m                                 Traceback (most recent call last)",
      "Cell \u001b[0;32mIn[145], line 1\u001b[0m\n\u001b[0;32m----> 1\u001b[0m ba \u001b[38;5;241m=\u001b[39m \u001b[43mBankAccount\u001b[49m\u001b[43m(\u001b[49m\u001b[38;5;241;43m150\u001b[39;49m\u001b[43m)\u001b[49m\n",
      "\u001b[0;31mTypeError\u001b[0m: BankAccount.__init__() missing 1 required positional argument: 'initial_balance'"
     ]
    }
   ],
   "source": [
    "ba = BankAccount(150)"
   ]
  },
  {
   "cell_type": "code",
   "execution_count": 159,
   "id": "05986058-4c05-4910-a6a2-f6e73e75669e",
   "metadata": {},
   "outputs": [],
   "source": [
    "class Person:\n",
    "    def name(self):\n",
    "        return self.name"
   ]
  },
  {
   "cell_type": "code",
   "execution_count": 160,
   "id": "a5d1313d-d90c-486f-b581-ef76e0284608",
   "metadata": {},
   "outputs": [],
   "source": [
    "p = Person()"
   ]
  },
  {
   "cell_type": "code",
   "execution_count": 152,
   "id": "4a1f3990-d569-42d0-9b1c-82b2179f9a4e",
   "metadata": {},
   "outputs": [
    {
     "data": {
      "text/plain": [
       "__main__.Person"
      ]
     },
     "execution_count": 152,
     "metadata": {},
     "output_type": "execute_result"
    }
   ],
   "source": [
    "type(p)"
   ]
  },
  {
   "cell_type": "code",
   "execution_count": 156,
   "id": "98ac9294-a177-424f-b3fb-004e0cc27447",
   "metadata": {},
   "outputs": [],
   "source": [
    "p.name = 'Dave'"
   ]
  },
  {
   "cell_type": "code",
   "execution_count": 157,
   "id": "c2f17773-8dcd-4542-8959-50a5504400b6",
   "metadata": {},
   "outputs": [],
   "source": [
    "p.foo = 'bar'"
   ]
  },
  {
   "cell_type": "code",
   "execution_count": 162,
   "id": "039f8b9b-9328-4d01-aca8-abe6edfc8432",
   "metadata": {},
   "outputs": [
    {
     "data": {
      "text/plain": [
       "{}"
      ]
     },
     "execution_count": 162,
     "metadata": {},
     "output_type": "execute_result"
    }
   ],
   "source": [
    "vars(p)"
   ]
  },
  {
   "cell_type": "code",
   "execution_count": 163,
   "id": "60195c4d-a5df-4a41-911a-120f1d6a47d4",
   "metadata": {},
   "outputs": [
    {
     "data": {
      "text/plain": [
       "{}"
      ]
     },
     "execution_count": 163,
     "metadata": {},
     "output_type": "execute_result"
    }
   ],
   "source": [
    "p.__dict__"
   ]
  },
  {
   "cell_type": "code",
   "execution_count": 153,
   "id": "c088c4f4-4b5e-4cbc-a920-dfbe6361c6b4",
   "metadata": {},
   "outputs": [],
   "source": [
    "from bank import BankAccount # grab the BankAccount class from the bank.py file/module"
   ]
  },
  {
   "cell_type": "code",
   "execution_count": 154,
   "id": "b4b74d0f-3a07-4ac1-ac49-f2377f66f547",
   "metadata": {},
   "outputs": [],
   "source": [
    "ba = BankAccount('me', 1)"
   ]
  },
  {
   "cell_type": "code",
   "execution_count": 155,
   "id": "74d43dd9-9db5-4b99-96cc-9243ad6109cd",
   "metadata": {},
   "outputs": [
    {
     "data": {
      "text/plain": [
       "bank.BankAccount"
      ]
     },
     "execution_count": 155,
     "metadata": {},
     "output_type": "execute_result"
    }
   ],
   "source": [
    "type(ba)"
   ]
  },
  {
   "cell_type": "code",
   "execution_count": 164,
   "id": "8c7225ac-fee8-4946-94b9-4abbe3a8c13e",
   "metadata": {},
   "outputs": [
    {
     "data": {
      "text/plain": [
       "['__doc__',\n",
       " '__file__',\n",
       " '__loader__',\n",
       " '__name__',\n",
       " '__package__',\n",
       " '__spec__',\n",
       " 'acos',\n",
       " 'acosh',\n",
       " 'asin',\n",
       " 'asinh',\n",
       " 'atan',\n",
       " 'atan2',\n",
       " 'atanh',\n",
       " 'cbrt',\n",
       " 'ceil',\n",
       " 'comb',\n",
       " 'copysign',\n",
       " 'cos',\n",
       " 'cosh',\n",
       " 'degrees',\n",
       " 'dist',\n",
       " 'e',\n",
       " 'erf',\n",
       " 'erfc',\n",
       " 'exp',\n",
       " 'exp2',\n",
       " 'expm1',\n",
       " 'fabs',\n",
       " 'factorial',\n",
       " 'floor',\n",
       " 'fma',\n",
       " 'fmod',\n",
       " 'frexp',\n",
       " 'fsum',\n",
       " 'gamma',\n",
       " 'gcd',\n",
       " 'hypot',\n",
       " 'inf',\n",
       " 'isclose',\n",
       " 'isfinite',\n",
       " 'isinf',\n",
       " 'isnan',\n",
       " 'isqrt',\n",
       " 'lcm',\n",
       " 'ldexp',\n",
       " 'lgamma',\n",
       " 'log',\n",
       " 'log10',\n",
       " 'log1p',\n",
       " 'log2',\n",
       " 'modf',\n",
       " 'nan',\n",
       " 'nextafter',\n",
       " 'perm',\n",
       " 'pi',\n",
       " 'pow',\n",
       " 'prod',\n",
       " 'radians',\n",
       " 'remainder',\n",
       " 'sin',\n",
       " 'sinh',\n",
       " 'sqrt',\n",
       " 'sumprod',\n",
       " 'tan',\n",
       " 'tanh',\n",
       " 'tau',\n",
       " 'trunc',\n",
       " 'ulp']"
      ]
     },
     "execution_count": 164,
     "metadata": {},
     "output_type": "execute_result"
    }
   ],
   "source": [
    "import math\n",
    "dir(math)"
   ]
  },
  {
   "cell_type": "code",
   "execution_count": 165,
   "id": "d4a352fb-2e82-49c8-a478-9b2cff973016",
   "metadata": {},
   "outputs": [
    {
     "name": "stdout",
     "output_type": "stream",
     "text": [
      "Help on module math:\n",
      "\n",
      "NAME\n",
      "    math\n",
      "\n",
      "MODULE REFERENCE\n",
      "    https://docs.python.org/3.13/library/math.html\n",
      "\n",
      "    The following documentation is automatically generated from the Python\n",
      "    source files.  It may be incomplete, incorrect or include features that\n",
      "    are considered implementation detail and may vary between Python\n",
      "    implementations.  When in doubt, consult the module reference at the\n",
      "    location listed above.\n",
      "\n",
      "DESCRIPTION\n",
      "    This module provides access to the mathematical functions\n",
      "    defined by the C standard.\n",
      "\n",
      "FUNCTIONS\n",
      "    acos(x, /)\n",
      "        Return the arc cosine (measured in radians) of x.\n",
      "\n",
      "        The result is between 0 and pi.\n",
      "\n",
      "    acosh(x, /)\n",
      "        Return the inverse hyperbolic cosine of x.\n",
      "\n",
      "    asin(x, /)\n",
      "        Return the arc sine (measured in radians) of x.\n",
      "\n",
      "        The result is between -pi/2 and pi/2.\n",
      "\n",
      "    asinh(x, /)\n",
      "        Return the inverse hyperbolic sine of x.\n",
      "\n",
      "    atan(x, /)\n",
      "        Return the arc tangent (measured in radians) of x.\n",
      "\n",
      "        The result is between -pi/2 and pi/2.\n",
      "\n",
      "    atan2(y, x, /)\n",
      "        Return the arc tangent (measured in radians) of y/x.\n",
      "\n",
      "        Unlike atan(y/x), the signs of both x and y are considered.\n",
      "\n",
      "    atanh(x, /)\n",
      "        Return the inverse hyperbolic tangent of x.\n",
      "\n",
      "    cbrt(x, /)\n",
      "        Return the cube root of x.\n",
      "\n",
      "    ceil(x, /)\n",
      "        Return the ceiling of x as an Integral.\n",
      "\n",
      "        This is the smallest integer >= x.\n",
      "\n",
      "    comb(n, k, /)\n",
      "        Number of ways to choose k items from n items without repetition and without order.\n",
      "\n",
      "        Evaluates to n! / (k! * (n - k)!) when k <= n and evaluates\n",
      "        to zero when k > n.\n",
      "\n",
      "        Also called the binomial coefficient because it is equivalent\n",
      "        to the coefficient of k-th term in polynomial expansion of the\n",
      "        expression (1 + x)**n.\n",
      "\n",
      "        Raises TypeError if either of the arguments are not integers.\n",
      "        Raises ValueError if either of the arguments are negative.\n",
      "\n",
      "    copysign(x, y, /)\n",
      "        Return a float with the magnitude (absolute value) of x but the sign of y.\n",
      "\n",
      "        On platforms that support signed zeros, copysign(1.0, -0.0)\n",
      "        returns -1.0.\n",
      "\n",
      "    cos(x, /)\n",
      "        Return the cosine of x (measured in radians).\n",
      "\n",
      "    cosh(x, /)\n",
      "        Return the hyperbolic cosine of x.\n",
      "\n",
      "    degrees(x, /)\n",
      "        Convert angle x from radians to degrees.\n",
      "\n",
      "    dist(p, q, /)\n",
      "        Return the Euclidean distance between two points p and q.\n",
      "\n",
      "        The points should be specified as sequences (or iterables) of\n",
      "        coordinates.  Both inputs must have the same dimension.\n",
      "\n",
      "        Roughly equivalent to:\n",
      "            sqrt(sum((px - qx) ** 2.0 for px, qx in zip(p, q)))\n",
      "\n",
      "    erf(x, /)\n",
      "        Error function at x.\n",
      "\n",
      "    erfc(x, /)\n",
      "        Complementary error function at x.\n",
      "\n",
      "    exp(x, /)\n",
      "        Return e raised to the power of x.\n",
      "\n",
      "    exp2(x, /)\n",
      "        Return 2 raised to the power of x.\n",
      "\n",
      "    expm1(x, /)\n",
      "        Return exp(x)-1.\n",
      "\n",
      "        This function avoids the loss of precision involved in the direct evaluation of exp(x)-1 for small x.\n",
      "\n",
      "    fabs(x, /)\n",
      "        Return the absolute value of the float x.\n",
      "\n",
      "    factorial(n, /)\n",
      "        Find n!.\n",
      "\n",
      "        Raise a ValueError if x is negative or non-integral.\n",
      "\n",
      "    floor(x, /)\n",
      "        Return the floor of x as an Integral.\n",
      "\n",
      "        This is the largest integer <= x.\n",
      "\n",
      "    fma(x, y, z, /)\n",
      "        Fused multiply-add operation.\n",
      "\n",
      "        Compute (x * y) + z with a single round.\n",
      "\n",
      "    fmod(x, y, /)\n",
      "        Return fmod(x, y), according to platform C.\n",
      "\n",
      "        x % y may differ.\n",
      "\n",
      "    frexp(x, /)\n",
      "        Return the mantissa and exponent of x, as pair (m, e).\n",
      "\n",
      "        m is a float and e is an int, such that x = m * 2.**e.\n",
      "        If x is 0, m and e are both 0.  Else 0.5 <= abs(m) < 1.0.\n",
      "\n",
      "    fsum(seq, /)\n",
      "        Return an accurate floating-point sum of values in the iterable seq.\n",
      "\n",
      "        Assumes IEEE-754 floating-point arithmetic.\n",
      "\n",
      "    gamma(x, /)\n",
      "        Gamma function at x.\n",
      "\n",
      "    gcd(*integers)\n",
      "        Greatest Common Divisor.\n",
      "\n",
      "    hypot(...)\n",
      "        hypot(*coordinates) -> value\n",
      "\n",
      "        Multidimensional Euclidean distance from the origin to a point.\n",
      "\n",
      "        Roughly equivalent to:\n",
      "            sqrt(sum(x**2 for x in coordinates))\n",
      "\n",
      "        For a two dimensional point (x, y), gives the hypotenuse\n",
      "        using the Pythagorean theorem:  sqrt(x*x + y*y).\n",
      "\n",
      "        For example, the hypotenuse of a 3/4/5 right triangle is:\n",
      "\n",
      "            >>> hypot(3.0, 4.0)\n",
      "            5.0\n",
      "\n",
      "    isclose(a, b, *, rel_tol=1e-09, abs_tol=0.0)\n",
      "        Determine whether two floating-point numbers are close in value.\n",
      "\n",
      "          rel_tol\n",
      "            maximum difference for being considered \"close\", relative to the\n",
      "            magnitude of the input values\n",
      "          abs_tol\n",
      "            maximum difference for being considered \"close\", regardless of the\n",
      "            magnitude of the input values\n",
      "\n",
      "        Return True if a is close in value to b, and False otherwise.\n",
      "\n",
      "        For the values to be considered close, the difference between them\n",
      "        must be smaller than at least one of the tolerances.\n",
      "\n",
      "        -inf, inf and NaN behave similarly to the IEEE 754 Standard.  That\n",
      "        is, NaN is not close to anything, even itself.  inf and -inf are\n",
      "        only close to themselves.\n",
      "\n",
      "    isfinite(x, /)\n",
      "        Return True if x is neither an infinity nor a NaN, and False otherwise.\n",
      "\n",
      "    isinf(x, /)\n",
      "        Return True if x is a positive or negative infinity, and False otherwise.\n",
      "\n",
      "    isnan(x, /)\n",
      "        Return True if x is a NaN (not a number), and False otherwise.\n",
      "\n",
      "    isqrt(n, /)\n",
      "        Return the integer part of the square root of the input.\n",
      "\n",
      "    lcm(*integers)\n",
      "        Least Common Multiple.\n",
      "\n",
      "    ldexp(x, i, /)\n",
      "        Return x * (2**i).\n",
      "\n",
      "        This is essentially the inverse of frexp().\n",
      "\n",
      "    lgamma(x, /)\n",
      "        Natural logarithm of absolute value of Gamma function at x.\n",
      "\n",
      "    log(...)\n",
      "        log(x, [base=math.e])\n",
      "        Return the logarithm of x to the given base.\n",
      "\n",
      "        If the base is not specified, returns the natural logarithm (base e) of x.\n",
      "\n",
      "    log10(x, /)\n",
      "        Return the base 10 logarithm of x.\n",
      "\n",
      "    log1p(x, /)\n",
      "        Return the natural logarithm of 1+x (base e).\n",
      "\n",
      "        The result is computed in a way which is accurate for x near zero.\n",
      "\n",
      "    log2(x, /)\n",
      "        Return the base 2 logarithm of x.\n",
      "\n",
      "    modf(x, /)\n",
      "        Return the fractional and integer parts of x.\n",
      "\n",
      "        Both results carry the sign of x and are floats.\n",
      "\n",
      "    nextafter(x, y, /, *, steps=None)\n",
      "        Return the floating-point value the given number of steps after x towards y.\n",
      "\n",
      "        If steps is not specified or is None, it defaults to 1.\n",
      "\n",
      "        Raises a TypeError, if x or y is not a double, or if steps is not an integer.\n",
      "        Raises ValueError if steps is negative.\n",
      "\n",
      "    perm(n, k=None, /)\n",
      "        Number of ways to choose k items from n items without repetition and with order.\n",
      "\n",
      "        Evaluates to n! / (n - k)! when k <= n and evaluates\n",
      "        to zero when k > n.\n",
      "\n",
      "        If k is not specified or is None, then k defaults to n\n",
      "        and the function returns n!.\n",
      "\n",
      "        Raises TypeError if either of the arguments are not integers.\n",
      "        Raises ValueError if either of the arguments are negative.\n",
      "\n",
      "    pow(x, y, /)\n",
      "        Return x**y (x to the power of y).\n",
      "\n",
      "    prod(iterable, /, *, start=1)\n",
      "        Calculate the product of all the elements in the input iterable.\n",
      "\n",
      "        The default start value for the product is 1.\n",
      "\n",
      "        When the iterable is empty, return the start value.  This function is\n",
      "        intended specifically for use with numeric values and may reject\n",
      "        non-numeric types.\n",
      "\n",
      "    radians(x, /)\n",
      "        Convert angle x from degrees to radians.\n",
      "\n",
      "    remainder(x, y, /)\n",
      "        Difference between x and the closest integer multiple of y.\n",
      "\n",
      "        Return x - n*y where n*y is the closest integer multiple of y.\n",
      "        In the case where x is exactly halfway between two multiples of\n",
      "        y, the nearest even value of n is used. The result is always exact.\n",
      "\n",
      "    sin(x, /)\n",
      "        Return the sine of x (measured in radians).\n",
      "\n",
      "    sinh(x, /)\n",
      "        Return the hyperbolic sine of x.\n",
      "\n",
      "    sqrt(x, /)\n",
      "        Return the square root of x.\n",
      "\n",
      "    sumprod(p, q, /)\n",
      "        Return the sum of products of values from two iterables p and q.\n",
      "\n",
      "        Roughly equivalent to:\n",
      "\n",
      "            sum(itertools.starmap(operator.mul, zip(p, q, strict=True)))\n",
      "\n",
      "        For float and mixed int/float inputs, the intermediate products\n",
      "        and sums are computed with extended precision.\n",
      "\n",
      "    tan(x, /)\n",
      "        Return the tangent of x (measured in radians).\n",
      "\n",
      "    tanh(x, /)\n",
      "        Return the hyperbolic tangent of x.\n",
      "\n",
      "    trunc(x, /)\n",
      "        Truncates the Real x to the nearest Integral toward 0.\n",
      "\n",
      "        Uses the __trunc__ magic method.\n",
      "\n",
      "    ulp(x, /)\n",
      "        Return the value of the least significant bit of the float x.\n",
      "\n",
      "DATA\n",
      "    e = 2.718281828459045\n",
      "    inf = inf\n",
      "    nan = nan\n",
      "    pi = 3.141592653589793\n",
      "    tau = 6.283185307179586\n",
      "\n",
      "FILE\n",
      "    /Library/Frameworks/Python.framework/Versions/3.13/lib/python3.13/lib-dynload/math.cpython-313-darwin.so\n",
      "\n",
      "\n"
     ]
    }
   ],
   "source": [
    "help(math)"
   ]
  },
  {
   "cell_type": "code",
   "execution_count": null,
   "id": "c5e4bc6e-4520-46ea-be96-9bada7d7a820",
   "metadata": {},
   "outputs": [],
   "source": []
  },
  {
   "cell_type": "code",
   "execution_count": 166,
   "id": "2e182f04-7660-42c4-ae69-04d980de9364",
   "metadata": {},
   "outputs": [
    {
     "data": {
      "text/plain": [
       "'This module provides access to the mathematical functions\\ndefined by the C standard.'"
      ]
     },
     "execution_count": 166,
     "metadata": {},
     "output_type": "execute_result"
    }
   ],
   "source": [
    "math.__doc__"
   ]
  },
  {
   "cell_type": "code",
   "execution_count": 167,
   "id": "b049a9f7-11da-40cf-8e96-9d8c5566f32d",
   "metadata": {},
   "outputs": [
    {
     "data": {
      "text/plain": [
       "builtin_function_or_method"
      ]
     },
     "execution_count": 167,
     "metadata": {},
     "output_type": "execute_result"
    }
   ],
   "source": [
    "type(math.acos)"
   ]
  },
  {
   "cell_type": "code",
   "execution_count": 169,
   "id": "dd0f7d50-693c-49f1-95c5-686dbf38e629",
   "metadata": {},
   "outputs": [
    {
     "name": "stdout",
     "output_type": "stream",
     "text": [
      "Return the arc cosine (measured in radians) of x.\n",
      "\n",
      "The result is between 0 and pi.\n"
     ]
    }
   ],
   "source": [
    "print(math.acos.__doc__)"
   ]
  },
  {
   "cell_type": "code",
   "execution_count": 170,
   "id": "461fbab8-62d4-40f9-8ac5-0f5e340ea654",
   "metadata": {},
   "outputs": [
    {
     "name": "stdout",
     "output_type": "stream",
     "text": [
      "Help on built-in function print in module builtins:\n",
      "\n",
      "print(*args, sep=' ', end='\\n', file=None, flush=False)\n",
      "    Prints the values to a stream, or to sys.stdout by default.\n",
      "\n",
      "    sep\n",
      "      string inserted between values, default a space.\n",
      "    end\n",
      "      string appended after the last value, default a newline.\n",
      "    file\n",
      "      a file-like object (stream); defaults to the current sys.stdout.\n",
      "    flush\n",
      "      whether to forcibly flush the stream.\n",
      "\n"
     ]
    }
   ],
   "source": [
    "help(print)"
   ]
  },
  {
   "cell_type": "code",
   "execution_count": 171,
   "id": "0f29351c-4f3c-4cb6-aff6-04b876049d3c",
   "metadata": {},
   "outputs": [
    {
     "data": {
      "text/plain": [
       "'Prints the values to a stream, or to sys.stdout by default.\\n\\n  sep\\n    string inserted between values, default a space.\\n  end\\n    string appended after the last value, default a newline.\\n  file\\n    a file-like object (stream); defaults to the current sys.stdout.\\n  flush\\n    whether to forcibly flush the stream.'"
      ]
     },
     "execution_count": 171,
     "metadata": {},
     "output_type": "execute_result"
    }
   ],
   "source": [
    "print.__doc__"
   ]
  },
  {
   "cell_type": "code",
   "execution_count": 172,
   "id": "9b4bc45e-f29e-42fb-b08b-449e0b2be106",
   "metadata": {},
   "outputs": [
    {
     "data": {
      "text/plain": [
       "['__call__',\n",
       " '__class__',\n",
       " '__delattr__',\n",
       " '__dir__',\n",
       " '__doc__',\n",
       " '__eq__',\n",
       " '__format__',\n",
       " '__ge__',\n",
       " '__getattribute__',\n",
       " '__getstate__',\n",
       " '__gt__',\n",
       " '__hash__',\n",
       " '__init__',\n",
       " '__init_subclass__',\n",
       " '__le__',\n",
       " '__lt__',\n",
       " '__module__',\n",
       " '__name__',\n",
       " '__ne__',\n",
       " '__new__',\n",
       " '__qualname__',\n",
       " '__reduce__',\n",
       " '__reduce_ex__',\n",
       " '__repr__',\n",
       " '__self__',\n",
       " '__setattr__',\n",
       " '__sizeof__',\n",
       " '__str__',\n",
       " '__subclasshook__',\n",
       " '__text_signature__']"
      ]
     },
     "execution_count": 172,
     "metadata": {},
     "output_type": "execute_result"
    }
   ],
   "source": [
    "dir(print)"
   ]
  },
  {
   "cell_type": "code",
   "execution_count": 173,
   "id": "9a70cfd0-305d-47c5-b3c2-835b667e8245",
   "metadata": {},
   "outputs": [],
   "source": [
    "import random"
   ]
  },
  {
   "cell_type": "code",
   "execution_count": 176,
   "id": "db82451a-4395-4095-976c-a4decc52d73e",
   "metadata": {},
   "outputs": [],
   "source": [
    "s = 'hello'"
   ]
  },
  {
   "cell_type": "code",
   "execution_count": 179,
   "id": "a695c5d6-650a-4464-896a-8bb313dbc8df",
   "metadata": {},
   "outputs": [
    {
     "name": "stdout",
     "output_type": "stream",
     "text": [
      "Help on method_descriptor:\n",
      "\n",
      "count(self, sub[, start[, end]], /) unbound builtins.str method\n",
      "    Return the number of non-overlapping occurrences of substring sub in string S[start:end].\n",
      "\n",
      "    Optional arguments start and end are interpreted as in slice notation.\n",
      "\n"
     ]
    }
   ],
   "source": [
    "help(str.count)"
   ]
  },
  {
   "cell_type": "code",
   "execution_count": 183,
   "id": "db86e0fe-51af-4f13-9991-c475e3106cab",
   "metadata": {},
   "outputs": [
    {
     "data": {
      "text/plain": [
       "0"
      ]
     },
     "execution_count": 183,
     "metadata": {},
     "output_type": "execute_result"
    }
   ],
   "source": [
    "'supermaner'.count('er', 6, 8)"
   ]
  },
  {
   "cell_type": "code",
   "execution_count": 184,
   "id": "d345b985-ea2a-4a7f-8016-becb2ff0ec1b",
   "metadata": {},
   "outputs": [
    {
     "name": "stdout",
     "output_type": "stream",
     "text": [
      "Help on method_descriptor:\n",
      "\n",
      "replace(self, old, new, /, count=-1) unbound builtins.str method\n",
      "    Return a copy with all occurrences of substring old replaced by new.\n",
      "\n",
      "      count\n",
      "        Maximum number of occurrences to replace.\n",
      "        -1 (the default value) means replace all occurrences.\n",
      "\n",
      "    If the optional argument count is given, only the first count occurrences are\n",
      "    replaced.\n",
      "\n"
     ]
    }
   ],
   "source": [
    "help(str.replace)"
   ]
  },
  {
   "cell_type": "code",
   "execution_count": 186,
   "id": "9403483b-1813-47a5-8bee-abf203309432",
   "metadata": {},
   "outputs": [
    {
     "data": {
      "text/plain": [
       "'a-iouaeiou'"
      ]
     },
     "execution_count": 186,
     "metadata": {},
     "output_type": "execute_result"
    }
   ],
   "source": [
    "'aeiouaeiou'.replace('e', '-', count=1)"
   ]
  },
  {
   "cell_type": "code",
   "execution_count": 187,
   "id": "b65378a4-5a50-43b2-855a-0c7de4a062b1",
   "metadata": {},
   "outputs": [
    {
     "name": "stdout",
     "output_type": "stream",
     "text": [
      "Help on built-in function print in module builtins:\n",
      "\n",
      "print(*args, sep=' ', end='\\n', file=None, flush=False)\n",
      "    Prints the values to a stream, or to sys.stdout by default.\n",
      "\n",
      "    sep\n",
      "      string inserted between values, default a space.\n",
      "    end\n",
      "      string appended after the last value, default a newline.\n",
      "    file\n",
      "      a file-like object (stream); defaults to the current sys.stdout.\n",
      "    flush\n",
      "      whether to forcibly flush the stream.\n",
      "\n"
     ]
    }
   ],
   "source": [
    "help(print)"
   ]
  },
  {
   "cell_type": "code",
   "execution_count": 188,
   "id": "1c0dcefa-aa24-40cf-b176-dc5f9be02ee8",
   "metadata": {},
   "outputs": [
    {
     "data": {
      "text/plain": [
       "'4'"
      ]
     },
     "execution_count": 188,
     "metadata": {},
     "output_type": "execute_result"
    }
   ],
   "source": [
    "str(4)"
   ]
  },
  {
   "cell_type": "code",
   "execution_count": 189,
   "id": "0e0b83cf-4868-4947-bbef-0d72481d6dc6",
   "metadata": {},
   "outputs": [],
   "source": [
    "num = 4"
   ]
  },
  {
   "cell_type": "code",
   "execution_count": 190,
   "id": "e4fd785c-baf5-46f8-91f0-c54cd697ec20",
   "metadata": {},
   "outputs": [
    {
     "data": {
      "text/plain": [
       "'4'"
      ]
     },
     "execution_count": 190,
     "metadata": {},
     "output_type": "execute_result"
    }
   ],
   "source": [
    "str(num)"
   ]
  },
  {
   "cell_type": "code",
   "execution_count": 191,
   "id": "28d744cf-6658-4976-8bef-9d3f3b686d22",
   "metadata": {},
   "outputs": [
    {
     "data": {
      "text/plain": [
       "4"
      ]
     },
     "execution_count": 191,
     "metadata": {},
     "output_type": "execute_result"
    }
   ],
   "source": [
    "num"
   ]
  },
  {
   "cell_type": "code",
   "execution_count": 192,
   "id": "0965e4e1-5273-444c-9f40-67f5b58e8042",
   "metadata": {},
   "outputs": [
    {
     "data": {
      "text/plain": [
       "'4'"
      ]
     },
     "execution_count": 192,
     "metadata": {},
     "output_type": "execute_result"
    }
   ],
   "source": [
    "num.__str__()"
   ]
  },
  {
   "cell_type": "code",
   "execution_count": 193,
   "id": "d1cfe0d8-c3e1-4fe7-84f2-709cd3014589",
   "metadata": {},
   "outputs": [
    {
     "name": "stdout",
     "output_type": "stream",
     "text": [
      "4\n"
     ]
    }
   ],
   "source": [
    "print(4)"
   ]
  },
  {
   "cell_type": "code",
   "execution_count": 194,
   "id": "a838d8db-74c1-4d50-a2ec-5f62dfdb505d",
   "metadata": {},
   "outputs": [],
   "source": [
    "name = 'Bruce Lee'"
   ]
  },
  {
   "cell_type": "code",
   "execution_count": 195,
   "id": "fe11f916-6031-4ebd-b03f-12bc90d42933",
   "metadata": {},
   "outputs": [
    {
     "data": {
      "text/plain": [
       "'Bruce Lee'"
      ]
     },
     "execution_count": 195,
     "metadata": {},
     "output_type": "execute_result"
    }
   ],
   "source": [
    "name # repr...what's the value of this?"
   ]
  },
  {
   "cell_type": "code",
   "execution_count": 196,
   "id": "539b90fe-e55c-46b1-a31a-2481d1cf8b71",
   "metadata": {},
   "outputs": [
    {
     "name": "stdout",
     "output_type": "stream",
     "text": [
      "Bruce Lee\n"
     ]
    }
   ],
   "source": [
    "print(name) # str"
   ]
  },
  {
   "cell_type": "code",
   "execution_count": 198,
   "id": "533d912c-5e22-4582-adf7-310223ed7aab",
   "metadata": {},
   "outputs": [
    {
     "data": {
      "text/plain": [
       "'Bruce Lee'"
      ]
     },
     "execution_count": 198,
     "metadata": {},
     "output_type": "execute_result"
    }
   ],
   "source": [
    "name # directive to Python to show the value of something"
   ]
  },
  {
   "cell_type": "code",
   "execution_count": 200,
   "id": "2b2390c9-86e3-4b78-900d-5c61c3f7d1f3",
   "metadata": {},
   "outputs": [
    {
     "name": "stdout",
     "output_type": "stream",
     "text": [
      "B\n"
     ]
    }
   ],
   "source": [
    "print(name[0])"
   ]
  },
  {
   "cell_type": "code",
   "execution_count": 201,
   "id": "ae6d534d-f7d8-461a-981e-b21208bc9a67",
   "metadata": {},
   "outputs": [
    {
     "ename": "SyntaxError",
     "evalue": "invalid syntax (2414570781.py, line 1)",
     "output_type": "error",
     "traceback": [
      "\u001b[0;36m  Cell \u001b[0;32mIn[201], line 1\u001b[0;36m\u001b[0m\n\u001b[0;31m    name = Bruce Lee\u001b[0m\n\u001b[0m                 ^\u001b[0m\n\u001b[0;31mSyntaxError\u001b[0m\u001b[0;31m:\u001b[0m invalid syntax\n"
     ]
    }
   ],
   "source": [
    "name = Bruce Lee"
   ]
  },
  {
   "cell_type": "code",
   "execution_count": 209,
   "id": "6aea5540-97ec-4fa5-b7a4-954b4b650112",
   "metadata": {},
   "outputs": [],
   "source": [
    "s = str('string') # explicitly creating an instance of a str object\n",
    "s = 'string' # shorthand for the above"
   ]
  },
  {
   "cell_type": "code",
   "execution_count": 208,
   "id": "8f7e886d-b42a-4100-a69d-33c891fcda60",
   "metadata": {},
   "outputs": [
    {
     "data": {
      "text/plain": [
       "'STRING'"
      ]
     },
     "execution_count": 208,
     "metadata": {},
     "output_type": "execute_result"
    }
   ],
   "source": [
    "s.upper()"
   ]
  },
  {
   "cell_type": "code",
   "execution_count": 204,
   "id": "240081fd-e8d3-42b3-a542-a09a0da15cfb",
   "metadata": {},
   "outputs": [],
   "source": [
    "from bank import BankAccount"
   ]
  },
  {
   "cell_type": "code",
   "execution_count": 205,
   "id": "d8b4b1b4-83c6-4116-b600-e6b8e985ba2d",
   "metadata": {},
   "outputs": [],
   "source": [
    "b = BankAccount('Dave', 100)"
   ]
  },
  {
   "cell_type": "code",
   "execution_count": 206,
   "id": "97bd83b0-1693-4750-8cb8-7dfe9880358f",
   "metadata": {},
   "outputs": [
    {
     "data": {
      "text/plain": [
       "110"
      ]
     },
     "execution_count": 206,
     "metadata": {},
     "output_type": "execute_result"
    }
   ],
   "source": [
    "b.deposit(10)"
   ]
  },
  {
   "cell_type": "code",
   "execution_count": 210,
   "id": "1a76765c-0d94-4c66-becb-889c6b67ed9e",
   "metadata": {},
   "outputs": [],
   "source": [
    "s = str(4)"
   ]
  },
  {
   "cell_type": "code",
   "execution_count": 211,
   "id": "02991353-751a-41b0-9eb7-2ceea58ace1f",
   "metadata": {},
   "outputs": [
    {
     "data": {
      "text/plain": [
       "'4'"
      ]
     },
     "execution_count": 211,
     "metadata": {},
     "output_type": "execute_result"
    }
   ],
   "source": [
    "s"
   ]
  },
  {
   "cell_type": "code",
   "execution_count": 212,
   "id": "b33343ca-aaee-4cb3-8d67-13285e388c82",
   "metadata": {},
   "outputs": [
    {
     "ename": "TypeError",
     "evalue": "object of type 'int' has no len()",
     "output_type": "error",
     "traceback": [
      "\u001b[0;31m---------------------------------------------------------------------------\u001b[0m",
      "\u001b[0;31mTypeError\u001b[0m                                 Traceback (most recent call last)",
      "Cell \u001b[0;32mIn[212], line 1\u001b[0m\n\u001b[0;32m----> 1\u001b[0m \u001b[38;5;28;43mlen\u001b[39;49m\u001b[43m(\u001b[49m\u001b[38;5;241;43m2\u001b[39;49m\u001b[43m)\u001b[49m\n",
      "\u001b[0;31mTypeError\u001b[0m: object of type 'int' has no len()"
     ]
    }
   ],
   "source": [
    "len(2)"
   ]
  },
  {
   "cell_type": "code",
   "execution_count": 213,
   "id": "78f6c4d3-03a1-4644-8994-00ccd6fa0a91",
   "metadata": {},
   "outputs": [
    {
     "data": {
      "text/plain": [
       "6"
      ]
     },
     "execution_count": 213,
     "metadata": {},
     "output_type": "execute_result"
    }
   ],
   "source": [
    "len('string')"
   ]
  },
  {
   "cell_type": "code",
   "execution_count": 214,
   "id": "57a9c9d9-9d11-4be6-94d3-d35aabf4cc95",
   "metadata": {},
   "outputs": [
    {
     "data": {
      "text/plain": [
       "6"
      ]
     },
     "execution_count": 214,
     "metadata": {},
     "output_type": "execute_result"
    }
   ],
   "source": [
    "'string'.__len__()"
   ]
  },
  {
   "cell_type": "code",
   "execution_count": 215,
   "id": "afd739d5-0878-45ab-848e-24214eac40f5",
   "metadata": {},
   "outputs": [
    {
     "data": {
      "text/plain": [
       "6"
      ]
     },
     "execution_count": 215,
     "metadata": {},
     "output_type": "execute_result"
    }
   ],
   "source": [
    "len('string')"
   ]
  },
  {
   "cell_type": "code",
   "execution_count": 216,
   "id": "6381b611-96f3-46b6-bb54-34cf434ed525",
   "metadata": {},
   "outputs": [
    {
     "data": {
      "text/plain": [
       "0"
      ]
     },
     "execution_count": 216,
     "metadata": {},
     "output_type": "execute_result"
    }
   ],
   "source": [
    "len([])"
   ]
  },
  {
   "cell_type": "code",
   "execution_count": 218,
   "id": "509112e2-74ba-4acb-ba5a-f820104c3922",
   "metadata": {},
   "outputs": [
    {
     "data": {
      "text/plain": [
       "2"
      ]
     },
     "execution_count": 218,
     "metadata": {},
     "output_type": "execute_result"
    }
   ],
   "source": [
    "len((1, 2))"
   ]
  },
  {
   "cell_type": "code",
   "execution_count": 219,
   "id": "a1922758-f43a-4de1-a835-c8f4e8f4982b",
   "metadata": {},
   "outputs": [],
   "source": [
    "# we say in the fundamentals class – len works for any container"
   ]
  },
  {
   "cell_type": "code",
   "execution_count": 220,
   "id": "3ca6943e-e248-4b0c-8674-050d833cef08",
   "metadata": {},
   "outputs": [
    {
     "data": {
      "text/plain": [
       "'doghouse'"
      ]
     },
     "execution_count": 220,
     "metadata": {},
     "output_type": "execute_result"
    }
   ],
   "source": [
    "'dog' + 'house'"
   ]
  },
  {
   "cell_type": "code",
   "execution_count": 221,
   "id": "e37ad212-e7eb-4ac6-8a36-996363c8fd80",
   "metadata": {},
   "outputs": [
    {
     "data": {
      "text/plain": [
       "'doghouse'"
      ]
     },
     "execution_count": 221,
     "metadata": {},
     "output_type": "execute_result"
    }
   ],
   "source": [
    "'dog'.__add__('house')"
   ]
  },
  {
   "cell_type": "code",
   "execution_count": 222,
   "id": "e283040f-046c-4e5e-a302-2708cbbf5c01",
   "metadata": {},
   "outputs": [
    {
     "data": {
      "text/plain": [
       "6"
      ]
     },
     "execution_count": 222,
     "metadata": {},
     "output_type": "execute_result"
    }
   ],
   "source": [
    "2 + 4"
   ]
  },
  {
   "cell_type": "code",
   "execution_count": 224,
   "id": "353355a3-6ced-4027-8795-b53f48ff2b1f",
   "metadata": {},
   "outputs": [
    {
     "data": {
      "text/plain": [
       "6"
      ]
     },
     "execution_count": 224,
     "metadata": {},
     "output_type": "execute_result"
    }
   ],
   "source": [
    "int.__add__(2, 4)"
   ]
  },
  {
   "cell_type": "code",
   "execution_count": 225,
   "id": "fd074eeb-3a40-47ef-ac8f-4afff32a4284",
   "metadata": {},
   "outputs": [],
   "source": [
    "x = 2"
   ]
  },
  {
   "cell_type": "code",
   "execution_count": 226,
   "id": "1e196891-fa79-418c-9bf4-9fca6f863bf9",
   "metadata": {},
   "outputs": [
    {
     "data": {
      "text/plain": [
       "7"
      ]
     },
     "execution_count": 226,
     "metadata": {},
     "output_type": "execute_result"
    }
   ],
   "source": [
    "x.__add__(5)"
   ]
  },
  {
   "cell_type": "code",
   "execution_count": 227,
   "id": "0d7fb620-99bf-4c3b-b0ea-3c3820be98da",
   "metadata": {},
   "outputs": [
    {
     "data": {
      "text/plain": [
       "7"
      ]
     },
     "execution_count": 227,
     "metadata": {},
     "output_type": "execute_result"
    }
   ],
   "source": [
    "x + 5"
   ]
  },
  {
   "cell_type": "code",
   "execution_count": 228,
   "id": "b618f1bf-5bf1-44b1-8822-25bd0e74cf4e",
   "metadata": {},
   "outputs": [],
   "source": [
    "x = 'string'"
   ]
  },
  {
   "cell_type": "code",
   "execution_count": 229,
   "id": "1cb949f0-916e-4498-84be-4224ab419390",
   "metadata": {},
   "outputs": [
    {
     "data": {
      "text/plain": [
       "'string!'"
      ]
     },
     "execution_count": 229,
     "metadata": {},
     "output_type": "execute_result"
    }
   ],
   "source": [
    "x.__add__('!')"
   ]
  },
  {
   "cell_type": "code",
   "execution_count": 231,
   "id": "f502be4a-6125-4e9c-9c27-f103d18d2061",
   "metadata": {},
   "outputs": [],
   "source": [
    "class BankAccount:\n",
    "    def __init__(self, name, initial_balance):\n",
    "        self.name = name\n",
    "        self.balance = initial_balance\n",
    "\n",
    "    \n",
    "    def __repr__(self):\n",
    "        \"\"\"Return a string representation of object, for humans.\n",
    "           __repr__ is used if __str__ does not exist.\n",
    "        \"\"\"\n",
    "        return f'{self.name} has ₹{self.balance} in the bank'\n",
    "\n",
    "\n",
    "    def __len__(self):\n",
    "        return len(self.name) + len(str(self.balance))\n",
    "\n",
    "\n",
    "    def __eq__(self, other):\n",
    "        print('checking equality')\n",
    "        return self.balance == other.balance\n",
    "\n",
    "        \n",
    "    def deposit(self, amount):\n",
    "        if amount > 0:\n",
    "            self.balance += amount\n",
    "            return self.balance\n",
    "        else:\n",
    "            print(\"can't deposit nonpositive amount!\")\n",
    "\n",
    "    \n",
    "    def withdraw(self, amount):\n",
    "        if amount > 0:\n",
    "            if amount <= self.balance:\n",
    "                self.balance -= amount\n",
    "                return self.balance\n",
    "            else:\n",
    "                print(\"can't withdraw\", amount, \"or you would be overdrawn!\")\n",
    "        else:\n",
    "            print(\"can't withdraw nonpositive amount!\")"
   ]
  },
  {
   "cell_type": "code",
   "execution_count": 232,
   "id": "c4e1748b-1928-49e1-87da-cd85f50c143a",
   "metadata": {},
   "outputs": [],
   "source": [
    "a = BankAccount('hi', 50)\n",
    "b = BankAccount('hi', 45)"
   ]
  },
  {
   "cell_type": "code",
   "execution_count": 233,
   "id": "18e2d4ba-09ef-48a5-9a8d-ed4a38c547eb",
   "metadata": {},
   "outputs": [
    {
     "name": "stdout",
     "output_type": "stream",
     "text": [
      "checking equality\n"
     ]
    },
    {
     "data": {
      "text/plain": [
       "False"
      ]
     },
     "execution_count": 233,
     "metadata": {},
     "output_type": "execute_result"
    }
   ],
   "source": [
    "a == b"
   ]
  },
  {
   "cell_type": "code",
   "execution_count": 234,
   "id": "c5147b6c-c967-44d0-a15b-d4581f2691db",
   "metadata": {},
   "outputs": [
    {
     "data": {
      "text/plain": [
       "50"
      ]
     },
     "execution_count": 234,
     "metadata": {},
     "output_type": "execute_result"
    }
   ],
   "source": [
    "b.deposit(5)"
   ]
  },
  {
   "cell_type": "code",
   "execution_count": 235,
   "id": "f6553cd1-0b3e-4c26-aae8-3aa902dbfd46",
   "metadata": {},
   "outputs": [
    {
     "name": "stdout",
     "output_type": "stream",
     "text": [
      "checking equality\n"
     ]
    },
    {
     "data": {
      "text/plain": [
       "True"
      ]
     },
     "execution_count": 235,
     "metadata": {},
     "output_type": "execute_result"
    }
   ],
   "source": [
    "a == b"
   ]
  },
  {
   "cell_type": "code",
   "execution_count": 251,
   "id": "18d390b5-acde-4c6f-9a53-92fa7440c899",
   "metadata": {},
   "outputs": [],
   "source": [
    "class BankAccount:\n",
    "    def __init__(self, name, initial_balance):\n",
    "        self.name = name\n",
    "        self.balance = initial_balance\n",
    "\n",
    "    \n",
    "    def __repr__(self):\n",
    "        \"\"\"Return a string representation of object, for humans.\n",
    "           __repr__ is used if __str__ does not exist.\n",
    "        \"\"\"\n",
    "        return f'{self.name} has ₹{self.balance} in the bank'\n",
    "\n",
    "\n",
    "    def __len__(self):\n",
    "        return len(self.name) + len(str(self.balance))\n",
    "\n",
    "\n",
    "    def __eq__(self, other):\n",
    "        print('checking equality')\n",
    "        return self.name == other.name and self.balance == other.balance\n",
    "\n",
    "\n",
    "    def __mul__(self, factor):\n",
    "        return BankAccount(self.name + '*', self.balance * factor)\n",
    "\n",
    "    \n",
    "    def deposit(self, amount):\n",
    "        if amount > 0:\n",
    "            self.balance += amount\n",
    "            return self.balance\n",
    "        else:\n",
    "            print(\"can't deposit nonpositive amount!\")\n",
    "\n",
    "    \n",
    "    def withdraw(self, amount):\n",
    "        if amount > 0:\n",
    "            if amount <= self.balance:\n",
    "                self.balance -= amount\n",
    "                return self.balance\n",
    "            else:\n",
    "                print(\"can't withdraw\", amount, \"or you would be overdrawn!\")\n",
    "        else:\n",
    "            print(\"can't withdraw nonpositive amount!\")"
   ]
  },
  {
   "cell_type": "code",
   "execution_count": 258,
   "id": "a7b98890-1a8f-4355-a05d-bd2bfeb96740",
   "metadata": {},
   "outputs": [],
   "source": [
    "a = BankAccount('hi', 50)\n",
    "b = BankAccount('hi.', 45)"
   ]
  },
  {
   "cell_type": "code",
   "execution_count": 241,
   "id": "fb1ec2bc-f2ef-48c2-93ce-9e5d2b8b2e38",
   "metadata": {},
   "outputs": [
    {
     "name": "stdout",
     "output_type": "stream",
     "text": [
      "checking equality\n"
     ]
    },
    {
     "data": {
      "text/plain": [
       "False"
      ]
     },
     "execution_count": 241,
     "metadata": {},
     "output_type": "execute_result"
    }
   ],
   "source": [
    "a == b"
   ]
  },
  {
   "cell_type": "code",
   "execution_count": 242,
   "id": "adcfc727-a31a-4cf4-85cb-be918d197aa3",
   "metadata": {},
   "outputs": [
    {
     "data": {
      "text/plain": [
       "50"
      ]
     },
     "execution_count": 242,
     "metadata": {},
     "output_type": "execute_result"
    }
   ],
   "source": [
    "b.deposit(5)"
   ]
  },
  {
   "cell_type": "code",
   "execution_count": 243,
   "id": "8eff622e-1a19-4bc3-8f65-286b7a6db048",
   "metadata": {},
   "outputs": [
    {
     "name": "stdout",
     "output_type": "stream",
     "text": [
      "checking equality\n"
     ]
    },
    {
     "data": {
      "text/plain": [
       "False"
      ]
     },
     "execution_count": 243,
     "metadata": {},
     "output_type": "execute_result"
    }
   ],
   "source": [
    "a == b"
   ]
  },
  {
   "cell_type": "code",
   "execution_count": 244,
   "id": "ccb182cf-de93-43c7-9535-a05d3e569965",
   "metadata": {},
   "outputs": [
    {
     "name": "stdout",
     "output_type": "stream",
     "text": [
      "checking equality\n"
     ]
    },
    {
     "data": {
      "text/plain": [
       "True"
      ]
     },
     "execution_count": 244,
     "metadata": {},
     "output_type": "execute_result"
    }
   ],
   "source": [
    "b.name = 'hi'\n",
    "a == b"
   ]
  },
  {
   "cell_type": "code",
   "execution_count": 245,
   "id": "0986d9bd-11ea-4107-9791-0f3590a5e4b1",
   "metadata": {},
   "outputs": [
    {
     "data": {
      "text/plain": [
       "8"
      ]
     },
     "execution_count": 245,
     "metadata": {},
     "output_type": "execute_result"
    }
   ],
   "source": [
    "2 * 4"
   ]
  },
  {
   "cell_type": "code",
   "execution_count": 246,
   "id": "90668418-ba7c-44e4-89fd-4c429d711fa8",
   "metadata": {},
   "outputs": [
    {
     "data": {
      "text/plain": [
       "8"
      ]
     },
     "execution_count": 246,
     "metadata": {},
     "output_type": "execute_result"
    }
   ],
   "source": [
    "c = 4\n",
    "c * 2"
   ]
  },
  {
   "cell_type": "code",
   "execution_count": 253,
   "id": "2aaec036-7171-436b-a8f3-a20d07e86760",
   "metadata": {},
   "outputs": [
    {
     "data": {
      "text/plain": [
       "hi* has ₹60.0 in the bank"
      ]
     },
     "execution_count": 253,
     "metadata": {},
     "output_type": "execute_result"
    }
   ],
   "source": [
    "a * 1.2 # repr"
   ]
  },
  {
   "cell_type": "code",
   "execution_count": 259,
   "id": "7c9745b2-bcab-425e-9981-88abbe565746",
   "metadata": {},
   "outputs": [],
   "source": [
    "new_a = a * 1.2"
   ]
  },
  {
   "cell_type": "code",
   "execution_count": 260,
   "id": "36dd62cd-0f35-413c-ae5b-875fb2cd024b",
   "metadata": {},
   "outputs": [
    {
     "data": {
      "text/plain": [
       "hi* has ₹60.0 in the bank"
      ]
     },
     "execution_count": 260,
     "metadata": {},
     "output_type": "execute_result"
    }
   ],
   "source": [
    "new_a"
   ]
  },
  {
   "cell_type": "code",
   "execution_count": 261,
   "id": "a6831f55-0be3-4e92-aa22-b38fc5ed5aa9",
   "metadata": {},
   "outputs": [],
   "source": [
    "del a # \"delete\" this object"
   ]
  },
  {
   "cell_type": "code",
   "execution_count": 262,
   "id": "13fc3e59-2b9c-4872-af7d-a1bfea3bc92f",
   "metadata": {},
   "outputs": [
    {
     "ename": "NameError",
     "evalue": "name 'a' is not defined",
     "output_type": "error",
     "traceback": [
      "\u001b[0;31m---------------------------------------------------------------------------\u001b[0m",
      "\u001b[0;31mNameError\u001b[0m                                 Traceback (most recent call last)",
      "Cell \u001b[0;32mIn[262], line 1\u001b[0m\n\u001b[0;32m----> 1\u001b[0m \u001b[43ma\u001b[49m\n",
      "\u001b[0;31mNameError\u001b[0m: name 'a' is not defined"
     ]
    }
   ],
   "source": [
    "a"
   ]
  },
  {
   "cell_type": "code",
   "execution_count": 269,
   "id": "67a016d6-2385-4989-a7ce-044dcc2cfda3",
   "metadata": {},
   "outputs": [],
   "source": [
    "# Instead of adding an '*' to the name to indicate it's been multiplied...\n",
    "class BankAccount:\n",
    "    def __init__(self, name, initial_balance, been_multiplied=False):\n",
    "        self.name = name\n",
    "        self.balance = initial_balance\n",
    "        self.has_been_multiplied = been_multiplied\n",
    "\n",
    "    \n",
    "    def __repr__(self):\n",
    "        \"\"\"Return a string representation of object, for humans.\n",
    "           __repr__ is used if __str__ does not exist.\n",
    "        \"\"\"\n",
    "        return f'{self.name} has ₹{self.balance} in the bank ({self.has_been_multiplied})'\n",
    "\n",
    "\n",
    "    def __len__(self):\n",
    "        return len(self.name) + len(str(self.balance))\n",
    "\n",
    "\n",
    "    def __eq__(self, other):\n",
    "        print('checking equality')\n",
    "        return self.name == other.name and self.balance == other.balance\n",
    "\n",
    "\n",
    "    def __mul__(self, factor):\n",
    "        return BankAccount(self.name, self.balance * factor, been_multiplied=True)\n",
    "\n",
    "    \n",
    "    def deposit(self, amount):\n",
    "        if amount > 0:\n",
    "            self.balance += amount\n",
    "            return self.balance\n",
    "        else:\n",
    "            print(\"can't deposit nonpositive amount!\")\n",
    "\n",
    "    \n",
    "    def withdraw(self, amount):\n",
    "        if amount > 0:\n",
    "            if amount <= self.balance:\n",
    "                self.balance -= amount\n",
    "                return self.balance\n",
    "            else:\n",
    "                print(\"can't withdraw\", amount, \"or you would be overdrawn!\")\n",
    "        else:\n",
    "            print(\"can't withdraw nonpositive amount!\")"
   ]
  },
  {
   "cell_type": "code",
   "execution_count": 270,
   "id": "4e07bce4-937a-4cd0-b856-70c81ac6b0e4",
   "metadata": {},
   "outputs": [],
   "source": [
    "a = BankAccount('Taylor', 300)"
   ]
  },
  {
   "cell_type": "code",
   "execution_count": 271,
   "id": "22bf4004-790a-453c-aca2-a3fc9e4db5f4",
   "metadata": {},
   "outputs": [
    {
     "data": {
      "text/plain": [
       "Taylor has ₹300 in the bank (False)"
      ]
     },
     "execution_count": 271,
     "metadata": {},
     "output_type": "execute_result"
    }
   ],
   "source": [
    "a"
   ]
  },
  {
   "cell_type": "code",
   "execution_count": 272,
   "id": "110daa3e-0340-4411-af2f-b89f815c4216",
   "metadata": {},
   "outputs": [],
   "source": [
    "ma = a * 1.2"
   ]
  },
  {
   "cell_type": "code",
   "execution_count": 273,
   "id": "a028ee9f-0d21-434a-b9b9-ed18883de192",
   "metadata": {},
   "outputs": [
    {
     "data": {
      "text/plain": [
       "Taylor has ₹360.0 in the bank (True)"
      ]
     },
     "execution_count": 273,
     "metadata": {},
     "output_type": "execute_result"
    }
   ],
   "source": [
    "ma"
   ]
  },
  {
   "cell_type": "code",
   "execution_count": 274,
   "id": "fe7e20e3-0961-4f4e-a8d6-1947542341b5",
   "metadata": {},
   "outputs": [
    {
     "data": {
      "text/plain": [
       "True"
      ]
     },
     "execution_count": 274,
     "metadata": {},
     "output_type": "execute_result"
    }
   ],
   "source": [
    "'apple' < 'big'"
   ]
  },
  {
   "cell_type": "code",
   "execution_count": 275,
   "id": "4915568d-d3b7-46e5-b1b0-2081d7f4a50d",
   "metadata": {},
   "outputs": [
    {
     "data": {
      "text/plain": [
       "True"
      ]
     },
     "execution_count": 275,
     "metadata": {},
     "output_type": "execute_result"
    }
   ],
   "source": [
    "'zoology' > 'biology'"
   ]
  },
  {
   "cell_type": "code",
   "execution_count": 278,
   "id": "84dbc7af-e528-40ec-ace2-b96d58fb4778",
   "metadata": {},
   "outputs": [],
   "source": [
    "class Word(str):\n",
    "    \"\"\"Word class is no different from str class\"\"\""
   ]
  },
  {
   "cell_type": "code",
   "execution_count": 284,
   "id": "e453ab40-69ba-4744-93de-a2bb495aab7b",
   "metadata": {},
   "outputs": [],
   "source": [
    "class Word(str): # Word class inherits from str class\n",
    "    def __lt__(self, other):\n",
    "        # compute length of each Word (string)\n",
    "        # ask if length of first Word < length of second Word\n",
    "        print(f'{self} < {other} = {len(self) < len(other)}')\n",
    "        return len(self) < len(other)\n",
    " \n",
    "    def __gt__(self, other):\n",
    "        return len(self) > len(other)\n",
    "\n",
    "    def __ge__(self, other):\n",
    "        return len(self) >= len(other)\n",
    "    \n",
    "    def __le__(self, other):\n",
    "        return len(self) <= len(other)\n",
    "    \n",
    "    def __eq__(self, other):\n",
    "        return len(self) == len(other)"
   ]
  },
  {
   "cell_type": "code",
   "execution_count": 285,
   "id": "3df07981-e789-4f41-a55d-5f4919b523ac",
   "metadata": {},
   "outputs": [
    {
     "name": "stdout",
     "output_type": "stream",
     "text": [
      "apple < fig = False\n"
     ]
    },
    {
     "data": {
      "text/plain": [
       "False"
      ]
     },
     "execution_count": 285,
     "metadata": {},
     "output_type": "execute_result"
    }
   ],
   "source": [
    "Word('apple') < Word('fig')"
   ]
  },
  {
   "cell_type": "code",
   "execution_count": 286,
   "id": "8b6ff6be-2841-4f88-a163-ec07a94da7ca",
   "metadata": {},
   "outputs": [
    {
     "data": {
      "text/plain": [
       "True"
      ]
     },
     "execution_count": 286,
     "metadata": {},
     "output_type": "execute_result"
    }
   ],
   "source": [
    "Word('apple') > Word('fig')"
   ]
  },
  {
   "cell_type": "code",
   "execution_count": 287,
   "id": "c5397361-88ad-4ece-a356-a7adebb7873a",
   "metadata": {},
   "outputs": [
    {
     "data": {
      "text/plain": [
       "False"
      ]
     },
     "execution_count": 287,
     "metadata": {},
     "output_type": "execute_result"
    }
   ],
   "source": [
    "Word('apple') == Word('fig')"
   ]
  },
  {
   "cell_type": "code",
   "execution_count": 288,
   "id": "44e5e0c5-6342-40b6-9ddf-7dab7f3865cf",
   "metadata": {},
   "outputs": [
    {
     "data": {
      "text/plain": [
       "True"
      ]
     },
     "execution_count": 288,
     "metadata": {},
     "output_type": "execute_result"
    }
   ],
   "source": [
    "Word('this') == Word('that')"
   ]
  },
  {
   "cell_type": "code",
   "execution_count": 289,
   "id": "c4d0daa1-f73a-4305-87d0-39047f7fc116",
   "metadata": {},
   "outputs": [],
   "source": [
    "w = Word('apple')"
   ]
  },
  {
   "cell_type": "code",
   "execution_count": 290,
   "id": "9d4a97d0-5992-4c30-84f9-edf7463506b9",
   "metadata": {},
   "outputs": [
    {
     "data": {
      "text/plain": [
       "'e'"
      ]
     },
     "execution_count": 290,
     "metadata": {},
     "output_type": "execute_result"
    }
   ],
   "source": [
    "w[-1]"
   ]
  },
  {
   "cell_type": "code",
   "execution_count": 291,
   "id": "f49899f1-169d-4727-8086-2c08ce4918e9",
   "metadata": {},
   "outputs": [
    {
     "data": {
      "text/plain": [
       "'a'"
      ]
     },
     "execution_count": 291,
     "metadata": {},
     "output_type": "execute_result"
    }
   ],
   "source": [
    "w[0]"
   ]
  },
  {
   "cell_type": "code",
   "execution_count": 292,
   "id": "c6370109-18ab-4782-93cd-33783dba3b02",
   "metadata": {},
   "outputs": [
    {
     "data": {
      "text/plain": [
       "'ppl'"
      ]
     },
     "execution_count": 292,
     "metadata": {},
     "output_type": "execute_result"
    }
   ],
   "source": [
    "w[1:4]"
   ]
  },
  {
   "cell_type": "code",
   "execution_count": 293,
   "id": "d7010d29-bba2-47a0-ab86-e1e8f675c599",
   "metadata": {},
   "outputs": [
    {
     "ename": "TypeError",
     "evalue": "'Word' object does not support item assignment",
     "output_type": "error",
     "traceback": [
      "\u001b[0;31m---------------------------------------------------------------------------\u001b[0m",
      "\u001b[0;31mTypeError\u001b[0m                                 Traceback (most recent call last)",
      "Cell \u001b[0;32mIn[293], line 1\u001b[0m\n\u001b[0;32m----> 1\u001b[0m \u001b[43mw\u001b[49m\u001b[43m[\u001b[49m\u001b[38;5;241;43m0\u001b[39;49m\u001b[43m]\u001b[49m \u001b[38;5;241m=\u001b[39m \u001b[38;5;124m'\u001b[39m\u001b[38;5;124mX\u001b[39m\u001b[38;5;124m'\u001b[39m\n",
      "\u001b[0;31mTypeError\u001b[0m: 'Word' object does not support item assignment"
     ]
    }
   ],
   "source": [
    "w[0] = 'X'"
   ]
  },
  {
   "cell_type": "code",
   "execution_count": 294,
   "id": "4c0ed35e-e798-4d7c-aff6-71e18bb4191a",
   "metadata": {},
   "outputs": [],
   "source": [
    "mylist = [1, 2, 7]"
   ]
  },
  {
   "cell_type": "code",
   "execution_count": 296,
   "id": "0823c470-bfc5-46ac-a8c0-8f2692249acb",
   "metadata": {},
   "outputs": [
    {
     "ename": "ValueError",
     "evalue": "list.remove(x): x not in list",
     "output_type": "error",
     "traceback": [
      "\u001b[0;31m---------------------------------------------------------------------------\u001b[0m",
      "\u001b[0;31mValueError\u001b[0m                                Traceback (most recent call last)",
      "Cell \u001b[0;32mIn[296], line 1\u001b[0m\n\u001b[0;32m----> 1\u001b[0m \u001b[43mmylist\u001b[49m\u001b[38;5;241;43m.\u001b[39;49m\u001b[43mremove\u001b[49m\u001b[43m(\u001b[49m\u001b[38;5;241;43m7\u001b[39;49m\u001b[43m)\u001b[49m\n",
      "\u001b[0;31mValueError\u001b[0m: list.remove(x): x not in list"
     ]
    }
   ],
   "source": [
    "mylist.remove(7)"
   ]
  },
  {
   "cell_type": "code",
   "execution_count": 306,
   "id": "7ddc2018-02a2-49bd-acaf-e088e281f3dd",
   "metadata": {},
   "outputs": [
    {
     "data": {
      "text/plain": [
       "{1, 2, 7}"
      ]
     },
     "execution_count": 306,
     "metadata": {},
     "output_type": "execute_result"
    }
   ],
   "source": [
    "s = {1, 2, 7}\n",
    "s"
   ]
  },
  {
   "cell_type": "code",
   "execution_count": 309,
   "id": "4f25112c-b4cb-42cc-9c63-a1b01381fd5f",
   "metadata": {},
   "outputs": [],
   "source": [
    "s.discard(7)"
   ]
  },
  {
   "cell_type": "code",
   "execution_count": 303,
   "id": "14e088e6-b83e-490c-a1bd-d5e74fe33f2a",
   "metadata": {},
   "outputs": [
    {
     "ename": "KeyError",
     "evalue": "7",
     "output_type": "error",
     "traceback": [
      "\u001b[0;31m---------------------------------------------------------------------------\u001b[0m",
      "\u001b[0;31mKeyError\u001b[0m                                  Traceback (most recent call last)",
      "Cell \u001b[0;32mIn[303], line 1\u001b[0m\n\u001b[0;32m----> 1\u001b[0m \u001b[43ms\u001b[49m\u001b[38;5;241;43m.\u001b[39;49m\u001b[43mremove\u001b[49m\u001b[43m(\u001b[49m\u001b[38;5;241;43m7\u001b[39;49m\u001b[43m)\u001b[49m\n",
      "\u001b[0;31mKeyError\u001b[0m: 7"
     ]
    }
   ],
   "source": [
    "s.remove(7)"
   ]
  },
  {
   "cell_type": "code",
   "execution_count": 316,
   "id": "0d25515d-c778-40e6-b93e-e5bd19ca23ce",
   "metadata": {},
   "outputs": [],
   "source": [
    "class BetterList(list): # inherit from list\n",
    "    # add a new feature\n",
    "    def discard(self, item): # self is the BetterList, item is the thing to discard\n",
    "        if item in self: # item is in the list\n",
    "            self.remove(item)\n",
    "\n",
    "    def removeall(self, item): # remove ALL instance of item, not just the first\n",
    "        while item in self: # while there is any instance of item in self (list)\n",
    "            self.remove(item)"
   ]
  },
  {
   "cell_type": "code",
   "execution_count": 319,
   "id": "accc0aeb-6ef4-401a-9605-382573336844",
   "metadata": {},
   "outputs": [],
   "source": [
    "nums = BetterList([1] * 100)"
   ]
  },
  {
   "cell_type": "code",
   "execution_count": 321,
   "id": "cf49d29c-21cf-4a35-a2f9-a5f88a21e052",
   "metadata": {},
   "outputs": [
    {
     "name": "stdout",
     "output_type": "stream",
     "text": [
      "[1, 1, 1, 1, 1, 1, 1, 1, 1, 1, 1, 1, 1, 1, 1, 1, 1, 1, 1, 1, 1, 1, 1, 1, 1, 1, 1, 1, 1, 1, 1, 1, 1, 1, 1, 1, 1, 1, 1, 1, 1, 1, 1, 1, 1, 1, 1, 1, 1, 1, 1, 1, 1, 1, 1, 1, 1, 1, 1, 1, 1, 1, 1, 1, 1, 1, 1, 1, 1, 1, 1, 1, 1, 1, 1, 1, 1, 1, 1, 1, 1, 1, 1, 1, 1, 1, 1, 1, 1, 1, 1, 1, 1, 1, 1, 1, 1, 1, 1, 1]\n"
     ]
    }
   ],
   "source": [
    "print(nums)"
   ]
  },
  {
   "cell_type": "code",
   "execution_count": 322,
   "id": "0dacf90b-8cc7-47b8-b9a0-086db3b49c3d",
   "metadata": {},
   "outputs": [],
   "source": [
    "nums.append(2)"
   ]
  },
  {
   "cell_type": "code",
   "execution_count": 323,
   "id": "3b04ce80-fb36-45cb-983c-e1ace13a4730",
   "metadata": {},
   "outputs": [
    {
     "name": "stdout",
     "output_type": "stream",
     "text": [
      "[1, 1, 1, 1, 1, 1, 1, 1, 1, 1, 1, 1, 1, 1, 1, 1, 1, 1, 1, 1, 1, 1, 1, 1, 1, 1, 1, 1, 1, 1, 1, 1, 1, 1, 1, 1, 1, 1, 1, 1, 1, 1, 1, 1, 1, 1, 1, 1, 1, 1, 1, 1, 1, 1, 1, 1, 1, 1, 1, 1, 1, 1, 1, 1, 1, 1, 1, 1, 1, 1, 1, 1, 1, 1, 1, 1, 1, 1, 1, 1, 1, 1, 1, 1, 1, 1, 1, 1, 1, 1, 1, 1, 1, 1, 1, 1, 1, 1, 1, 2]\n"
     ]
    }
   ],
   "source": [
    "nums.remove(1)\n",
    "print(nums)"
   ]
  },
  {
   "cell_type": "code",
   "execution_count": 327,
   "id": "c0a6082e-379b-4c6a-b54f-87c4e6faa664",
   "metadata": {},
   "outputs": [
    {
     "name": "stdout",
     "output_type": "stream",
     "text": [
      "[2]\n"
     ]
    }
   ],
   "source": [
    "nums.removeall(1)\n",
    "print(nums)"
   ]
  },
  {
   "cell_type": "code",
   "execution_count": 314,
   "id": "d464dc4b-adae-49bb-b5f2-18ed8f8fcc21",
   "metadata": {},
   "outputs": [
    {
     "ename": "ValueError",
     "evalue": "list.remove(x): x not in list",
     "output_type": "error",
     "traceback": [
      "\u001b[0;31m---------------------------------------------------------------------------\u001b[0m",
      "\u001b[0;31mValueError\u001b[0m                                Traceback (most recent call last)",
      "Cell \u001b[0;32mIn[314], line 1\u001b[0m\n\u001b[0;32m----> 1\u001b[0m \u001b[43mnums\u001b[49m\u001b[38;5;241;43m.\u001b[39;49m\u001b[43mremove\u001b[49m\u001b[43m(\u001b[49m\u001b[38;5;241;43m4\u001b[39;49m\u001b[43m)\u001b[49m\n",
      "\u001b[0;31mValueError\u001b[0m: list.remove(x): x not in list"
     ]
    }
   ],
   "source": [
    "nums.remove(4)"
   ]
  },
  {
   "cell_type": "code",
   "execution_count": 315,
   "id": "94cb8e10-44d7-4daa-9f81-e1133a5e9379",
   "metadata": {},
   "outputs": [
    {
     "name": "stdout",
     "output_type": "stream",
     "text": [
      "not there\n"
     ]
    }
   ],
   "source": [
    "nums.discard(4)"
   ]
  },
  {
   "cell_type": "code",
   "execution_count": 345,
   "id": "a30bcdcd-e619-4721-88e2-eab30dbc6a95",
   "metadata": {},
   "outputs": [],
   "source": [
    "class BetterList(list): # inherit from list\n",
    "    # add a new feature\n",
    "    def discard(self, item): # self is the BetterList, item is the thing to discard\n",
    "        if item in self: # item is in the list\n",
    "            self.remove(item)\n",
    "\n",
    "    \n",
    "    def removeall(self, item): # remove ALL instance of item, not just the first\n",
    "        while item in self: # while there is any instance of item in self (list)\n",
    "            self.remove(item)\n",
    "            \n",
    "\n",
    "    def copy_without(self, item): # make a copy that does not include any item\n",
    "        new_list = BetterList(self.copy())\n",
    "        new_list.removeall(item)\n",
    "\n",
    "        return new_list"
   ]
  },
  {
   "cell_type": "code",
   "execution_count": 350,
   "id": "53cdc19b-98c2-462d-9cee-7c478f6c9cc2",
   "metadata": {},
   "outputs": [
    {
     "name": "stdout",
     "output_type": "stream",
     "text": [
      "[1, 1, 1, 1, 1, 1, 1, 1, 1, 1, 1, 1, 1, 1, 1, 1, 1, 1, 1, 1, 1, 1, 1, 1, 1, 1, 1, 1, 1, 1, 1, 1, 1, 1, 1, 1, 1, 1, 1, 1, 1, 1, 1, 1, 1, 1, 1, 1, 1, 1, 1, 1, 1, 1, 1, 1, 1, 1, 1, 1, 1, 1, 1, 1, 1, 1, 1, 1, 1, 1, 1, 1, 1, 1, 1, 1, 1, 1, 1, 1, 1, 1, 1, 1, 1, 1, 1, 1, 1, 1, 1, 1, 1, 1, 1, 1, 1, 1, 1, 1, 2]\n"
     ]
    }
   ],
   "source": [
    "nums = BetterList([1] * 100)\n",
    "nums.append(2)\n",
    "print(nums)"
   ]
  },
  {
   "cell_type": "code",
   "execution_count": 347,
   "id": "76067fb9-af64-4d3b-820f-c36ca84834b6",
   "metadata": {},
   "outputs": [],
   "source": [
    "nums_without_1s = nums.copy_without(1)"
   ]
  },
  {
   "cell_type": "code",
   "execution_count": 348,
   "id": "3082c7a1-0627-4ef5-aff8-441d786415ea",
   "metadata": {},
   "outputs": [
    {
     "name": "stdout",
     "output_type": "stream",
     "text": [
      "[1, 1, 1, 1, 1, 1, 1, 1, 1, 1, 1, 1, 1, 1, 1, 1, 1, 1, 1, 1, 1, 1, 1, 1, 1, 1, 1, 1, 1, 1, 1, 1, 1, 1, 1, 1, 1, 1, 1, 1, 1, 1, 1, 1, 1, 1, 1, 1, 1, 1, 1, 1, 1, 1, 1, 1, 1, 1, 1, 1, 1, 1, 1, 1, 1, 1, 1, 1, 1, 1, 1, 1, 1, 1, 1, 1, 1, 1, 1, 1, 1, 1, 1, 1, 1, 1, 1, 1, 1, 1, 1, 1, 1, 1, 1, 1, 1, 1, 1, 1, 2]\n"
     ]
    }
   ],
   "source": [
    "print(nums)"
   ]
  },
  {
   "cell_type": "code",
   "execution_count": 349,
   "id": "74e69ab9-fecb-4a2e-a5dc-b3a1155d16aa",
   "metadata": {},
   "outputs": [
    {
     "name": "stdout",
     "output_type": "stream",
     "text": [
      "[1, 2]\n"
     ]
    }
   ],
   "source": [
    "print(nums_without_1s)"
   ]
  },
  {
   "cell_type": "code",
   "execution_count": 352,
   "id": "1b5fbd68-ff3b-44ff-9296-407a7a7a5f0d",
   "metadata": {},
   "outputs": [
    {
     "name": "stdout",
     "output_type": "stream",
     "text": [
      "[1, 1, 1, 1, 1, 1, 1, 1, 1, 1, 1, 1, 1, 1, 1, 1, 1, 1, 1, 1, 1, 1, 1, 1, 1, 1, 1, 1, 1, 1, 1, 1, 1, 1, 1, 1, 1, 1, 1, 1, 1, 1, 1, 1, 1, 1, 1, 1, 1, 1, 1, 1, 1, 1, 1, 1, 1, 1, 1, 1, 1, 1, 1, 1, 1, 1, 1, 1, 1, 1, 1, 1, 1, 1, 1, 1, 1, 1, 1, 1, 1, 1, 1, 1, 1, 1, 1, 1, 1, 1, 1, 1, 1, 1, 1, 1, 1, 1, 1, 1, 2]\n"
     ]
    }
   ],
   "source": [
    "print(nums)"
   ]
  },
  {
   "cell_type": "code",
   "execution_count": 353,
   "id": "3b38aca1-e4c7-442c-bc70-840f4f90600d",
   "metadata": {},
   "outputs": [
    {
     "data": {
      "text/plain": [
       "{1, 2}"
      ]
     },
     "execution_count": 353,
     "metadata": {},
     "output_type": "execute_result"
    }
   ],
   "source": [
    "set(nums)"
   ]
  },
  {
   "cell_type": "code",
   "execution_count": 354,
   "id": "b044ed55-55c6-44f9-9210-24eee2327e01",
   "metadata": {},
   "outputs": [
    {
     "ename": "TypeError",
     "evalue": "object of type 'int' has no len()",
     "output_type": "error",
     "traceback": [
      "\u001b[0;31m---------------------------------------------------------------------------\u001b[0m",
      "\u001b[0;31mTypeError\u001b[0m                                 Traceback (most recent call last)",
      "Cell \u001b[0;32mIn[354], line 1\u001b[0m\n\u001b[0;32m----> 1\u001b[0m \u001b[38;5;28;43mlen\u001b[39;49m\u001b[43m(\u001b[49m\u001b[38;5;241;43m1\u001b[39;49m\u001b[43m)\u001b[49m\n",
      "\u001b[0;31mTypeError\u001b[0m: object of type 'int' has no len()"
     ]
    }
   ],
   "source": [
    "len(1)"
   ]
  },
  {
   "cell_type": "code",
   "execution_count": 372,
   "id": "98d34e19-532d-47c1-a1cb-5f21961541ac",
   "metadata": {},
   "outputs": [],
   "source": [
    "class ZanyInt(int):\n",
    "    def __len__(self):\n",
    "        return len(str(self))\n",
    "\n",
    "    def digitify(self):\n",
    "        # return(list(str(self))) # this returns a list of digits as strings\n",
    "        return [int(digit) for digit in str(self)]\n",
    "    "
   ]
  },
  {
   "cell_type": "code",
   "execution_count": 366,
   "id": "5ddbd5fa-eeda-4659-bfbc-15f05fa0914d",
   "metadata": {},
   "outputs": [
    {
     "data": {
      "text/plain": [
       "'12345'"
      ]
     },
     "execution_count": 366,
     "metadata": {},
     "output_type": "execute_result"
    }
   ],
   "source": [
    "num = 12345\n",
    "str(num)"
   ]
  },
  {
   "cell_type": "code",
   "execution_count": 359,
   "id": "56093995-a375-432c-bdef-998520b245e1",
   "metadata": {},
   "outputs": [
    {
     "data": {
      "text/plain": [
       "5"
      ]
     },
     "execution_count": 359,
     "metadata": {},
     "output_type": "execute_result"
    }
   ],
   "source": [
    "len(str(num))"
   ]
  },
  {
   "cell_type": "code",
   "execution_count": 373,
   "id": "3217e30d-bab4-471b-8021-f93b53f7f8a1",
   "metadata": {},
   "outputs": [],
   "source": [
    "z = ZanyInt(12345)"
   ]
  },
  {
   "cell_type": "code",
   "execution_count": 374,
   "id": "0b1c518a-cb9a-4216-bb98-2b192f13939b",
   "metadata": {},
   "outputs": [
    {
     "data": {
      "text/plain": [
       "5"
      ]
     },
     "execution_count": 374,
     "metadata": {},
     "output_type": "execute_result"
    }
   ],
   "source": [
    "len(z)"
   ]
  },
  {
   "cell_type": "code",
   "execution_count": 375,
   "id": "4d457776-2bb2-4f5e-8d5f-db78907f195a",
   "metadata": {
    "scrolled": true
   },
   "outputs": [
    {
     "data": {
      "text/plain": [
       "[1, 2, 3, 4, 5]"
      ]
     },
     "execution_count": 375,
     "metadata": {},
     "output_type": "execute_result"
    }
   ],
   "source": [
    "z.digitify()"
   ]
  },
  {
   "cell_type": "code",
   "execution_count": 376,
   "id": "da1ebe2d-509d-439b-95e5-7f2318a606e7",
   "metadata": {},
   "outputs": [],
   "source": [
    "num = 67890"
   ]
  },
  {
   "cell_type": "code",
   "execution_count": 378,
   "id": "db8f9cb2-8a9d-4766-8e2b-9fbcd68f7695",
   "metadata": {},
   "outputs": [
    {
     "name": "stdout",
     "output_type": "stream",
     "text": [
      "6\n",
      "7\n",
      "8\n",
      "9\n",
      "0\n"
     ]
    }
   ],
   "source": [
    "for digit in str(num):\n",
    "    print(int(digit))"
   ]
  },
  {
   "cell_type": "code",
   "execution_count": 379,
   "id": "dade3eb9-1b29-4cb8-91fb-00e0eeb871f4",
   "metadata": {},
   "outputs": [
    {
     "name": "stdout",
     "output_type": "stream",
     "text": [
      "Help on built-in function sin in module math:\n",
      "\n",
      "sin(x, /)\n",
      "    Return the sine of x (measured in radians).\n",
      "\n"
     ]
    }
   ],
   "source": [
    "import math\n",
    "help(math.sin)"
   ]
  },
  {
   "cell_type": "code",
   "execution_count": 381,
   "id": "cd3586fd-ef13-4dd4-9107-68a3c8f7df45",
   "metadata": {},
   "outputs": [],
   "source": [
    "d = {'a': 1}"
   ]
  },
  {
   "cell_type": "code",
   "execution_count": 382,
   "id": "0fc2f23f-5122-49ec-a31e-b70fd677b411",
   "metadata": {},
   "outputs": [
    {
     "data": {
      "text/plain": [
       "1"
      ]
     },
     "execution_count": 382,
     "metadata": {},
     "output_type": "execute_result"
    }
   ],
   "source": [
    "d['a']"
   ]
  },
  {
   "cell_type": "code",
   "execution_count": 383,
   "id": "f4753c90-b03c-448a-9a86-66893f846f43",
   "metadata": {},
   "outputs": [
    {
     "ename": "KeyError",
     "evalue": "'b'",
     "output_type": "error",
     "traceback": [
      "\u001b[0;31m---------------------------------------------------------------------------\u001b[0m",
      "\u001b[0;31mKeyError\u001b[0m                                  Traceback (most recent call last)",
      "Cell \u001b[0;32mIn[383], line 1\u001b[0m\n\u001b[0;32m----> 1\u001b[0m \u001b[43md\u001b[49m\u001b[43m[\u001b[49m\u001b[38;5;124;43m'\u001b[39;49m\u001b[38;5;124;43mb\u001b[39;49m\u001b[38;5;124;43m'\u001b[39;49m\u001b[43m]\u001b[49m\n",
      "\u001b[0;31mKeyError\u001b[0m: 'b'"
     ]
    }
   ],
   "source": [
    "d['b']"
   ]
  },
  {
   "cell_type": "code",
   "execution_count": 384,
   "id": "a3c7195b-38ae-45d8-b067-576c8b256ab4",
   "metadata": {},
   "outputs": [],
   "source": [
    "from collections import defaultdict"
   ]
  },
  {
   "cell_type": "code",
   "execution_count": 385,
   "id": "8dc6459d-e9b0-4d0b-a2a4-a53c084366dc",
   "metadata": {},
   "outputs": [],
   "source": [
    "d = defaultdict(int) # my values are going to be ints, so return 0 when a key is missing"
   ]
  },
  {
   "cell_type": "code",
   "execution_count": 386,
   "id": "66fc7271-2b07-44b2-8622-392875a2ff23",
   "metadata": {},
   "outputs": [
    {
     "data": {
      "text/plain": [
       "defaultdict(int, {})"
      ]
     },
     "execution_count": 386,
     "metadata": {},
     "output_type": "execute_result"
    }
   ],
   "source": [
    "d"
   ]
  },
  {
   "cell_type": "code",
   "execution_count": 387,
   "id": "c61d33a7-5ac9-4dde-b388-f360448c0e25",
   "metadata": {},
   "outputs": [
    {
     "name": "stdout",
     "output_type": "stream",
     "text": [
      "defaultdict(<class 'int'>, {})\n"
     ]
    }
   ],
   "source": [
    "print(d)"
   ]
  },
  {
   "cell_type": "code",
   "execution_count": 388,
   "id": "b4e61119-dee7-417e-b0b5-b49f4cc06d5b",
   "metadata": {},
   "outputs": [
    {
     "data": {
      "text/plain": [
       "collections.defaultdict"
      ]
     },
     "execution_count": 388,
     "metadata": {},
     "output_type": "execute_result"
    }
   ],
   "source": [
    "type(d)"
   ]
  },
  {
   "cell_type": "code",
   "execution_count": 389,
   "id": "44745a25-5b55-41bc-baa2-7497f0f180e3",
   "metadata": {},
   "outputs": [
    {
     "data": {
      "text/plain": [
       "0"
      ]
     },
     "execution_count": 389,
     "metadata": {},
     "output_type": "execute_result"
    }
   ],
   "source": [
    "d['not there']"
   ]
  },
  {
   "cell_type": "code",
   "execution_count": 390,
   "id": "1dc398a3-bd5d-47c0-872b-273d109f9adb",
   "metadata": {},
   "outputs": [],
   "source": [
    "d['a'] = 5"
   ]
  },
  {
   "cell_type": "code",
   "execution_count": 391,
   "id": "4e5b97c3-2707-4283-8f7b-a865c841a19e",
   "metadata": {},
   "outputs": [
    {
     "data": {
      "text/plain": [
       "defaultdict(int, {'not there': 0, 'a': 5})"
      ]
     },
     "execution_count": 391,
     "metadata": {},
     "output_type": "execute_result"
    }
   ],
   "source": [
    "d"
   ]
  },
  {
   "cell_type": "code",
   "execution_count": 392,
   "id": "88bf8051-4e68-404e-a90b-bb13918a0d2f",
   "metadata": {},
   "outputs": [
    {
     "data": {
      "text/plain": [
       "0"
      ]
     },
     "execution_count": 392,
     "metadata": {},
     "output_type": "execute_result"
    }
   ],
   "source": [
    "d['b']"
   ]
  },
  {
   "cell_type": "code",
   "execution_count": 393,
   "id": "e65165d8-4c1d-460a-bde0-05e4a735afd9",
   "metadata": {},
   "outputs": [
    {
     "data": {
      "text/plain": [
       "defaultdict(int, {'not there': 0, 'a': 5, 'b': 0})"
      ]
     },
     "execution_count": 393,
     "metadata": {},
     "output_type": "execute_result"
    }
   ],
   "source": [
    "d"
   ]
  },
  {
   "cell_type": "markdown",
   "id": "f625ad83-65b1-427c-b6e6-05006a48d3af",
   "metadata": {},
   "source": [
    "## Lab: Default Dictionaries\n",
    "* read from the keyboard where each line is a word followed by a count, e.g.,\n",
    "<pre>\n",
    "    apple 2\n",
    "    pear 3\n",
    "    cherry 5\n",
    "    apple 3\n",
    "    pear 6\n",
    "    apple 1\n",
    "</pre>\n",
    "(as shown above, words may be duplicated)\n",
    "* generate a __`defaultdict`__ where the keys are the words and the value are a _list_ of all the counts for that word, e.g.,\n",
    "<pre>\n",
    "defaultdict(&lt;class 'list'>, {'apple': ['2', '3', '1'], 'pear': ['3', '6'], 'cherry': ['5']})\n",
    "</pre>"
   ]
  },
  {
   "cell_type": "code",
   "execution_count": 394,
   "id": "cc43e94f-afa2-410e-8f49-fd4738fed0f6",
   "metadata": {},
   "outputs": [
    {
     "name": "stdin",
     "output_type": "stream",
     "text": [
      "Enter:  apple 2\n"
     ]
    }
   ],
   "source": [
    "line = input('Enter: ')"
   ]
  },
  {
   "cell_type": "code",
   "execution_count": 395,
   "id": "317ed233-6bba-4927-81cd-c07c7563a93a",
   "metadata": {},
   "outputs": [
    {
     "data": {
      "text/plain": [
       "'apple 2'"
      ]
     },
     "execution_count": 395,
     "metadata": {},
     "output_type": "execute_result"
    }
   ],
   "source": [
    "line"
   ]
  },
  {
   "cell_type": "code",
   "execution_count": 396,
   "id": "9039c229-d7b0-49a6-974a-c9bdf8da39a0",
   "metadata": {},
   "outputs": [
    {
     "data": {
      "text/plain": [
       "['apple', '2']"
      ]
     },
     "execution_count": 396,
     "metadata": {},
     "output_type": "execute_result"
    }
   ],
   "source": [
    "line.split()"
   ]
  },
  {
   "cell_type": "code",
   "execution_count": 406,
   "id": "9ef6f49e-b633-4526-b5d7-2b720a30c234",
   "metadata": {},
   "outputs": [],
   "source": [
    "word, count = line.split()"
   ]
  },
  {
   "cell_type": "code",
   "execution_count": 407,
   "id": "8c60a86c-91c6-45d3-86e3-e441c7397c55",
   "metadata": {},
   "outputs": [
    {
     "data": {
      "text/plain": [
       "('apple', '2')"
      ]
     },
     "execution_count": 407,
     "metadata": {},
     "output_type": "execute_result"
    }
   ],
   "source": [
    "word, count"
   ]
  },
  {
   "cell_type": "code",
   "execution_count": 402,
   "id": "7189fe3d-0e69-4cab-83ad-c47de35b91a5",
   "metadata": {},
   "outputs": [],
   "source": [
    "d = defaultdict(list)"
   ]
  },
  {
   "cell_type": "code",
   "execution_count": 403,
   "id": "50ee2c5b-8d5b-4d98-a137-10fe3eed77ca",
   "metadata": {},
   "outputs": [
    {
     "data": {
      "text/plain": [
       "defaultdict(list, {})"
      ]
     },
     "execution_count": 403,
     "metadata": {},
     "output_type": "execute_result"
    }
   ],
   "source": [
    "d"
   ]
  },
  {
   "cell_type": "code",
   "execution_count": 404,
   "id": "dee0b03f-3281-4d4f-a42d-ad085e0de961",
   "metadata": {},
   "outputs": [
    {
     "data": {
      "text/plain": [
       "[]"
      ]
     },
     "execution_count": 404,
     "metadata": {},
     "output_type": "execute_result"
    }
   ],
   "source": [
    "d['apple']"
   ]
  },
  {
   "cell_type": "code",
   "execution_count": 408,
   "id": "06cc344f-8006-45f7-946f-4dbd2e193c76",
   "metadata": {},
   "outputs": [
    {
     "data": {
      "text/plain": [
       "defaultdict(list, {'apple': []})"
      ]
     },
     "execution_count": 408,
     "metadata": {},
     "output_type": "execute_result"
    }
   ],
   "source": [
    "d"
   ]
  },
  {
   "cell_type": "code",
   "execution_count": 410,
   "id": "80dfb0b0-c5e0-468b-b07d-d6b95cb54d89",
   "metadata": {},
   "outputs": [],
   "source": [
    "d['apple'].append(count)"
   ]
  },
  {
   "cell_type": "code",
   "execution_count": 411,
   "id": "63acfe6c-8abc-4f6a-90c4-058734d6d0ad",
   "metadata": {},
   "outputs": [
    {
     "data": {
      "text/plain": [
       "defaultdict(list, {'apple': ['2']})"
      ]
     },
     "execution_count": 411,
     "metadata": {},
     "output_type": "execute_result"
    }
   ],
   "source": [
    "d"
   ]
  },
  {
   "cell_type": "code",
   "execution_count": 413,
   "id": "a8825c34-3ffe-4de8-8a61-0bd53c60da46",
   "metadata": {},
   "outputs": [
    {
     "name": "stdin",
     "output_type": "stream",
     "text": [
      "Enter:  apple 5\n"
     ]
    },
    {
     "name": "stdout",
     "output_type": "stream",
     "text": [
      "read this: apple 5\n"
     ]
    },
    {
     "name": "stdin",
     "output_type": "stream",
     "text": [
      "Enter:  pear 34\n"
     ]
    },
    {
     "name": "stdout",
     "output_type": "stream",
     "text": [
      "read this: pear 34\n"
     ]
    },
    {
     "name": "stdin",
     "output_type": "stream",
     "text": [
      "Enter:  lemon 2\n"
     ]
    },
    {
     "name": "stdout",
     "output_type": "stream",
     "text": [
      "read this: lemon 2\n"
     ]
    },
    {
     "name": "stdin",
     "output_type": "stream",
     "text": [
      "Enter:  quit\n"
     ]
    }
   ],
   "source": [
    "while (line := input('Enter: ')) != 'quit':\n",
    "    print('read this:', line)"
   ]
  },
  {
   "cell_type": "code",
   "execution_count": 424,
   "id": "f966f7d0-6be9-42b0-8dc6-ecf15235b606",
   "metadata": {},
   "outputs": [
    {
     "name": "stdin",
     "output_type": "stream",
     "text": [
      "Enter:  QUIT\n"
     ]
    }
   ],
   "source": [
    "import collections\n",
    "\n",
    "counts = defaultdict(list) # default dict with lists as values\n",
    "\n",
    "while (line := input('Enter: ').lower()) != 'quit': # while anything other than 'quit'\n",
    "    try:\n",
    "        word, count = line.split() # split line into 2 parts\n",
    "    except ValueError:\n",
    "        print('malformed line:', line) \n",
    "    counts[word].append(count) # append to list (which is the value in dict)"
   ]
  },
  {
   "cell_type": "code",
   "execution_count": 422,
   "id": "c131759e-ef74-43d2-8e8a-0a78f183045b",
   "metadata": {},
   "outputs": [
    {
     "name": "stdout",
     "output_type": "stream",
     "text": [
      "defaultdict(<class 'list'>, {'apple': ['2', '4'], 'fig': ['3', '3', '3', '5']})\n"
     ]
    }
   ],
   "source": [
    "print(counts)"
   ]
  },
  {
   "cell_type": "code",
   "execution_count": 425,
   "id": "dd44a7db-301d-42e0-84b4-dc6a42a3b46e",
   "metadata": {},
   "outputs": [
    {
     "data": {
      "text/plain": [
       "int"
      ]
     },
     "execution_count": 425,
     "metadata": {},
     "output_type": "execute_result"
    }
   ],
   "source": [
    "type(4)"
   ]
  },
  {
   "cell_type": "code",
   "execution_count": 426,
   "id": "a65105fe-41c3-463a-965c-166592c1fc98",
   "metadata": {},
   "outputs": [],
   "source": [
    "thing = 4"
   ]
  },
  {
   "cell_type": "code",
   "execution_count": 427,
   "id": "c323dc47-d544-412d-9bdb-acfbc4a33628",
   "metadata": {},
   "outputs": [
    {
     "data": {
      "text/plain": [
       "True"
      ]
     },
     "execution_count": 427,
     "metadata": {},
     "output_type": "execute_result"
    }
   ],
   "source": [
    "type(thing) == int"
   ]
  },
  {
   "cell_type": "code",
   "execution_count": 428,
   "id": "d03f1786-8392-4bdc-9b98-f5151ccd5751",
   "metadata": {},
   "outputs": [],
   "source": [
    "words = 'pear apple fig lemon'.split()"
   ]
  },
  {
   "cell_type": "code",
   "execution_count": 429,
   "id": "d541d989-ba73-43c3-9663-3dda8f21f534",
   "metadata": {},
   "outputs": [
    {
     "data": {
      "text/plain": [
       "['pear', 'apple', 'fig', 'lemon']"
      ]
     },
     "execution_count": 429,
     "metadata": {},
     "output_type": "execute_result"
    }
   ],
   "source": [
    "words"
   ]
  },
  {
   "cell_type": "code",
   "execution_count": 430,
   "id": "15fefab5-ab80-488b-bcb0-975524011aa2",
   "metadata": {},
   "outputs": [],
   "source": [
    "del words[-1] # delete/remove from memory the last item"
   ]
  },
  {
   "cell_type": "code",
   "execution_count": 431,
   "id": "ed9e9a2c-4d6c-4baa-86ab-714bf5391fd7",
   "metadata": {},
   "outputs": [
    {
     "data": {
      "text/plain": [
       "['pear', 'apple', 'fig']"
      ]
     },
     "execution_count": 431,
     "metadata": {},
     "output_type": "execute_result"
    }
   ],
   "source": [
    "words"
   ]
  },
  {
   "cell_type": "code",
   "execution_count": 432,
   "id": "f8273133-df3f-4849-97b2-4872a62f9d18",
   "metadata": {},
   "outputs": [],
   "source": [
    "big_variable = 1"
   ]
  },
  {
   "cell_type": "code",
   "execution_count": 433,
   "id": "325f4242-a1eb-4965-b57d-8ee7be343a0c",
   "metadata": {},
   "outputs": [],
   "source": [
    "del big_variable"
   ]
  },
  {
   "cell_type": "code",
   "execution_count": 434,
   "id": "d1d8a1bc-06d4-475a-b6f3-70806f5b917e",
   "metadata": {},
   "outputs": [
    {
     "ename": "NameError",
     "evalue": "name 'big_variable' is not defined",
     "output_type": "error",
     "traceback": [
      "\u001b[0;31m---------------------------------------------------------------------------\u001b[0m",
      "\u001b[0;31mNameError\u001b[0m                                 Traceback (most recent call last)",
      "Cell \u001b[0;32mIn[434], line 1\u001b[0m\n\u001b[0;32m----> 1\u001b[0m \u001b[43mbig_variable\u001b[49m\n",
      "\u001b[0;31mNameError\u001b[0m: name 'big_variable' is not defined"
     ]
    }
   ],
   "source": [
    "big_variable"
   ]
  },
  {
   "cell_type": "code",
   "execution_count": 436,
   "id": "bf02b49e-95e7-4a20-b0a6-1623bc044b11",
   "metadata": {},
   "outputs": [
    {
     "name": "stdout",
     "output_type": "stream",
     "text": [
      "['False', 'None', 'True', 'and', 'as', 'assert', 'async', 'await', 'break', 'class', 'continue', 'def', 'del', 'elif', 'else', 'except', 'finally', 'for', 'from', 'global', 'if', 'import', 'in', 'is', 'lambda', 'nonlocal', 'not', 'or', 'pass', 'raise', 'return', 'try', 'while', 'with', 'yield']\n"
     ]
    }
   ],
   "source": [
    "import keyword\n",
    "print(keyword.kwlist)"
   ]
  },
  {
   "cell_type": "code",
   "execution_count": 471,
   "id": "e617a505-aed0-4cec-9d9d-2bc241cead31",
   "metadata": {},
   "outputs": [],
   "source": [
    "# zip\n",
    "last_names = 'Lovelace Hopper Johnson'.split()\n",
    "first_names = 'Ada Grace Katherine'.split()\n",
    "birth_years = [1815, 1906, 1918]"
   ]
  },
  {
   "cell_type": "code",
   "execution_count": 472,
   "id": "301b1ec9-fb72-477f-9493-4099b33d1a92",
   "metadata": {},
   "outputs": [
    {
     "name": "stdout",
     "output_type": "stream",
     "text": [
      "Lovelace Ada born in 1815\n",
      "Hopper Grace born in 1906\n",
      "Johnson Katherine born in 1918\n"
     ]
    }
   ],
   "source": [
    "for last_name, first_name, birth_year in zip(last_names, first_names, birth_years):\n",
    "    print(last_name, first_name, 'born in', birth_year)"
   ]
  },
  {
   "cell_type": "code",
   "execution_count": 476,
   "id": "62fe7dd2-6100-4682-8f88-4d7dd4b7cee2",
   "metadata": {},
   "outputs": [
    {
     "name": "stdout",
     "output_type": "stream",
     "text": [
      "Lovelace Ada 1815\n",
      "Hopper Grace 1906\n",
      "Johnson Katherine 1918\n"
     ]
    }
   ],
   "source": [
    "for index in range(len(last_names)):\n",
    "    print(last_names[index], first_names[index], birth_years[index])"
   ]
  },
  {
   "cell_type": "code",
   "execution_count": 438,
   "id": "45b4aae6-973d-4c31-940e-864bfd1a0ddc",
   "metadata": {},
   "outputs": [],
   "source": [
    "# any comma-separated sequence of objects is by definition a TUPLE\n",
    "t = 'Lovelace', 'Ada', 1815, 'United Kingdom'"
   ]
  },
  {
   "cell_type": "code",
   "execution_count": 446,
   "id": "9a5f25e8-aaf8-4282-8ca6-dfb4ad878757",
   "metadata": {},
   "outputs": [
    {
     "data": {
      "text/plain": [
       "('Lovelace', 'Ada', 1815, 'United Kingdom')"
      ]
     },
     "execution_count": 446,
     "metadata": {},
     "output_type": "execute_result"
    }
   ],
   "source": [
    "t"
   ]
  },
  {
   "cell_type": "code",
   "execution_count": 440,
   "id": "7fc0fc69-dc6e-474d-bc33-d56f278a4789",
   "metadata": {},
   "outputs": [
    {
     "data": {
      "text/plain": [
       "tuple"
      ]
     },
     "execution_count": 440,
     "metadata": {},
     "output_type": "execute_result"
    }
   ],
   "source": [
    "type(t)"
   ]
  },
  {
   "cell_type": "code",
   "execution_count": 447,
   "id": "1e0a3c71-89ca-4ffa-a585-838402189064",
   "metadata": {},
   "outputs": [
    {
     "data": {
      "text/plain": [
       "'United Kingdom'"
      ]
     },
     "execution_count": 447,
     "metadata": {},
     "output_type": "execute_result"
    }
   ],
   "source": [
    "t[-1] # indexing a tuple"
   ]
  },
  {
   "cell_type": "code",
   "execution_count": 449,
   "id": "a4a0bce1-12cf-4780-a460-396adc6f0160",
   "metadata": {},
   "outputs": [
    {
     "data": {
      "text/plain": [
       "('Ada', 1815)"
      ]
     },
     "execution_count": 449,
     "metadata": {},
     "output_type": "execute_result"
    }
   ],
   "source": [
    "t[1:-1] # slicing a tuple"
   ]
  },
  {
   "cell_type": "code",
   "execution_count": 450,
   "id": "93cadd5f-6de2-47c2-ae88-8cb0f561b2db",
   "metadata": {},
   "outputs": [],
   "source": [
    "from collections import namedtuple\n",
    "HistoricalFigure = namedtuple('HistoricalFigure', 'last_name first_name birth_year country')"
   ]
  },
  {
   "cell_type": "code",
   "execution_count": 460,
   "id": "c3d7d716-921b-4e78-9a66-be29b1ccc6aa",
   "metadata": {},
   "outputs": [],
   "source": [
    "ada = HistoricalFigure('Lovelace', 'Ada', 1815, 'UK')"
   ]
  },
  {
   "cell_type": "code",
   "execution_count": 461,
   "id": "bf97c886-6878-4995-bb60-4ab39ce7fa5c",
   "metadata": {},
   "outputs": [
    {
     "data": {
      "text/plain": [
       "('last_name', 'first_name', 'birth_year', 'country')"
      ]
     },
     "execution_count": 461,
     "metadata": {},
     "output_type": "execute_result"
    }
   ],
   "source": [
    "ada._fields"
   ]
  },
  {
   "cell_type": "code",
   "execution_count": 462,
   "id": "2c7200bb-5dc4-4f2a-9550-71ac4829398c",
   "metadata": {},
   "outputs": [
    {
     "data": {
      "text/plain": [
       "HistoricalFigure(last_name='Lovelace', first_name='Ada', birth_year=1815, country='UK')"
      ]
     },
     "execution_count": 462,
     "metadata": {},
     "output_type": "execute_result"
    }
   ],
   "source": [
    "ada"
   ]
  },
  {
   "cell_type": "code",
   "execution_count": 466,
   "id": "00ca9f65-7637-4756-ba56-7e27cea94a77",
   "metadata": {},
   "outputs": [
    {
     "data": {
      "text/plain": [
       "__main__.HistoricalFigure"
      ]
     },
     "execution_count": 466,
     "metadata": {},
     "output_type": "execute_result"
    }
   ],
   "source": [
    "type(ada)"
   ]
  },
  {
   "cell_type": "code",
   "execution_count": 470,
   "id": "307cfbbd-b3fd-40b3-bc6b-52c583e88c06",
   "metadata": {},
   "outputs": [
    {
     "name": "stdout",
     "output_type": "stream",
     "text": [
      "last_name = Lovelace\n",
      "first_name = Ada\n",
      "birth_year = 1815\n",
      "country = UK\n"
     ]
    }
   ],
   "source": [
    "for field_name, value in zip(ada._fields, ada):\n",
    "    print(field_name, '=', value)"
   ]
  },
  {
   "cell_type": "code",
   "execution_count": 441,
   "id": "72508a7c-f3d4-4932-a798-655c88269dc5",
   "metadata": {},
   "outputs": [],
   "source": [
    "x = 1\n",
    "y = 2"
   ]
  },
  {
   "cell_type": "code",
   "execution_count": 442,
   "id": "c284a831-e65e-4db8-8073-69bdba792346",
   "metadata": {},
   "outputs": [],
   "source": [
    "temp = x\n",
    "x = y\n",
    "y = temp"
   ]
  },
  {
   "cell_type": "code",
   "execution_count": 443,
   "id": "c4912044-8231-429c-852c-2b6568dae2bd",
   "metadata": {},
   "outputs": [
    {
     "data": {
      "text/plain": [
       "(2, 1)"
      ]
     },
     "execution_count": 443,
     "metadata": {},
     "output_type": "execute_result"
    }
   ],
   "source": [
    "x, y"
   ]
  },
  {
   "cell_type": "code",
   "execution_count": 444,
   "id": "e1729e5b-05da-4a6b-9b02-051e07e2e23e",
   "metadata": {},
   "outputs": [],
   "source": [
    "x, y = y, x"
   ]
  },
  {
   "cell_type": "code",
   "execution_count": 445,
   "id": "0a61369e-de92-44b1-934d-3b4fdac7424c",
   "metadata": {},
   "outputs": [
    {
     "data": {
      "text/plain": [
       "(1, 2)"
      ]
     },
     "execution_count": 445,
     "metadata": {},
     "output_type": "execute_result"
    }
   ],
   "source": [
    "x, y"
   ]
  },
  {
   "cell_type": "code",
   "execution_count": 455,
   "id": "d3b3e485-61b5-4358-b57b-f44d4db0f2ea",
   "metadata": {},
   "outputs": [],
   "source": [
    "from collections import namedtuple\n",
    "Point = namedtuple('Point', 'x y')"
   ]
  },
  {
   "cell_type": "code",
   "execution_count": 456,
   "id": "da6a9246-c31f-4a2e-bb17-5c120dd6d205",
   "metadata": {},
   "outputs": [],
   "source": [
    "p = Point(1, 2)"
   ]
  },
  {
   "cell_type": "code",
   "execution_count": 457,
   "id": "0271d384-4745-492b-bc38-82e0c287e208",
   "metadata": {},
   "outputs": [
    {
     "data": {
      "text/plain": [
       "Point(x=1, y=2)"
      ]
     },
     "execution_count": 457,
     "metadata": {},
     "output_type": "execute_result"
    }
   ],
   "source": [
    "p"
   ]
  },
  {
   "cell_type": "code",
   "execution_count": 458,
   "id": "2e25b8a9-cddb-49f0-ac79-76463a274af9",
   "metadata": {},
   "outputs": [
    {
     "data": {
      "text/plain": [
       "__main__.Point"
      ]
     },
     "execution_count": 458,
     "metadata": {},
     "output_type": "execute_result"
    }
   ],
   "source": [
    "type(p)"
   ]
  },
  {
   "cell_type": "code",
   "execution_count": 459,
   "id": "0ceaae61-6962-4ee7-a649-da7250455a73",
   "metadata": {},
   "outputs": [],
   "source": [
    "# Great book ... Fluent Python by Luciano Ramalho"
   ]
  },
  {
   "cell_type": "code",
   "execution_count": 477,
   "id": "31d7621a-c33c-4c4a-8729-376fbbb45cd5",
   "metadata": {},
   "outputs": [],
   "source": [
    "num = 1"
   ]
  },
  {
   "cell_type": "code",
   "execution_count": 478,
   "id": "55da0c3f-30ad-42d8-88ba-e8fa7e5e5d93",
   "metadata": {},
   "outputs": [
    {
     "data": {
      "text/plain": [
       "int"
      ]
     },
     "execution_count": 478,
     "metadata": {},
     "output_type": "execute_result"
    }
   ],
   "source": [
    "type(num)"
   ]
  },
  {
   "cell_type": "code",
   "execution_count": 490,
   "id": "8ca33fbe-3fc4-4552-97a1-a9c0aaa88912",
   "metadata": {},
   "outputs": [
    {
     "data": {
      "text/plain": [
       "['__abs__',\n",
       " '__add__',\n",
       " '__bool__',\n",
       " '__ceil__',\n",
       " '__class__',\n",
       " '__delattr__',\n",
       " '__dir__',\n",
       " '__divmod__',\n",
       " '__doc__',\n",
       " '__eq__',\n",
       " '__float__',\n",
       " '__floor__',\n",
       " '__floordiv__',\n",
       " '__format__',\n",
       " '__ge__',\n",
       " '__getattribute__',\n",
       " '__getformat__',\n",
       " '__getnewargs__',\n",
       " '__getstate__',\n",
       " '__gt__',\n",
       " '__hash__',\n",
       " '__init__',\n",
       " '__init_subclass__',\n",
       " '__int__',\n",
       " '__le__',\n",
       " '__lt__',\n",
       " '__mod__',\n",
       " '__mul__',\n",
       " '__ne__',\n",
       " '__neg__',\n",
       " '__new__',\n",
       " '__pos__',\n",
       " '__pow__',\n",
       " '__radd__',\n",
       " '__rdivmod__',\n",
       " '__reduce__',\n",
       " '__reduce_ex__',\n",
       " '__repr__',\n",
       " '__rfloordiv__',\n",
       " '__rmod__',\n",
       " '__rmul__',\n",
       " '__round__',\n",
       " '__rpow__',\n",
       " '__rsub__',\n",
       " '__rtruediv__',\n",
       " '__setattr__',\n",
       " '__sizeof__',\n",
       " '__str__',\n",
       " '__sub__',\n",
       " '__subclasshook__',\n",
       " '__truediv__',\n",
       " '__trunc__',\n",
       " 'as_integer_ratio',\n",
       " 'conjugate',\n",
       " 'fromhex',\n",
       " 'hex',\n",
       " 'imag',\n",
       " 'is_integer',\n",
       " 'real']"
      ]
     },
     "execution_count": 490,
     "metadata": {},
     "output_type": "execute_result"
    }
   ],
   "source": [
    "dir(num)"
   ]
  },
  {
   "cell_type": "code",
   "execution_count": 480,
   "id": "fdb514d5-729d-4c6e-8aa3-b229e117f003",
   "metadata": {},
   "outputs": [
    {
     "data": {
      "text/plain": [
       "int"
      ]
     },
     "execution_count": 480,
     "metadata": {},
     "output_type": "execute_result"
    }
   ],
   "source": [
    "num.__class__"
   ]
  },
  {
   "cell_type": "code",
   "execution_count": 481,
   "id": "7364a755-cd53-403e-8ad9-3938e8d115b7",
   "metadata": {},
   "outputs": [],
   "source": [
    "num = 1.5"
   ]
  },
  {
   "cell_type": "code",
   "execution_count": 482,
   "id": "f648e304-5b1f-406d-b3d7-8cae673a69a4",
   "metadata": {},
   "outputs": [
    {
     "data": {
      "text/plain": [
       "float"
      ]
     },
     "execution_count": 482,
     "metadata": {},
     "output_type": "execute_result"
    }
   ],
   "source": [
    "num.__class__"
   ]
  },
  {
   "cell_type": "code",
   "execution_count": 483,
   "id": "8eecf2d5-ddb8-4c99-80d7-0f7429393ceb",
   "metadata": {},
   "outputs": [],
   "source": [
    "class Person:\n",
    "    def __init__(self, name):\n",
    "        self.name = name"
   ]
  },
  {
   "cell_type": "code",
   "execution_count": 484,
   "id": "1b61f32a-c3cc-46fd-ade8-c6221b97be31",
   "metadata": {},
   "outputs": [],
   "source": [
    "dave = Person('Dave')"
   ]
  },
  {
   "cell_type": "code",
   "execution_count": 485,
   "id": "6b1b973f-c8e0-4381-b751-914431f14e77",
   "metadata": {},
   "outputs": [
    {
     "data": {
      "text/plain": [
       "{'name': 'Dave'}"
      ]
     },
     "execution_count": 485,
     "metadata": {},
     "output_type": "execute_result"
    }
   ],
   "source": [
    "vars(dave)"
   ]
  },
  {
   "cell_type": "code",
   "execution_count": 486,
   "id": "c0a95318-4e19-4f7f-84d1-bff2717f20a9",
   "metadata": {},
   "outputs": [
    {
     "data": {
      "text/plain": [
       "{'name': 'Dave'}"
      ]
     },
     "execution_count": 486,
     "metadata": {},
     "output_type": "execute_result"
    }
   ],
   "source": [
    "dave.__dict__"
   ]
  },
  {
   "cell_type": "code",
   "execution_count": 488,
   "id": "5951c602-53b7-4e5a-8618-6835771d12ec",
   "metadata": {},
   "outputs": [],
   "source": [
    "dave.name = 'Grace'"
   ]
  },
  {
   "cell_type": "code",
   "execution_count": 489,
   "id": "9c8ab028-f222-4337-8ea1-d6219e047127",
   "metadata": {},
   "outputs": [
    {
     "data": {
      "text/plain": [
       "{'name': 'Grace'}"
      ]
     },
     "execution_count": 489,
     "metadata": {},
     "output_type": "execute_result"
    }
   ],
   "source": [
    "vars(dave)"
   ]
  },
  {
   "cell_type": "markdown",
   "id": "43439df9-6396-4684-a87b-c2e720a04ca6",
   "metadata": {},
   "source": [
    "## Lab: Named Tuples\n",
    "1. Create a named tuple called __`Card`__ (representing a playing card) which has two fields, __`rank`__ and __`suit`__\n",
    "2. Create a list of __`Card`__, which, when initialized, contains all 52 cards in a deck\n",
    "3. In other words, the list (or deck) should contain  \n",
    "\n",
    "__`[Card(rank=2, suit='clubs'), Card(rank=3, suit='clubs'), Card(rank=4, suit='clubs'), ..., Card(rank='Q', suit='spades'), Card(rank='K', suit='spades'), Card(rank='A', suit='spades')]`__\n",
    "* ranks = 2, 3, 4, ..., 10, J, Q, K, A (strings)\n",
    "* suits = clubs, hearts, diamonds, spades (strings)"
   ]
  },
  {
   "cell_type": "code",
   "execution_count": 501,
   "id": "d588389d-1eb7-45ac-8f26-d6b250e185b8",
   "metadata": {},
   "outputs": [
    {
     "name": "stdout",
     "output_type": "stream",
     "text": [
      "['2', '3', '4', '5', '6', '7', '8', '9', '10', 'J', 'Q', 'K', 'A']\n"
     ]
    }
   ],
   "source": [
    "ranks = [str(rank) for rank in range(2, 11)] + list('JQKA')\n",
    "print(ranks)"
   ]
  },
  {
   "cell_type": "code",
   "execution_count": 504,
   "id": "17eb6ebd-dd17-4a91-8451-57adcd5e0c7b",
   "metadata": {},
   "outputs": [
    {
     "name": "stdout",
     "output_type": "stream",
     "text": [
      "['2', '3', '4', '5', '6', '7', '8', '9', '10', 'J', 'Q', 'K', 'A']\n"
     ]
    }
   ],
   "source": [
    "# or...\n",
    "ranks = []\n",
    "for rank in range(2, 11):\n",
    "    ranks.append(str(rank))\n",
    "\n",
    "ranks.extend('J Q K A'.split()) # or list('JQKA')\n",
    "print(ranks)"
   ]
  },
  {
   "cell_type": "code",
   "execution_count": 496,
   "id": "82838d56-cdea-40de-82a0-b6d7d2b0b6c5",
   "metadata": {},
   "outputs": [],
   "source": [
    "suits = 'clubs diamonds hearts spades'.split()"
   ]
  },
  {
   "cell_type": "code",
   "execution_count": 511,
   "id": "ede025fa-66f7-40f6-aefb-82f5a320b90d",
   "metadata": {},
   "outputs": [],
   "source": [
    "from collections import namedtuple\n",
    "Card = namedtuple('Card', 'rank, suit')"
   ]
  },
  {
   "cell_type": "code",
   "execution_count": 512,
   "id": "074b3f93-832b-4af0-8d12-c50284c2dade",
   "metadata": {},
   "outputs": [
    {
     "data": {
      "text/plain": [
       "('rank', 'suit')"
      ]
     },
     "execution_count": 512,
     "metadata": {},
     "output_type": "execute_result"
    }
   ],
   "source": [
    "Card._fields"
   ]
  },
  {
   "cell_type": "code",
   "execution_count": null,
   "id": "d5498cd9-ece3-417f-a581-2b36832a2f31",
   "metadata": {},
   "outputs": [],
   "source": [
    "deck = []\n",
    "for suit in suits:\n",
    "    for rank in ranks: # for each rank 2..10, J..A\n",
    "        deck.append(Card(rank, suit))\n",
    "\n",
    "# list comprehension? We'll do it together..."
   ]
  },
  {
   "cell_type": "code",
   "execution_count": 520,
   "id": "3e5f5c04-187e-453c-a7c0-493b2e1a6ff8",
   "metadata": {},
   "outputs": [
    {
     "name": "stdout",
     "output_type": "stream",
     "text": [
      "[Card(rank='2', suit='clubs'), Card(rank='3', suit='clubs'), Card(rank='4', suit='clubs'), Card(rank='5', suit='clubs'), Card(rank='6', suit='clubs'), Card(rank='7', suit='clubs'), Card(rank='8', suit='clubs'), Card(rank='9', suit='clubs'), Card(rank='10', suit='clubs'), Card(rank='J', suit='clubs'), Card(rank='Q', suit='clubs'), Card(rank='K', suit='clubs'), Card(rank='A', suit='clubs'), Card(rank='2', suit='diamonds'), Card(rank='3', suit='diamonds'), Card(rank='4', suit='diamonds'), Card(rank='5', suit='diamonds'), Card(rank='6', suit='diamonds'), Card(rank='7', suit='diamonds'), Card(rank='8', suit='diamonds'), Card(rank='9', suit='diamonds'), Card(rank='10', suit='diamonds'), Card(rank='J', suit='diamonds'), Card(rank='Q', suit='diamonds'), Card(rank='K', suit='diamonds'), Card(rank='A', suit='diamonds'), Card(rank='2', suit='hearts'), Card(rank='3', suit='hearts'), Card(rank='4', suit='hearts'), Card(rank='5', suit='hearts'), Card(rank='6', suit='hearts'), Card(rank='7', suit='hearts'), Card(rank='8', suit='hearts'), Card(rank='9', suit='hearts'), Card(rank='10', suit='hearts'), Card(rank='J', suit='hearts'), Card(rank='Q', suit='hearts'), Card(rank='K', suit='hearts'), Card(rank='A', suit='hearts'), Card(rank='2', suit='spades'), Card(rank='3', suit='spades'), Card(rank='4', suit='spades'), Card(rank='5', suit='spades'), Card(rank='6', suit='spades'), Card(rank='7', suit='spades'), Card(rank='8', suit='spades'), Card(rank='9', suit='spades'), Card(rank='10', suit='spades'), Card(rank='J', suit='spades'), Card(rank='Q', suit='spades'), Card(rank='K', suit='spades'), Card(rank='A', suit='spades')]\n"
     ]
    }
   ],
   "source": [
    "deck = [Card(rank, suit) for suit in suits\n",
    "                            for rank in ranks]\n",
    "print(deck)"
   ]
  },
  {
   "cell_type": "code",
   "execution_count": 515,
   "id": "fd4bebe3-5a42-4292-b7d8-d373c24566a1",
   "metadata": {},
   "outputs": [
    {
     "name": "stdout",
     "output_type": "stream",
     "text": [
      "[Card(rank='2', suit='clubs'), Card(rank='3', suit='clubs'), Card(rank='4', suit='clubs'), Card(rank='5', suit='clubs'), Card(rank='6', suit='clubs'), Card(rank='7', suit='clubs'), Card(rank='8', suit='clubs'), Card(rank='9', suit='clubs'), Card(rank='10', suit='clubs'), Card(rank='J', suit='clubs'), Card(rank='Q', suit='clubs'), Card(rank='K', suit='clubs'), Card(rank='A', suit='clubs'), Card(rank='2', suit='diamonds'), Card(rank='3', suit='diamonds'), Card(rank='4', suit='diamonds'), Card(rank='5', suit='diamonds'), Card(rank='6', suit='diamonds'), Card(rank='7', suit='diamonds'), Card(rank='8', suit='diamonds'), Card(rank='9', suit='diamonds'), Card(rank='10', suit='diamonds'), Card(rank='J', suit='diamonds'), Card(rank='Q', suit='diamonds'), Card(rank='K', suit='diamonds'), Card(rank='A', suit='diamonds'), Card(rank='2', suit='hearts'), Card(rank='3', suit='hearts'), Card(rank='4', suit='hearts'), Card(rank='5', suit='hearts'), Card(rank='6', suit='hearts'), Card(rank='7', suit='hearts'), Card(rank='8', suit='hearts'), Card(rank='9', suit='hearts'), Card(rank='10', suit='hearts'), Card(rank='J', suit='hearts'), Card(rank='Q', suit='hearts'), Card(rank='K', suit='hearts'), Card(rank='A', suit='hearts'), Card(rank='2', suit='spades'), Card(rank='3', suit='spades'), Card(rank='4', suit='spades'), Card(rank='5', suit='spades'), Card(rank='6', suit='spades'), Card(rank='7', suit='spades'), Card(rank='8', suit='spades'), Card(rank='9', suit='spades'), Card(rank='10', suit='spades'), Card(rank='J', suit='spades'), Card(rank='Q', suit='spades'), Card(rank='K', suit='spades'), Card(rank='A', suit='spades')]\n"
     ]
    }
   ],
   "source": [
    "print(deck)"
   ]
  },
  {
   "cell_type": "code",
   "execution_count": 516,
   "id": "116ca92c-a2f2-4fed-b7c9-0936bc156d6d",
   "metadata": {},
   "outputs": [],
   "source": [
    "import random"
   ]
  },
  {
   "cell_type": "code",
   "execution_count": 517,
   "id": "c0ad12ea-be93-4eba-9591-c87094634ad8",
   "metadata": {},
   "outputs": [
    {
     "name": "stdout",
     "output_type": "stream",
     "text": [
      "Help on method shuffle in module random:\n",
      "\n",
      "shuffle(x) method of random.Random instance\n",
      "    Shuffle list x in place, and return None.\n",
      "\n"
     ]
    }
   ],
   "source": [
    "help(random.shuffle)"
   ]
  },
  {
   "cell_type": "code",
   "execution_count": 518,
   "id": "b229723d-9142-4eeb-81f2-695ee2d18e16",
   "metadata": {},
   "outputs": [],
   "source": [
    "random.shuffle(deck)"
   ]
  },
  {
   "cell_type": "code",
   "execution_count": 519,
   "id": "9787837a-115c-44ff-b491-d057e5ba33de",
   "metadata": {},
   "outputs": [
    {
     "name": "stdout",
     "output_type": "stream",
     "text": [
      "[Card(rank='7', suit='spades'), Card(rank='2', suit='spades'), Card(rank='A', suit='spades'), Card(rank='8', suit='spades'), Card(rank='6', suit='clubs'), Card(rank='9', suit='spades'), Card(rank='2', suit='hearts'), Card(rank='2', suit='clubs'), Card(rank='K', suit='diamonds'), Card(rank='4', suit='spades'), Card(rank='6', suit='diamonds'), Card(rank='6', suit='hearts'), Card(rank='K', suit='hearts'), Card(rank='7', suit='diamonds'), Card(rank='9', suit='diamonds'), Card(rank='8', suit='diamonds'), Card(rank='7', suit='hearts'), Card(rank='Q', suit='diamonds'), Card(rank='4', suit='clubs'), Card(rank='10', suit='diamonds'), Card(rank='9', suit='hearts'), Card(rank='3', suit='hearts'), Card(rank='10', suit='clubs'), Card(rank='2', suit='diamonds'), Card(rank='7', suit='clubs'), Card(rank='5', suit='clubs'), Card(rank='5', suit='spades'), Card(rank='A', suit='hearts'), Card(rank='J', suit='hearts'), Card(rank='8', suit='hearts'), Card(rank='10', suit='spades'), Card(rank='6', suit='spades'), Card(rank='4', suit='diamonds'), Card(rank='8', suit='clubs'), Card(rank='3', suit='diamonds'), Card(rank='4', suit='hearts'), Card(rank='K', suit='clubs'), Card(rank='A', suit='diamonds'), Card(rank='9', suit='clubs'), Card(rank='J', suit='diamonds'), Card(rank='3', suit='clubs'), Card(rank='3', suit='spades'), Card(rank='A', suit='clubs'), Card(rank='5', suit='hearts'), Card(rank='J', suit='clubs'), Card(rank='5', suit='diamonds'), Card(rank='Q', suit='clubs'), Card(rank='Q', suit='hearts'), Card(rank='10', suit='hearts'), Card(rank='Q', suit='spades'), Card(rank='K', suit='spades'), Card(rank='J', suit='spades')]\n"
     ]
    }
   ],
   "source": [
    "print(deck)"
   ]
  },
  {
   "cell_type": "code",
   "execution_count": 521,
   "id": "b1bc6e21-f89d-407b-86c0-125a15cdb056",
   "metadata": {},
   "outputs": [
    {
     "name": "stdout",
     "output_type": "stream",
     "text": [
      "Aarthy\n",
      "Dave\n",
      "Vijay\n",
      "Venkata"
     ]
    }
   ],
   "source": [
    "!cat names.txt"
   ]
  },
  {
   "cell_type": "code",
   "execution_count": 522,
   "id": "aa6fb69c-f314-45ef-a6cb-b55ad80695bc",
   "metadata": {},
   "outputs": [],
   "source": [
    "names = []\n",
    "# with block is traditionally used to read from files\n",
    "# two advantage of a with block:\n",
    "# 1. you don't have to remember to close the file when you're done (happens automagically)\n",
    "# 2. all file operations are in the indented block, so they are easy to see\n",
    "with open('names.txt') as infile:\n",
    "    for line in infile:\n",
    "        names.append(line.strip())"
   ]
  },
  {
   "cell_type": "code",
   "execution_count": null,
   "id": "c24cfc00-9d41-458e-913b-60f8d0c53511",
   "metadata": {},
   "outputs": [],
   "source": [
    "infile = open('names.txt') # built-in function to open a file\n",
    "# open() returns a file object\n",
    "\n",
    "for line in infile:\n",
    "    names.append(line.strip())\n",
    "    \n",
    "infile.close() # we use the .close() method in the file object to close it"
   ]
  },
  {
   "cell_type": "code",
   "execution_count": 523,
   "id": "d3f15f1d-eabf-45a9-bddd-d5b1f3c2c095",
   "metadata": {},
   "outputs": [
    {
     "data": {
      "text/plain": [
       "['Aarthy', 'Dave', 'Vijay', 'Venkata']"
      ]
     },
     "execution_count": 523,
     "metadata": {},
     "output_type": "execute_result"
    }
   ],
   "source": [
    "names"
   ]
  },
  {
   "cell_type": "code",
   "execution_count": 524,
   "id": "20b620c0-b10f-424b-ba87-17e45c83c009",
   "metadata": {},
   "outputs": [],
   "source": [
    "ids = [1235, 8172, 9121, 2234]"
   ]
  },
  {
   "cell_type": "code",
   "execution_count": 525,
   "id": "d540b7a0-cf58-4fd0-bc9b-299311e01b54",
   "metadata": {},
   "outputs": [
    {
     "data": {
      "text/plain": [
       "True"
      ]
     },
     "execution_count": 525,
     "metadata": {},
     "output_type": "execute_result"
    }
   ],
   "source": [
    "9121 in ids"
   ]
  },
  {
   "cell_type": "code",
   "execution_count": 526,
   "id": "db922287-fec8-46eb-9ef6-ba3e9784314b",
   "metadata": {},
   "outputs": [
    {
     "data": {
      "text/plain": [
       "2"
      ]
     },
     "execution_count": 526,
     "metadata": {},
     "output_type": "execute_result"
    }
   ],
   "source": [
    "ids.index(9121)"
   ]
  },
  {
   "cell_type": "code",
   "execution_count": 531,
   "id": "15226d1a-6aef-43c7-b5e1-4e25cc8bd707",
   "metadata": {},
   "outputs": [
    {
     "data": {
      "text/plain": [
       "'Aarthy'"
      ]
     },
     "execution_count": 531,
     "metadata": {},
     "output_type": "execute_result"
    }
   ],
   "source": [
    "random.choice(names)"
   ]
  },
  {
   "cell_type": "code",
   "execution_count": 536,
   "id": "6289a1e1-5587-4720-972e-801fc55d8c99",
   "metadata": {},
   "outputs": [
    {
     "data": {
      "text/plain": [
       "Card(rank='Q', suit='hearts')"
      ]
     },
     "execution_count": 536,
     "metadata": {},
     "output_type": "execute_result"
    }
   ],
   "source": [
    "random.choice(deck)"
   ]
  },
  {
   "cell_type": "code",
   "execution_count": 537,
   "id": "6b23fd50-e534-44ed-9dc2-245291142a14",
   "metadata": {},
   "outputs": [
    {
     "data": {
      "text/plain": [
       "defaultdict(int,\n",
       "            {'o': 4,\n",
       "             'n': 1,\n",
       "             'e': 7,\n",
       "             ' ': 6,\n",
       "             't': 5,\n",
       "             'w': 2,\n",
       "             'h': 3,\n",
       "             'r': 4,\n",
       "             'f': 1,\n",
       "             'u': 1})"
      ]
     },
     "execution_count": 537,
     "metadata": {},
     "output_type": "execute_result"
    }
   ],
   "source": [
    "def count_letters(word):\n",
    "    \"\"\"Returns a dict of letters and how many times the letter\n",
    "    appeared in the string passed in.\n",
    "    \"\"\"\n",
    "    from collections import defaultdict\n",
    "\n",
    "    # When creating a defaultdict,\n",
    "    # the passed argument dictates what the\n",
    "    # default value will be (int = 0, str = \"\", list = [])\n",
    "    count = defaultdict(int) # return 0 if a key ain't in there\n",
    "    for letter in word:\n",
    "        count[letter] += 1\n",
    "    return count\n",
    "\n",
    "count_letters('one two three four two three three')"
   ]
  },
  {
   "cell_type": "code",
   "execution_count": 538,
   "id": "10106893-5d9a-4530-8bd2-f1d26b77da5b",
   "metadata": {},
   "outputs": [
    {
     "data": {
      "text/plain": [
       "['ChainMap',\n",
       " 'Counter',\n",
       " 'OrderedDict',\n",
       " 'UserDict',\n",
       " 'UserList',\n",
       " 'UserString',\n",
       " '_Link',\n",
       " '_OrderedDictItemsView',\n",
       " '_OrderedDictKeysView',\n",
       " '_OrderedDictValuesView',\n",
       " '__all__',\n",
       " '__builtins__',\n",
       " '__cached__',\n",
       " '__doc__',\n",
       " '__file__',\n",
       " '__loader__',\n",
       " '__name__',\n",
       " '__package__',\n",
       " '__path__',\n",
       " '__spec__',\n",
       " '_chain',\n",
       " '_collections_abc',\n",
       " '_count_elements',\n",
       " '_deque_iterator',\n",
       " '_eq',\n",
       " '_iskeyword',\n",
       " '_itemgetter',\n",
       " '_proxy',\n",
       " '_recursive_repr',\n",
       " '_repeat',\n",
       " '_starmap',\n",
       " '_sys',\n",
       " '_tuplegetter',\n",
       " 'abc',\n",
       " 'defaultdict',\n",
       " 'deque',\n",
       " 'namedtuple']"
      ]
     },
     "execution_count": 538,
     "metadata": {},
     "output_type": "execute_result"
    }
   ],
   "source": [
    "import collections\n",
    "dir(collections)"
   ]
  },
  {
   "cell_type": "code",
   "execution_count": 540,
   "id": "3e4dd831-13c5-46ec-b146-1cf3d1de5ef7",
   "metadata": {},
   "outputs": [
    {
     "data": {
      "text/plain": [
       "'thingthingthingthingthing'"
      ]
     },
     "execution_count": 540,
     "metadata": {},
     "output_type": "execute_result"
    }
   ],
   "source": [
    "'thing' * 5 # replication/dulpication operator"
   ]
  },
  {
   "cell_type": "code",
   "execution_count": 541,
   "id": "332fdf7f-251c-44e3-9e9a-54a3f1554cf3",
   "metadata": {},
   "outputs": [
    {
     "data": {
      "text/plain": [
       "10"
      ]
     },
     "execution_count": 541,
     "metadata": {},
     "output_type": "execute_result"
    }
   ],
   "source": [
    "2 * 5"
   ]
  },
  {
   "cell_type": "code",
   "execution_count": 542,
   "id": "55fbb836-ee13-4d27-bd15-3627b4774903",
   "metadata": {},
   "outputs": [
    {
     "data": {
      "text/plain": [
       "4"
      ]
     },
     "execution_count": 542,
     "metadata": {},
     "output_type": "execute_result"
    }
   ],
   "source": [
    "2 + 2"
   ]
  },
  {
   "cell_type": "code",
   "execution_count": 543,
   "id": "c1e540c4-a434-4320-9e5f-ec2fc6cce3e3",
   "metadata": {},
   "outputs": [
    {
     "data": {
      "text/plain": [
       "4.4"
      ]
     },
     "execution_count": 543,
     "metadata": {},
     "output_type": "execute_result"
    }
   ],
   "source": [
    "2.2 + 2.2"
   ]
  },
  {
   "cell_type": "code",
   "execution_count": 544,
   "id": "2a324e64-da29-4ea5-b180-d47ef3b9fbd9",
   "metadata": {},
   "outputs": [
    {
     "data": {
      "text/plain": [
       "'22'"
      ]
     },
     "execution_count": 544,
     "metadata": {},
     "output_type": "execute_result"
    }
   ],
   "source": [
    "'2' + '2'"
   ]
  },
  {
   "cell_type": "code",
   "execution_count": 545,
   "id": "6951461f-6728-41b5-b7aa-e739bfe9a5a9",
   "metadata": {},
   "outputs": [
    {
     "data": {
      "text/plain": [
       "[1, 2]"
      ]
     },
     "execution_count": 545,
     "metadata": {},
     "output_type": "execute_result"
    }
   ],
   "source": [
    "[1] + [2]"
   ]
  },
  {
   "cell_type": "code",
   "execution_count": 546,
   "id": "0e5689d9-2604-4477-b061-38c051140fa7",
   "metadata": {},
   "outputs": [
    {
     "data": {
      "text/plain": [
       "(1, 2, 3, 4, 5)"
      ]
     },
     "execution_count": 546,
     "metadata": {},
     "output_type": "execute_result"
    }
   ],
   "source": [
    "(1, 2, 3) + (4, 5)"
   ]
  },
  {
   "cell_type": "code",
   "execution_count": 548,
   "id": "d42fdffe-b2c3-4560-b451-815a3194cedf",
   "metadata": {},
   "outputs": [
    {
     "data": {
      "text/plain": [
       "{1, 2, 3, 4}"
      ]
     },
     "execution_count": 548,
     "metadata": {},
     "output_type": "execute_result"
    }
   ],
   "source": [
    "{1, 2} | {3, 4}"
   ]
  },
  {
   "cell_type": "code",
   "execution_count": 549,
   "id": "73e154bc-1fbc-4c79-bb5e-edc183a73351",
   "metadata": {},
   "outputs": [
    {
     "data": {
      "text/plain": [
       "{2, 3}"
      ]
     },
     "execution_count": 549,
     "metadata": {},
     "output_type": "execute_result"
    }
   ],
   "source": [
    "{1, 2, 3} & {2, 3, 4}"
   ]
  },
  {
   "cell_type": "code",
   "execution_count": 550,
   "id": "f133e289-7834-4671-b5af-3e38f36b9b8d",
   "metadata": {},
   "outputs": [],
   "source": [
    "from collections import Counter\n",
    "import random"
   ]
  },
  {
   "cell_type": "code",
   "execution_count": 551,
   "id": "2d9a244a-6da3-4500-a7f0-083c9f63eb95",
   "metadata": {},
   "outputs": [
    {
     "data": {
      "text/plain": [
       "Counter({9: 1031,\n",
       "         1: 1030,\n",
       "         6: 1026,\n",
       "         4: 1009,\n",
       "         7: 997,\n",
       "         5: 996,\n",
       "         8: 994,\n",
       "         3: 991,\n",
       "         10: 973,\n",
       "         2: 953})"
      ]
     },
     "execution_count": 551,
     "metadata": {},
     "output_type": "execute_result"
    }
   ],
   "source": [
    "# generate 10,000 random numbers from 1 to 10 and then use a Counter to show the distribution\n",
    "Counter([random.randint(1, 10) for _ in range(10_000)])"
   ]
  },
  {
   "cell_type": "code",
   "execution_count": 552,
   "id": "0ab4f19f-ecd9-4b74-8e36-49355a950a13",
   "metadata": {},
   "outputs": [],
   "source": [
    "nums = []\n",
    "\n",
    "for _ in range(10_000):\n",
    "    nums.append(random.randint(1, 10))"
   ]
  },
  {
   "cell_type": "code",
   "execution_count": 554,
   "id": "bfbabf8e-d73d-4655-b58c-cd9152b1971e",
   "metadata": {},
   "outputs": [],
   "source": [
    "num_count = Counter(nums)"
   ]
  },
  {
   "cell_type": "code",
   "execution_count": 556,
   "id": "ada6c863-2528-4337-aeef-fe004587a26d",
   "metadata": {},
   "outputs": [
    {
     "data": {
      "text/plain": [
       "Counter({4: 1031,\n",
       "         9: 1017,\n",
       "         5: 1017,\n",
       "         2: 998,\n",
       "         3: 997,\n",
       "         10: 996,\n",
       "         6: 995,\n",
       "         7: 994,\n",
       "         1: 984,\n",
       "         8: 971})"
      ]
     },
     "execution_count": 556,
     "metadata": {},
     "output_type": "execute_result"
    }
   ],
   "source": [
    "num_count"
   ]
  },
  {
   "cell_type": "code",
   "execution_count": 557,
   "id": "22e6af29-569d-4c5a-8121-6c1ebeb19503",
   "metadata": {},
   "outputs": [
    {
     "data": {
      "text/plain": [
       "[(4, 1031), (9, 1017), (5, 1017), (2, 998), (3, 997)]"
      ]
     },
     "execution_count": 557,
     "metadata": {},
     "output_type": "execute_result"
    }
   ],
   "source": [
    "num_count.most_common(5)"
   ]
  },
  {
   "cell_type": "code",
   "execution_count": 559,
   "id": "9aa0dc02-8dfa-4445-a26f-0ced33d3e2f7",
   "metadata": {},
   "outputs": [],
   "source": [
    "d = {'one': 'won', 'two': 'too', 'three': 'tree' }"
   ]
  },
  {
   "cell_type": "code",
   "execution_count": 560,
   "id": "58348bc8-9056-4cb4-a2d6-a65f3fe9b002",
   "metadata": {},
   "outputs": [
    {
     "data": {
      "text/plain": [
       "dict_keys(['one', 'two', 'three'])"
      ]
     },
     "execution_count": 560,
     "metadata": {},
     "output_type": "execute_result"
    }
   ],
   "source": [
    "d.keys()"
   ]
  },
  {
   "cell_type": "code",
   "execution_count": 561,
   "id": "c5a8b638-a38f-45c0-93ff-fd656e089a89",
   "metadata": {},
   "outputs": [
    {
     "data": {
      "text/plain": [
       "dict_values(['won', 'too', 'tree'])"
      ]
     },
     "execution_count": 561,
     "metadata": {},
     "output_type": "execute_result"
    }
   ],
   "source": [
    "d.values()"
   ]
  },
  {
   "cell_type": "code",
   "execution_count": 562,
   "id": "24c3bf9e-a472-4ae6-a780-abc2674549de",
   "metadata": {},
   "outputs": [
    {
     "data": {
      "text/plain": [
       "dict_items([('one', 'won'), ('two', 'too'), ('three', 'tree')])"
      ]
     },
     "execution_count": 562,
     "metadata": {},
     "output_type": "execute_result"
    }
   ],
   "source": [
    "d.items()"
   ]
  },
  {
   "cell_type": "code",
   "execution_count": 563,
   "id": "267959f6-30b7-4f56-856a-bf96ad99dc18",
   "metadata": {},
   "outputs": [
    {
     "data": {
      "text/plain": [
       "['strawberry', 'banana', 'fig', 'apple', 'cherry', 'kiwi']"
      ]
     },
     "execution_count": 563,
     "metadata": {},
     "output_type": "execute_result"
    }
   ],
   "source": [
    "fruits = ['strawberry', 'banana', 'fig', 'apple', 'cherry','kiwi']\n",
    "fruits"
   ]
  },
  {
   "cell_type": "code",
   "execution_count": 564,
   "id": "d088e1a9-ce83-4b43-856a-f7385eefbffe",
   "metadata": {},
   "outputs": [
    {
     "data": {
      "text/plain": [
       "['fig', 'kiwi', 'apple', 'banana', 'cherry', 'strawberry']"
      ]
     },
     "execution_count": 564,
     "metadata": {},
     "output_type": "execute_result"
    }
   ],
   "source": [
    "# tell sorted() to run the len() function on each pair of items it's comparing\n",
    "sorted(fruits, key=len) "
   ]
  },
  {
   "cell_type": "code",
   "execution_count": 567,
   "id": "cf3406a1-103f-454d-8d17-a7eff30f9285",
   "metadata": {},
   "outputs": [
    {
     "data": {
      "text/plain": [
       "'gnirts'"
      ]
     },
     "execution_count": 567,
     "metadata": {},
     "output_type": "execute_result"
    }
   ],
   "source": [
    "'string'[::-1] # start at pos 0, ends at end, but step is -1, so Python swaps beginning and end"
   ]
  },
  {
   "cell_type": "code",
   "execution_count": 568,
   "id": "8f31f85d-5683-429a-a09b-f32ebb7c48ff",
   "metadata": {},
   "outputs": [
    {
     "data": {
      "text/plain": [
       "'12345678'"
      ]
     },
     "execution_count": 568,
     "metadata": {},
     "output_type": "execute_result"
    }
   ],
   "source": [
    "'0123456789'[1:-1]"
   ]
  },
  {
   "cell_type": "code",
   "execution_count": 569,
   "id": "e2323dcf-7cf9-4ba7-b0cd-a82c61e632cf",
   "metadata": {},
   "outputs": [],
   "source": [
    "fruits = 'apple fig pear strawberry'.split()"
   ]
  },
  {
   "cell_type": "code",
   "execution_count": 570,
   "id": "b297907a-a34e-4d6c-808e-cddb88e5292d",
   "metadata": {},
   "outputs": [
    {
     "data": {
      "text/plain": [
       "['fig', 'pear']"
      ]
     },
     "execution_count": 570,
     "metadata": {},
     "output_type": "execute_result"
    }
   ],
   "source": [
    "fruits[1:-1]"
   ]
  },
  {
   "cell_type": "code",
   "execution_count": 574,
   "id": "ba1bc51d-09c9-4404-b3ad-e48f8d55dce8",
   "metadata": {},
   "outputs": [],
   "source": [
    "def run_a_func(func, arg):\n",
    "    \"\"\"Send in a function as argument one and a parameter as argument two\"\"\"\n",
    "    return func(arg)"
   ]
  },
  {
   "cell_type": "code",
   "execution_count": 573,
   "id": "825c823a-c994-4dce-84d6-c40e7c5ac174",
   "metadata": {},
   "outputs": [],
   "source": [
    "run_a_func(len, 'apple')"
   ]
  },
  {
   "cell_type": "code",
   "execution_count": 575,
   "id": "7d726958-45d8-49a9-8442-02d38d039d1c",
   "metadata": {},
   "outputs": [
    {
     "data": {
      "text/plain": [
       "23"
      ]
     },
     "execution_count": 575,
     "metadata": {},
     "output_type": "execute_result"
    }
   ],
   "source": [
    "run_a_func(lambda number: number * 2 + 3, 10)"
   ]
  },
  {
   "cell_type": "code",
   "execution_count": 577,
   "id": "4beb8cb9-92e5-4b36-94a0-a799911aa2d8",
   "metadata": {},
   "outputs": [],
   "source": [
    "def fact(n):\n",
    "    \"\"\"returns n!\"\"\"\n",
    "    if n < 2:\n",
    "        return 1\n",
    "    else:\n",
    "        return n * fact(n - 1)"
   ]
  },
  {
   "cell_type": "code",
   "execution_count": 578,
   "id": "020381dc-6944-46d2-9634-623ca98f45ec",
   "metadata": {},
   "outputs": [
    {
     "name": "stdout",
     "output_type": "stream",
     "text": [
      "1\n",
      "1\n",
      "2\n",
      "6\n",
      "24\n",
      "120\n",
      "720\n",
      "5040\n",
      "40320\n"
     ]
    }
   ],
   "source": [
    "for result in map(fact, range(9)):\n",
    "    print(result)"
   ]
  },
  {
   "cell_type": "code",
   "execution_count": 579,
   "id": "bd6513e9-dc15-48e4-a427-146af88e4c87",
   "metadata": {},
   "outputs": [
    {
     "name": "stdout",
     "output_type": "stream",
     "text": [
      "p\n",
      "y\n",
      "t\n",
      "h\n",
      "o\n",
      "n\n"
     ]
    }
   ],
   "source": [
    "for thing in 'python':\n",
    "    print(thing)"
   ]
  },
  {
   "cell_type": "code",
   "execution_count": 580,
   "id": "1b8df4c8-24d5-485e-b357-c7415eca67ba",
   "metadata": {},
   "outputs": [
    {
     "data": {
      "text/plain": [
       "6"
      ]
     },
     "execution_count": 580,
     "metadata": {},
     "output_type": "execute_result"
    }
   ],
   "source": [
    "len('python')"
   ]
  },
  {
   "cell_type": "code",
   "execution_count": 581,
   "id": "34529165-69d2-4759-a1df-56ca9d966773",
   "metadata": {},
   "outputs": [],
   "source": [
    "nums = [1, 2, 3, 4, 5]"
   ]
  },
  {
   "cell_type": "code",
   "execution_count": 582,
   "id": "e15e788b-dc2e-4a98-af40-23270db2325a",
   "metadata": {},
   "outputs": [
    {
     "data": {
      "text/plain": [
       "5"
      ]
     },
     "execution_count": 582,
     "metadata": {},
     "output_type": "execute_result"
    }
   ],
   "source": [
    "len(nums)"
   ]
  },
  {
   "cell_type": "code",
   "execution_count": 583,
   "id": "68d15b46-97b6-4c36-8bcc-ef2c07bf8de6",
   "metadata": {},
   "outputs": [
    {
     "name": "stdout",
     "output_type": "stream",
     "text": [
      "1\n",
      "2\n",
      "3\n",
      "4\n",
      "5\n"
     ]
    }
   ],
   "source": [
    "for num in nums:\n",
    "    print(num)"
   ]
  },
  {
   "cell_type": "code",
   "execution_count": 584,
   "id": "9146e92c-a618-4c04-a198-6b67bcdcc288",
   "metadata": {},
   "outputs": [
    {
     "data": {
      "text/plain": [
       "'BalaBala'"
      ]
     },
     "execution_count": 584,
     "metadata": {},
     "output_type": "execute_result"
    }
   ],
   "source": [
    "'Bala' * 2 # take 'Bala' and replicate it twice"
   ]
  },
  {
   "cell_type": "code",
   "execution_count": 586,
   "id": "ba445120-4b63-4e86-a894-ee89b81e3b4e",
   "metadata": {},
   "outputs": [
    {
     "name": "stdout",
     "output_type": "stream",
     "text": [
      "BB\n",
      "aa\n",
      "ll\n",
      "aa\n"
     ]
    }
   ],
   "source": [
    "for character in 'Bala':\n",
    "    print(character * 2)"
   ]
  },
  {
   "cell_type": "code",
   "execution_count": 592,
   "id": "3b5be797-b088-4df1-9cc7-971742ba8e15",
   "metadata": {},
   "outputs": [
    {
     "data": {
      "text/plain": [
       "['pp', 'yy', 'tt', 'hh', 'oo', 'nn']"
      ]
     },
     "execution_count": 592,
     "metadata": {},
     "output_type": "execute_result"
    }
   ],
   "source": [
    "list(map(lambda x: x * 2, 'python'))"
   ]
  },
  {
   "cell_type": "code",
   "execution_count": 593,
   "id": "82e0fbc4-31b0-4fc7-8f7a-e44217f590fc",
   "metadata": {},
   "outputs": [
    {
     "data": {
      "text/plain": [
       "['pp', 'yy', 'tt', 'hh', 'oo', 'nn']"
      ]
     },
     "execution_count": 593,
     "metadata": {},
     "output_type": "execute_result"
    }
   ],
   "source": [
    "[char * 2 for char in 'python']"
   ]
  },
  {
   "cell_type": "code",
   "execution_count": 589,
   "id": "f716f1fc-c918-4ada-ae3d-77380063314f",
   "metadata": {},
   "outputs": [
    {
     "data": {
      "text/plain": [
       "['pp', 'yy', 'tt', 'hh', 'oo', 'nn']"
      ]
     },
     "execution_count": 589,
     "metadata": {},
     "output_type": "execute_result"
    }
   ],
   "source": [
    "chars = []\n",
    "for char in 'python':\n",
    "    chars.append(char * 2)\n",
    "chars"
   ]
  },
  {
   "cell_type": "code",
   "execution_count": 594,
   "id": "b8615e0c-6575-4fda-bf0e-05bc94c02880",
   "metadata": {},
   "outputs": [
    {
     "name": "stdout",
     "output_type": "stream",
     "text": [
      "s\n",
      "t\n",
      "r\n",
      "i\n",
      "n\n",
      "g\n"
     ]
    }
   ],
   "source": [
    "for thing in 'string':\n",
    "    print(thing)"
   ]
  },
  {
   "cell_type": "code",
   "execution_count": 595,
   "id": "722eb378-b025-4241-838e-f1d1370b7921",
   "metadata": {},
   "outputs": [
    {
     "name": "stdout",
     "output_type": "stream",
     "text": [
      "s\n",
      "t\n",
      "r\n",
      "i\n",
      "n\n",
      "g\n"
     ]
    }
   ],
   "source": [
    "string = 'string'\n",
    "for index in range(len(string)):\n",
    "    print(string[index])"
   ]
  },
  {
   "cell_type": "code",
   "execution_count": 596,
   "id": "f66af5e0-8eb3-4124-9763-ef607dc6973a",
   "metadata": {},
   "outputs": [
    {
     "data": {
      "text/plain": [
       "[1, 3, 5, 7, 9, 11, 13, 15, 17, 19]"
      ]
     },
     "execution_count": 596,
     "metadata": {},
     "output_type": "execute_result"
    }
   ],
   "source": [
    "def odd(num):\n",
    "    return num % 2\n",
    "\n",
    "list(filter(odd, range(20)))"
   ]
  },
  {
   "cell_type": "code",
   "execution_count": 597,
   "id": "d410ebc0-e44a-4f87-94d2-45d06f7f19da",
   "metadata": {},
   "outputs": [
    {
     "data": {
      "text/plain": [
       "[1, 3, 5, 7, 9, 11, 13, 15, 17, 19]"
      ]
     },
     "execution_count": 597,
     "metadata": {},
     "output_type": "execute_result"
    }
   ],
   "source": [
    "list(range(1, 20, 2))"
   ]
  },
  {
   "cell_type": "code",
   "execution_count": 600,
   "id": "6ee6c417-fa6e-40a6-a83b-fc2583103207",
   "metadata": {},
   "outputs": [
    {
     "data": {
      "text/plain": [
       "[1, 3, 5, 7, 9, 11, 13, 15, 17, 19]"
      ]
     },
     "execution_count": 600,
     "metadata": {},
     "output_type": "execute_result"
    }
   ],
   "source": [
    "[num for num in range(20)\n",
    "         if odd(num)]"
   ]
  },
  {
   "cell_type": "code",
   "execution_count": 605,
   "id": "e3b6facf-d71a-4264-8e46-b9a641c59e32",
   "metadata": {},
   "outputs": [
    {
     "name": "stdout",
     "output_type": "stream",
     "text": [
      "['t', 'h', 's', ' ', 's', 'n', 't', 'n', 'c', ' ', 'h', 's', ' ', 'b', 't', 'h', ' ', 'v', 'w', 'l', 's', ' ', 'n', 'd', ' ', 'c', 'n', 's', 'n', 'n', 't', 's', ' ', 'n', 'd', ' ', 's', 'p', 'c', 's']\n"
     ]
    }
   ],
   "source": [
    "print([char for char in 'this sentence has both vowels and consonants and spaces'\n",
    "        if char not in 'aeiou'])"
   ]
  },
  {
   "cell_type": "code",
   "execution_count": 606,
   "id": "d2d37fbd-bf79-4713-8185-768d0fc1557b",
   "metadata": {},
   "outputs": [
    {
     "data": {
      "text/plain": [
       "[33, -3, 6, 9]"
      ]
     },
     "execution_count": 606,
     "metadata": {},
     "output_type": "execute_result"
    }
   ],
   "source": [
    "# using filter and lambda, pull out all numbers\n",
    "# divisible by 3 from a list of random numbers\n",
    "mylist = [33, 35, -3, 20, 6, 9, 20]\n",
    "list(filter(lambda num: num % 3 == 0, mylist))"
   ]
  },
  {
   "cell_type": "code",
   "execution_count": 608,
   "id": "9ab1cc5f-9e48-4078-b203-8ef6bb154203",
   "metadata": {},
   "outputs": [
    {
     "data": {
      "text/plain": [
       "[33, -3, 6, 9]"
      ]
     },
     "execution_count": 608,
     "metadata": {},
     "output_type": "execute_result"
    }
   ],
   "source": [
    "[num for num in mylist\n",
    "         if num % 3 == 0]"
   ]
  },
  {
   "cell_type": "code",
   "execution_count": 619,
   "id": "b09a85f9-546f-4f82-a3f0-6f3710de5e0c",
   "metadata": {},
   "outputs": [],
   "source": [
    "global_var = 'global!'"
   ]
  },
  {
   "cell_type": "code",
   "execution_count": 625,
   "id": "fb6a1705-2227-4478-8602-15d64ee87c19",
   "metadata": {},
   "outputs": [
    {
     "data": {
      "text/plain": [
       "'global!'"
      ]
     },
     "execution_count": 625,
     "metadata": {},
     "output_type": "execute_result"
    }
   ],
   "source": [
    "global_var"
   ]
  },
  {
   "cell_type": "code",
   "execution_count": 626,
   "id": "3c138dd2-6359-4e9f-86c1-f5f5cf3cbdc6",
   "metadata": {},
   "outputs": [],
   "source": [
    "def func():\n",
    "    #global global_var # let me change the global variable inside this function\n",
    "    local_var = 'local to this function'\n",
    "    print(global_var, local_var)\n",
    "    #global_var = 'new value!'"
   ]
  },
  {
   "cell_type": "code",
   "execution_count": 627,
   "id": "9f27918b-9bf7-428b-ba15-6abe50a62b02",
   "metadata": {},
   "outputs": [
    {
     "name": "stdout",
     "output_type": "stream",
     "text": [
      "global! local to this function\n"
     ]
    }
   ],
   "source": [
    "func()"
   ]
  },
  {
   "cell_type": "code",
   "execution_count": 628,
   "id": "ef2ce155-43cc-4d18-9814-2446f784d6d3",
   "metadata": {},
   "outputs": [
    {
     "ename": "NameError",
     "evalue": "name 'local_var' is not defined",
     "output_type": "error",
     "traceback": [
      "\u001b[0;31m---------------------------------------------------------------------------\u001b[0m",
      "\u001b[0;31mNameError\u001b[0m                                 Traceback (most recent call last)",
      "Cell \u001b[0;32mIn[628], line 1\u001b[0m\n\u001b[0;32m----> 1\u001b[0m \u001b[43mlocal_var\u001b[49m\n",
      "\u001b[0;31mNameError\u001b[0m: name 'local_var' is not defined"
     ]
    }
   ],
   "source": [
    "local_var"
   ]
  },
  {
   "cell_type": "code",
   "execution_count": 629,
   "id": "a627c9cf-858a-4915-8365-30c5fa383708",
   "metadata": {},
   "outputs": [
    {
     "name": "stdout",
     "output_type": "stream",
     "text": [
      "defined inside the block\n",
      "in block!\n"
     ]
    }
   ],
   "source": [
    "if 5 > 3:\n",
    "    block_var = 'defined inside the block'\n",
    "    print(block_var)\n",
    "    block_var = 'in block!'\n",
    "    print(block_var)"
   ]
  },
  {
   "cell_type": "code",
   "execution_count": 630,
   "id": "4350f1ca-6fdf-4b71-9db7-a917e9686265",
   "metadata": {},
   "outputs": [
    {
     "data": {
      "text/plain": [
       "'in block!'"
      ]
     },
     "execution_count": 630,
     "metadata": {},
     "output_type": "execute_result"
    }
   ],
   "source": [
    "block_var"
   ]
  },
  {
   "cell_type": "code",
   "execution_count": 634,
   "id": "2794eea3-112b-4e23-9d83-99dc490a6df4",
   "metadata": {},
   "outputs": [
    {
     "name": "stdout",
     "output_type": "stream",
     "text": [
      "in func local scope\n"
     ]
    }
   ],
   "source": [
    "# LEGB = Local, Enclosing, Global, Built-in (Function)\n",
    "\n",
    "global_var = 'global scope!'\n",
    "\n",
    "def myfunc():\n",
    "    local_var = 'local scope' # not a good practice to have a local variable w/same name as global\n",
    "    print('in func', local_var)\n",
    "\n",
    "myfunc()"
   ]
  },
  {
   "cell_type": "code",
   "execution_count": 636,
   "id": "f0053051-d820-4954-90f3-1bb09d418026",
   "metadata": {},
   "outputs": [],
   "source": [
    "# LEGB\n",
    "len = 4 # Python does not prevent me from creating a variable whose name is built-in function"
   ]
  },
  {
   "cell_type": "code",
   "execution_count": 637,
   "id": "95b4050e-45c1-4ece-86e2-f4f4c6762c0e",
   "metadata": {},
   "outputs": [
    {
     "ename": "TypeError",
     "evalue": "'int' object is not callable",
     "output_type": "error",
     "traceback": [
      "\u001b[0;31m---------------------------------------------------------------------------\u001b[0m",
      "\u001b[0;31mTypeError\u001b[0m                                 Traceback (most recent call last)",
      "Cell \u001b[0;32mIn[637], line 1\u001b[0m\n\u001b[0;32m----> 1\u001b[0m \u001b[38;5;28;43mlen\u001b[39;49m\u001b[43m(\u001b[49m\u001b[38;5;124;43m'\u001b[39;49m\u001b[38;5;124;43mstring\u001b[39;49m\u001b[38;5;124;43m'\u001b[39;49m\u001b[43m)\u001b[49m\n",
      "\u001b[0;31mTypeError\u001b[0m: 'int' object is not callable"
     ]
    }
   ],
   "source": [
    "len('string')"
   ]
  },
  {
   "cell_type": "code",
   "execution_count": 638,
   "id": "01829d49-4f0f-43ac-b770-590eef592b3e",
   "metadata": {},
   "outputs": [],
   "source": [
    "del len # delete the len variable that I erroneously created"
   ]
  },
  {
   "cell_type": "code",
   "execution_count": 639,
   "id": "f8f4ed19-bd0d-4dd7-8cb7-631668ad82ba",
   "metadata": {},
   "outputs": [
    {
     "data": {
      "text/plain": [
       "2"
      ]
     },
     "execution_count": 639,
     "metadata": {},
     "output_type": "execute_result"
    }
   ],
   "source": [
    "len('hi')"
   ]
  },
  {
   "cell_type": "code",
   "execution_count": 641,
   "id": "e29737f9-093d-4075-9d26-91708d1e41ab",
   "metadata": {},
   "outputs": [],
   "source": [
    "list = [1, 2, 3]"
   ]
  },
  {
   "cell_type": "code",
   "execution_count": 642,
   "id": "4f0093d2-3e0d-4b28-8fe0-0d7a7bb23693",
   "metadata": {},
   "outputs": [
    {
     "ename": "TypeError",
     "evalue": "'list' object is not callable",
     "output_type": "error",
     "traceback": [
      "\u001b[0;31m---------------------------------------------------------------------------\u001b[0m",
      "\u001b[0;31mTypeError\u001b[0m                                 Traceback (most recent call last)",
      "Cell \u001b[0;32mIn[642], line 1\u001b[0m\n\u001b[0;32m----> 1\u001b[0m \u001b[38;5;28;43mlist\u001b[39;49m\u001b[43m(\u001b[49m\u001b[38;5;124;43m'\u001b[39;49m\u001b[38;5;124;43mhello\u001b[39;49m\u001b[38;5;124;43m'\u001b[39;49m\u001b[43m)\u001b[49m\n",
      "\u001b[0;31mTypeError\u001b[0m: 'list' object is not callable"
     ]
    }
   ],
   "source": [
    "list('hello')"
   ]
  },
  {
   "cell_type": "code",
   "execution_count": 643,
   "id": "0feec596-fe19-4978-86fe-9db148a953af",
   "metadata": {},
   "outputs": [],
   "source": [
    "del list"
   ]
  },
  {
   "cell_type": "code",
   "execution_count": 644,
   "id": "8e3ebe81-872a-469f-86b0-b5ead85e6d99",
   "metadata": {},
   "outputs": [
    {
     "data": {
      "text/plain": [
       "['h', 'e', 'l', 'l', 'o']"
      ]
     },
     "execution_count": 644,
     "metadata": {},
     "output_type": "execute_result"
    }
   ],
   "source": [
    "list('hello')"
   ]
  },
  {
   "cell_type": "code",
   "execution_count": 655,
   "id": "686e3a83-34f6-45ae-9ec4-f45cb7b39960",
   "metadata": {},
   "outputs": [],
   "source": [
    "del print"
   ]
  },
  {
   "cell_type": "code",
   "execution_count": 646,
   "id": "54f0ef09-bb3e-46d1-804b-6be9ba600574",
   "metadata": {},
   "outputs": [
    {
     "ename": "TypeError",
     "evalue": "'int' object is not callable",
     "output_type": "error",
     "traceback": [
      "\u001b[0;31m---------------------------------------------------------------------------\u001b[0m",
      "\u001b[0;31mTypeError\u001b[0m                                 Traceback (most recent call last)",
      "Cell \u001b[0;32mIn[646], line 1\u001b[0m\n\u001b[0;32m----> 1\u001b[0m \u001b[38;5;28;43mprint\u001b[39;49m\u001b[43m(\u001b[49m\u001b[38;5;124;43m'\u001b[39;49m\u001b[38;5;124;43mhi\u001b[39;49m\u001b[38;5;124;43m'\u001b[39;49m\u001b[43m)\u001b[49m\n",
      "\u001b[0;31mTypeError\u001b[0m: 'int' object is not callable"
     ]
    }
   ],
   "source": [
    "print('hi')"
   ]
  },
  {
   "cell_type": "code",
   "execution_count": 647,
   "id": "4490ab19-37b5-4b68-ab0b-676d459114b3",
   "metadata": {},
   "outputs": [],
   "source": [
    "newvar = 'new variable'"
   ]
  },
  {
   "cell_type": "code",
   "execution_count": 652,
   "id": "be7a827d-04c4-4dec-bb85-16d429e624af",
   "metadata": {},
   "outputs": [
    {
     "data": {
      "text/plain": [
       "4680579376"
      ]
     },
     "execution_count": 652,
     "metadata": {},
     "output_type": "execute_result"
    }
   ],
   "source": [
    "id(newvar)"
   ]
  },
  {
   "cell_type": "code",
   "execution_count": 649,
   "id": "4d128e6f-d07b-4678-ad79-997eed0a9758",
   "metadata": {},
   "outputs": [],
   "source": [
    "another_var = 'another'"
   ]
  },
  {
   "cell_type": "code",
   "execution_count": 650,
   "id": "9eb43f91-5e8a-4fca-b152-a8847d9486eb",
   "metadata": {},
   "outputs": [
    {
     "data": {
      "text/plain": [
       "4684862480"
      ]
     },
     "execution_count": 650,
     "metadata": {},
     "output_type": "execute_result"
    }
   ],
   "source": [
    "id(another_var)"
   ]
  },
  {
   "cell_type": "code",
   "execution_count": 657,
   "id": "7cf67d4a-fb19-439e-bb43-c912f5e81fbb",
   "metadata": {},
   "outputs": [
    {
     "name": "stdout",
     "output_type": "stream",
     "text": [
      "0x1173d5410\n"
     ]
    }
   ],
   "source": [
    "print(f'0x{id(another_var):x}')"
   ]
  },
  {
   "cell_type": "code",
   "execution_count": 659,
   "id": "a144b4ac-a806-4d93-929c-d3bf2d8e9870",
   "metadata": {},
   "outputs": [],
   "source": [
    "class Person:\n",
    "    def __init__(self, name):\n",
    "        self.name = name"
   ]
  },
  {
   "cell_type": "code",
   "execution_count": 660,
   "id": "dc6b8a2f-cbe9-403e-bcbd-adc42326f800",
   "metadata": {},
   "outputs": [],
   "source": [
    "p = Person('Dave')"
   ]
  },
  {
   "cell_type": "code",
   "execution_count": 661,
   "id": "f701fda0-4d76-44ea-8c12-472524afe7ba",
   "metadata": {},
   "outputs": [
    {
     "data": {
      "text/plain": [
       "<__main__.Person at 0x1164c5d30>"
      ]
     },
     "execution_count": 661,
     "metadata": {},
     "output_type": "execute_result"
    }
   ],
   "source": [
    "p"
   ]
  },
  {
   "cell_type": "code",
   "execution_count": 663,
   "id": "64ff1ff4-258c-45d9-9a80-3cbeb8b2b391",
   "metadata": {},
   "outputs": [
    {
     "name": "stdout",
     "output_type": "stream",
     "text": [
      "1164c5d30\n"
     ]
    }
   ],
   "source": [
    "print(f'{id(p):x}')"
   ]
  },
  {
   "cell_type": "code",
   "execution_count": 664,
   "id": "990eea1d-ad94-4d94-9491-e42e3936fa63",
   "metadata": {},
   "outputs": [],
   "source": [
    "def myfunc():\n",
    "    return 0"
   ]
  },
  {
   "cell_type": "code",
   "execution_count": 665,
   "id": "e3294d39-94e2-41c0-9217-f6d6bb385b25",
   "metadata": {},
   "outputs": [
    {
     "data": {
      "text/plain": [
       "'myfunc'"
      ]
     },
     "execution_count": 665,
     "metadata": {},
     "output_type": "execute_result"
    }
   ],
   "source": [
    "myfunc.__name__"
   ]
  },
  {
   "cell_type": "code",
   "execution_count": 666,
   "id": "f64acd3c-ca23-4ba5-8684-a0f7100f68a7",
   "metadata": {},
   "outputs": [],
   "source": [
    "mylist = ['zero', 'one', 'two']"
   ]
  },
  {
   "cell_type": "code",
   "execution_count": 667,
   "id": "6dd0c887-27ee-4c5a-b9e2-0a30425fb043",
   "metadata": {},
   "outputs": [],
   "source": [
    "mylist.append('three')"
   ]
  },
  {
   "cell_type": "code",
   "execution_count": 668,
   "id": "7d9acf57-835f-4f97-bdb3-bee403070890",
   "metadata": {},
   "outputs": [],
   "source": [
    "s = { 'zero', 'one', 'two' }"
   ]
  },
  {
   "cell_type": "code",
   "execution_count": 669,
   "id": "471b618d-5df9-4ee7-a933-de3dae478147",
   "metadata": {},
   "outputs": [
    {
     "name": "stdout",
     "output_type": "stream",
     "text": [
      "{'two', 'one', 'zero'}\n"
     ]
    }
   ],
   "source": [
    "print(s)"
   ]
  },
  {
   "cell_type": "code",
   "execution_count": 670,
   "id": "b1001c0c-9467-41ca-b7ed-d5ca925df358",
   "metadata": {},
   "outputs": [],
   "source": [
    "s.add('three')"
   ]
  },
  {
   "cell_type": "code",
   "execution_count": 677,
   "id": "bfbb1a7a-8097-4c94-a8a9-113ba4d75ff7",
   "metadata": {},
   "outputs": [
    {
     "name": "stdout",
     "output_type": "stream",
     "text": [
      "{'two', 'one', 'three', 'zero'}\n"
     ]
    }
   ],
   "source": [
    "print(s)"
   ]
  },
  {
   "cell_type": "code",
   "execution_count": 673,
   "id": "a7f5a0fb-57f9-4a58-b000-50a2b622d663",
   "metadata": {},
   "outputs": [
    {
     "data": {
      "text/plain": [
       "'three'"
      ]
     },
     "execution_count": 673,
     "metadata": {},
     "output_type": "execute_result"
    }
   ],
   "source": [
    "mylist[-1]"
   ]
  },
  {
   "cell_type": "code",
   "execution_count": 674,
   "id": "27174440-bbaf-40a2-83d5-0b876ee61075",
   "metadata": {},
   "outputs": [
    {
     "ename": "TypeError",
     "evalue": "'set' object is not subscriptable",
     "output_type": "error",
     "traceback": [
      "\u001b[0;31m---------------------------------------------------------------------------\u001b[0m",
      "\u001b[0;31mTypeError\u001b[0m                                 Traceback (most recent call last)",
      "Cell \u001b[0;32mIn[674], line 1\u001b[0m\n\u001b[0;32m----> 1\u001b[0m \u001b[43ms\u001b[49m\u001b[43m[\u001b[49m\u001b[38;5;241;43m-\u001b[39;49m\u001b[38;5;241;43m1\u001b[39;49m\u001b[43m]\u001b[49m\n",
      "\u001b[0;31mTypeError\u001b[0m: 'set' object is not subscriptable"
     ]
    }
   ],
   "source": [
    "s[-1]"
   ]
  },
  {
   "cell_type": "code",
   "execution_count": 680,
   "id": "853d69f2-546c-43d9-a8f1-d599137968d1",
   "metadata": {},
   "outputs": [
    {
     "data": {
      "text/plain": [
       "{'one', 'three', 'two', 'zero'}"
      ]
     },
     "execution_count": 680,
     "metadata": {},
     "output_type": "execute_result"
    }
   ],
   "source": [
    "s # repr (Jupyter)"
   ]
  },
  {
   "cell_type": "code",
   "execution_count": 679,
   "id": "cacbdc93-7644-4d8e-be9d-743ae6aaa7bd",
   "metadata": {},
   "outputs": [
    {
     "name": "stdout",
     "output_type": "stream",
     "text": [
      "{'two', 'one', 'three', 'zero'}\n"
     ]
    }
   ],
   "source": [
    "print(s) # str "
   ]
  },
  {
   "cell_type": "code",
   "execution_count": 681,
   "id": "6dcaaf93-b5e2-4d74-aea9-277668982924",
   "metadata": {},
   "outputs": [],
   "source": [
    "nums = list(range(1, 26))"
   ]
  },
  {
   "cell_type": "code",
   "execution_count": 682,
   "id": "3c17902a-fb70-4896-a26e-ff955f6e9461",
   "metadata": {},
   "outputs": [
    {
     "name": "stdout",
     "output_type": "stream",
     "text": [
      "[1, 2, 3, 4, 5, 6, 7, 8, 9, 10, 11, 12, 13, 14, 15, 16, 17, 18, 19, 20, 21, 22, 23, 24, 25]\n"
     ]
    }
   ],
   "source": [
    "print(nums) # str"
   ]
  },
  {
   "cell_type": "code",
   "execution_count": 683,
   "id": "b692026c-7da3-4c38-bc9e-335f15f1d206",
   "metadata": {},
   "outputs": [
    {
     "data": {
      "text/plain": [
       "[1,\n",
       " 2,\n",
       " 3,\n",
       " 4,\n",
       " 5,\n",
       " 6,\n",
       " 7,\n",
       " 8,\n",
       " 9,\n",
       " 10,\n",
       " 11,\n",
       " 12,\n",
       " 13,\n",
       " 14,\n",
       " 15,\n",
       " 16,\n",
       " 17,\n",
       " 18,\n",
       " 19,\n",
       " 20,\n",
       " 21,\n",
       " 22,\n",
       " 23,\n",
       " 24,\n",
       " 25]"
      ]
     },
     "execution_count": 683,
     "metadata": {},
     "output_type": "execute_result"
    }
   ],
   "source": [
    "nums # repr"
   ]
  },
  {
   "cell_type": "markdown",
   "id": "94355e48-b4cd-4112-82a5-3bcab4137830",
   "metadata": {},
   "source": [
    "## Lab: Decorators\n",
    "1. Create some function which takes an integer as its parameter\n",
    "  * create a wrapper that ensures the parameter is positive\n",
    "  * use that wrapper to decorate your original function\n",
    "2. Make a timer decorator that computes the elapsed time of the function wrapped by it\n"
   ]
  },
  {
   "cell_type": "code",
   "execution_count": 684,
   "id": "1e1b0bac-f6c5-45bf-a1c8-91603ded6bf2",
   "metadata": {},
   "outputs": [],
   "source": [
    "import time"
   ]
  },
  {
   "cell_type": "code",
   "execution_count": 685,
   "id": "8f7e3240-1af4-494f-b52d-c4981f833094",
   "metadata": {},
   "outputs": [
    {
     "data": {
      "text/plain": [
       "1740777178.709271"
      ]
     },
     "execution_count": 685,
     "metadata": {},
     "output_type": "execute_result"
    }
   ],
   "source": [
    "time.time()"
   ]
  },
  {
   "cell_type": "code",
   "execution_count": 686,
   "id": "df73bf14-276b-472b-8365-4d855e2829ce",
   "metadata": {},
   "outputs": [
    {
     "data": {
      "text/plain": [
       "1740777182.330164"
      ]
     },
     "execution_count": 686,
     "metadata": {},
     "output_type": "execute_result"
    }
   ],
   "source": [
    "time.time()"
   ]
  },
  {
   "cell_type": "code",
   "execution_count": 687,
   "id": "f3cafcb1-8abb-4759-a18f-32fd36dc124a",
   "metadata": {},
   "outputs": [
    {
     "data": {
      "text/plain": [
       "1740777202.289671"
      ]
     },
     "execution_count": 687,
     "metadata": {},
     "output_type": "execute_result"
    }
   ],
   "source": [
    "time.time()"
   ]
  },
  {
   "cell_type": "code",
   "execution_count": 688,
   "id": "d5d77df0-67e1-419e-be55-5a8ab3f9dad2",
   "metadata": {},
   "outputs": [
    {
     "name": "stdout",
     "output_type": "stream",
     "text": [
      "Help on built-in function time in module time:\n",
      "\n",
      "time()\n",
      "    time() -> floating-point number\n",
      "\n",
      "    Return the current time in seconds since the Epoch.\n",
      "    Fractions of a second may be present if the system clock provides them.\n",
      "\n"
     ]
    }
   ],
   "source": [
    "help(time.time)"
   ]
  },
  {
   "cell_type": "code",
   "execution_count": 690,
   "id": "d6e22d31-f489-4ac2-897e-db89e4c71393",
   "metadata": {},
   "outputs": [],
   "source": [
    "# start w/an existing decorator\n",
    "def timeit(func):\n",
    "    # below is a nested, or inner function\n",
    "    def inner(*args, **kwargs):\n",
    "        from time import time\n",
    "        \n",
    "        start_time = time() # get the time before the function runs\n",
    "        result = func(*args, **kwargs)\n",
    "        print('elapsed time:', time() - start_time)\n",
    "        return result\n",
    "    \n",
    "    # document_it() is returning a reference to the inner function\n",
    "    return inner"
   ]
  },
  {
   "cell_type": "code",
   "execution_count": 696,
   "id": "16c8837a-966c-42b5-8815-b09996314250",
   "metadata": {},
   "outputs": [],
   "source": [
    "@timeit\n",
    "def slow_func():\n",
    "    import time\n",
    "    time.sleep(2)"
   ]
  },
  {
   "cell_type": "code",
   "execution_count": 697,
   "id": "b6e225bb-f802-4242-98bf-b7f232ecd13c",
   "metadata": {},
   "outputs": [
    {
     "name": "stdout",
     "output_type": "stream",
     "text": [
      "elapsed time: 2.0030570030212402\n"
     ]
    }
   ],
   "source": [
    "slow_func()"
   ]
  },
  {
   "cell_type": "code",
   "execution_count": 701,
   "id": "3cec39c3-fb82-4b1c-b260-06c8376befc4",
   "metadata": {},
   "outputs": [],
   "source": [
    "@timeit\n",
    "def mysort(somelist):\n",
    "    return sorted(somelist)"
   ]
  },
  {
   "cell_type": "code",
   "execution_count": 702,
   "id": "74647147-7fb0-4a2e-ae90-7e2bb00017fc",
   "metadata": {},
   "outputs": [
    {
     "name": "stdout",
     "output_type": "stream",
     "text": [
      "elapsed time: 0.08564615249633789\n"
     ]
    }
   ],
   "source": [
    "random_nums = [random.randint(1, 1000) for _ in range(1_000_000)]\n",
    "sorted_nums = mysort(random_nums)"
   ]
  },
  {
   "cell_type": "code",
   "execution_count": 705,
   "id": "944a6c97-ea3a-4766-ad27-49e0c1ecbedc",
   "metadata": {},
   "outputs": [
    {
     "name": "stdout",
     "output_type": "stream",
     "text": [
      "86.7 ms ± 975 μs per loop (mean ± std. dev. of 7 runs, 10 loops each)\n"
     ]
    }
   ],
   "source": [
    "%%timeit # time a whole cell\n",
    "sorted_nums = sorted(random_nums)"
   ]
  },
  {
   "cell_type": "code",
   "execution_count": 706,
   "id": "95aca6f6-a474-4ae4-9d3c-2f2c59f48119",
   "metadata": {},
   "outputs": [
    {
     "name": "stdout",
     "output_type": "stream",
     "text": [
      "86.5 ms ± 472 μs per loop (mean ± std. dev. of 7 runs, 10 loops each)\n"
     ]
    }
   ],
   "source": [
    "import random\n",
    "random_nums = [random.randint(1, 1000) for _ in range(1_000_000)]\n",
    "%timeit sorted_nums = sorted(random_nums) # time a single line"
   ]
  },
  {
   "cell_type": "code",
   "execution_count": 709,
   "id": "138e2ca6-ae4c-4e19-ac17-c687f231582f",
   "metadata": {},
   "outputs": [],
   "source": [
    "number: int = 1 # this a \"type hint\" telling Python you want this to be an int"
   ]
  },
  {
   "cell_type": "code",
   "execution_count": 710,
   "id": "ce601424-1878-4a90-8962-d5caf396a8d3",
   "metadata": {},
   "outputs": [],
   "source": [
    "number = 1.1"
   ]
  },
  {
   "cell_type": "code",
   "execution_count": 711,
   "id": "03496525-9ebc-4d11-a5f6-03513115fd4e",
   "metadata": {},
   "outputs": [],
   "source": [
    "# use mypy to check your code before running it..."
   ]
  },
  {
   "cell_type": "code",
   "execution_count": 712,
   "id": "2e2953e3-7749-4a86-a82d-c1a0fab0aa48",
   "metadata": {},
   "outputs": [],
   "source": [
    "mylist = [1, 1.1, '2.2']"
   ]
  },
  {
   "cell_type": "code",
   "execution_count": 713,
   "id": "f07ee997-a624-4256-aa50-83ee1d72e267",
   "metadata": {},
   "outputs": [],
   "source": [
    "nums = [1, 2, 3]"
   ]
  },
  {
   "cell_type": "code",
   "execution_count": 714,
   "id": "377e6559-38cb-42ef-9e46-d67a7fc633ba",
   "metadata": {},
   "outputs": [
    {
     "data": {
      "text/plain": [
       "[1, 2, 3, 4, 5, 6, 7, 8, 9]"
      ]
     },
     "execution_count": 714,
     "metadata": {},
     "output_type": "execute_result"
    }
   ],
   "source": [
    "list(range(1, 10))"
   ]
  },
  {
   "cell_type": "code",
   "execution_count": null,
   "id": "d98d6ec7-4260-4082-8559-36946ea7f71a",
   "metadata": {},
   "outputs": [],
   "source": []
  }
 ],
 "metadata": {
  "kernelspec": {
   "display_name": "Python 3 (ipykernel)",
   "language": "python",
   "name": "python3"
  },
  "language_info": {
   "codemirror_mode": {
    "name": "ipython",
    "version": 3
   },
   "file_extension": ".py",
   "mimetype": "text/x-python",
   "name": "python",
   "nbconvert_exporter": "python",
   "pygments_lexer": "ipython3",
   "version": "3.13.1"
  }
 },
 "nbformat": 4,
 "nbformat_minor": 5
}
