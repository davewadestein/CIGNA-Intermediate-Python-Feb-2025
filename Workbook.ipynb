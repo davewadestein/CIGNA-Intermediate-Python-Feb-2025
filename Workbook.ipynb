{
 "cells": [
  {
   "cell_type": "markdown",
   "id": "84a96ca5-b731-4361-8d8d-d160610961bb",
   "metadata": {},
   "source": [
    "# Important Python concepts\n",
    "* dynamically typed / loosely typed\n",
    "  * don't need to declare type of our variables\n",
    "  * we can overwrite our variables with other data types at will\n",
    "* Python is \"duck typed\"\n",
    "  * if it walks like a duck, and quacks like a duck, I'll call it a duck\n",
    "  * it's possible and common for functions to accept arguments of many different data types\n",
    "    * what those functions expect is a behavior/attribute of the arguments as opposed to a specific type\n",
    "* scalars vs. containers\n",
    "  * scalar: an object which contains _a single value_ (e.g., int, float, bool)\n",
    "  * container: an object whch contains 0+ other objects (e.g., list, tuple, dict, set, frozenset)\n",
    "* mutable vs. immutable objects\n",
    "  * mutable: changeable (e.g., dict, list, set)\n",
    "  * immutable: not changeable (e.g., str, tuple)\n",
    "* the built-in functions (e.g., len(), int(), sorted(), ...) DO NOT change the obects that are passed to them\n",
    "  * if you want to change an object in Python, you must use call/apply/invoke a method to/on that object\n",
    "  * a method is a type-specific function (e.g., string methods, list methods) and it's also called with a different notation... OBJECT.method(arguments), e.g., __`'hello'.upper()`__\n",
    "* exception handler primer:\n",
    "  * limit the size of the try/except to the code that can fail\n",
    "  * only catch/except the thing you expect; a \"catch-all\" exception can be used for testing/understanding, but if you leave it in there, you run the risk of hiding a bug"
   ]
  },
  {
   "cell_type": "markdown",
   "id": "f4eea275-3309-4c5b-975e-e12852fb0124",
   "metadata": {},
   "source": [
    "# Pythonic\n",
    "* best practices\n",
    "* idioms that Python programmers expect to see\n",
    "* e.g.,\n",
    "   * __`for _ in range(n):`__ means \"do something n times\""
   ]
  },
  {
   "cell_type": "markdown",
   "id": "523f7f94-63be-4a12-9d0d-d6890f86ecc2",
   "metadata": {},
   "source": [
    "# Important programming thoughts\n",
    "* you read code 10x more often than your write code"
   ]
  },
  {
   "cell_type": "code",
   "execution_count": 2,
   "id": "a704014b-cafb-4ffc-9ed7-60ead3a166bd",
   "metadata": {},
   "outputs": [],
   "source": [
    "# type hinting\n",
    "number: int = 1 # adding a \"type hint\" to indicate that I want this var to be int"
   ]
  },
  {
   "cell_type": "code",
   "execution_count": 3,
   "id": "655052e2-899c-42f6-8ad9-261f89ea747d",
   "metadata": {},
   "outputs": [],
   "source": [
    "number = 1.5"
   ]
  },
  {
   "cell_type": "code",
   "execution_count": 4,
   "id": "e6e514ad-379d-418d-9eeb-654ac3f606fb",
   "metadata": {},
   "outputs": [],
   "source": [
    "number = 'hi'"
   ]
  },
  {
   "cell_type": "code",
   "execution_count": 5,
   "id": "cb723fbe-1275-4706-9607-0a5e168e1c7c",
   "metadata": {},
   "outputs": [],
   "source": [
    "import math"
   ]
  },
  {
   "cell_type": "code",
   "execution_count": 6,
   "id": "f5c02883-4eed-441d-ae41-047beae945a7",
   "metadata": {},
   "outputs": [
    {
     "data": {
      "text/plain": [
       "['__doc__',\n",
       " '__file__',\n",
       " '__loader__',\n",
       " '__name__',\n",
       " '__package__',\n",
       " '__spec__',\n",
       " 'acos',\n",
       " 'acosh',\n",
       " 'asin',\n",
       " 'asinh',\n",
       " 'atan',\n",
       " 'atan2',\n",
       " 'atanh',\n",
       " 'cbrt',\n",
       " 'ceil',\n",
       " 'comb',\n",
       " 'copysign',\n",
       " 'cos',\n",
       " 'cosh',\n",
       " 'degrees',\n",
       " 'dist',\n",
       " 'e',\n",
       " 'erf',\n",
       " 'erfc',\n",
       " 'exp',\n",
       " 'exp2',\n",
       " 'expm1',\n",
       " 'fabs',\n",
       " 'factorial',\n",
       " 'floor',\n",
       " 'fmod',\n",
       " 'frexp',\n",
       " 'fsum',\n",
       " 'gamma',\n",
       " 'gcd',\n",
       " 'hypot',\n",
       " 'inf',\n",
       " 'isclose',\n",
       " 'isfinite',\n",
       " 'isinf',\n",
       " 'isnan',\n",
       " 'isqrt',\n",
       " 'lcm',\n",
       " 'ldexp',\n",
       " 'lgamma',\n",
       " 'log',\n",
       " 'log10',\n",
       " 'log1p',\n",
       " 'log2',\n",
       " 'modf',\n",
       " 'nan',\n",
       " 'nextafter',\n",
       " 'perm',\n",
       " 'pi',\n",
       " 'pow',\n",
       " 'prod',\n",
       " 'radians',\n",
       " 'remainder',\n",
       " 'sin',\n",
       " 'sinh',\n",
       " 'sqrt',\n",
       " 'tan',\n",
       " 'tanh',\n",
       " 'tau',\n",
       " 'trunc',\n",
       " 'ulp']"
      ]
     },
     "execution_count": 6,
     "metadata": {},
     "output_type": "execute_result"
    }
   ],
   "source": [
    "dir(math)"
   ]
  },
  {
   "cell_type": "code",
   "execution_count": 7,
   "id": "ed9cd0b8-c202-4efe-a29c-80869c220ab4",
   "metadata": {},
   "outputs": [
    {
     "name": "stdout",
     "output_type": "stream",
     "text": [
      "Help on module math:\n",
      "\n",
      "NAME\n",
      "    math\n",
      "\n",
      "MODULE REFERENCE\n",
      "    https://docs.python.org/3.11/library/math.html\n",
      "    \n",
      "    The following documentation is automatically generated from the Python\n",
      "    source files.  It may be incomplete, incorrect or include features that\n",
      "    are considered implementation detail and may vary between Python\n",
      "    implementations.  When in doubt, consult the module reference at the\n",
      "    location listed above.\n",
      "\n",
      "DESCRIPTION\n",
      "    This module provides access to the mathematical functions\n",
      "    defined by the C standard.\n",
      "\n",
      "FUNCTIONS\n",
      "    acos(x, /)\n",
      "        Return the arc cosine (measured in radians) of x.\n",
      "        \n",
      "        The result is between 0 and pi.\n",
      "    \n",
      "    acosh(x, /)\n",
      "        Return the inverse hyperbolic cosine of x.\n",
      "    \n",
      "    asin(x, /)\n",
      "        Return the arc sine (measured in radians) of x.\n",
      "        \n",
      "        The result is between -pi/2 and pi/2.\n",
      "    \n",
      "    asinh(x, /)\n",
      "        Return the inverse hyperbolic sine of x.\n",
      "    \n",
      "    atan(x, /)\n",
      "        Return the arc tangent (measured in radians) of x.\n",
      "        \n",
      "        The result is between -pi/2 and pi/2.\n",
      "    \n",
      "    atan2(y, x, /)\n",
      "        Return the arc tangent (measured in radians) of y/x.\n",
      "        \n",
      "        Unlike atan(y/x), the signs of both x and y are considered.\n",
      "    \n",
      "    atanh(x, /)\n",
      "        Return the inverse hyperbolic tangent of x.\n",
      "    \n",
      "    cbrt(x, /)\n",
      "        Return the cube root of x.\n",
      "    \n",
      "    ceil(x, /)\n",
      "        Return the ceiling of x as an Integral.\n",
      "        \n",
      "        This is the smallest integer >= x.\n",
      "    \n",
      "    comb(n, k, /)\n",
      "        Number of ways to choose k items from n items without repetition and without order.\n",
      "        \n",
      "        Evaluates to n! / (k! * (n - k)!) when k <= n and evaluates\n",
      "        to zero when k > n.\n",
      "        \n",
      "        Also called the binomial coefficient because it is equivalent\n",
      "        to the coefficient of k-th term in polynomial expansion of the\n",
      "        expression (1 + x)**n.\n",
      "        \n",
      "        Raises TypeError if either of the arguments are not integers.\n",
      "        Raises ValueError if either of the arguments are negative.\n",
      "    \n",
      "    copysign(x, y, /)\n",
      "        Return a float with the magnitude (absolute value) of x but the sign of y.\n",
      "        \n",
      "        On platforms that support signed zeros, copysign(1.0, -0.0)\n",
      "        returns -1.0.\n",
      "    \n",
      "    cos(x, /)\n",
      "        Return the cosine of x (measured in radians).\n",
      "    \n",
      "    cosh(x, /)\n",
      "        Return the hyperbolic cosine of x.\n",
      "    \n",
      "    degrees(x, /)\n",
      "        Convert angle x from radians to degrees.\n",
      "    \n",
      "    dist(p, q, /)\n",
      "        Return the Euclidean distance between two points p and q.\n",
      "        \n",
      "        The points should be specified as sequences (or iterables) of\n",
      "        coordinates.  Both inputs must have the same dimension.\n",
      "        \n",
      "        Roughly equivalent to:\n",
      "            sqrt(sum((px - qx) ** 2.0 for px, qx in zip(p, q)))\n",
      "    \n",
      "    erf(x, /)\n",
      "        Error function at x.\n",
      "    \n",
      "    erfc(x, /)\n",
      "        Complementary error function at x.\n",
      "    \n",
      "    exp(x, /)\n",
      "        Return e raised to the power of x.\n",
      "    \n",
      "    exp2(x, /)\n",
      "        Return 2 raised to the power of x.\n",
      "    \n",
      "    expm1(x, /)\n",
      "        Return exp(x)-1.\n",
      "        \n",
      "        This function avoids the loss of precision involved in the direct evaluation of exp(x)-1 for small x.\n",
      "    \n",
      "    fabs(x, /)\n",
      "        Return the absolute value of the float x.\n",
      "    \n",
      "    factorial(n, /)\n",
      "        Find n!.\n",
      "        \n",
      "        Raise a ValueError if x is negative or non-integral.\n",
      "    \n",
      "    floor(x, /)\n",
      "        Return the floor of x as an Integral.\n",
      "        \n",
      "        This is the largest integer <= x.\n",
      "    \n",
      "    fmod(x, y, /)\n",
      "        Return fmod(x, y), according to platform C.\n",
      "        \n",
      "        x % y may differ.\n",
      "    \n",
      "    frexp(x, /)\n",
      "        Return the mantissa and exponent of x, as pair (m, e).\n",
      "        \n",
      "        m is a float and e is an int, such that x = m * 2.**e.\n",
      "        If x is 0, m and e are both 0.  Else 0.5 <= abs(m) < 1.0.\n",
      "    \n",
      "    fsum(seq, /)\n",
      "        Return an accurate floating point sum of values in the iterable seq.\n",
      "        \n",
      "        Assumes IEEE-754 floating point arithmetic.\n",
      "    \n",
      "    gamma(x, /)\n",
      "        Gamma function at x.\n",
      "    \n",
      "    gcd(*integers)\n",
      "        Greatest Common Divisor.\n",
      "    \n",
      "    hypot(...)\n",
      "        hypot(*coordinates) -> value\n",
      "        \n",
      "        Multidimensional Euclidean distance from the origin to a point.\n",
      "        \n",
      "        Roughly equivalent to:\n",
      "            sqrt(sum(x**2 for x in coordinates))\n",
      "        \n",
      "        For a two dimensional point (x, y), gives the hypotenuse\n",
      "        using the Pythagorean theorem:  sqrt(x*x + y*y).\n",
      "        \n",
      "        For example, the hypotenuse of a 3/4/5 right triangle is:\n",
      "        \n",
      "            >>> hypot(3.0, 4.0)\n",
      "            5.0\n",
      "    \n",
      "    isclose(a, b, *, rel_tol=1e-09, abs_tol=0.0)\n",
      "        Determine whether two floating point numbers are close in value.\n",
      "        \n",
      "          rel_tol\n",
      "            maximum difference for being considered \"close\", relative to the\n",
      "            magnitude of the input values\n",
      "          abs_tol\n",
      "            maximum difference for being considered \"close\", regardless of the\n",
      "            magnitude of the input values\n",
      "        \n",
      "        Return True if a is close in value to b, and False otherwise.\n",
      "        \n",
      "        For the values to be considered close, the difference between them\n",
      "        must be smaller than at least one of the tolerances.\n",
      "        \n",
      "        -inf, inf and NaN behave similarly to the IEEE 754 Standard.  That\n",
      "        is, NaN is not close to anything, even itself.  inf and -inf are\n",
      "        only close to themselves.\n",
      "    \n",
      "    isfinite(x, /)\n",
      "        Return True if x is neither an infinity nor a NaN, and False otherwise.\n",
      "    \n",
      "    isinf(x, /)\n",
      "        Return True if x is a positive or negative infinity, and False otherwise.\n",
      "    \n",
      "    isnan(x, /)\n",
      "        Return True if x is a NaN (not a number), and False otherwise.\n",
      "    \n",
      "    isqrt(n, /)\n",
      "        Return the integer part of the square root of the input.\n",
      "    \n",
      "    lcm(*integers)\n",
      "        Least Common Multiple.\n",
      "    \n",
      "    ldexp(x, i, /)\n",
      "        Return x * (2**i).\n",
      "        \n",
      "        This is essentially the inverse of frexp().\n",
      "    \n",
      "    lgamma(x, /)\n",
      "        Natural logarithm of absolute value of Gamma function at x.\n",
      "    \n",
      "    log(...)\n",
      "        log(x, [base=math.e])\n",
      "        Return the logarithm of x to the given base.\n",
      "        \n",
      "        If the base not specified, returns the natural logarithm (base e) of x.\n",
      "    \n",
      "    log10(x, /)\n",
      "        Return the base 10 logarithm of x.\n",
      "    \n",
      "    log1p(x, /)\n",
      "        Return the natural logarithm of 1+x (base e).\n",
      "        \n",
      "        The result is computed in a way which is accurate for x near zero.\n",
      "    \n",
      "    log2(x, /)\n",
      "        Return the base 2 logarithm of x.\n",
      "    \n",
      "    modf(x, /)\n",
      "        Return the fractional and integer parts of x.\n",
      "        \n",
      "        Both results carry the sign of x and are floats.\n",
      "    \n",
      "    nextafter(x, y, /)\n",
      "        Return the next floating-point value after x towards y.\n",
      "    \n",
      "    perm(n, k=None, /)\n",
      "        Number of ways to choose k items from n items without repetition and with order.\n",
      "        \n",
      "        Evaluates to n! / (n - k)! when k <= n and evaluates\n",
      "        to zero when k > n.\n",
      "        \n",
      "        If k is not specified or is None, then k defaults to n\n",
      "        and the function returns n!.\n",
      "        \n",
      "        Raises TypeError if either of the arguments are not integers.\n",
      "        Raises ValueError if either of the arguments are negative.\n",
      "    \n",
      "    pow(x, y, /)\n",
      "        Return x**y (x to the power of y).\n",
      "    \n",
      "    prod(iterable, /, *, start=1)\n",
      "        Calculate the product of all the elements in the input iterable.\n",
      "        \n",
      "        The default start value for the product is 1.\n",
      "        \n",
      "        When the iterable is empty, return the start value.  This function is\n",
      "        intended specifically for use with numeric values and may reject\n",
      "        non-numeric types.\n",
      "    \n",
      "    radians(x, /)\n",
      "        Convert angle x from degrees to radians.\n",
      "    \n",
      "    remainder(x, y, /)\n",
      "        Difference between x and the closest integer multiple of y.\n",
      "        \n",
      "        Return x - n*y where n*y is the closest integer multiple of y.\n",
      "        In the case where x is exactly halfway between two multiples of\n",
      "        y, the nearest even value of n is used. The result is always exact.\n",
      "    \n",
      "    sin(x, /)\n",
      "        Return the sine of x (measured in radians).\n",
      "    \n",
      "    sinh(x, /)\n",
      "        Return the hyperbolic sine of x.\n",
      "    \n",
      "    sqrt(x, /)\n",
      "        Return the square root of x.\n",
      "    \n",
      "    tan(x, /)\n",
      "        Return the tangent of x (measured in radians).\n",
      "    \n",
      "    tanh(x, /)\n",
      "        Return the hyperbolic tangent of x.\n",
      "    \n",
      "    trunc(x, /)\n",
      "        Truncates the Real x to the nearest Integral toward 0.\n",
      "        \n",
      "        Uses the __trunc__ magic method.\n",
      "    \n",
      "    ulp(x, /)\n",
      "        Return the value of the least significant bit of the float x.\n",
      "\n",
      "DATA\n",
      "    e = 2.718281828459045\n",
      "    inf = inf\n",
      "    nan = nan\n",
      "    pi = 3.141592653589793\n",
      "    tau = 6.283185307179586\n",
      "\n",
      "FILE\n",
      "    /home/dssadmin/miniconda3/lib/python3.11/lib-dynload/math.cpython-311-x86_64-linux-gnu.so\n",
      "\n",
      "\n"
     ]
    }
   ],
   "source": [
    "help(math)"
   ]
  },
  {
   "cell_type": "code",
   "execution_count": 8,
   "id": "f80bfce5-f46a-4a9f-871c-45433181a30f",
   "metadata": {},
   "outputs": [
    {
     "data": {
      "text/plain": [
       "1.0"
      ]
     },
     "execution_count": 8,
     "metadata": {},
     "output_type": "execute_result"
    }
   ],
   "source": [
    "math.sin(math.pi / 2.0)"
   ]
  },
  {
   "cell_type": "code",
   "execution_count": 9,
   "id": "17448985-ab2c-41a3-a7e6-dd4bfa10b559",
   "metadata": {},
   "outputs": [
    {
     "name": "stdout",
     "output_type": "stream",
     "text": [
      "1\n",
      "2\n",
      "3\n",
      "4\n",
      "5\n",
      "6\n",
      "7\n",
      "8\n",
      "9\n"
     ]
    }
   ],
   "source": [
    "# range() takes 1, 2, or 3 parameters\n",
    "for num in range(1, 10): # 1..10 (not inclusive) meaning 1..9\n",
    "    print(num)"
   ]
  },
  {
   "cell_type": "code",
   "execution_count": 13,
   "id": "2ec4cb73-b5c5-4273-b6e5-0f5f3c6f181f",
   "metadata": {},
   "outputs": [
    {
     "name": "stdout",
     "output_type": "stream",
     "text": [
      "0\n",
      "1\n",
      "2\n",
      "3\n",
      "4\n",
      "5\n",
      "6\n",
      "7\n",
      "8\n",
      "9\n"
     ]
    }
   ],
   "source": [
    "for num in range(10): # 0..9\n",
    "    print(num)"
   ]
  },
  {
   "cell_type": "code",
   "execution_count": 12,
   "id": "960a1480-2841-41ab-a836-e3f4332b2e17",
   "metadata": {},
   "outputs": [
    {
     "name": "stdout",
     "output_type": "stream",
     "text": [
      "1\n",
      "3\n",
      "5\n",
      "7\n",
      "9\n"
     ]
    }
   ],
   "source": [
    "for num in range(1, 10, 2): # 3rd paramater is \"step\"\n",
    "    print(num)"
   ]
  },
  {
   "cell_type": "code",
   "execution_count": 15,
   "id": "31b351b3-9830-43de-ad7e-b55f5148ab03",
   "metadata": {},
   "outputs": [
    {
     "ename": "SyntaxError",
     "evalue": "invalid syntax (2877265301.py, line 1)",
     "output_type": "error",
     "traceback": [
      "\u001b[0;36m  Cell \u001b[0;32mIn[15], line 1\u001b[0;36m\u001b[0m\n\u001b[0;31m    for in range(10): # do this 10 times\u001b[0m\n\u001b[0m        ^\u001b[0m\n\u001b[0;31mSyntaxError\u001b[0m\u001b[0;31m:\u001b[0m invalid syntax\n"
     ]
    }
   ],
   "source": [
    "for _ in range(10): # do this 10 times\n",
    "    print('hi')"
   ]
  },
  {
   "cell_type": "code",
   "execution_count": 16,
   "id": "4ec83686-4a05-40b0-b462-36a970dcfc53",
   "metadata": {},
   "outputs": [
    {
     "data": {
      "text/plain": [
       "(8, 3)"
      ]
     },
     "execution_count": 16,
     "metadata": {},
     "output_type": "execute_result"
    }
   ],
   "source": [
    "divmod(35, 4)"
   ]
  },
  {
   "cell_type": "code",
   "execution_count": 24,
   "id": "aa626584-20fc-4721-ab6f-81db1c5b56c1",
   "metadata": {},
   "outputs": [],
   "source": [
    "quot, rem = divmod(35, 4)"
   ]
  },
  {
   "cell_type": "code",
   "execution_count": 18,
   "id": "72e5e8ed-2a03-4a33-ae90-1e002d7322a0",
   "metadata": {},
   "outputs": [
    {
     "data": {
      "text/plain": [
       "8"
      ]
     },
     "execution_count": 18,
     "metadata": {},
     "output_type": "execute_result"
    }
   ],
   "source": [
    "quot"
   ]
  },
  {
   "cell_type": "code",
   "execution_count": 19,
   "id": "7d97bcae-d19a-4c10-80bd-24d85f39a644",
   "metadata": {},
   "outputs": [],
   "source": [
    "quot, _ = divmod(35, 4) # put first return value in quot, \"discard\" second return value"
   ]
  },
  {
   "cell_type": "code",
   "execution_count": 20,
   "id": "ceb074ba-74e9-4185-b4c7-d05398d191e0",
   "metadata": {},
   "outputs": [],
   "source": [
    "quot = divmod(35, 4)"
   ]
  },
  {
   "cell_type": "code",
   "execution_count": 21,
   "id": "ca908c05-5bcf-4cad-820c-36b78f9a7111",
   "metadata": {},
   "outputs": [
    {
     "data": {
      "text/plain": [
       "(8, 3)"
      ]
     },
     "execution_count": 21,
     "metadata": {},
     "output_type": "execute_result"
    }
   ],
   "source": [
    "quot"
   ]
  },
  {
   "cell_type": "code",
   "execution_count": 25,
   "id": "43a0cea1-55f1-42b4-8fda-d7081be7e41d",
   "metadata": {},
   "outputs": [
    {
     "data": {
      "text/plain": [
       "3"
      ]
     },
     "execution_count": 25,
     "metadata": {},
     "output_type": "execute_result"
    }
   ],
   "source": [
    "len([1, 2, 3])"
   ]
  },
  {
   "cell_type": "code",
   "execution_count": 26,
   "id": "25a0f05e-9bbc-49e2-b9e9-c8c21c130409",
   "metadata": {},
   "outputs": [
    {
     "data": {
      "text/plain": [
       "6"
      ]
     },
     "execution_count": 26,
     "metadata": {},
     "output_type": "execute_result"
    }
   ],
   "source": [
    "len('string')"
   ]
  },
  {
   "cell_type": "code",
   "execution_count": 27,
   "id": "7207cde3-cd3f-4aa6-87d4-cca205ef8169",
   "metadata": {},
   "outputs": [
    {
     "data": {
      "text/plain": [
       "3"
      ]
     },
     "execution_count": 27,
     "metadata": {},
     "output_type": "execute_result"
    }
   ],
   "source": [
    "len((1, 2, 3))"
   ]
  },
  {
   "cell_type": "code",
   "execution_count": 28,
   "id": "9d705e10-0d11-45fd-98ed-937a9406f62d",
   "metadata": {},
   "outputs": [],
   "source": [
    "name = 'dave'"
   ]
  },
  {
   "cell_type": "code",
   "execution_count": 30,
   "id": "97dc179e-db8f-4358-b2cf-7e6deea3bc29",
   "metadata": {},
   "outputs": [
    {
     "ename": "TypeError",
     "evalue": "'str' object does not support item assignment",
     "output_type": "error",
     "traceback": [
      "\u001b[0;31m---------------------------------------------------------------------------\u001b[0m",
      "\u001b[0;31mTypeError\u001b[0m                                 Traceback (most recent call last)",
      "Cell \u001b[0;32mIn[30], line 1\u001b[0m\n\u001b[0;32m----> 1\u001b[0m \u001b[43mname\u001b[49m\u001b[43m[\u001b[49m\u001b[38;5;241;43m0\u001b[39;49m\u001b[43m]\u001b[49m \u001b[38;5;241m=\u001b[39m \u001b[38;5;124m'\u001b[39m\u001b[38;5;124mD\u001b[39m\u001b[38;5;124m'\u001b[39m\n",
      "\u001b[0;31mTypeError\u001b[0m: 'str' object does not support item assignment"
     ]
    }
   ],
   "source": [
    "name[0] = 'D'"
   ]
  },
  {
   "cell_type": "code",
   "execution_count": 31,
   "id": "53c20099-b850-403f-8fa8-624e2978dfc0",
   "metadata": {},
   "outputs": [],
   "source": [
    "name = 'Dave'"
   ]
  },
  {
   "cell_type": "code",
   "execution_count": 32,
   "id": "2069c12a-98eb-4c38-98fa-b423b95c8926",
   "metadata": {},
   "outputs": [],
   "source": [
    "name = '4'"
   ]
  },
  {
   "cell_type": "code",
   "execution_count": 33,
   "id": "34c3e9a3-918a-4b10-b1cb-2013f95c5324",
   "metadata": {},
   "outputs": [
    {
     "data": {
      "text/plain": [
       "4"
      ]
     },
     "execution_count": 33,
     "metadata": {},
     "output_type": "execute_result"
    }
   ],
   "source": [
    "int(name) # int-ifying \"type casting\", not so much used in Python"
   ]
  },
  {
   "cell_type": "code",
   "execution_count": 36,
   "id": "6dd70a6c-5d1d-4886-8bfb-7ddb66351eeb",
   "metadata": {},
   "outputs": [
    {
     "data": {
      "text/plain": [
       "'HELLO'"
      ]
     },
     "execution_count": 36,
     "metadata": {},
     "output_type": "execute_result"
    }
   ],
   "source": [
    "'hello'.upper() # str object DOT str function/method"
   ]
  },
  {
   "cell_type": "code",
   "execution_count": 37,
   "id": "35d594fb-0021-4326-97f4-3fc7a08ac058",
   "metadata": {},
   "outputs": [],
   "source": [
    "# duck typing\n",
    "# len() operates on any container/iterable (they are slightly different)"
   ]
  },
  {
   "cell_type": "code",
   "execution_count": 38,
   "id": "9521be29-b33b-4315-9801-2d33c6b291ec",
   "metadata": {},
   "outputs": [
    {
     "data": {
      "text/plain": [
       "(6, 1, 2, 0)"
      ]
     },
     "execution_count": 38,
     "metadata": {},
     "output_type": "execute_result"
    }
   ],
   "source": [
    "len('string'), len([1]), len((1, 2)), len({})"
   ]
  },
  {
   "cell_type": "code",
   "execution_count": 39,
   "id": "7c5f515b-2ac1-44b5-91ea-237ddf1d03b0",
   "metadata": {},
   "outputs": [
    {
     "ename": "TypeError",
     "evalue": "object of type 'float' has no len()",
     "output_type": "error",
     "traceback": [
      "\u001b[0;31m---------------------------------------------------------------------------\u001b[0m",
      "\u001b[0;31mTypeError\u001b[0m                                 Traceback (most recent call last)",
      "Cell \u001b[0;32mIn[39], line 1\u001b[0m\n\u001b[0;32m----> 1\u001b[0m \u001b[38;5;28;43mlen\u001b[39;49m\u001b[43m(\u001b[49m\u001b[38;5;241;43m4.5\u001b[39;49m\u001b[43m)\u001b[49m\n",
      "\u001b[0;31mTypeError\u001b[0m: object of type 'float' has no len()"
     ]
    }
   ],
   "source": [
    "len(4.5)"
   ]
  },
  {
   "cell_type": "code",
   "execution_count": 62,
   "id": "22585a34-a587-42ba-8de3-c87bac1d7bb3",
   "metadata": {},
   "outputs": [],
   "source": [
    "# let's write our own duck typed function\n",
    "\n",
    "def iterate(container):\n",
    "    \"\"\"Iterate through container passed to it.\"\"\"\n",
    "    try:\n",
    "        for thing in container: # for each thing in container\n",
    "            print(thing)\n",
    "    except TypeError:\n",
    "        print('Not ierable')"
   ]
  },
  {
   "cell_type": "code",
   "execution_count": 41,
   "id": "b55537e0-f621-4b43-bb61-cca16a133b49",
   "metadata": {},
   "outputs": [
    {
     "name": "stdout",
     "output_type": "stream",
     "text": [
      "Help on function iterate in module __main__:\n",
      "\n",
      "iterate(thing)\n",
      "    Iterate through thing object.\n",
      "\n"
     ]
    }
   ],
   "source": [
    "help(iterate)"
   ]
  },
  {
   "cell_type": "code",
   "execution_count": 42,
   "id": "cde189cf-eb97-4391-8b06-ddc3df146a31",
   "metadata": {},
   "outputs": [
    {
     "name": "stdout",
     "output_type": "stream",
     "text": [
      "Help on built-in function sin in module math:\n",
      "\n",
      "sin(x, /)\n",
      "    Return the sine of x (measured in radians).\n",
      "\n"
     ]
    }
   ],
   "source": [
    "import math\n",
    "help(math.sin)"
   ]
  },
  {
   "cell_type": "code",
   "execution_count": 61,
   "id": "f7728891-add3-4b08-afbf-d174e775ea73",
   "metadata": {},
   "outputs": [
    {
     "name": "stdout",
     "output_type": "stream",
     "text": [
      "s\n",
      "t\n",
      "r\n",
      "i\n",
      "n\n",
      "g\n"
     ]
    },
    {
     "ename": "ZeroDivisionError",
     "evalue": "division by zero",
     "output_type": "error",
     "traceback": [
      "\u001b[0;31m---------------------------------------------------------------------------\u001b[0m",
      "\u001b[0;31mZeroDivisionError\u001b[0m                         Traceback (most recent call last)",
      "Cell \u001b[0;32mIn[61], line 1\u001b[0m\n\u001b[0;32m----> 1\u001b[0m \u001b[43miterate\u001b[49m\u001b[43m(\u001b[49m\u001b[38;5;124;43m'\u001b[39;49m\u001b[38;5;124;43mstring\u001b[39;49m\u001b[38;5;124;43m'\u001b[39;49m\u001b[43m)\u001b[49m\n",
      "Cell \u001b[0;32mIn[60], line 8\u001b[0m, in \u001b[0;36miterate\u001b[0;34m(container)\u001b[0m\n\u001b[1;32m      6\u001b[0m     \u001b[38;5;28;01mfor\u001b[39;00m thing \u001b[38;5;129;01min\u001b[39;00m container: \u001b[38;5;66;03m# for each thing in container\u001b[39;00m\n\u001b[1;32m      7\u001b[0m         \u001b[38;5;28mprint\u001b[39m(thing)\n\u001b[0;32m----> 8\u001b[0m     \u001b[38;5;241;43m1\u001b[39;49m\u001b[43m \u001b[49m\u001b[38;5;241;43m/\u001b[39;49m\u001b[43m \u001b[49m\u001b[38;5;241;43m0\u001b[39;49m\n\u001b[1;32m      9\u001b[0m \u001b[38;5;28;01mexcept\u001b[39;00m \u001b[38;5;167;01mTypeError\u001b[39;00m:\n\u001b[1;32m     10\u001b[0m     \u001b[38;5;28mprint\u001b[39m(\u001b[38;5;124m'\u001b[39m\u001b[38;5;124mNot ierable\u001b[39m\u001b[38;5;124m'\u001b[39m)\n",
      "\u001b[0;31mZeroDivisionError\u001b[0m: division by zero"
     ]
    }
   ],
   "source": [
    "iterate('string')"
   ]
  },
  {
   "cell_type": "code",
   "execution_count": 52,
   "id": "6b7a0c77-736b-4fc3-8897-327ac8565676",
   "metadata": {},
   "outputs": [
    {
     "name": "stdout",
     "output_type": "stream",
     "text": [
      "1\n",
      "2\n",
      "3\n",
      "5\n"
     ]
    }
   ],
   "source": [
    "iterate([1, 2,3, 5])"
   ]
  },
  {
   "cell_type": "code",
   "execution_count": 64,
   "id": "9f06acbb-3e42-484f-9d68-dccd320c6ef9",
   "metadata": {},
   "outputs": [
    {
     "name": "stdout",
     "output_type": "stream",
     "text": [
      "nope\n"
     ]
    }
   ],
   "source": [
    "iterate([])"
   ]
  },
  {
   "cell_type": "code",
   "execution_count": 54,
   "id": "ec3d20c7-0b7b-404b-a4b6-8ba09eb68513",
   "metadata": {},
   "outputs": [
    {
     "name": "stdout",
     "output_type": "stream",
     "text": [
      "1\n",
      "2\n",
      "3\n"
     ]
    }
   ],
   "source": [
    "iterate((1, 2, 3))"
   ]
  },
  {
   "cell_type": "code",
   "execution_count": 55,
   "id": "ba20e16f-72d3-47b0-95f2-3d14d99940b8",
   "metadata": {},
   "outputs": [
    {
     "name": "stdout",
     "output_type": "stream",
     "text": [
      "one\n",
      "two\n"
     ]
    }
   ],
   "source": [
    "iterate({'one': 1, 'two': 2 })"
   ]
  },
  {
   "cell_type": "code",
   "execution_count": 63,
   "id": "b75ab162-0ffd-4b51-aacd-7aa203ccca42",
   "metadata": {},
   "outputs": [
    {
     "name": "stdout",
     "output_type": "stream",
     "text": [
      "Not ierable\n"
     ]
    }
   ],
   "source": [
    "iterate(1)"
   ]
  },
  {
   "cell_type": "code",
   "execution_count": 65,
   "id": "b3ed1af3-9054-44ae-8bbc-6b156275f27e",
   "metadata": {},
   "outputs": [
    {
     "ename": "ZeroDivisionError",
     "evalue": "division by zero",
     "output_type": "error",
     "traceback": [
      "\u001b[0;31m---------------------------------------------------------------------------\u001b[0m",
      "\u001b[0;31mZeroDivisionError\u001b[0m                         Traceback (most recent call last)",
      "Cell \u001b[0;32mIn[65], line 1\u001b[0m\n\u001b[0;32m----> 1\u001b[0m \u001b[38;5;241;43m1\u001b[39;49m\u001b[43m \u001b[49m\u001b[38;5;241;43m/\u001b[39;49m\u001b[43m \u001b[49m\u001b[38;5;241;43m0\u001b[39;49m\n",
      "\u001b[0;31mZeroDivisionError\u001b[0m: division by zero"
     ]
    }
   ],
   "source": [
    "1 / 0"
   ]
  },
  {
   "cell_type": "code",
   "execution_count": 66,
   "id": "f14b73ea-867f-4984-a3ed-cfb8db9e3921",
   "metadata": {},
   "outputs": [
    {
     "ename": "IndexError",
     "evalue": "string index out of range",
     "output_type": "error",
     "traceback": [
      "\u001b[0;31m---------------------------------------------------------------------------\u001b[0m",
      "\u001b[0;31mIndexError\u001b[0m                                Traceback (most recent call last)",
      "Cell \u001b[0;32mIn[66], line 1\u001b[0m\n\u001b[0;32m----> 1\u001b[0m \u001b[38;5;124;43m'\u001b[39;49m\u001b[38;5;124;43mstring\u001b[39;49m\u001b[38;5;124;43m'\u001b[39;49m\u001b[43m[\u001b[49m\u001b[38;5;241;43m10\u001b[39;49m\u001b[43m]\u001b[49m\n",
      "\u001b[0;31mIndexError\u001b[0m: string index out of range"
     ]
    }
   ],
   "source": [
    "'string'[10]"
   ]
  },
  {
   "cell_type": "code",
   "execution_count": 67,
   "id": "757bed53-fd05-43be-aa7b-11ff2c1bba86",
   "metadata": {},
   "outputs": [],
   "source": [
    "def myfunc(index):\n",
    "    mylist = [1, 2, 10]\n",
    "    try:\n",
    "        print(mylist[index])\n",
    "    except IndexError:\n",
    "        return None"
   ]
  },
  {
   "cell_type": "code",
   "execution_count": 68,
   "id": "8df2ff74-0bef-428a-8124-088af53fc511",
   "metadata": {},
   "outputs": [
    {
     "name": "stdout",
     "output_type": "stream",
     "text": [
      "1\n"
     ]
    }
   ],
   "source": [
    "myfunc(0)"
   ]
  },
  {
   "cell_type": "code",
   "execution_count": 69,
   "id": "64e24987-8ce0-4310-8275-b17061fe53b9",
   "metadata": {},
   "outputs": [
    {
     "name": "stdout",
     "output_type": "stream",
     "text": [
      "bad index\n"
     ]
    }
   ],
   "source": [
    "myfunc(55)"
   ]
  },
  {
   "cell_type": "code",
   "execution_count": 71,
   "id": "63e12a12-899d-4d3f-9a9c-951c5aa2ee81",
   "metadata": {},
   "outputs": [
    {
     "ename": "TypeError",
     "evalue": "object of type 'int' has no len()",
     "output_type": "error",
     "traceback": [
      "\u001b[0;31m---------------------------------------------------------------------------\u001b[0m",
      "\u001b[0;31mTypeError\u001b[0m                                 Traceback (most recent call last)",
      "Cell \u001b[0;32mIn[71], line 1\u001b[0m\n\u001b[0;32m----> 1\u001b[0m \u001b[38;5;28;43mlen\u001b[39;49m\u001b[43m(\u001b[49m\u001b[38;5;241;43m1\u001b[39;49m\u001b[43m)\u001b[49m\n",
      "\u001b[0;31mTypeError\u001b[0m: object of type 'int' has no len()"
     ]
    }
   ],
   "source": [
    "len(1)"
   ]
  },
  {
   "cell_type": "code",
   "execution_count": 72,
   "id": "dbfdab33-a12c-45bd-ac2b-aaf04fd343b2",
   "metadata": {},
   "outputs": [],
   "source": [
    "Cost = 19.95"
   ]
  },
  {
   "cell_type": "code",
   "execution_count": 73,
   "id": "b96f7050-cb31-489f-9fff-611c1028d50f",
   "metadata": {},
   "outputs": [
    {
     "ename": "NameError",
     "evalue": "name 'cost' is not defined",
     "output_type": "error",
     "traceback": [
      "\u001b[0;31m---------------------------------------------------------------------------\u001b[0m",
      "\u001b[0;31mNameError\u001b[0m                                 Traceback (most recent call last)",
      "Cell \u001b[0;32mIn[73], line 1\u001b[0m\n\u001b[0;32m----> 1\u001b[0m \u001b[43mcost\u001b[49m\n",
      "\u001b[0;31mNameError\u001b[0m: name 'cost' is not defined"
     ]
    }
   ],
   "source": [
    "cost"
   ]
  },
  {
   "cell_type": "code",
   "execution_count": 75,
   "id": "12349de8-2a86-477c-87b9-c82c5ae21572",
   "metadata": {},
   "outputs": [],
   "source": [
    "cost_per_ounce = 1.25 # \"snake case\""
   ]
  },
  {
   "cell_type": "code",
   "execution_count": 76,
   "id": "3e3e686e-8d7d-4272-8cd3-42db62d659f7",
   "metadata": {},
   "outputs": [],
   "source": [
    "CONSTANT = 124 # all caps for constants"
   ]
  },
  {
   "cell_type": "code",
   "execution_count": 78,
   "id": "87b0ebf8-7e73-487d-a551-28dda919c8bb",
   "metadata": {},
   "outputs": [],
   "source": [
    "employee = 'Cordani', 'David', 'CEO', 1, '312-555-1212' # tuple"
   ]
  },
  {
   "cell_type": "code",
   "execution_count": 79,
   "id": "b56b5249-4ff7-48cb-92cf-8c42fcaea0b2",
   "metadata": {},
   "outputs": [
    {
     "data": {
      "text/plain": [
       "tuple"
      ]
     },
     "execution_count": 79,
     "metadata": {},
     "output_type": "execute_result"
    }
   ],
   "source": [
    "type(employee)"
   ]
  },
  {
   "cell_type": "code",
   "execution_count": 80,
   "id": "2ecc97a8-4fec-4acd-8dab-9ab9c04da51b",
   "metadata": {},
   "outputs": [
    {
     "data": {
      "text/plain": [
       "('Cordani', 'David', 'CEO', 1, '312-555-1212')"
      ]
     },
     "execution_count": 80,
     "metadata": {},
     "output_type": "execute_result"
    }
   ],
   "source": [
    "employee"
   ]
  },
  {
   "cell_type": "code",
   "execution_count": 81,
   "id": "aa16852b-ac5f-4b5b-9584-2c06badbfae3",
   "metadata": {},
   "outputs": [
    {
     "data": {
      "text/plain": [
       "'312-555-1212'"
      ]
     },
     "execution_count": 81,
     "metadata": {},
     "output_type": "execute_result"
    }
   ],
   "source": [
    "employee[-1]"
   ]
  },
  {
   "cell_type": "code",
   "execution_count": 82,
   "id": "2c37aa72-25a6-4656-b2d6-bf3608adc940",
   "metadata": {},
   "outputs": [
    {
     "ename": "TypeError",
     "evalue": "'tuple' object does not support item assignment",
     "output_type": "error",
     "traceback": [
      "\u001b[0;31m---------------------------------------------------------------------------\u001b[0m",
      "\u001b[0;31mTypeError\u001b[0m                                 Traceback (most recent call last)",
      "Cell \u001b[0;32mIn[82], line 1\u001b[0m\n\u001b[0;32m----> 1\u001b[0m \u001b[43memployee\u001b[49m\u001b[43m[\u001b[49m\u001b[38;5;241;43m0\u001b[39;49m\u001b[43m]\u001b[49m \u001b[38;5;241m=\u001b[39m \u001b[38;5;124m'\u001b[39m\u001b[38;5;124mSmith\u001b[39m\u001b[38;5;124m'\u001b[39m\n",
      "\u001b[0;31mTypeError\u001b[0m: 'tuple' object does not support item assignment"
     ]
    }
   ],
   "source": [
    "employee[0] = 'Smith'"
   ]
  },
  {
   "cell_type": "code",
   "execution_count": 84,
   "id": "d0ca38a6-04e6-4da6-b131-af848cd9a8c6",
   "metadata": {},
   "outputs": [],
   "source": [
    "employees_ids = '1234 5678 11134 0902 76 888'.split()"
   ]
  },
  {
   "cell_type": "code",
   "execution_count": 85,
   "id": "d1f22d29-1e26-42bc-8955-e26ea8df9c04",
   "metadata": {},
   "outputs": [
    {
     "data": {
      "text/plain": [
       "['1234', '5678', '11134', '0902', '76', '888']"
      ]
     },
     "execution_count": 85,
     "metadata": {},
     "output_type": "execute_result"
    }
   ],
   "source": [
    "employees_ids"
   ]
  },
  {
   "cell_type": "code",
   "execution_count": 86,
   "id": "10d371d9-a035-4393-a3da-202f25031c70",
   "metadata": {},
   "outputs": [],
   "source": [
    "first_names = 'Dave Vijay Janki Chandra Ram'.split()"
   ]
  },
  {
   "cell_type": "code",
   "execution_count": 87,
   "id": "85c4b72d-ed25-4ee3-94b8-c8e504d10faa",
   "metadata": {},
   "outputs": [
    {
     "data": {
      "text/plain": [
       "['Dave', 'Vijay', 'Janki', 'Chandra', 'Ram']"
      ]
     },
     "execution_count": 87,
     "metadata": {},
     "output_type": "execute_result"
    }
   ],
   "source": [
    "first_names"
   ]
  },
  {
   "cell_type": "code",
   "execution_count": 88,
   "id": "880a3ae8-6a79-43d8-bfb9-84d61b4b3c57",
   "metadata": {},
   "outputs": [],
   "source": [
    "first_names[0] = 'David'"
   ]
  },
  {
   "cell_type": "code",
   "execution_count": 89,
   "id": "5914831a-f153-4f88-968b-405d0ea525df",
   "metadata": {},
   "outputs": [
    {
     "data": {
      "text/plain": [
       "['David', 'Vijay', 'Janki', 'Chandra', 'Ram']"
      ]
     },
     "execution_count": 89,
     "metadata": {},
     "output_type": "execute_result"
    }
   ],
   "source": [
    "first_names"
   ]
  },
  {
   "cell_type": "code",
   "execution_count": 90,
   "id": "ca6e59ff-7eeb-4d5e-86e6-2c338b6ab787",
   "metadata": {},
   "outputs": [],
   "source": [
    "weird_list = [1, 2.5, '3', [4]]"
   ]
  },
  {
   "cell_type": "code",
   "execution_count": 91,
   "id": "2d10862e-22f5-4810-bd23-141471610502",
   "metadata": {},
   "outputs": [
    {
     "data": {
      "text/plain": [
       "[1, 2.5, '3', [4]]"
      ]
     },
     "execution_count": 91,
     "metadata": {},
     "output_type": "execute_result"
    }
   ],
   "source": [
    "weird_list"
   ]
  },
  {
   "cell_type": "code",
   "execution_count": 93,
   "id": "0444146b-0840-491f-b6a0-0e1735369f24",
   "metadata": {},
   "outputs": [],
   "source": [
    "import random\n",
    "nums = []"
   ]
  },
  {
   "cell_type": "code",
   "execution_count": 94,
   "id": "c8226730-2b48-4f9d-98ae-d7ba59172439",
   "metadata": {},
   "outputs": [],
   "source": [
    "for _ in range(100):\n",
    "    nums.append(random.randint(1, 100))"
   ]
  },
  {
   "cell_type": "code",
   "execution_count": 95,
   "id": "7e8e24e8-976d-4cd1-8c74-b6b528f5dab3",
   "metadata": {},
   "outputs": [
    {
     "name": "stdout",
     "output_type": "stream",
     "text": [
      "[71, 11, 7, 97, 36, 55, 68, 72, 11, 18, 67, 16, 2, 93, 80, 32, 27, 31, 79, 29, 30, 66, 3, 29, 88, 19, 73, 8, 72, 90, 46, 4, 53, 76, 10, 79, 69, 44, 24, 92, 100, 69, 78, 82, 98, 96, 97, 8, 67, 68, 76, 61, 27, 53, 97, 34, 6, 48, 39, 49, 43, 89, 70, 58, 93, 13, 93, 43, 18, 96, 78, 50, 94, 25, 52, 32, 63, 40, 8, 6, 53, 36, 1, 67, 17, 33, 1, 51, 11, 100, 53, 63, 8, 66, 99, 60, 100, 50, 51, 20]\n"
     ]
    }
   ],
   "source": [
    "print(nums)"
   ]
  },
  {
   "cell_type": "code",
   "execution_count": 96,
   "id": "aae46b89-2e60-487e-91b5-e86dee443ea7",
   "metadata": {},
   "outputs": [
    {
     "name": "stdout",
     "output_type": "stream",
     "text": [
      "{1, 2, 3, 4, 6, 7, 8, 10, 11, 13, 16, 17, 18, 19, 20, 24, 25, 27, 29, 30, 31, 32, 33, 34, 36, 39, 40, 43, 44, 46, 48, 49, 50, 51, 52, 53, 55, 58, 60, 61, 63, 66, 67, 68, 69, 70, 71, 72, 73, 76, 78, 79, 80, 82, 88, 89, 90, 92, 93, 94, 96, 97, 98, 99, 100}\n"
     ]
    }
   ],
   "source": [
    "print(set(nums))"
   ]
  },
  {
   "cell_type": "code",
   "execution_count": 97,
   "id": "637a99cc-eff1-42c8-b578-e72668f58fa6",
   "metadata": {},
   "outputs": [
    {
     "name": "stdout",
     "output_type": "stream",
     "text": [
      "[1, 2, 3, 4, 6, 7, 8, 10, 11, 13, 16, 17, 18, 19, 20, 24, 25, 27, 29, 30, 31, 32, 33, 34, 36, 39, 40, 43, 44, 46, 48, 49, 50, 51, 52, 53, 55, 58, 60, 61, 63, 66, 67, 68, 69, 70, 71, 72, 73, 76, 78, 79, 80, 82, 88, 89, 90, 92, 93, 94, 96, 97, 98, 99, 100]\n"
     ]
    }
   ],
   "source": [
    "nums_no_dupes = list(set(nums))\n",
    "print(nums_no_dupes)"
   ]
  },
  {
   "cell_type": "code",
   "execution_count": 100,
   "id": "4c66e209-8788-4c2c-9aad-12d246858eba",
   "metadata": {},
   "outputs": [],
   "source": [
    "nums = set()\n",
    "for _ in range(100):\n",
    "    nums.add(random.randint(1, 100))"
   ]
  },
  {
   "cell_type": "code",
   "execution_count": 101,
   "id": "b615e5fe-45d7-4ea2-b746-ac6536d168a1",
   "metadata": {},
   "outputs": [
    {
     "name": "stdout",
     "output_type": "stream",
     "text": [
      "{1, 3, 5, 6, 7, 10, 13, 15, 18, 19, 20, 21, 22, 24, 25, 26, 28, 29, 31, 34, 37, 38, 39, 41, 42, 45, 47, 48, 49, 50, 51, 55, 56, 57, 59, 60, 61, 62, 65, 66, 67, 68, 69, 71, 72, 73, 74, 75, 77, 79, 80, 81, 82, 83, 85, 87, 88, 89, 90, 91, 92, 93, 94, 97, 98}\n"
     ]
    }
   ],
   "source": [
    "print(nums)"
   ]
  },
  {
   "cell_type": "code",
   "execution_count": 102,
   "id": "32546325-96db-4c40-83b3-932f492762b5",
   "metadata": {},
   "outputs": [
    {
     "name": "stdout",
     "output_type": "stream",
     "text": [
      "Help on set object:\n",
      "\n",
      "class set(object)\n",
      " |  set() -> new empty set object\n",
      " |  set(iterable) -> new set object\n",
      " |  \n",
      " |  Build an unordered collection of unique elements.\n",
      " |  \n",
      " |  Methods defined here:\n",
      " |  \n",
      " |  __and__(self, value, /)\n",
      " |      Return self&value.\n",
      " |  \n",
      " |  __contains__(...)\n",
      " |      x.__contains__(y) <==> y in x.\n",
      " |  \n",
      " |  __eq__(self, value, /)\n",
      " |      Return self==value.\n",
      " |  \n",
      " |  __ge__(self, value, /)\n",
      " |      Return self>=value.\n",
      " |  \n",
      " |  __getattribute__(self, name, /)\n",
      " |      Return getattr(self, name).\n",
      " |  \n",
      " |  __gt__(self, value, /)\n",
      " |      Return self>value.\n",
      " |  \n",
      " |  __iand__(self, value, /)\n",
      " |      Return self&=value.\n",
      " |  \n",
      " |  __init__(self, /, *args, **kwargs)\n",
      " |      Initialize self.  See help(type(self)) for accurate signature.\n",
      " |  \n",
      " |  __ior__(self, value, /)\n",
      " |      Return self|=value.\n",
      " |  \n",
      " |  __isub__(self, value, /)\n",
      " |      Return self-=value.\n",
      " |  \n",
      " |  __iter__(self, /)\n",
      " |      Implement iter(self).\n",
      " |  \n",
      " |  __ixor__(self, value, /)\n",
      " |      Return self^=value.\n",
      " |  \n",
      " |  __le__(self, value, /)\n",
      " |      Return self<=value.\n",
      " |  \n",
      " |  __len__(self, /)\n",
      " |      Return len(self).\n",
      " |  \n",
      " |  __lt__(self, value, /)\n",
      " |      Return self<value.\n",
      " |  \n",
      " |  __ne__(self, value, /)\n",
      " |      Return self!=value.\n",
      " |  \n",
      " |  __or__(self, value, /)\n",
      " |      Return self|value.\n",
      " |  \n",
      " |  __rand__(self, value, /)\n",
      " |      Return value&self.\n",
      " |  \n",
      " |  __reduce__(...)\n",
      " |      Return state information for pickling.\n",
      " |  \n",
      " |  __repr__(self, /)\n",
      " |      Return repr(self).\n",
      " |  \n",
      " |  __ror__(self, value, /)\n",
      " |      Return value|self.\n",
      " |  \n",
      " |  __rsub__(self, value, /)\n",
      " |      Return value-self.\n",
      " |  \n",
      " |  __rxor__(self, value, /)\n",
      " |      Return value^self.\n",
      " |  \n",
      " |  __sizeof__(...)\n",
      " |      S.__sizeof__() -> size of S in memory, in bytes\n",
      " |  \n",
      " |  __sub__(self, value, /)\n",
      " |      Return self-value.\n",
      " |  \n",
      " |  __xor__(self, value, /)\n",
      " |      Return self^value.\n",
      " |  \n",
      " |  add(...)\n",
      " |      Add an element to a set.\n",
      " |      \n",
      " |      This has no effect if the element is already present.\n",
      " |  \n",
      " |  clear(...)\n",
      " |      Remove all elements from this set.\n",
      " |  \n",
      " |  copy(...)\n",
      " |      Return a shallow copy of a set.\n",
      " |  \n",
      " |  difference(...)\n",
      " |      Return the difference of two or more sets as a new set.\n",
      " |      \n",
      " |      (i.e. all elements that are in this set but not the others.)\n",
      " |  \n",
      " |  difference_update(...)\n",
      " |      Remove all elements of another set from this set.\n",
      " |  \n",
      " |  discard(...)\n",
      " |      Remove an element from a set if it is a member.\n",
      " |      \n",
      " |      Unlike set.remove(), the discard() method does not raise\n",
      " |      an exception when an element is missing from the set.\n",
      " |  \n",
      " |  intersection(...)\n",
      " |      Return the intersection of two sets as a new set.\n",
      " |      \n",
      " |      (i.e. all elements that are in both sets.)\n",
      " |  \n",
      " |  intersection_update(...)\n",
      " |      Update a set with the intersection of itself and another.\n",
      " |  \n",
      " |  isdisjoint(...)\n",
      " |      Return True if two sets have a null intersection.\n",
      " |  \n",
      " |  issubset(...)\n",
      " |      Report whether another set contains this set.\n",
      " |  \n",
      " |  issuperset(...)\n",
      " |      Report whether this set contains another set.\n",
      " |  \n",
      " |  pop(...)\n",
      " |      Remove and return an arbitrary set element.\n",
      " |      Raises KeyError if the set is empty.\n",
      " |  \n",
      " |  remove(...)\n",
      " |      Remove an element from a set; it must be a member.\n",
      " |      \n",
      " |      If the element is not a member, raise a KeyError.\n",
      " |  \n",
      " |  symmetric_difference(...)\n",
      " |      Return the symmetric difference of two sets as a new set.\n",
      " |      \n",
      " |      (i.e. all elements that are in exactly one of the sets.)\n",
      " |  \n",
      " |  symmetric_difference_update(...)\n",
      " |      Update a set with the symmetric difference of itself and another.\n",
      " |  \n",
      " |  union(...)\n",
      " |      Return the union of sets as a new set.\n",
      " |      \n",
      " |      (i.e. all elements that are in either set.)\n",
      " |  \n",
      " |  update(...)\n",
      " |      Update a set with the union of itself and others.\n",
      " |  \n",
      " |  ----------------------------------------------------------------------\n",
      " |  Class methods defined here:\n",
      " |  \n",
      " |  __class_getitem__(...) from builtins.type\n",
      " |      See PEP 585\n",
      " |  \n",
      " |  ----------------------------------------------------------------------\n",
      " |  Static methods defined here:\n",
      " |  \n",
      " |  __new__(*args, **kwargs) from builtins.type\n",
      " |      Create and return a new object.  See help(type) for accurate signature.\n",
      " |  \n",
      " |  ----------------------------------------------------------------------\n",
      " |  Data and other attributes defined here:\n",
      " |  \n",
      " |  __hash__ = None\n",
      "\n"
     ]
    }
   ],
   "source": [
    "help(nums)"
   ]
  },
  {
   "cell_type": "code",
   "execution_count": 103,
   "id": "127a9949-5224-4306-b5ef-760b6aa46a4a",
   "metadata": {},
   "outputs": [],
   "source": [
    "new_nums = [random.randint(1, 1000) for _ in range(100)]"
   ]
  },
  {
   "cell_type": "code",
   "execution_count": 106,
   "id": "26173509-7b6e-402e-a516-24469d2666a8",
   "metadata": {},
   "outputs": [
    {
     "name": "stdout",
     "output_type": "stream",
     "text": [
      "[1, 4, 9, 16, 25, 36, 49, 64, 81, 100]\n"
     ]
    }
   ],
   "source": [
    "squares = [num * num for num in range(1, 11)]\n",
    "print(squares)"
   ]
  },
  {
   "cell_type": "code",
   "execution_count": 109,
   "id": "c2bf34e9-1b0b-4975-9777-2770905449c6",
   "metadata": {},
   "outputs": [
    {
     "data": {
      "text/plain": [
       "['Dave', 'Evgeni', 'Jordan', 'Jana']"
      ]
     },
     "execution_count": 109,
     "metadata": {},
     "output_type": "execute_result"
    }
   ],
   "source": [
    "names = 'Dave Evgeni Jordan Jana'.split()\n",
    "names"
   ]
  },
  {
   "cell_type": "code",
   "execution_count": 110,
   "id": "6e2c734c-4ee6-4a14-9b2b-32033eed0783",
   "metadata": {},
   "outputs": [
    {
     "data": {
      "text/plain": [
       "['DAVE', 'EVGENI', 'JORDAN', 'JANA']"
      ]
     },
     "execution_count": 110,
     "metadata": {},
     "output_type": "execute_result"
    }
   ],
   "source": [
    "upper_names = [name.upper() for name in names]\n",
    "upper_names"
   ]
  },
  {
   "cell_type": "code",
   "execution_count": 111,
   "id": "a3f59ea2-a9f0-4eef-9b4d-d02a19c9ffbd",
   "metadata": {},
   "outputs": [],
   "source": [
    "vowel_end_names = [name for name in names\n",
    "                           if name[-1] in 'aeiou']"
   ]
  },
  {
   "cell_type": "code",
   "execution_count": 112,
   "id": "6040f5f5-a2d7-4124-8e82-917c2055fd62",
   "metadata": {},
   "outputs": [
    {
     "data": {
      "text/plain": [
       "['Dave', 'Evgeni', 'Jana']"
      ]
     },
     "execution_count": 112,
     "metadata": {},
     "output_type": "execute_result"
    }
   ],
   "source": [
    "vowel_end_names"
   ]
  },
  {
   "cell_type": "code",
   "execution_count": 105,
   "id": "457256ae-60d5-49f4-be83-7ecd2a8b1fbc",
   "metadata": {},
   "outputs": [
    {
     "name": "stdout",
     "output_type": "stream",
     "text": [
      "[326, 486, 351, 405, 663, 471, 625, 986, 795, 418, 325, 127, 568, 927, 845, 773, 142, 834, 1000, 632, 231, 108, 621, 953, 132, 211, 299, 253, 924, 677, 285, 1, 993, 343, 754, 896, 245, 685, 595, 462, 559, 848, 639, 546, 369, 717, 528, 914, 960, 461, 73, 639, 508, 334, 720, 157, 506, 802, 736, 943, 28, 545, 256, 63, 331, 646, 269, 86, 966, 740, 460, 398, 50, 753, 906, 914, 831, 473, 820, 78, 642, 644, 718, 672, 470, 178, 996, 787, 543, 97, 847, 50, 115, 864, 280, 998, 663, 510, 313, 325]\n"
     ]
    }
   ],
   "source": [
    "print(new_nums)"
   ]
  },
  {
   "cell_type": "code",
   "execution_count": 113,
   "id": "16ea3fd9-1ca0-4b35-9d66-a7142ace3b97",
   "metadata": {},
   "outputs": [],
   "source": [
    "s = { 1, 2, 3, 4 }"
   ]
  },
  {
   "cell_type": "code",
   "execution_count": 114,
   "id": "ca307a75-83cf-4275-8f0d-40c816860435",
   "metadata": {},
   "outputs": [
    {
     "data": {
      "text/plain": [
       "{1, 2, 3, 4}"
      ]
     },
     "execution_count": 114,
     "metadata": {},
     "output_type": "execute_result"
    }
   ],
   "source": [
    "s"
   ]
  },
  {
   "cell_type": "code",
   "execution_count": 115,
   "id": "5b23b420-8989-4999-82d3-1e06641f87f0",
   "metadata": {},
   "outputs": [],
   "source": [
    "s.add('five')"
   ]
  },
  {
   "cell_type": "code",
   "execution_count": 116,
   "id": "0b41b12c-3a48-418d-878a-afaa0625096d",
   "metadata": {},
   "outputs": [
    {
     "data": {
      "text/plain": [
       "{1, 2, 3, 4, 'five'}"
      ]
     },
     "execution_count": 116,
     "metadata": {},
     "output_type": "execute_result"
    }
   ],
   "source": [
    "s"
   ]
  },
  {
   "cell_type": "code",
   "execution_count": 118,
   "id": "5f535bf6-3250-41ad-ae9c-70057d3ec7b8",
   "metadata": {},
   "outputs": [
    {
     "ename": "KeyError",
     "evalue": "'five'",
     "output_type": "error",
     "traceback": [
      "\u001b[0;31m---------------------------------------------------------------------------\u001b[0m",
      "\u001b[0;31mKeyError\u001b[0m                                  Traceback (most recent call last)",
      "Cell \u001b[0;32mIn[118], line 1\u001b[0m\n\u001b[0;32m----> 1\u001b[0m \u001b[43ms\u001b[49m\u001b[38;5;241;43m.\u001b[39;49m\u001b[43mremove\u001b[49m\u001b[43m(\u001b[49m\u001b[38;5;124;43m'\u001b[39;49m\u001b[38;5;124;43mfive\u001b[39;49m\u001b[38;5;124;43m'\u001b[39;49m\u001b[43m)\u001b[49m\n",
      "\u001b[0;31mKeyError\u001b[0m: 'five'"
     ]
    }
   ],
   "source": [
    "s.remove('five')"
   ]
  },
  {
   "cell_type": "code",
   "execution_count": 119,
   "id": "7d1b8f8f-541c-4867-b6ec-97cea5eb3cf7",
   "metadata": {},
   "outputs": [],
   "source": [
    "s.discard('five')"
   ]
  },
  {
   "cell_type": "code",
   "execution_count": 120,
   "id": "07dc16ec-9229-43f8-9a3c-1c09b116879e",
   "metadata": {},
   "outputs": [],
   "source": [
    "set().discard(1)"
   ]
  },
  {
   "cell_type": "code",
   "execution_count": null,
   "id": "8b3468a2-d23e-44a9-b3e0-8afdb8c025af",
   "metadata": {},
   "outputs": [],
   "source": []
  }
 ],
 "metadata": {
  "kernelspec": {
   "display_name": "Python 3 (ipykernel)",
   "language": "python",
   "name": "python3"
  },
  "language_info": {
   "codemirror_mode": {
    "name": "ipython",
    "version": 3
   },
   "file_extension": ".py",
   "mimetype": "text/x-python",
   "name": "python",
   "nbconvert_exporter": "python",
   "pygments_lexer": "ipython3",
   "version": "3.13.1"
  }
 },
 "nbformat": 4,
 "nbformat_minor": 5
}
